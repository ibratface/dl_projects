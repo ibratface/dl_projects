{
 "cells": [
  {
   "cell_type": "code",
   "execution_count": 3,
   "metadata": {
    "scrolled": true
   },
   "outputs": [
    {
     "name": "stderr",
     "output_type": "stream",
     "text": [
      "/home/terence/anaconda2/envs/deeplearn/lib/python3.6/site-packages/sklearn/cross_validation.py:41: DeprecationWarning: This module was deprecated in version 0.18 in favor of the model_selection module into which all the refactored classes and functions are moved. Also note that the interface of the new CV iterators are different from that of this module. This module will be removed in 0.20.\n",
      "  \"This module will be removed in 0.20.\", DeprecationWarning)\n"
     ]
    }
   ],
   "source": [
    "import itertools\n",
    "import gc\n",
    "import numpy as np\n",
    "import pandas as pd\n",
    "import pandas_summary as pds\n",
    "import seaborn as sns\n",
    "import xgboost as xgb\n",
    "import random\n",
    "from IPython.display import HTML\n",
    "\n",
    "from sklearn_pandas import DataFrameMapper\n",
    "from sklearn.preprocessing import LabelEncoder, Imputer, StandardScaler, Normalizer\n",
    "from sklearn.model_selection import train_test_split\n",
    "import matplotlib.pyplot as plt\n",
    "\n",
    "%matplotlib inline"
   ]
  },
  {
   "cell_type": "code",
   "execution_count": 4,
   "metadata": {},
   "outputs": [
    {
     "name": "stderr",
     "output_type": "stream",
     "text": [
      "/home/terence/anaconda2/envs/deeplearn/lib/python3.6/site-packages/IPython/core/interactiveshell.py:2698: DtypeWarning: Columns (22,32,34,49,55) have mixed types. Specify dtype option on import or set low_memory=False.\n",
      "  interactivity=interactivity, compiler=compiler, result=result)\n"
     ]
    }
   ],
   "source": [
    "# pull in property data\n",
    "\n",
    "props = pd.read_csv('zillow/properties_2016.csv')"
   ]
  },
  {
   "cell_type": "code",
   "execution_count": 48,
   "metadata": {
    "collapsed": true,
    "scrolled": true
   },
   "outputs": [],
   "source": [
    "# utility function for splitting the date into components\n",
    "def split_date(df, datecol):\n",
    "    df[datecol] = pd.to_datetime(df[datecol])\n",
    "    df[datecol+'_year'] = df[datecol].dt.year\n",
    "    df[datecol+'_month'] = df[datecol].dt.month\n",
    "#     df[datecol+'_week'] = df[datecol].dt.week\n",
    "#     df[datecol+'_day'] = df[datecol].dt.day\n",
    "#     df[datecol+'_dayofweek'] = df[datecol].dt.dayofweek\n",
    "    return df\n",
    "\n",
    "\n",
    "def add_age(df):\n",
    "    df['age'] = (df['transactiondate_year'] - 2016) * 12 + df['transactiondate_month']\n",
    "    return df\n",
    "\n",
    "\n",
    "def remove_outliers(df):\n",
    "    df = df[np.abs(df.logerror-df.logerror.mean())<=(3*df.logerror.std())]\n",
    "    return df\n",
    "\n",
    "\n",
    "def xgb_train(props, params=None):\n",
    "    train = pd.read_csv('zillow/train_2016_v2.csv')\n",
    "#     train = remove_outliers(train)\n",
    "    \n",
    "    train = split_date(train, 'transactiondate')\n",
    "    train = train.merge(props, how='left', on='parcelid')\n",
    "    train = add_age(train)\n",
    "\n",
    "    X = train.drop(['parcelid', 'logerror', 'transactiondate'], axis=1)\n",
    "    y = train['logerror'].values > 0\n",
    "    \n",
    "    del train; gc.collect()\n",
    "    \n",
    "    x_train, x_valid, y_train, y_valid = train_test_split(X, y, test_size=0.1, shuffle=False)\n",
    "\n",
    "    d_train = xgb.DMatrix(x_train, label=y_train)\n",
    "    d_valid = xgb.DMatrix(x_valid, label=y_valid)\n",
    "\n",
    "    del x_train, x_valid; gc.collect()\n",
    "\n",
    "    if not params:\n",
    "        params = {\n",
    "            'eta': 0.02,\n",
    "#             'objective': 'reg:linear',\n",
    "#             'eval_metric': 'mae',\n",
    "            'objective': 'binary:logistic',\n",
    "            'eval_metric': 'logloss',        \n",
    "            'max_depth': 4,\n",
    "            'silent': 1,        \n",
    "#             'gamma': 2,\n",
    "#             'alpha': 2,\n",
    "        }\n",
    "\n",
    "    watchlist = [(d_train, 'train'), (d_valid, 'valid')]\n",
    "    clf = xgb.train(params, d_train, 10000, watchlist, early_stopping_rounds=100, verbose_eval=20)\n",
    "    \n",
    "    del d_train, d_valid; gc.collect()\n",
    "    \n",
    "    return clf\n",
    "\n",
    "\n",
    "def xgb_predict(clf, props):\n",
    "    sample = pd.read_csv('zillow/sample_submission.csv')\n",
    "    \n",
    "    # build the test set\n",
    "    subm = pd.DataFrame()\n",
    "\n",
    "    tx = 'transactiondate'\n",
    "#     dates = pd.date_range('2016-10-01', '2016-12-31').append(pd.date_range('2017-10-01', '2017-12-31'))\n",
    "    dates = pd.to_datetime(['2016-10-01', '2016-11-01', '2016-12-01', '2017-10-01', '2017-11-01', '2017-12-01'])\n",
    "    for date in dates:\n",
    "        display('Predicting...', date)\n",
    "\n",
    "        batch = pd.DataFrame()\n",
    "        batch['parcelid'] = sample['ParcelId']\n",
    "\n",
    "        batch[tx] = date\n",
    "        batch = split_date(batch, tx)\n",
    "        \n",
    "        merged = batch.merge(props, on='parcelid', how='left')\n",
    "        merged = add_age(merged).drop(['parcelid', tx], axis=1)        \n",
    "        \n",
    "        dm_test = xgb.DMatrix(merged)\n",
    "        del merged; gc.collect()\n",
    "        \n",
    "        batch['logerror'] = clf.predict(dm_test)\n",
    "        del dm_test; gc.collect()\n",
    "        \n",
    "        subm  = subm.append(batch.drop(tx, axis=1))\n",
    "        subm  = subm.append(batch.drop(tx, axis=1))\n",
    "        del batch; gc.collect()\n",
    "\n",
    "    subm = subm.groupby(['parcelid', tx+'_year', tx+'_month']).mean()\n",
    "    subm = subm.pivot_table(index='parcelid', columns=['transactiondate_year', 'transactiondate_month'], values='logerror')\n",
    "    subm = np.log(subm)\n",
    "    cols = [\"{}{}\".format(*c) for c in subm.columns]\n",
    "    subm.reset_index(inplace=True)\n",
    "    subm.columns = ['ParcelId'] + cols\n",
    "#     subm.rename(index=\"ParcelId\")\n",
    "    display(subm)\n",
    "    subm.to_csv('zillow/submission.csv', index=False, float_format='%.4f', compression='gzip')\n",
    "    return subm\n",
    "\n",
    "    \n",
    "def xgb_importance(clf):\n",
    "    importance = clf.get_fscore()\n",
    "    importance = sorted(importance.items(), key=lambda x: x[1])\n",
    "\n",
    "    df = pd.DataFrame(importance, columns=['feature', 'fscore'])\n",
    "    df['fscore'] = df['fscore'] / df['fscore'].sum()\n",
    "\n",
    "    df.plot(kind='barh', x='feature', y='fscore', legend=False, figsize=(6, 10))\n",
    "    plt.title('XGBoost Feature Importance')\n",
    "    plt.xlabel('relative importance');\n",
    "    \n",
    "    \n",
    "# train a model\n",
    "def train_predict(props, params=None):\n",
    "    df = props.drop(['propertyzoningdesc', \n",
    "                     'propertycountylandusecode', \n",
    "                     'censustractandblock', \n",
    "                     'rawcensustractandblock'\n",
    "                    ], axis=1)\n",
    "    for c in df.dtypes[df.dtypes == object].index.values:\n",
    "        df[c] = (df[c] == True)\n",
    "\n",
    "    clf = xgb_train(df, params)\n",
    "    xgb_importance(clf)\n",
    "    subm = None\n",
    "#     subm = xgb_predict(clf, df)\n",
    "    del df; gc.collect()\n",
    "    \n",
    "    return clf, subm"
   ]
  },
  {
   "cell_type": "code",
   "execution_count": 28,
   "metadata": {
    "scrolled": true
   },
   "outputs": [
    {
     "name": "stdout",
     "output_type": "stream",
     "text": [
      "[0]\ttrain-logloss:0.692673\tvalid-logloss:0.692412\n",
      "Multiple eval metrics have been passed: 'valid-logloss' will be used for early stopping.\n",
      "\n",
      "Will train until valid-logloss hasn't improved in 100 rounds.\n",
      "[20]\ttrain-logloss:0.686098\tvalid-logloss:0.682248\n",
      "[40]\ttrain-logloss:0.68236\tvalid-logloss:0.675553\n",
      "[60]\ttrain-logloss:0.679932\tvalid-logloss:0.671421\n",
      "[80]\ttrain-logloss:0.678038\tvalid-logloss:0.668341\n",
      "[100]\ttrain-logloss:0.676603\tvalid-logloss:0.666479\n",
      "[120]\ttrain-logloss:0.675352\tvalid-logloss:0.665236\n",
      "[140]\ttrain-logloss:0.674301\tvalid-logloss:0.664456\n",
      "[160]\ttrain-logloss:0.673405\tvalid-logloss:0.663772\n",
      "[180]\ttrain-logloss:0.672604\tvalid-logloss:0.663301\n",
      "[200]\ttrain-logloss:0.67186\tvalid-logloss:0.662833\n",
      "[220]\ttrain-logloss:0.671196\tvalid-logloss:0.662499\n",
      "[240]\ttrain-logloss:0.670555\tvalid-logloss:0.662203\n",
      "[260]\ttrain-logloss:0.669932\tvalid-logloss:0.661914\n",
      "[280]\ttrain-logloss:0.669295\tvalid-logloss:0.661779\n",
      "[300]\ttrain-logloss:0.668754\tvalid-logloss:0.661641\n",
      "[320]\ttrain-logloss:0.668235\tvalid-logloss:0.661492\n",
      "[340]\ttrain-logloss:0.667741\tvalid-logloss:0.661343\n",
      "[360]\ttrain-logloss:0.667293\tvalid-logloss:0.661228\n",
      "[380]\ttrain-logloss:0.666868\tvalid-logloss:0.661157\n",
      "[400]\ttrain-logloss:0.666448\tvalid-logloss:0.661058\n",
      "[420]\ttrain-logloss:0.666064\tvalid-logloss:0.660946\n",
      "[440]\ttrain-logloss:0.665741\tvalid-logloss:0.660887\n",
      "[460]\ttrain-logloss:0.665356\tvalid-logloss:0.660761\n",
      "[480]\ttrain-logloss:0.664994\tvalid-logloss:0.660706\n",
      "[500]\ttrain-logloss:0.664631\tvalid-logloss:0.66059\n",
      "[520]\ttrain-logloss:0.664268\tvalid-logloss:0.660599\n",
      "[540]\ttrain-logloss:0.663902\tvalid-logloss:0.660586\n",
      "[560]\ttrain-logloss:0.663561\tvalid-logloss:0.660515\n",
      "[580]\ttrain-logloss:0.663179\tvalid-logloss:0.660468\n",
      "[600]\ttrain-logloss:0.662774\tvalid-logloss:0.66043\n",
      "[620]\ttrain-logloss:0.662438\tvalid-logloss:0.660387\n",
      "[640]\ttrain-logloss:0.662057\tvalid-logloss:0.660373\n",
      "[660]\ttrain-logloss:0.661768\tvalid-logloss:0.660353\n",
      "[680]\ttrain-logloss:0.661458\tvalid-logloss:0.660316\n",
      "[700]\ttrain-logloss:0.66111\tvalid-logloss:0.660303\n",
      "[720]\ttrain-logloss:0.66073\tvalid-logloss:0.660253\n",
      "[740]\ttrain-logloss:0.660404\tvalid-logloss:0.660193\n",
      "[760]\ttrain-logloss:0.660101\tvalid-logloss:0.660145\n",
      "[780]\ttrain-logloss:0.659757\tvalid-logloss:0.660115\n",
      "[800]\ttrain-logloss:0.659401\tvalid-logloss:0.660071\n",
      "[820]\ttrain-logloss:0.659172\tvalid-logloss:0.660023\n",
      "[840]\ttrain-logloss:0.658899\tvalid-logloss:0.659992\n",
      "[860]\ttrain-logloss:0.658567\tvalid-logloss:0.659955\n",
      "[880]\ttrain-logloss:0.658305\tvalid-logloss:0.659974\n",
      "[900]\ttrain-logloss:0.658046\tvalid-logloss:0.659962\n",
      "[920]\ttrain-logloss:0.657781\tvalid-logloss:0.65994\n",
      "[940]\ttrain-logloss:0.65751\tvalid-logloss:0.659958\n",
      "[960]\ttrain-logloss:0.657168\tvalid-logloss:0.65994\n",
      "[980]\ttrain-logloss:0.656883\tvalid-logloss:0.659935\n",
      "[1000]\ttrain-logloss:0.656595\tvalid-logloss:0.65975\n",
      "[1020]\ttrain-logloss:0.656365\tvalid-logloss:0.659787\n",
      "[1040]\ttrain-logloss:0.655984\tvalid-logloss:0.659763\n",
      "[1060]\ttrain-logloss:0.655695\tvalid-logloss:0.659755\n",
      "[1080]\ttrain-logloss:0.655437\tvalid-logloss:0.659963\n",
      "[1100]\ttrain-logloss:0.655086\tvalid-logloss:0.659938\n",
      "[1120]\ttrain-logloss:0.654823\tvalid-logloss:0.659972\n",
      "[1140]\ttrain-logloss:0.654497\tvalid-logloss:0.660259\n",
      "Stopping. Best iteration:\n",
      "[1056]\ttrain-logloss:0.655766\tvalid-logloss:0.659714\n",
      "\n"
     ]
    },
    {
     "data": {
      "image/png": "[encoded data removed]",
      "text/plain": [
       "<matplotlib.figure.Figure at 0x7fc794042c88>"
      ]
     },
     "metadata": {},
     "output_type": "display_data"
    }
   ],
   "source": [
    "clf, subm = train_predict(props)"
   ]
  },
  {
   "cell_type": "markdown",
   "metadata": {},
   "source": [
    "## Baseline MAE = 0.060681"
   ]
  },
  {
   "cell_type": "markdown",
   "metadata": {},
   "source": [
    "# Stuff that work"
   ]
  },
  {
   "cell_type": "code",
   "execution_count": 9,
   "metadata": {
    "collapsed": true,
    "scrolled": false
   },
   "outputs": [],
   "source": [
    "# generator function for pulling out items a number at a time\n",
    "def batch(s, n):\n",
    "    for i in range(0, len(s), n):\n",
    "        yield s[i:min(i+n, len(s))]\n",
    "        \n",
    "# test function\n",
    "# display(props.columns)\n",
    "# [c for c in batch(props.columns, 6)]\n",
    "\n",
    "# for describing the data with DataFrameSummary\n",
    "def summarize(df):\n",
    "    for cols in batch(df.columns, 5):\n",
    "        display(pds.DataFrameSummary(df[cols]).summary())\n",
    "        \n",
    "# test function\n",
    "# describe(props)\n",
    "\n",
    "# for showing data types, unique and missing values\n",
    "def describe_values(df):\n",
    "    stats = pd.DataFrame(columns=['column', 'dtype', 'sample', 'unique len', 'missing %'])\n",
    "    for c in df.columns:\n",
    "        stats.loc[-1] = [c, df[c].dtype, df[c].unique()[:3], len(df[c].unique()), df[c].isnull().sum(axis=0) / df[c].size * 100]\n",
    "        stats.index += 1\n",
    "    display(stats.set_index('column'))"
   ]
  },
  {
   "cell_type": "code",
   "execution_count": 35,
   "metadata": {
    "collapsed": true
   },
   "outputs": [],
   "source": [
    "clean = props.copy()\n",
    "def pad(col, val=None, dtype=None):\n",
    "    display(col)\n",
    "    if col not in clean.columns: \n",
    "        clean[col] = props[col]\n",
    "    display(clean[col].unique())\n",
    "    if val != None:\n",
    "        clean[col] = clean[col].fillna(val)\n",
    "    if dtype != None:\n",
    "        clean[col] = clean[col].astype(dtype)\n",
    "    display(clean[col].unique())"
   ]
  },
  {
   "cell_type": "code",
   "execution_count": 36,
   "metadata": {
    "scrolled": false
   },
   "outputs": [
    {
     "data": {
      "text/plain": [
       "'calculatedbathnbr'"
      ]
     },
     "metadata": {},
     "output_type": "display_data"
    },
    {
     "data": {
      "text/plain": [
       "array([  nan,   2. ,   4. ,   3. ,   1. ,   2.5,   3.5,   5. ,   1.5,\n",
       "         4.5,   7.5,   5.5,   6. ,   7. ,  10. ,   8. ,   9. ,  12. ,\n",
       "        11. ,   8.5,   6.5,  13. ,   9.5,  14. ,  20. ,  19.5,  15. ,\n",
       "        10.5,  18. ,  16. ,  17. ,  19. ,  12.5,  11.5,  14.5])"
      ]
     },
     "metadata": {},
     "output_type": "display_data"
    },
    {
     "data": {
      "text/plain": [
       "array([  nan,   2. ,   4. ,   3. ,   1. ,   2.5,   3.5,   5. ,   1.5,\n",
       "         4.5,   7.5,   5.5,   6. ,   7. ,  10. ,   8. ,   9. ,  12. ,\n",
       "        11. ,   8.5,   6.5,  13. ,   9.5,  14. ,  20. ,  19.5,  15. ,\n",
       "        10.5,  18. ,  16. ,  17. ,  19. ,  12.5,  11.5,  14.5])"
      ]
     },
     "metadata": {},
     "output_type": "display_data"
    },
    {
     "data": {
      "text/plain": [
       "array([  0.  ,   2.  ,   4.  ,   3.  ,   1.  ,   2.5 ,   3.5 ,   5.  ,\n",
       "         1.5 ,   4.5 ,   7.5 ,   5.5 ,   6.  ,   7.  ,  10.  ,   8.  ,\n",
       "         9.  ,  12.  ,  11.  ,   8.5 ,   6.5 ,  13.  ,   9.5 ,  14.  ,\n",
       "        20.  ,  19.5 ,  15.  ,  10.5 ,    nan,  18.  ,  16.  ,   1.75,\n",
       "        17.  ,  19.  ,   0.5 ,  12.5 ,  11.5 ,  14.5 ])"
      ]
     },
     "metadata": {},
     "output_type": "display_data"
    }
   ],
   "source": [
    "pad('calculatedbathnbr', dtype='float64')\n",
    "\n",
    "# if it doesn't have a value, we just get it from bathroomcnt\n",
    "clean['calculatedbathnbr'] = clean['calculatedbathnbr'].fillna(clean['bathroomcnt'])\n",
    "display(clean['calculatedbathnbr'].unique())"
   ]
  },
  {
   "cell_type": "code",
   "execution_count": 37,
   "metadata": {},
   "outputs": [
    {
     "data": {
      "text/html": [
       "<div>\n",
       "<style>\n",
       "    .dataframe thead tr:only-child th {\n",
       "        text-align: right;\n",
       "    }\n",
       "\n",
       "    .dataframe thead th {\n",
       "        text-align: left;\n",
       "    }\n",
       "\n",
       "    .dataframe tbody tr th {\n",
       "        vertical-align: top;\n",
       "    }\n",
       "</style>\n",
       "<table border=\"1\" class=\"dataframe\">\n",
       "  <thead>\n",
       "    <tr style=\"text-align: right;\">\n",
       "      <th></th>\n",
       "      <th>rawcensustractandblock</th>\n",
       "      <th>censustractandblock</th>\n",
       "      <th>fips</th>\n",
       "    </tr>\n",
       "  </thead>\n",
       "  <tbody>\n",
       "  </tbody>\n",
       "</table>\n",
       "</div>"
      ],
      "text/plain": [
       "Empty DataFrame\n",
       "Columns: [rawcensustractandblock, censustractandblock, fips]\n",
       "Index: []"
      ]
     },
     "execution_count": 37,
     "metadata": {},
     "output_type": "execute_result"
    }
   ],
   "source": [
    "props.loc[props.rawcensustractandblock.isnull() & ~props.censustractandblock.isnull(), ['rawcensustractandblock', 'censustractandblock', 'fips']]"
   ]
  },
  {
   "cell_type": "code",
   "execution_count": 38,
   "metadata": {
    "collapsed": true
   },
   "outputs": [],
   "source": [
    "clean['rawcensustractandblock'] = props['rawcensustractandblock'].astype('str')\n",
    "clean['censustractandblock'] = props['censustractandblock']\n",
    "clean['fips'] = clean['rawcensustractandblock'].str.slice(0, 4).replace('nan', None)\n",
    "clean['tract'] = clean['rawcensustractandblock'].str.slice(4, 11).replace('', None)\n",
    "clean['block'] = clean['rawcensustractandblock'].str.slice(11).replace('', None)"
   ]
  },
  {
   "cell_type": "code",
   "execution_count": 39,
   "metadata": {},
   "outputs": [
    {
     "data": {
      "text/plain": [
       "'rawcensustractandblock'"
      ]
     },
     "metadata": {},
     "output_type": "display_data"
    },
    {
     "data": {
      "text/plain": [
       "array(['60378002.041', '60378001.011', '60377030.012', ...,\n",
       "       '60375039.0221', '60376024.03', 'nan'], dtype=object)"
      ]
     },
     "metadata": {},
     "output_type": "display_data"
    },
    {
     "data": {
      "text/plain": [
       "array([ 60378004.,  60378000.,  60377032.,  60371412.,  60371232.,\n",
       "        60371252.,  60371436.,  60373108.,  60373100.,  60373204.,\n",
       "        60371112.,  60379200.,  60379204.,  60379104.,  60379108.,\n",
       "        60379008.,  60379004.,  60372348.,  60376008.,  60376012.,\n",
       "        60376016.,  60376020.,  60372760.,  60376204.,  60377028.,\n",
       "        60372756.,  60372724.,  60377012.,  60377024.,  60377020.,\n",
       "        60377016.,  60372692.,  60372656.,  60372624.,  60372324.,\n",
       "        60372212.,  60372172.,  60372164.,  60372328.,  60372080.,\n",
       "        60372096.,  60371992.,  60372016.,  60372032.,  60375312.,\n",
       "        60375304.,  60374812.,  60374816.,  60371976.,  60371872.,\n",
       "        60371864.,  60371836.,  60371900.,  60377004.,  60371892.,\n",
       "        60373012.,  60373008.,  60374620.,  60374636.,  60374316.,\n",
       "        60374600.,  60374616.,  60372392.,  60372376.,  60372384.,\n",
       "        60372404.,  60372408.,  60372912.,  60375408.,  60375360.,\n",
       "        60375536.,  60375332.,  60375340.,  60375324.,  60375320.,\n",
       "        60375544.,  60375704.,  60375736.,  60375768.,  60375764.,\n",
       "        60375760.,  60372932.,  60376508.,  60376700.,  60372964.,\n",
       "        60372968.,  60376212.,  60376516.,  60376704.,  60375028.,\n",
       "        60375532.,  60375020.,  60374076.,  60374024.,  60374324.,\n",
       "        60374008.,  60374032.,  60371324.,  60371320.,  60374084.,\n",
       "        60371064.,  60371040.,  60371048.,  60371092.,  60371132.,\n",
       "        60371152.,  60379012.,  60371096.,  60376208.,  60375004.,\n",
       "        60374080.,  60374336.,  60376028.,  60375776.,  60376032.,\n",
       "        60375432.,  60375548.,  60375552.,  60375540.,  60375424.,\n",
       "        60375724.,  60375440.,  60375412.,  60375436.,  60376512.,\n",
       "        60372948.,  60372976.,  60374012.,  60375040.,  60374340.,\n",
       "        60374016.,  60374040.,  60374056.,  60374036.,  60374312.,\n",
       "        60374044.,  60374004.,  60371060.,  60375404.,  60590112.,\n",
       "        60590888.,  60590524.,  60591100.,  60590632.,  60590628.,\n",
       "        60590320.,  60590892.,  60590748.,  60590880.,  60590868.,\n",
       "        60590116.,  60590996.,  60590220.,  61110008.,  61110076.,\n",
       "        61110072.,  61110012.,  61110028.,  61110048.,  61110092.,\n",
       "        61110060.,  61110084.,  61110004.,  60371416.,  60376024.,\n",
       "        60372700.,  60374020.,  60373024.,  61110016.,  61110020.,\n",
       "        61110024.,  61110052.,  61110032.,  61110056.,  61110088.,\n",
       "        61110036.,  61110044.,  61110040.,  61110064.,  61110068.,\n",
       "        61110080.,  60371344.,  60371352.,  60371372.,  60371376.,\n",
       "        60371312.,  60371316.,  60371340.,  60371348.,  60371328.,\n",
       "        60371332.,  60371392.,  60371396.,  60371380.,  60371400.,\n",
       "        60371276.,  60371200.,  60371272.,  60371204.,  60371280.,\n",
       "        60371284.,  60371288.,  60371196.,  60371220.,  60371216.,\n",
       "        60371212.,  60371224.,  60371240.,  60371236.,  60371244.,\n",
       "        60371248.,  60371256.,  60371432.,  60371440.,  60371020.,\n",
       "        60373116.,  60373112.,  60373120.,  60373104.,  60371072.,\n",
       "        60371044.,  60373200.,  60371032.,  60371036.,  60371012.,\n",
       "        60371016.,  60371068.,  60372752.,  60371192.,  60371172.,\n",
       "        60371176.,  60371100.,  60371116.,  60371156.,  60371084.,\n",
       "        60371136.,  60371080.,  60379100.,  60379000.,  60379112.,\n",
       "        60372352.,  60376004.,  60379800.,  60376036.,  60376500.,\n",
       "        60376040.,  60376504.,  60372772.,  60372764.,  60372768.,\n",
       "        60372780.,  60376200.,  60372360.,  60372744.,  60372740.,\n",
       "        60372720.,  60372736.,  60372128.,  60372116.,  60372732.,\n",
       "        60372716.,  60372712.,  60372680.,  60372676.,  60372644.,\n",
       "        60372696.,  60372704.,  60372672.,  60377008.,  60372148.,\n",
       "        60372612.,  60372620.,  60372652.,  60371944.,  60372640.,\n",
       "        60372628.,  60372320.,  60372344.,  60372316.,  60372340.,\n",
       "        60372364.,  60372312.,  60372228.,  60372224.,  60372220.,\n",
       "        60372192.,  60372200.,  60372196.,  60372188.,  60372216.,\n",
       "        60372184.,  60372168.,  60372180.,  60372136.,  60372112.,\n",
       "        60372132.,  60372160.,  60372124.,  60372296.,  60372288.,\n",
       "        60372292.,  60372284.,  60372280.,  60372272.,  60372248.,\n",
       "        60372268.,  60372244.,  60372260.,  60372264.,  60372100.,\n",
       "        60372072.,  60372076.,  60372084.,  60372088.,  60371960.,\n",
       "        60372044.,  60372036.,  60372040.,  60372048.,  60371996.,\n",
       "        60372000.,  60372012.,  60375308.,  60375316.,  60374820.,\n",
       "        60374824.,  60374828.,  60375300.,  60374808.,  60374804.,\n",
       "        60374640.,  60374644.,  60374800.,  60374632.,  60374308.,\n",
       "        60374320.,  60374328.,  60371956.,  60371972.,  60371952.,\n",
       "        60371884.,  60371852.,  60371840.,  60371860.,  60371812.,\n",
       "        60371816.,  60371832.,  60371928.,  60372120.,  60372140.,\n",
       "        60371916.,  60371924.,  60371920.,  60372144.,  60377000.,\n",
       "        60371908.,  60371912.,  60371904.,  60371896.,  60371940.,\n",
       "        60371880.,  60373004.,  60373016.,  60373020.,  60374608.,\n",
       "        60374624.,  60374628.,  60374304.,  60373000.,  60374604.,\n",
       "        60374612.,  60379304.,  60372372.,  60375328.,  60372380.,\n",
       "        60375352.,  60372396.,  60375348.,  60372400.,  60372424.,\n",
       "        60375356.,  60376000.,  60372412.,  60372420.,  60372428.,\n",
       "        60372432.,  60372416.,  60375428.,  60375416.,  60375420.,\n",
       "        60375400.,  60375344.,  60375336.,  60375508.,  60375516.,\n",
       "        60375364.,  60375512.,  60375520.,  60375008.,  60375024.,\n",
       "        60375504.,  60375708.,  60375712.,  60375740.,  60375700.,\n",
       "        60375716.,  60375720.,  60375732.,  60375744.,  60375752.,\n",
       "        60375748.,  60375772.,  60375756.,  60375728.,  60372920.,\n",
       "        60372940.,  60372944.,  60372952.,  60376100.,  60372972.,\n",
       "        60372240.,  60375992.,  60376216.,  60376708.,  60375500.,\n",
       "        60375032.,  60375036.,  60375524.,  60375528.,  60375016.,\n",
       "        60375012.,  60374072.,  60374088.,  60375000.,  60374064.,\n",
       "        60374028.,  60374060.,  60374052.,  60374048.,  60374068.,\n",
       "        60374300.,  60374332.,  60590752.,  60590756.,  60590744.,\n",
       "        60590740.,  60590012.,  60590016.,  60590992.,  60590020.,\n",
       "        60590872.,  60590864.,  60590876.,  60590760.,  60590764.,\n",
       "        60590636.,  60590424.,  60590420.,  60591108.,  60591104.,\n",
       "        60590884.,  60591000.,  60590640.,  60372060.,  60372064.,\n",
       "        60372092.,  60372152.,  60372052.,  60372776.,  61110000.,\n",
       "        60379300.,        nan])"
      ]
     },
     "metadata": {},
     "output_type": "display_data"
    },
    {
     "data": {
      "text/plain": [
       "'censustractandblock'"
      ]
     },
     "metadata": {},
     "output_type": "display_data"
    },
    {
     "data": {
      "text/plain": [
       "array([             nan,   6.11100100e+13,   6.11100090e+13, ...,\n",
       "         6.05909924e+13,   6.05906264e+13,   6.03790121e+13])"
      ]
     },
     "metadata": {},
     "output_type": "display_data"
    },
    {
     "data": {
      "text/plain": [
       "array([             nan,   6.11100110e+13,   6.11100068e+13,\n",
       "         6.11100026e+13,   6.11100152e+13,   6.11100194e+13,\n",
       "         6.11100236e+13,   6.11100278e+13,   6.11100530e+13,\n",
       "         6.11100320e+13,   6.11100488e+13,   6.11100572e+13,\n",
       "         6.11100865e+13,   6.11100362e+13,   6.11100446e+13,\n",
       "         6.11100907e+13,   6.11100404e+13,   6.11100781e+13,\n",
       "         6.11100614e+13,   6.11100656e+13,   6.11100698e+13,\n",
       "         6.11100740e+13,   6.11100823e+13,   6.03713438e+13,\n",
       "         6.03713522e+13,   6.03713731e+13,   6.03780001e+13,\n",
       "         6.03780043e+13,   6.03713144e+13,   6.03713102e+13,\n",
       "         6.03713186e+13,   6.03713396e+13,   6.03713480e+13,\n",
       "         6.03713228e+13,   6.03713270e+13,   6.03713312e+13,\n",
       "         6.03713689e+13,   6.03713941e+13,   6.03713899e+13,\n",
       "         6.03713815e+13,   6.03713983e+13,   6.03712725e+13,\n",
       "         6.03712012e+13,   6.03712809e+13,   6.03712767e+13,\n",
       "         6.03712850e+13,   6.03712892e+13,   6.03714151e+13,\n",
       "         6.03714109e+13,   6.03711970e+13,   6.03712179e+13,\n",
       "         6.03712096e+13,   6.03712347e+13,   6.03712221e+13,\n",
       "         6.03712305e+13,   6.03712389e+13,   6.03712431e+13,\n",
       "         6.03712473e+13,   6.03712515e+13,   6.03712557e+13,\n",
       "         6.03714318e+13,   6.03714360e+13,   6.03714402e+13,\n",
       "         6.03710208e+13,   6.03731138e+13,   6.03731096e+13,\n",
       "         6.03731180e+13,   6.03731054e+13,   6.03731012e+13,\n",
       "         6.03710669e+13,   6.03710628e+13,   6.03710586e+13,\n",
       "         6.03710711e+13,   6.03710418e+13,   6.03732018e+13,\n",
       "         6.03710334e+13,   6.03710460e+13,   6.03710292e+13,\n",
       "         6.03710124e+13,   6.03710963e+13,   6.03710921e+13,\n",
       "         6.03711928e+13,   6.03711886e+13,   6.03710502e+13,\n",
       "         6.03712137e+13,   6.03712054e+13,   6.03711718e+13,\n",
       "         6.03711760e+13,   6.03711131e+13,   6.03711550e+13,\n",
       "         6.03711508e+13,   6.03710837e+13,   6.03711299e+13,\n",
       "         6.03711341e+13,   6.03791997e+13,   6.03792039e+13,\n",
       "         6.03710795e+13,   6.03791074e+13,   6.03791032e+13,\n",
       "         6.03790990e+13,   6.03790026e+13,   6.03791116e+13,\n",
       "         6.03790110e+13,   6.03790068e+13,   6.03770312e+13,\n",
       "         6.03760120e+13,   6.03723504e+13,   6.03723462e+13,\n",
       "         6.03760078e+13,   6.03760036e+13,   6.03760204e+13,\n",
       "         6.03760162e+13,   6.03760246e+13,   6.03760288e+13,\n",
       "         6.03760330e+13,   6.03764986e+13,   6.03760372e+13,\n",
       "         6.03760414e+13,   6.03762050e+13,   6.03765028e+13,\n",
       "         6.03727614e+13,   6.03727698e+13,   6.03727656e+13,\n",
       "         6.03727824e+13,   6.03727782e+13,   6.03727740e+13,\n",
       "         6.03762008e+13,   6.03762092e+13,   6.03770271e+13,\n",
       "         6.03723588e+13,   6.03770229e+13,   6.03726985e+13,\n",
       "         6.03727531e+13,   6.03727237e+13,   6.03727573e+13,\n",
       "         6.03727405e+13,   6.03727195e+13,   6.03727363e+13,\n",
       "         6.03727321e+13,   6.03727153e+13,   6.03726943e+13,\n",
       "         6.03727111e+13,   6.03726776e+13,   6.03726734e+13,\n",
       "         6.03726440e+13,   6.03770145e+13,   6.03770187e+13,\n",
       "         6.03770103e+13,   6.03721700e+13,   6.03726901e+13,\n",
       "         6.03727027e+13,   6.03726692e+13,   6.03726566e+13,\n",
       "         6.03721659e+13,   6.03721491e+13,   6.03770061e+13,\n",
       "         6.03726104e+13,   6.03726230e+13,   6.03726524e+13,\n",
       "         6.03719436e+13,   6.03726398e+13,   6.03726272e+13,\n",
       "         6.03723210e+13,   6.03723252e+13,   6.03723168e+13,\n",
       "         6.03723420e+13,   6.03723630e+13,   6.03723127e+13,\n",
       "         6.03722246e+13,   6.03722204e+13,   6.03721910e+13,\n",
       "         6.03721994e+13,   6.03721952e+13,   6.03722162e+13,\n",
       "         6.03722120e+13,   6.03721868e+13,   6.03721826e+13,\n",
       "         6.03721323e+13,   6.03721113e+13,   6.03721281e+13,\n",
       "         6.03721617e+13,   6.03721239e+13,   6.03722959e+13,\n",
       "         6.03723294e+13,   6.03722875e+13,   6.03722917e+13,\n",
       "         6.03722833e+13,   6.03722791e+13,   6.03722707e+13,\n",
       "         6.03722455e+13,   6.03722665e+13,   6.03722581e+13,\n",
       "         6.03722623e+13,   6.03729712e+13,   6.03720946e+13,\n",
       "         6.03720987e+13,   6.03720736e+13,   6.03720820e+13,\n",
       "         6.03720862e+13,   6.03719561e+13,   6.03720442e+13,\n",
       "         6.03720358e+13,   6.03720400e+13,   6.03720484e+13,\n",
       "         6.03720316e+13,   6.03719981e+13,   6.03719939e+13,\n",
       "         6.03719897e+13,   6.03720149e+13,   6.03720191e+13,\n",
       "         6.03753074e+13,   6.03753116e+13,   6.03753032e+13,\n",
       "         6.03753158e+13,   6.03748208e+13,   6.03753242e+13,\n",
       "         6.03748167e+13,   6.03748250e+13,   6.03748292e+13,\n",
       "         6.03752990e+13,   6.03750054e+13,   6.03743343e+13,\n",
       "         6.03748083e+13,   6.03718387e+13,   6.03720107e+13,\n",
       "         6.03748041e+13,   6.03746405e+13,   6.03746321e+13,\n",
       "         6.03748125e+13,   6.03747999e+13,   6.03743091e+13,\n",
       "         6.03743175e+13,   6.03743217e+13,   6.03743301e+13,\n",
       "         6.03719729e+13,   6.03719771e+13,   6.03797995e+13,\n",
       "         6.03718723e+13,   6.03719519e+13,   6.03719603e+13,\n",
       "         6.03718806e+13,   6.03718848e+13,   6.03718513e+13,\n",
       "         6.03718639e+13,   6.03718345e+13,   6.03718597e+13,\n",
       "         6.03718135e+13,   6.03718177e+13,   6.03718303e+13,\n",
       "         6.03746363e+13,   6.03719268e+13,   6.03721197e+13,\n",
       "         6.03721155e+13,   6.03721407e+13,   6.03719142e+13,\n",
       "         6.03719226e+13,   6.03719184e+13,   6.03721449e+13,\n",
       "         6.03770019e+13,   6.03719100e+13,   6.03719058e+13,\n",
       "         6.03718974e+13,   6.03719394e+13,   6.03718932e+13,\n",
       "         6.03719016e+13,   6.03718890e+13,   6.03730047e+13,\n",
       "         6.03730089e+13,   6.03730131e+13,   6.03730173e+13,\n",
       "         6.03730215e+13,   6.03718093e+13,   6.03730257e+13,\n",
       "         6.03746069e+13,   6.03746153e+13,   6.03746195e+13,\n",
       "         6.03746237e+13,   6.03746279e+13,   6.03745985e+13,\n",
       "         6.03743049e+13,   6.03743133e+13,   6.03730005e+13,\n",
       "         6.03746027e+13,   6.03746111e+13,   6.03793004e+13,\n",
       "         6.03723714e+13,   6.03723756e+13,   6.03723923e+13,\n",
       "         6.03753284e+13,   6.03723798e+13,   6.03753493e+13,\n",
       "         6.03723965e+13,   6.03753535e+13,   6.03723840e+13,\n",
       "         6.03724049e+13,   6.03724007e+13,   6.03724217e+13,\n",
       "         6.03759994e+13,   6.03724091e+13,   6.03724133e+13,\n",
       "         6.03724259e+13,   6.03724301e+13,   6.03754039e+13,\n",
       "         6.03754081e+13,   6.03729124e+13,   6.03754122e+13,\n",
       "         6.03754290e+13,   6.03754332e+13,   6.03754164e+13,\n",
       "         6.03754248e+13,   6.03754206e+13,   6.03753997e+13,\n",
       "         6.03753577e+13,   6.03753451e+13,   6.03753619e+13,\n",
       "         6.03753409e+13,   6.03753367e+13,   6.03755087e+13,\n",
       "         6.03755129e+13,   6.03755171e+13,   6.03755381e+13,\n",
       "         6.03755339e+13,   6.03755423e+13,   6.03755297e+13,\n",
       "         6.03753326e+13,   6.03753200e+13,   6.03755045e+13,\n",
       "         6.03750264e+13,   6.03750096e+13,   6.03750222e+13,\n",
       "         6.03750390e+13,   6.03755465e+13,   6.03755507e+13,\n",
       "         6.03757100e+13,   6.03757394e+13,   6.03757352e+13,\n",
       "         6.03757017e+13,   6.03757058e+13,   6.03757142e+13,\n",
       "         6.03757184e+13,   6.03757226e+13,   6.03757310e+13,\n",
       "         6.03757436e+13,   6.03757520e+13,   6.03757478e+13,\n",
       "         6.03757771e+13,   6.03757730e+13,   6.03757688e+13,\n",
       "         6.03757646e+13,   6.03757604e+13,   6.03757562e+13,\n",
       "         6.03754416e+13,   6.03757268e+13,   6.03754374e+13,\n",
       "         6.03729334e+13,   6.03729208e+13,   6.03765070e+13,\n",
       "         6.03765112e+13,   6.03766999e+13,   6.03729418e+13,\n",
       "         6.03729460e+13,   6.03729502e+13,   6.03729628e+13,\n",
       "         6.03729670e+13,   6.03761001e+13,   6.03729754e+13,\n",
       "         6.03759911e+13,   6.03762134e+13,   6.03765153e+13,\n",
       "         6.03767041e+13,   6.03767083e+13,   6.03755003e+13,\n",
       "         6.03750306e+13,   6.03750348e+13,   6.03755213e+13,\n",
       "         6.03755255e+13,   6.03743385e+13,   6.03740827e+13,\n",
       "         6.03750012e+13,   6.03750138e+13,   6.03750180e+13,\n",
       "         6.03740701e+13,   6.03740868e+13,   6.03740743e+13,\n",
       "         6.03740785e+13,   6.03740617e+13,   6.03740365e+13,\n",
       "         6.03740323e+13,   6.03740155e+13,   6.03740197e+13,\n",
       "         6.03740281e+13,   6.03740239e+13,   6.03740113e+13,\n",
       "         6.03740030e+13,   6.03740575e+13,   6.03740491e+13,\n",
       "         6.03740533e+13,   6.03740449e+13,   6.03740659e+13,\n",
       "         6.03743008e+13,   6.03743259e+13,   6.03740072e+13,\n",
       "         6.03740407e+13,   6.05907520e+13,   6.05907478e+13,\n",
       "         6.05907436e+13,   6.05907394e+13,   6.05900096e+13,\n",
       "         6.05900138e+13,   6.05900180e+13,   6.05909911e+13,\n",
       "         6.05901145e+13,   6.05901103e+13,   6.05908736e+13,\n",
       "         6.05908653e+13,   6.05908694e+13,   6.05908611e+13,\n",
       "         6.05907604e+13,   6.05906346e+13,   6.05906262e+13,\n",
       "         6.05906304e+13,   6.05904249e+13,   6.05904207e+13,\n",
       "         6.05911043e+13,   6.05911001e+13,   6.05908778e+13,\n",
       "         6.05902193e+13,   6.05908862e+13,   6.05908820e+13,\n",
       "         6.05907562e+13,   6.05909953e+13,   6.05909995e+13,\n",
       "         6.05908904e+13,   6.05903200e+13,   6.05906388e+13,\n",
       "         6.05901187e+13,   6.05905255e+13,   6.03720610e+13,\n",
       "         6.03720904e+13,   6.03720778e+13,   6.03793046e+13,\n",
       "         6.03722414e+13,   6.03720526e+13,   6.03720694e+13,\n",
       "         6.07100338e+13,   6.07100170e+13,   6.06504076e+13,\n",
       "         6.06504663e+13,   6.08300161e+13,   4.83030108e+14,\n",
       "        -1.00000000e+00,   6.07100087e+13,   6.07100380e+13,\n",
       "         6.07100212e+13,   6.07301874e+13,   6.07100045e+13,\n",
       "         6.06504370e+13,   6.06504873e+13])"
      ]
     },
     "metadata": {},
     "output_type": "display_data"
    },
    {
     "data": {
      "text/plain": [
       "'fips'"
      ]
     },
     "metadata": {},
     "output_type": "display_data"
    },
    {
     "data": {
      "text/plain": [
       "array(['6037', '6059', '6111'], dtype=object)"
      ]
     },
     "metadata": {},
     "output_type": "display_data"
    },
    {
     "data": {
      "text/plain": [
       "array([6037, 6059, 6111])"
      ]
     },
     "metadata": {},
     "output_type": "display_data"
    },
    {
     "data": {
      "text/plain": [
       "'tract'"
      ]
     },
     "metadata": {},
     "output_type": "display_data"
    },
    {
     "data": {
      "text/plain": [
       "array(['8002.04', '8001.01', '7030.01', ..., '2260.00', '9203.35',\n",
       "       '2145.03'], dtype=object)"
      ]
     },
     "metadata": {},
     "output_type": "display_data"
    },
    {
     "data": {
      "text/plain": [
       "array([ 8002.04003906,  8001.00976562,  7030.00976562, ...,  2260.        ,\n",
       "        9203.34960938,  2145.0300293 ])"
      ]
     },
     "metadata": {},
     "output_type": "display_data"
    },
    {
     "data": {
      "text/plain": [
       "'block'"
      ]
     },
     "metadata": {},
     "output_type": "display_data"
    },
    {
     "data": {
      "text/plain": [
       "array(['1', '2', '3', '11', '4', '7', '5', '31', '21', '12', '41', '6',\n",
       "       '51', '32', '13', '15', '16', '14', '8', '22', '9', '42', '18',\n",
       "       '23', '33', '71', '17', '24', '19', '61', '25'], dtype=object)"
      ]
     },
     "metadata": {},
     "output_type": "display_data"
    },
    {
     "data": {
      "text/plain": [
       "array([ 1,  2,  3, 11,  4,  7,  5, 31, 21, 12, 41,  6, 51, 32, 13, 15, 16,\n",
       "       14,  8, 22,  9, 42, 18, 23, 33, 71, 17, 24, 19, 61, 25])"
      ]
     },
     "metadata": {},
     "output_type": "display_data"
    }
   ],
   "source": [
    "pad('rawcensustractandblock', None, 'float32');\n",
    "pad('censustractandblock', None, 'float32');\n",
    "pad('fips', None, 'int64');\n",
    "pad('tract', None, 'float32');\n",
    "pad('block', None, 'int64');"
   ]
  },
  {
   "cell_type": "code",
   "execution_count": 40,
   "metadata": {
    "scrolled": true
   },
   "outputs": [
    {
     "data": {
      "text/html": [
       "<div>\n",
       "<style>\n",
       "    .dataframe thead tr:only-child th {\n",
       "        text-align: right;\n",
       "    }\n",
       "\n",
       "    .dataframe thead th {\n",
       "        text-align: left;\n",
       "    }\n",
       "\n",
       "    .dataframe tbody tr th {\n",
       "        vertical-align: top;\n",
       "    }\n",
       "</style>\n",
       "<table border=\"1\" class=\"dataframe\">\n",
       "  <thead>\n",
       "    <tr style=\"text-align: right;\">\n",
       "      <th></th>\n",
       "      <th>fips</th>\n",
       "      <th>tract</th>\n",
       "      <th>block</th>\n",
       "    </tr>\n",
       "  </thead>\n",
       "  <tbody>\n",
       "    <tr>\n",
       "      <th>0</th>\n",
       "      <td>6037</td>\n",
       "      <td>8002.040039</td>\n",
       "      <td>1</td>\n",
       "    </tr>\n",
       "    <tr>\n",
       "      <th>1</th>\n",
       "      <td>6037</td>\n",
       "      <td>8001.009766</td>\n",
       "      <td>1</td>\n",
       "    </tr>\n",
       "    <tr>\n",
       "      <th>2</th>\n",
       "      <td>6037</td>\n",
       "      <td>7030.009766</td>\n",
       "      <td>2</td>\n",
       "    </tr>\n",
       "    <tr>\n",
       "      <th>3</th>\n",
       "      <td>6037</td>\n",
       "      <td>1412.020020</td>\n",
       "      <td>3</td>\n",
       "    </tr>\n",
       "    <tr>\n",
       "      <th>4</th>\n",
       "      <td>6037</td>\n",
       "      <td>1232.050049</td>\n",
       "      <td>2</td>\n",
       "    </tr>\n",
       "  </tbody>\n",
       "</table>\n",
       "</div>"
      ],
      "text/plain": [
       "   fips        tract  block\n",
       "0  6037  8002.040039      1\n",
       "1  6037  8001.009766      1\n",
       "2  6037  7030.009766      2\n",
       "3  6037  1412.020020      3\n",
       "4  6037  1232.050049      2"
      ]
     },
     "execution_count": 40,
     "metadata": {},
     "output_type": "execute_result"
    }
   ],
   "source": [
    "clean.loc[:, ('fips', 'tract', 'block')].head()"
   ]
  },
  {
   "cell_type": "code",
   "execution_count": 41,
   "metadata": {
    "scrolled": true
   },
   "outputs": [
    {
     "data": {
      "text/plain": [
       "array([ 1801.,  1805.,  1806.,  1807.,  1808.,  1810.,  1812.,  1815.,\n",
       "        1819.,  1821.,  1823.,  1824.,  1825.,  1827.,  1828.,  1829.,\n",
       "        1831.,  1833.,  1834.,  1840.,  1853.,  1855.,  1859.,  1862.,\n",
       "        1865.,  1870.,  1874.,  1875.,  1876.,  1877.,  1878.,  1879.,\n",
       "        1880.,  1881.,  1882.,  1883.,  1884.,  1885.,  1886.,  1887.,\n",
       "        1888.,  1889.,  1890.,  1891.,  1892.,  1893.,  1894.,  1895.,\n",
       "        1896.,  1897.,  1898.,  1899.,  1900.,  1901.,  1902.,  1903.,\n",
       "        1904.,  1905.,  1906.,  1907.,  1908.,  1909.,  1910.,  1911.,\n",
       "        1912.,  1913.,  1914.,  1915.,  1916.,  1917.,  1918.,  1919.,\n",
       "        1920.,  1921.,  1922.,  1923.,  1924.,  1925.,  1926.,  1927.,\n",
       "        1928.,  1929.,  1930.,  1931.,  1932.,  1933.,  1934.,  1935.,\n",
       "        1936.,  1937.,  1938.,  1939.,  1940.,  1941.,  1942.,  1943.,\n",
       "        1944.,  1945.,  1946.,  1947.,  1948.,  1949.,  1950.,  1951.,\n",
       "        1952.,  1953.,  1954.,  1955.,  1956.,  1957.,  1958.,  1959.,\n",
       "        1960.,  1961.,  1962.,  1963.,  1964.,  1965.,  1966.,  1967.,\n",
       "        1968.,  1969.,  1970.,  1971.,  1972.,  1973.,  1974.,  1975.,\n",
       "        1976.,  1977.,  1978.,  1979.,  1980.,  1981.,  1982.,  1983.,\n",
       "        1984.,  1985.,  1986.,  1987.,  1988.,  1989.,  1990.,  1991.,\n",
       "        1992.,  1993.,  1994.,  1995.,  1996.,  1997.,  1998.,  1999.,\n",
       "        2000.,  2001.,  2002.,  2003.,  2004.,  2005.,  2006.,  2007.,\n",
       "        2008.,  2009.,  2010.,  2011.,  2012.,  2013.,  2014.,  2015.,\n",
       "          nan])"
      ]
     },
     "metadata": {},
     "output_type": "display_data"
    },
    {
     "data": {
      "text/plain": [
       "'yearbuilt'"
      ]
     },
     "metadata": {},
     "output_type": "display_data"
    },
    {
     "data": {
      "text/plain": [
       "array([   nan,  1948.,  1947.,  1943.,  1946.,  1978.,  1958.,  1949.,\n",
       "        1956.,  2005.,  1957.,  1939.,  1926.,  1938.,  1972.,  1955.,\n",
       "        2004.,  2011.,  1929.,  2010.,  1934.,  1925.,  1936.,  1920.,\n",
       "        1937.,  1962.,  1927.,  1908.,  1909.,  1959.,  1916.,  1993.,\n",
       "        1960.,  1919.,  1942.,  1940.,  1924.,  2006.,  1950.,  1923.,\n",
       "        1912.,  1935.,  1953.,  1985.,  1944.,  1951.,  1973.,  2003.,\n",
       "        1992.,  1952.,  1969.,  1921.,  1981.,  2000.,  1961.,  1989.,\n",
       "        1970.,  2009.,  1984.,  1968.,  1999.,  1964.,  1991.,  1983.,\n",
       "        1982.,  1977.,  1995.,  1994.,  1986.,  1965.,  1974.,  1980.,\n",
       "        1987.,  1967.,  1990.,  2002.,  1963.,  1971.,  1975.,  1997.,\n",
       "        1976.,  1979.,  1988.,  1998.,  2013.,  2014.,  2012.,  1932.,\n",
       "        1966.,  1954.,  1904.,  1928.,  1930.,  1941.,  1890.,  2001.,\n",
       "        1996.,  2008.,  1913.,  1933.,  2007.,  1931.,  1945.,  1922.,\n",
       "        1910.,  1918.,  1914.,  1911.,  1907.,  1915.,  1905.,  1902.,\n",
       "        1901.,  1903.,  1917.,  1906.,  1895.,  1889.,  1885.,  1887.,\n",
       "        1900.,  1898.,  1896.,  1899.,  2015.,  1893.,  1894.,  1886.,\n",
       "        1897.,  1862.,  1880.,  1891.,  1888.,  1808.,  1855.,  1892.,\n",
       "        1825.,  1884.,  1882.,  1883.,  1810.,  1824.,  1875.,  1874.,\n",
       "        1870.,  1815.,  1881.,  1831.,  1840.,  1865.,  1834.,  1876.,\n",
       "        1829.,  1833.,  1879.,  1819.,  1821.,  1801.,  1823.,  1805.,\n",
       "        1807.,  1806.,  1853.,  1859.,  1828.,  1878.,  1877.,  1812.,\n",
       "        1827.])"
      ]
     },
     "metadata": {},
     "output_type": "display_data"
    },
    {
     "data": {
      "text/plain": [
       "array([ 2016.,  1948.,  1947.,  1943.,  1946.,  1978.,  1958.,  1949.,\n",
       "        1956.,  2005.,  1957.,  1939.,  1926.,  1938.,  1972.,  1955.,\n",
       "        2004.,  2011.,  1929.,  2010.,  1934.,  1925.,  1936.,  1920.,\n",
       "        1937.,  1962.,  1927.,  1908.,  1909.,  1959.,  1916.,  1993.,\n",
       "        1960.,  1919.,  1942.,  1940.,  1924.,  2006.,  1950.,  1923.,\n",
       "        1912.,  1935.,  1953.,  1985.,  1944.,  1951.,  1973.,  2003.,\n",
       "        1992.,  1952.,  1969.,  1921.,  1981.,  2000.,  1961.,  1989.,\n",
       "        1970.,  2009.,  1984.,  1968.,  1999.,  1964.,  1991.,  1983.,\n",
       "        1982.,  1977.,  1995.,  1994.,  1986.,  1965.,  1974.,  1980.,\n",
       "        1987.,  1967.,  1990.,  2002.,  1963.,  1971.,  1975.,  1997.,\n",
       "        1976.,  1979.,  1988.,  1998.,  2013.,  2014.,  2012.,  1932.,\n",
       "        1966.,  1954.,  1904.,  1928.,  1930.,  1941.,  1890.,  2001.,\n",
       "        1996.,  2008.,  1913.,  1933.,  2007.,  1931.,  1945.,  1922.,\n",
       "        1910.,  1918.,  1914.,  1911.,  1907.,  1915.,  1905.,  1902.,\n",
       "        1901.,  1903.,  1917.,  1906.,  1895.,  1889.,  1885.,  1887.,\n",
       "        1900.,  1898.,  1896.,  1899.,  2015.,  1893.,  1894.,  1886.,\n",
       "        1897.,  1862.,  1880.,  1891.,  1888.,  1808.,  1855.,  1892.,\n",
       "        1825.,  1884.,  1882.,  1883.,  1810.,  1824.,  1875.,  1874.,\n",
       "        1870.,  1815.,  1881.,  1831.,  1840.,  1865.,  1834.,  1876.,\n",
       "        1829.,  1833.,  1879.,  1819.,  1821.,  1801.,  1823.,  1805.,\n",
       "        1807.,  1806.,  1853.,  1859.,  1828.,  1878.,  1877.,  1812.,\n",
       "        1827.])"
      ]
     },
     "metadata": {},
     "output_type": "display_data"
    }
   ],
   "source": [
    "# investigate yearbuilt\n",
    "\n",
    "#df = props[['structuretaxvaluedollarcnt', 'yearbuilt']].dropna()\n",
    "#df.plot.scatter(x='yearbuilt', y='structuretaxvaluedollarcnt')\n",
    "\n",
    "col = 'yearbuilt'\n",
    "clean['yearbuilt'] = props['yearbuilt']\n",
    "display(np.sort(clean[col].unique()))\n",
    "pad('yearbuilt', 2016)"
   ]
  },
  {
   "cell_type": "code",
   "execution_count": 49,
   "metadata": {},
   "outputs": [
    {
     "name": "stdout",
     "output_type": "stream",
     "text": [
      "[0]\ttrain-logloss:0.692679\tvalid-logloss:0.692506\n",
      "Multiple eval metrics have been passed: 'valid-logloss' will be used for early stopping.\n",
      "\n",
      "Will train until valid-logloss hasn't improved in 100 rounds.\n",
      "[20]\ttrain-logloss:0.686143\tvalid-logloss:0.682271\n",
      "[40]\ttrain-logloss:0.682306\tvalid-logloss:0.67576\n",
      "[60]\ttrain-logloss:0.679794\tvalid-logloss:0.671217\n",
      "[80]\ttrain-logloss:0.677984\tvalid-logloss:0.668423\n",
      "[100]\ttrain-logloss:0.67648\tvalid-logloss:0.666454\n",
      "[120]\ttrain-logloss:0.67523\tvalid-logloss:0.665268\n",
      "[140]\ttrain-logloss:0.674168\tvalid-logloss:0.664214\n",
      "[160]\ttrain-logloss:0.673236\tvalid-logloss:0.663493\n",
      "[180]\ttrain-logloss:0.672402\tvalid-logloss:0.662964\n",
      "[200]\ttrain-logloss:0.671637\tvalid-logloss:0.662362\n",
      "[220]\ttrain-logloss:0.6709\tvalid-logloss:0.66209\n",
      "[240]\ttrain-logloss:0.67015\tvalid-logloss:0.661795\n",
      "[260]\ttrain-logloss:0.669552\tvalid-logloss:0.661548\n",
      "[280]\ttrain-logloss:0.668887\tvalid-logloss:0.661291\n",
      "[300]\ttrain-logloss:0.66827\tvalid-logloss:0.661181\n",
      "[320]\ttrain-logloss:0.66771\tvalid-logloss:0.660911\n",
      "[340]\ttrain-logloss:0.667199\tvalid-logloss:0.660661\n",
      "[360]\ttrain-logloss:0.666665\tvalid-logloss:0.660524\n",
      "[380]\ttrain-logloss:0.666147\tvalid-logloss:0.660381\n",
      "[400]\ttrain-logloss:0.6656\tvalid-logloss:0.660256\n",
      "[420]\ttrain-logloss:0.665114\tvalid-logloss:0.659981\n",
      "[440]\ttrain-logloss:0.664603\tvalid-logloss:0.659888\n",
      "[460]\ttrain-logloss:0.664135\tvalid-logloss:0.659787\n",
      "[480]\ttrain-logloss:0.66366\tvalid-logloss:0.65973\n",
      "[500]\ttrain-logloss:0.663161\tvalid-logloss:0.659599\n",
      "[520]\ttrain-logloss:0.662669\tvalid-logloss:0.659436\n",
      "[540]\ttrain-logloss:0.662256\tvalid-logloss:0.659367\n",
      "[560]\ttrain-logloss:0.661852\tvalid-logloss:0.659268\n",
      "[580]\ttrain-logloss:0.66141\tvalid-logloss:0.659239\n",
      "[600]\ttrain-logloss:0.660957\tvalid-logloss:0.659223\n",
      "[620]\ttrain-logloss:0.660519\tvalid-logloss:0.659105\n",
      "[640]\ttrain-logloss:0.660134\tvalid-logloss:0.658892\n",
      "[660]\ttrain-logloss:0.659716\tvalid-logloss:0.658861\n",
      "[680]\ttrain-logloss:0.659343\tvalid-logloss:0.658609\n",
      "[700]\ttrain-logloss:0.658965\tvalid-logloss:0.658575\n",
      "[720]\ttrain-logloss:0.658517\tvalid-logloss:0.658557\n",
      "[740]\ttrain-logloss:0.658092\tvalid-logloss:0.65849\n",
      "[760]\ttrain-logloss:0.657676\tvalid-logloss:0.658442\n",
      "[780]\ttrain-logloss:0.657289\tvalid-logloss:0.658423\n",
      "[800]\ttrain-logloss:0.656861\tvalid-logloss:0.658344\n",
      "[820]\ttrain-logloss:0.656487\tvalid-logloss:0.65826\n",
      "[840]\ttrain-logloss:0.656129\tvalid-logloss:0.658115\n",
      "[860]\ttrain-logloss:0.655769\tvalid-logloss:0.658172\n",
      "[880]\ttrain-logloss:0.655437\tvalid-logloss:0.658272\n",
      "[900]\ttrain-logloss:0.655001\tvalid-logloss:0.658326\n",
      "[920]\ttrain-logloss:0.654647\tvalid-logloss:0.658305\n",
      "[940]\ttrain-logloss:0.654306\tvalid-logloss:0.658283\n",
      "Stopping. Best iteration:\n",
      "[846]\ttrain-logloss:0.656005\tvalid-logloss:0.6581\n",
      "\n"
     ]
    },
    {
     "data": {
      "text/plain": [
       "(<xgboost.core.Booster at 0x7fc793ffb828>, None)"
      ]
     },
     "execution_count": 49,
     "metadata": {},
     "output_type": "execute_result"
    },
    {
     "data": {
      "image/png": "[encoded data removed]",
      "text/plain": [
       "<matplotlib.figure.Figure at 0x7fc792ddd7b8>"
      ]
     },
     "metadata": {},
     "output_type": "display_data"
    }
   ],
   "source": [
    "params = {\n",
    "    'eta': 0.02,\n",
    "#     'objective': 'reg:linear',\n",
    "#     'eval_metric': 'mae',\n",
    "    'objective': 'binary:logistic',\n",
    "    'eval_metric': 'logloss',        \n",
    "    'max_depth': 4,\n",
    "    'silent': 1,\n",
    "    'subsample': 0.75,\n",
    "    'colsample_bytree': 0.8,\n",
    "#     'gamma': 2,\n",
    "#     'alpha': 2,\n",
    "}\n",
    "\n",
    "train_predict(clean, params)"
   ]
  },
  {
   "cell_type": "markdown",
   "metadata": {},
   "source": [
    "# Experiments"
   ]
  },
  {
   "cell_type": "code",
   "execution_count": null,
   "metadata": {
    "collapsed": true,
    "scrolled": true
   },
   "outputs": [],
   "source": [
    "# check if there are multiple transactions in a month\n",
    "\n",
    "merged = train.merge(props, how='left', on='parcelid')\n",
    "merged = df_train = split_date(merged, 'transactiondate')\n",
    "merged.loc[merged.duplicated(['parcelid', 'transactiondate_year', 'transactiondate_month'], keep=False)]"
   ]
  },
  {
   "cell_type": "code",
   "execution_count": null,
   "metadata": {
    "collapsed": true
   },
   "outputs": [],
   "source": [
    "# check if all the properties are represented in the required submission\n",
    "\n",
    "diff = set(props['parcelid']) - set(sample['ParcelId'])\n",
    "display(len(diff) == 0)"
   ]
  },
  {
   "cell_type": "code",
   "execution_count": 55,
   "metadata": {
    "collapsed": true
   },
   "outputs": [],
   "source": [
    "train = pd.read_csv('zillow/train_2016_v2.csv')"
   ]
  },
  {
   "cell_type": "code",
   "execution_count": 87,
   "metadata": {},
   "outputs": [
    {
     "data": {
      "text/plain": [
       "<matplotlib.axes._subplots.AxesSubplot at 0x7f960300a0b8>"
      ]
     },
     "execution_count": 87,
     "metadata": {},
     "output_type": "execute_result"
    },
    {
     "data": {
      "image/png": "[encoded data removed]",
      "text/plain": [
       "<matplotlib.figure.Figure at 0x7f96042efb70>"
      ]
     },
     "metadata": {},
     "output_type": "display_data"
    }
   ],
   "source": [
    "# check for outliers\n",
    "pd.DataFrame(train['logerror']).plot.scatter(x='logerror', y='logerror')"
   ]
  },
  {
   "cell_type": "code",
   "execution_count": 90,
   "metadata": {},
   "outputs": [
    {
     "data": {
      "text/html": [
       "<div>\n",
       "<style>\n",
       "    .dataframe thead tr:only-child th {\n",
       "        text-align: right;\n",
       "    }\n",
       "\n",
       "    .dataframe thead th {\n",
       "        text-align: left;\n",
       "    }\n",
       "\n",
       "    .dataframe tbody tr th {\n",
       "        vertical-align: top;\n",
       "    }\n",
       "</style>\n",
       "<table border=\"1\" class=\"dataframe\">\n",
       "  <thead>\n",
       "    <tr style=\"text-align: right;\">\n",
       "      <th></th>\n",
       "      <th>logerror</th>\n",
       "    </tr>\n",
       "  </thead>\n",
       "  <tbody>\n",
       "    <tr>\n",
       "      <th>count</th>\n",
       "      <td>90275</td>\n",
       "    </tr>\n",
       "    <tr>\n",
       "      <th>mean</th>\n",
       "      <td>0.0114572</td>\n",
       "    </tr>\n",
       "    <tr>\n",
       "      <th>std</th>\n",
       "      <td>0.161079</td>\n",
       "    </tr>\n",
       "    <tr>\n",
       "      <th>min</th>\n",
       "      <td>-4.605</td>\n",
       "    </tr>\n",
       "    <tr>\n",
       "      <th>25%</th>\n",
       "      <td>-0.0253</td>\n",
       "    </tr>\n",
       "    <tr>\n",
       "      <th>50%</th>\n",
       "      <td>0.006</td>\n",
       "    </tr>\n",
       "    <tr>\n",
       "      <th>75%</th>\n",
       "      <td>0.0392</td>\n",
       "    </tr>\n",
       "    <tr>\n",
       "      <th>max</th>\n",
       "      <td>4.737</td>\n",
       "    </tr>\n",
       "    <tr>\n",
       "      <th>counts</th>\n",
       "      <td>90275</td>\n",
       "    </tr>\n",
       "    <tr>\n",
       "      <th>uniques</th>\n",
       "      <td>1894</td>\n",
       "    </tr>\n",
       "    <tr>\n",
       "      <th>missing</th>\n",
       "      <td>0</td>\n",
       "    </tr>\n",
       "    <tr>\n",
       "      <th>missing_perc</th>\n",
       "      <td>0%</td>\n",
       "    </tr>\n",
       "    <tr>\n",
       "      <th>types</th>\n",
       "      <td>numeric</td>\n",
       "    </tr>\n",
       "  </tbody>\n",
       "</table>\n",
       "</div>"
      ],
      "text/plain": [
       "               logerror\n",
       "count             90275\n",
       "mean          0.0114572\n",
       "std            0.161079\n",
       "min              -4.605\n",
       "25%             -0.0253\n",
       "50%               0.006\n",
       "75%              0.0392\n",
       "max               4.737\n",
       "counts            90275\n",
       "uniques            1894\n",
       "missing               0\n",
       "missing_perc         0%\n",
       "types           numeric"
      ]
     },
     "metadata": {},
     "output_type": "display_data"
    }
   ],
   "source": [
    "summarize(pd.DataFrame(train['logerror']))"
   ]
  },
  {
   "cell_type": "code",
   "execution_count": 83,
   "metadata": {
    "scrolled": false
   },
   "outputs": [
    {
     "data": {
      "image/png": "[encoded data removed]",
      "text/plain": [
       "<matplotlib.figure.Figure at 0x7f96008103c8>"
      ]
     },
     "metadata": {},
     "output_type": "display_data"
    }
   ],
   "source": [
    "# see if logerror varies per month\n",
    "\n",
    "tx = 'transactiondate'\n",
    "df_train = split_date(train, tx).groupby([tx+'_year', tx+'_month'])\n",
    "f, axes = plt.subplots(4, 3, sharey=True, sharex=True, figsize=(20, 20))\n",
    "for axis, (idx, df) in zip(itertools.chain(*axes), df_train):\n",
    "#     axis.set(yscale=\"log\")\n",
    "#     display(axis)\n",
    "#     display(df_train)\n",
    "    sns.distplot(df['logerror'], color=\"m\", ax=axis).set_title(idx)"
   ]
  },
  {
   "cell_type": "code",
   "execution_count": 11,
   "metadata": {
    "scrolled": false
   },
   "outputs": [
    {
     "data": {
      "text/plain": [
       "'airconditioningtypeid'"
      ]
     },
     "metadata": {},
     "output_type": "display_data"
    },
    {
     "data": {
      "text/plain": [
       "array([ nan,   1.,  13.,   5.,  11.,   9.,  12.,   3.])"
      ]
     },
     "metadata": {},
     "output_type": "display_data"
    },
    {
     "data": {
      "text/plain": [
       "array([ 0,  1, 13,  5, 11,  9, 12,  3])"
      ]
     },
     "metadata": {},
     "output_type": "display_data"
    }
   ],
   "source": [
    "pad('airconditioningtypeid', 0, 'int64')"
   ]
  },
  {
   "cell_type": "code",
   "execution_count": 12,
   "metadata": {
    "scrolled": false
   },
   "outputs": [
    {
     "data": {
      "text/plain": [
       "'architecturalstyletypeid'"
      ]
     },
     "metadata": {},
     "output_type": "display_data"
    },
    {
     "data": {
      "text/plain": [
       "array([ nan,   7.,  21.,   8.,   2.,   3.,   5.,  10.,  27.])"
      ]
     },
     "metadata": {},
     "output_type": "display_data"
    },
    {
     "data": {
      "text/plain": [
       "array([ 0,  7, 21,  8,  2,  3,  5, 10, 27])"
      ]
     },
     "metadata": {},
     "output_type": "display_data"
    }
   ],
   "source": [
    "pad('architecturalstyletypeid', 0, 'int64')"
   ]
  },
  {
   "cell_type": "code",
   "execution_count": 13,
   "metadata": {
    "scrolled": false
   },
   "outputs": [
    {
     "data": {
      "text/plain": [
       "'basementsqft'"
      ]
     },
     "metadata": {},
     "output_type": "display_data"
    },
    {
     "data": {
      "text/plain": [
       "array([   nan,   216.,   555.,   224.,   782.,   651.,   516.,   600.,\n",
       "         732.,  1145.,   220.,   420.,   688.,   144.,   540.,  1312.,\n",
       "         690.,   640.,   550.,    63.,   198.,  1120.,   924.,  1572.,\n",
       "        1035.,   195.,   544.,   498.,   176.,   360.,   154.,   240.,\n",
       "         616.,  1131.,   200.,  1016.,  1089.,  2443.,   276.,   396.,\n",
       "         149.,   168.,   495.,   208.,   560.,   939.,   704.,   460.,\n",
       "        1152.,   462.,  1904.,   888.,   170.,   625.,   450.,    72.,\n",
       "         252.,   637.,    96.,  1172.,  1464.,   787.,   501.,   473.,\n",
       "         318.,   112.,   394.,   985.,   169.,   400.,   826.,   780.,\n",
       "        1350.,   610.,  1528.,   255.,   164.,   315.,   836.,   630.,\n",
       "         160.,  1508.,   775.,   676.,   448.,   756.,   912.,   179.,\n",
       "         700.,   348.,   595.,   231.,   100.,   266.,   620.,   757.,\n",
       "         786.,   872.,   672.,   831.,  1544.,   946.,   180.,   313.,\n",
       "         314.,   440.,   528.,    36.,   320.,   515.,   196.,   119.,\n",
       "        3374.,   606.,   736.,   678.,  1282.,   135.,    64.,   506.,\n",
       "         414.,  1296.,  1197.,  1112.,   814.,   530.,   165.,  1314.,\n",
       "         352.,   282.,   293.,   805.,  2025.,   990.,   173.,   841.,\n",
       "         108.,   140.,   280.,   853.,   751.,   150.,  1226.,    25.,\n",
       "         384.,  1552.,   689.,   656.,   795.,  1560.,   899.,   864.,\n",
       "         234.,  1085.,   821.,  1448.,   980.,   502.,   405.,   438.,\n",
       "         162.,   766.,   459.,   392.,   972.,   107.,  3089.,   120.,\n",
       "        1040.,   456.,  1932.,  1601.,  1377.,   308.,  1483.,  1671.,\n",
       "         749.,    60.,   582.,   861.,   584.,   250.,   357.,  1224.,\n",
       "         142.,  1118.,    90.,   378.,  1369.,  2683.,   480.,   270.,\n",
       "         457.,   702.,   618.,  1515.,   354.,   988.,   644.,  1179.,\n",
       "         788.,   722.,  1488.,   339.,   726.,  1373.,  1391.,   375.,\n",
       "        1680.,  1023.,   900.,   485.,   680.,   576.,    68.,   260.,\n",
       "         364.,  1700.,   551.,   330.,   539.,   598.,   581.,   306.,\n",
       "         848.,   784.,   747.,   577.,   104.,   636.,   769.,   512.,\n",
       "         760.,   272.,  1056.,  1460.,   156.,   256.,   153.,   338.,\n",
       "          81.,   110.,   605.,   369.,  1194.,   432.,  2618.,   146.,\n",
       "         285.,   744.,   909.,   175.,    80.,  1252.,  1026.,   482.,\n",
       "          98.,   505.,  1232.,   765.,   376.,   897.,  1689.,   790.,\n",
       "         574.,   204.,  1060.,   225.,   238.,   699.,   910.,   921.,\n",
       "        1316.,  1852.,   340.,   648.,   572.,  1824.,    50.,   510.,\n",
       "        1088.,  1008.,  1977.,   455.,   385.,  3419.,   982.,   840.,\n",
       "         721.,  1348.,   368.,   767.,   327.,   130.,   559.,   116.,\n",
       "         295.,   474.,   374.,   561.,   334.,   763.,  1380.,  1365.,\n",
       "        1490.,   161.,   720.,   674.,   645.,   183.,  1151.,  1072.,\n",
       "         960.,  1403.,   402.,   819.,   884.,  1844.,   307.,  1818.,\n",
       "         742.,  1910.,   377.,   300.,   192.,  2168.,   406.,   642.,\n",
       "         802.,   458.,  1144.,   304.,   587.,   925.,    84.,  1747.,\n",
       "        1333.,   504.,   632.,   467.,  1157.,   764.,   380.,   835.,\n",
       "          30.,    83.,   324.,   395.,  2048.,   789.,   890.,   615.,\n",
       "          99.,   772.,   126.,   189.,   696.,   490.,   155.,   816.,\n",
       "        1280.,  2514.,   475.,   261.,   178.,   629.,  1213.,   370.,\n",
       "         568.,   575.,   416.,  1142.,   522.,   548.,   753.,  2322.,\n",
       "        1228.,   863.,   570.,    85.,  1063.,   500.,   408.,   538.,\n",
       "        1095.,   182.,  1636.,  1146.,   823.,   294.,   507.,   322.,\n",
       "        1196.,   386.,   800.,   288.,  1012.,   336.,   918.,  1170.,\n",
       "         923.,   801.,   602.,  1559.,   750.,  1030.,   935.,   554.,\n",
       "        2489.,  2485.,  1416.,   268.,   728.,   447.,   218.,   608.,\n",
       "        1117.,   752.,   735.,   624.,   794.,   312.,  1148.,   876.,\n",
       "         325.,  1889.,   494.,   817.,    45.,   316.,   768.,   362.,\n",
       "         671.,   549.,   296.,  1087.,  1551.,  1503.,  2376.,  1358.,\n",
       "         945.,  1230.,   830.,  1240.,  1344.,  1744.,  1180.,   815.,\n",
       "         132.,   929.,   254.,   210.,  1127.,   125.,   738.,   397.,\n",
       "         535.,   166.,   533.,  1007.,   442.,  1536.,   783.,   184.,\n",
       "         328.,  2143.,   373.,   599.,   723.,   564.,   774.,  1309.,\n",
       "        1809.,   579.,   932.,  1104.,   163.,  1122.,   190.,   228.,\n",
       "         436.,   969.,   454.,   585.,    69.,   323.,   203.,  1219.,\n",
       "         493.,   731.,   934.,   659.,  1047.,  1048.,  1272.,  8516.,\n",
       "        1254.,   423.,   133.,   669.,   222.,   211.,  1520.,  1093.,\n",
       "         954.,  1062.,   718.,   666.,  1575.,   621.,   209.,   825.,\n",
       "         866.,   832.,   497.,   365.,  1302.,  1453.,   903.,   437.,\n",
       "         646.,   660.,   273.,    20.,  1198.,   265.,   347.,   822.,\n",
       "          79.,   631.,   942.,   143.,   177.,   471.,   117.,  1244.,\n",
       "         302.,   355.,    48.,  1078.,   798.,   820.,   611.,  1341.,\n",
       "         673.,   727.,   519.,   596.,  1308.,   979.,  1725.,  1322.,\n",
       "        1178.,   880.,   350.,   187.,   343.,   896.,  2029.,  1969.,\n",
       "        1534.,   412.,   483.,   297.,  1080.,   552.,    55.,  3489.,\n",
       "         287.,   847.,   785.,   249.,  2221.,  1854.,    38.,   358.,\n",
       "        1903.,  1092.,   604.,   792.,   145.,   729.,   628.,   258.,\n",
       "         777.,   271.,   778.,  1665.,   212.,   734.,   685.,   128.,\n",
       "        1589.,  2244.,   650.,   952.,   588.,   477.,   956.,   771.,\n",
       "         961.,   264.,   403.,  3105.,  1440.,   427.,   468.,   269.,\n",
       "        1162.,  2004.,   662.,  2611.,  1276.,  1041.,   418.,   874.,\n",
       "         592.,  1321.,   425.,   667.,   486.,   892.,  1812.,   536.,\n",
       "         905.,  1222.,    70.,   520.,   895.,  1352.,   609.,   829.,\n",
       "         869.,  1000.,   465.,  1098.,  1668.,  1013.,   138.,   670.,\n",
       "         992.,   860.,  1386.,   509.,   532.,   993.,  1502.,  1292.,\n",
       "         677.,    88.,   472.,  1134.,   875.,   518.,   351.,  2314.,\n",
       "        1065.,  1106.,  1434.,   597.,    24.,   422.,  1646.,   590.,\n",
       "        1317.,  1303.,  1876.,  1176.,   221.,   658.,  1472.,   527.,\n",
       "         197.,  1420.,   466.,   913.,  1555.,   906.,  3112.,   898.,\n",
       "          42.,  2297.,  1521.,  1014.,  1208.,  1114.,  1288.,  2668.,\n",
       "        2026.,   185.,   470.,  1020.,  1218.,   827.,   740.,   686.,\n",
       "        1766.,  1427.,   361.,  1002.,   569.,   850.,  1491.,   345.,\n",
       "        1994.,   359.,   290.,   567.,  1070.,  1143.,   545.,  1225.,\n",
       "        1274.,   242.,   381.,    86.,   317.,  1204.,  1163.,  1462.,\n",
       "        3560.,  1137.,  2392.,   388.,   994.,   987.,   492.,  4122.,\n",
       "        1443.,   984.,    73.,   243.,   390.,   839.,  1586.,   692.,\n",
       "        1400.,   337.,   524.,  2440.,   441.,  1210.,  1674.,   808.,\n",
       "        1071.,   996.,   557.,   806.,   393.,    77.,   284.,   136.])"
      ]
     },
     "metadata": {},
     "output_type": "display_data"
    },
    {
     "data": {
      "text/plain": [
       "array([   0,  216,  555,  224,  782,  651,  516,  600,  732, 1145,  220,\n",
       "        420,  688,  144,  540, 1312,  690,  640,  550,   63,  198, 1120,\n",
       "        924, 1572, 1035,  195,  544,  498,  176,  360,  154,  240,  616,\n",
       "       1131,  200, 1016, 1089, 2443,  276,  396,  149,  168,  495,  208,\n",
       "        560,  939,  704,  460, 1152,  462, 1904,  888,  170,  625,  450,\n",
       "         72,  252,  637,   96, 1172, 1464,  787,  501,  473,  318,  112,\n",
       "        394,  985,  169,  400,  826,  780, 1350,  610, 1528,  255,  164,\n",
       "        315,  836,  630,  160, 1508,  775,  676,  448,  756,  912,  179,\n",
       "        700,  348,  595,  231,  100,  266,  620,  757,  786,  872,  672,\n",
       "        831, 1544,  946,  180,  313,  314,  440,  528,   36,  320,  515,\n",
       "        196,  119, 3374,  606,  736,  678, 1282,  135,   64,  506,  414,\n",
       "       1296, 1197, 1112,  814,  530,  165, 1314,  352,  282,  293,  805,\n",
       "       2025,  990,  173,  841,  108,  140,  280,  853,  751,  150, 1226,\n",
       "         25,  384, 1552,  689,  656,  795, 1560,  899,  864,  234, 1085,\n",
       "        821, 1448,  980,  502,  405,  438,  162,  766,  459,  392,  972,\n",
       "        107, 3089,  120, 1040,  456, 1932, 1601, 1377,  308, 1483, 1671,\n",
       "        749,   60,  582,  861,  584,  250,  357, 1224,  142, 1118,   90,\n",
       "        378, 1369, 2683,  480,  270,  457,  702,  618, 1515,  354,  988,\n",
       "        644, 1179,  788,  722, 1488,  339,  726, 1373, 1391,  375, 1680,\n",
       "       1023,  900,  485,  680,  576,   68,  260,  364, 1700,  551,  330,\n",
       "        539,  598,  581,  306,  848,  784,  747,  577,  104,  636,  769,\n",
       "        512,  760,  272, 1056, 1460,  156,  256,  153,  338,   81,  110,\n",
       "        605,  369, 1194,  432, 2618,  146,  285,  744,  909,  175,   80,\n",
       "       1252, 1026,  482,   98,  505, 1232,  765,  376,  897, 1689,  790,\n",
       "        574,  204, 1060,  225,  238,  699,  910,  921, 1316, 1852,  340,\n",
       "        648,  572, 1824,   50,  510, 1088, 1008, 1977,  455,  385, 3419,\n",
       "        982,  840,  721, 1348,  368,  767,  327,  130,  559,  116,  295,\n",
       "        474,  374,  561,  334,  763, 1380, 1365, 1490,  161,  720,  674,\n",
       "        645,  183, 1151, 1072,  960, 1403,  402,  819,  884, 1844,  307,\n",
       "       1818,  742, 1910,  377,  300,  192, 2168,  406,  642,  802,  458,\n",
       "       1144,  304,  587,  925,   84, 1747, 1333,  504,  632,  467, 1157,\n",
       "        764,  380,  835,   30,   83,  324,  395, 2048,  789,  890,  615,\n",
       "         99,  772,  126,  189,  696,  490,  155,  816, 1280, 2514,  475,\n",
       "        261,  178,  629, 1213,  370,  568,  575,  416, 1142,  522,  548,\n",
       "        753, 2322, 1228,  863,  570,   85, 1063,  500,  408,  538, 1095,\n",
       "        182, 1636, 1146,  823,  294,  507,  322, 1196,  386,  800,  288,\n",
       "       1012,  336,  918, 1170,  923,  801,  602, 1559,  750, 1030,  935,\n",
       "        554, 2489, 2485, 1416,  268,  728,  447,  218,  608, 1117,  752,\n",
       "        735,  624,  794,  312, 1148,  876,  325, 1889,  494,  817,   45,\n",
       "        316,  768,  362,  671,  549,  296, 1087, 1551, 1503, 2376, 1358,\n",
       "        945, 1230,  830, 1240, 1344, 1744, 1180,  815,  132,  929,  254,\n",
       "        210, 1127,  125,  738,  397,  535,  166,  533, 1007,  442, 1536,\n",
       "        783,  184,  328, 2143,  373,  599,  723,  564,  774, 1309, 1809,\n",
       "        579,  932, 1104,  163, 1122,  190,  228,  436,  969,  454,  585,\n",
       "         69,  323,  203, 1219,  493,  731,  934,  659, 1047, 1048, 1272,\n",
       "       8516, 1254,  423,  133,  669,  222,  211, 1520, 1093,  954, 1062,\n",
       "        718,  666, 1575,  621,  209,  825,  866,  832,  497,  365, 1302,\n",
       "       1453,  903,  437,  646,  660,  273,   20, 1198,  265,  347,  822,\n",
       "         79,  631,  942,  143,  177,  471,  117, 1244,  302,  355,   48,\n",
       "       1078,  798,  820,  611, 1341,  673,  727,  519,  596, 1308,  979,\n",
       "       1725, 1322, 1178,  880,  350,  187,  343,  896, 2029, 1969, 1534,\n",
       "        412,  483,  297, 1080,  552,   55, 3489,  287,  847,  785,  249,\n",
       "       2221, 1854,   38,  358, 1903, 1092,  604,  792,  145,  729,  628,\n",
       "        258,  777,  271,  778, 1665,  212,  734,  685,  128, 1589, 2244,\n",
       "        650,  952,  588,  477,  956,  771,  961,  264,  403, 3105, 1440,\n",
       "        427,  468,  269, 1162, 2004,  662, 2611, 1276, 1041,  418,  874,\n",
       "        592, 1321,  425,  667,  486,  892, 1812,  536,  905, 1222,   70,\n",
       "        520,  895, 1352,  609,  829,  869, 1000,  465, 1098, 1668, 1013,\n",
       "        138,  670,  992,  860, 1386,  509,  532,  993, 1502, 1292,  677,\n",
       "         88,  472, 1134,  875,  518,  351, 2314, 1065, 1106, 1434,  597,\n",
       "         24,  422, 1646,  590, 1317, 1303, 1876, 1176,  221,  658, 1472,\n",
       "        527,  197, 1420,  466,  913, 1555,  906, 3112,  898,   42, 2297,\n",
       "       1521, 1014, 1208, 1114, 1288, 2668, 2026,  185,  470, 1020, 1218,\n",
       "        827,  740,  686, 1766, 1427,  361, 1002,  569,  850, 1491,  345,\n",
       "       1994,  359,  290,  567, 1070, 1143,  545, 1225, 1274,  242,  381,\n",
       "         86,  317, 1204, 1163, 1462, 3560, 1137, 2392,  388,  994,  987,\n",
       "        492, 4122, 1443,  984,   73,  243,  390,  839, 1586,  692, 1400,\n",
       "        337,  524, 2440,  441, 1210, 1674,  808, 1071,  996,  557,  806,\n",
       "        393,   77,  284,  136])"
      ]
     },
     "metadata": {},
     "output_type": "display_data"
    }
   ],
   "source": [
    "pad('basementsqft', 0, 'int64')"
   ]
  },
  {
   "cell_type": "code",
   "execution_count": 15,
   "metadata": {
    "scrolled": false
   },
   "outputs": [
    {
     "data": {
      "text/plain": [
       "2.0"
      ]
     },
     "metadata": {},
     "output_type": "display_data"
    },
    {
     "data": {
      "text/plain": [
       "'bathroomcnt'"
      ]
     },
     "metadata": {},
     "output_type": "display_data"
    },
    {
     "data": {
      "text/plain": [
       "array([  0.  ,   2.  ,   4.  ,   3.  ,   1.  ,   2.5 ,   3.5 ,   5.  ,\n",
       "         1.5 ,   4.5 ,   7.5 ,   5.5 ,   6.  ,   7.  ,  10.  ,   8.  ,\n",
       "         9.  ,  12.  ,  11.  ,   8.5 ,   6.5 ,  13.  ,   9.5 ,  14.  ,\n",
       "        20.  ,  19.5 ,  15.  ,  10.5 ,  18.  ,  16.  ,   1.75,  17.  ,\n",
       "        19.  ,   0.5 ,  12.5 ,  11.5 ,  14.5 ])"
      ]
     },
     "metadata": {},
     "output_type": "display_data"
    },
    {
     "data": {
      "text/plain": [
       "array([  0.  ,   2.  ,   4.  ,   3.  ,   1.  ,   2.5 ,   3.5 ,   5.  ,\n",
       "         1.5 ,   4.5 ,   7.5 ,   5.5 ,   6.  ,   7.  ,  10.  ,   8.  ,\n",
       "         9.  ,  12.  ,  11.  ,   8.5 ,   6.5 ,  13.  ,   9.5 ,  14.  ,\n",
       "        20.  ,  19.5 ,  15.  ,  10.5 ,  18.  ,  16.  ,   1.75,  17.  ,\n",
       "        19.  ,   0.5 ,  12.5 ,  11.5 ,  14.5 ])"
      ]
     },
     "metadata": {},
     "output_type": "display_data"
    }
   ],
   "source": [
    "display(props['bathroomcnt'].median())\n",
    "pad('bathroomcnt', props['bathroomcnt'].median(), 'float64')"
   ]
  },
  {
   "cell_type": "code",
   "execution_count": 17,
   "metadata": {},
   "outputs": [
    {
     "data": {
      "text/plain": [
       "3.0"
      ]
     },
     "metadata": {},
     "output_type": "display_data"
    },
    {
     "data": {
      "text/plain": [
       "'bedroomcnt'"
      ]
     },
     "metadata": {},
     "output_type": "display_data"
    },
    {
     "data": {
      "text/plain": [
       "array([  0.,   4.,   5.,   2.,   3.,   1.,   6.,   7.,   8.,  12.,  11.,\n",
       "         9.,  10.,  14.,  16.,  13.,  nan,  15.,  17.,  18.,  20.,  19.])"
      ]
     },
     "metadata": {},
     "output_type": "display_data"
    },
    {
     "data": {
      "text/plain": [
       "array([  0.,   4.,   5.,   2.,   3.,   1.,   6.,   7.,   8.,  12.,  11.,\n",
       "         9.,  10.,  14.,  16.,  13.,  15.,  17.,  18.,  20.,  19.])"
      ]
     },
     "metadata": {},
     "output_type": "display_data"
    }
   ],
   "source": [
    "display(props['bedroomcnt'].median())\n",
    "pad('bedroomcnt', props['bedroomcnt'].median(), 'float64')"
   ]
  },
  {
   "cell_type": "code",
   "execution_count": 20,
   "metadata": {
    "scrolled": true
   },
   "outputs": [
    {
     "data": {
      "text/plain": [
       "'buildingclasstypeid'"
      ]
     },
     "metadata": {},
     "output_type": "display_data"
    },
    {
     "data": {
      "text/plain": [
       "array([ nan,   3.,   4.,   5.,   2.,   1.])"
      ]
     },
     "metadata": {},
     "output_type": "display_data"
    },
    {
     "data": {
      "text/plain": [
       "array([0, 3, 4, 5, 2, 1])"
      ]
     },
     "metadata": {},
     "output_type": "display_data"
    }
   ],
   "source": [
    "pad('buildingclasstypeid', 0, 'int64')"
   ]
  },
  {
   "cell_type": "code",
   "execution_count": 21,
   "metadata": {
    "scrolled": true
   },
   "outputs": [
    {
     "data": {
      "text/plain": [
       "'buildingqualitytypeid'"
      ]
     },
     "metadata": {},
     "output_type": "display_data"
    },
    {
     "data": {
      "text/plain": [
       "array([ nan,   7.,   4.,  10.,   1.,  12.,   8.,   3.,   6.,   9.,   5.,\n",
       "        11.,   2.])"
      ]
     },
     "metadata": {},
     "output_type": "display_data"
    },
    {
     "data": {
      "text/plain": [
       "array([ 0,  7,  4, 10,  1, 12,  8,  3,  6,  9,  5, 11,  2])"
      ]
     },
     "metadata": {},
     "output_type": "display_data"
    }
   ],
   "source": [
    "pad('buildingqualitytypeid', 0, 'int64')"
   ]
  },
  {
   "cell_type": "code",
   "execution_count": 25,
   "metadata": {
    "scrolled": true
   },
   "outputs": [
    {
     "data": {
      "text/plain": [
       "'decktypeid'"
      ]
     },
     "metadata": {},
     "output_type": "display_data"
    },
    {
     "data": {
      "text/plain": [
       "array([ 0, 66])"
      ]
     },
     "metadata": {},
     "output_type": "display_data"
    },
    {
     "data": {
      "text/plain": [
       "array([ 0, 66])"
      ]
     },
     "metadata": {},
     "output_type": "display_data"
    }
   ],
   "source": [
    "pad('decktypeid', 0, 'int64')"
   ]
  },
  {
   "cell_type": "code",
   "execution_count": 49,
   "metadata": {
    "collapsed": true,
    "scrolled": true
   },
   "outputs": [],
   "source": [
    "area_features = [\n",
    "#                  'lotsizesquarefeet', \n",
    "                 'finishedsquarefeet6', \n",
    "                 'finishedsquarefeet15', \n",
    "                 'finishedsquarefeet13', \n",
    "                 'calculatedfinishedsquarefeet', \n",
    "                 'finishedsquarefeet12', \n",
    "                 'finishedfloor1squarefeet',\n",
    "                 'finishedsquarefeet50',\n",
    "                ]\n",
    "\n",
    "area_features.reverse()\n",
    "\n",
    "def fill_null(col1, col2):\n",
    "#     display(\"{} <== {}\".format(col1, col2))\n",
    "    clean[col1] = clean[col1].fillna(clean[col2])\n",
    "\n",
    "for col in area_features:\n",
    "    clean[col] = props[col]\n",
    "    \n",
    "# fill_null('lotsizesquarefeet', 'finishedsquarefeet15')\n",
    "    \n",
    "\n",
    "\n",
    "# describe_values(clean.loc[:, area_features])\n",
    "    \n",
    "# for col1, col2 in itertools.permutations(area_features, 2):\n",
    "#     fill_null(col1, col2)\n",
    "    \n",
    "# describe_values(clean.loc[:, area_features])\n",
    "\n",
    "# for col in area_features:\n",
    "#     pad(col, clean[col].mean(), 'float32')\n",
    "\n",
    "# describe_values(clean.loc[:, area_features])"
   ]
  },
  {
   "cell_type": "code",
   "execution_count": 53,
   "metadata": {},
   "outputs": [
    {
     "name": "stdout",
     "output_type": "stream",
     "text": [
      "[0]\ttrain-mae:0.48802\tvalid-mae:0.480594\n",
      "Multiple eval metrics have been passed: 'valid-mae' will be used for early stopping.\n",
      "\n",
      "Will train until valid-mae hasn't improved in 100 rounds.\n",
      "[20]\ttrain-mae:0.332731\tvalid-mae:0.325219\n",
      "[40]\ttrain-mae:0.231465\tvalid-mae:0.224249\n",
      "[60]\ttrain-mae:0.16641\tvalid-mae:0.159674\n",
      "[80]\ttrain-mae:0.125338\tvalid-mae:0.119143\n",
      "[100]\ttrain-mae:0.10027\tvalid-mae:0.09451\n",
      "[120]\ttrain-mae:0.08563\tvalid-mae:0.080356\n",
      "[140]\ttrain-mae:0.07753\tvalid-mae:0.072822\n",
      "[160]\ttrain-mae:0.0732\tvalid-mae:0.069003\n",
      "[180]\ttrain-mae:0.070928\tvalid-mae:0.067156\n",
      "[200]\ttrain-mae:0.069716\tvalid-mae:0.066286\n",
      "[220]\ttrain-mae:0.069073\tvalid-mae:0.065886\n",
      "[240]\ttrain-mae:0.06872\tvalid-mae:0.065702\n",
      "[260]\ttrain-mae:0.068519\tvalid-mae:0.065617\n",
      "[280]\ttrain-mae:0.068399\tvalid-mae:0.065578\n",
      "[300]\ttrain-mae:0.068326\tvalid-mae:0.065559\n",
      "[320]\ttrain-mae:0.06828\tvalid-mae:0.06555\n",
      "[340]\ttrain-mae:0.068251\tvalid-mae:0.065545\n",
      "[360]\ttrain-mae:0.068232\tvalid-mae:0.065542\n",
      "[380]\ttrain-mae:0.06822\tvalid-mae:0.065541\n",
      "[400]\ttrain-mae:0.068212\tvalid-mae:0.06554\n",
      "[420]\ttrain-mae:0.068206\tvalid-mae:0.065539\n",
      "[440]\ttrain-mae:0.068203\tvalid-mae:0.065539\n",
      "[460]\ttrain-mae:0.0682\tvalid-mae:0.065539\n",
      "[480]\ttrain-mae:0.068199\tvalid-mae:0.065539\n",
      "[500]\ttrain-mae:0.068198\tvalid-mae:0.065538\n",
      "[520]\ttrain-mae:0.068197\tvalid-mae:0.065538\n",
      "[540]\ttrain-mae:0.068197\tvalid-mae:0.065538\n",
      "[560]\ttrain-mae:0.068196\tvalid-mae:0.065538\n",
      "[580]\ttrain-mae:0.068196\tvalid-mae:0.065538\n",
      "Stopping. Best iteration:\n",
      "[491]\ttrain-mae:0.068198\tvalid-mae:0.065538\n",
      "\n"
     ]
    },
    {
     "data": {
      "text/plain": [
       "<xgboost.core.Booster at 0x7f9604c41828>"
      ]
     },
     "execution_count": 53,
     "metadata": {},
     "output_type": "execute_result"
    },
    {
     "data": {
      "image/png": "[encoded data removed]",
      "text/plain": [
       "<matplotlib.figure.Figure at 0x7f9604abcbe0>"
      ]
     },
     "metadata": {},
     "output_type": "display_data"
    }
   ],
   "source": [
    "clean['area_avg'] = props[area_features].mean(axis=1)\n",
    "clean['finishedsquarefeet12'] = props['finishedsquarefeet12']\n",
    "ratio = clean['finishedsquarefeet12'].mean() / clean['lotsizesquarefeet'].mean()\n",
    "clean['finishedsquarefeet51'] = clean['finishedsquarefeet12'].fillna(clean['lotsizesquarefeet'] * ratio)\n",
    "# describe_values(clean)\n",
    "train_predict(clean)"
   ]
  },
  {
   "cell_type": "code",
   "execution_count": 96,
   "metadata": {},
   "outputs": [
    {
     "data": {
      "text/plain": [
       "'fireplacecnt'"
      ]
     },
     "metadata": {},
     "output_type": "display_data"
    },
    {
     "data": {
      "text/plain": [
       "array([ nan,   3.,   1.,   2.,   4.,   9.,   5.,   7.,   6.,   8.])"
      ]
     },
     "metadata": {},
     "output_type": "display_data"
    },
    {
     "data": {
      "text/plain": [
       "array([0, 3, 1, 2, 4, 9, 5, 7, 6, 8])"
      ]
     },
     "metadata": {},
     "output_type": "display_data"
    }
   ],
   "source": [
    "pad('fireplacecnt', 0, 'int64')"
   ]
  },
  {
   "cell_type": "code",
   "execution_count": 97,
   "metadata": {},
   "outputs": [
    {
     "data": {
      "text/plain": [
       "'fullbathcnt'"
      ]
     },
     "metadata": {},
     "output_type": "display_data"
    },
    {
     "data": {
      "text/plain": [
       "array([ nan,   2.,   4.,   3.,   1.,   5.,   7.,   6.,  10.,   8.,   9.,\n",
       "        12.,  11.,  13.,  14.,  20.,  19.,  15.,  18.,  16.,  17.])"
      ]
     },
     "metadata": {},
     "output_type": "display_data"
    },
    {
     "data": {
      "text/plain": [
       "array([ 0,  2,  4,  3,  1,  5,  7,  6, 10,  8,  9, 12, 11, 13, 14, 20, 19,\n",
       "       15, 18, 16, 17])"
      ]
     },
     "metadata": {},
     "output_type": "display_data"
    }
   ],
   "source": [
    "pad('fullbathcnt', 0, 'int64')"
   ]
  },
  {
   "cell_type": "code",
   "execution_count": 99,
   "metadata": {
    "scrolled": true
   },
   "outputs": [
    {
     "data": {
      "text/plain": [
       "'garagecarcnt'"
      ]
     },
     "metadata": {},
     "output_type": "display_data"
    },
    {
     "data": {
      "text/plain": [
       "array([ nan,   2.,   4.,   1.,   3.,   0.,   5.,   7.,   6.,   8.,   9.,\n",
       "        12.,  11.,  10.,  13.,  14.,  15.,  25.,  21.,  18.,  17.,  24.,\n",
       "        19.,  16.,  20.])"
      ]
     },
     "metadata": {},
     "output_type": "display_data"
    },
    {
     "data": {
      "text/plain": [
       "array([ 0,  2,  4,  1,  3,  5,  7,  6,  8,  9, 12, 11, 10, 13, 14, 15, 25,\n",
       "       21, 18, 17, 24, 19, 16, 20])"
      ]
     },
     "metadata": {},
     "output_type": "display_data"
    }
   ],
   "source": [
    "pad('garagecarcnt', 0, 'int64')"
   ]
  },
  {
   "cell_type": "code",
   "execution_count": 102,
   "metadata": {},
   "outputs": [
    {
     "data": {
      "text/plain": [
       "'garagetotalsqft'"
      ]
     },
     "metadata": {},
     "output_type": "display_data"
    },
    {
     "data": {
      "text/plain": [
       "array([   nan,   420.,   525., ...,  2482.,  4568.,  1974.])"
      ]
     },
     "metadata": {},
     "output_type": "display_data"
    },
    {
     "data": {
      "text/plain": [
       "array([    0.,   420.,   525., ...,  2482.,  4568.,  1974.])"
      ]
     },
     "metadata": {},
     "output_type": "display_data"
    }
   ],
   "source": [
    "pad('garagetotalsqft', 0, 'float32')"
   ]
  },
  {
   "cell_type": "code",
   "execution_count": 119,
   "metadata": {
    "scrolled": false
   },
   "outputs": [
    {
     "data": {
      "text/plain": [
       "'hashottuborspa'"
      ]
     },
     "metadata": {},
     "output_type": "display_data"
    },
    {
     "data": {
      "text/plain": [
       "array([False,  True], dtype=bool)"
      ]
     },
     "metadata": {},
     "output_type": "display_data"
    },
    {
     "data": {
      "text/plain": [
       "array([False,  True], dtype=bool)"
      ]
     },
     "metadata": {},
     "output_type": "display_data"
    },
    {
     "data": {
      "text/plain": [
       "'fireplaceflag'"
      ]
     },
     "metadata": {},
     "output_type": "display_data"
    },
    {
     "data": {
      "text/plain": [
       "array([False,  True], dtype=bool)"
      ]
     },
     "metadata": {},
     "output_type": "display_data"
    },
    {
     "data": {
      "text/plain": [
       "array([False,  True], dtype=bool)"
      ]
     },
     "metadata": {},
     "output_type": "display_data"
    },
    {
     "data": {
      "text/plain": [
       "'taxdelinquencyflag'"
      ]
     },
     "metadata": {},
     "output_type": "display_data"
    },
    {
     "data": {
      "text/plain": [
       "array([False,  True], dtype=bool)"
      ]
     },
     "metadata": {},
     "output_type": "display_data"
    },
    {
     "data": {
      "text/plain": [
       "array([False,  True], dtype=bool)"
      ]
     },
     "metadata": {},
     "output_type": "display_data"
    }
   ],
   "source": [
    "clean['hashottuborspa'] = (props['hashottuborspa'] == True)\n",
    "pad('hashottuborspa')\n",
    "clean['fireplaceflag'] = (props['fireplaceflag'] == True)\n",
    "pad('fireplaceflag')\n",
    "clean['taxdelinquencyflag'] = (props['taxdelinquencyflag'] == 'Y')\n",
    "pad('taxdelinquencyflag')"
   ]
  },
  {
   "cell_type": "code",
   "execution_count": 121,
   "metadata": {},
   "outputs": [
    {
     "data": {
      "text/plain": [
       "'heatingorsystemtypeid'"
      ]
     },
     "metadata": {},
     "output_type": "display_data"
    },
    {
     "data": {
      "text/plain": [
       "array([ nan,   2.,   7.,  20.,   6.,  13.,  18.,  24.,  12.,  10.,   1.,\n",
       "        14.,  21.,  11.,  19.])"
      ]
     },
     "metadata": {},
     "output_type": "display_data"
    },
    {
     "data": {
      "text/plain": [
       "array([ 0,  2,  7, 20,  6, 13, 18, 24, 12, 10,  1, 14, 21, 11, 19])"
      ]
     },
     "metadata": {},
     "output_type": "display_data"
    }
   ],
   "source": [
    "pad('heatingorsystemtypeid', 0, np.int64)"
   ]
  },
  {
   "cell_type": "code",
   "execution_count": 123,
   "metadata": {
    "scrolled": true
   },
   "outputs": [
    {
     "data": {
      "text/plain": [
       "'poolcnt'"
      ]
     },
     "metadata": {},
     "output_type": "display_data"
    },
    {
     "data": {
      "text/plain": [
       "array([False,  True], dtype=bool)"
      ]
     },
     "metadata": {},
     "output_type": "display_data"
    },
    {
     "data": {
      "text/plain": [
       "array([0, 1])"
      ]
     },
     "metadata": {},
     "output_type": "display_data"
    }
   ],
   "source": [
    "pad('poolcnt', 0, np.int64)"
   ]
  },
  {
   "cell_type": "code",
   "execution_count": 149,
   "metadata": {
    "scrolled": true
   },
   "outputs": [
    {
     "data": {
      "text/plain": [
       "'poolsizesum'"
      ]
     },
     "metadata": {},
     "output_type": "display_data"
    },
    {
     "data": {
      "text/plain": [
       "array([    nan,    800.,    450.,    503.,    735.,    903.,    400.,\n",
       "           70.,    648.,    645.,    475.,    324.,    610.,    840.,\n",
       "          576.,    720.,    640.,    449.,    702.,    448.,    420.,\n",
       "          385.,    629.,    782.,    360.,    578.,    480.,    496.,\n",
       "          380.,    490.,    810.,    390.,    529.,    429.,    560.,\n",
       "          691.,    555.,    512.,    723.,    570.,    518.,     64.,\n",
       "          680.,    350.,    627.,    541.,    404.,    320.,    630.,\n",
       "          600.,    684.,    376.,    750.,    352.,    590.,    410.,\n",
       "          900.,    761.,    525.,    469.,    342.,    442.,    620.,\n",
       "          540.,    660.,    462.,    440.,    220.,    579.,   1064.,\n",
       "          588.,    563.,    384.,    739.,    486.,    435.,    405.,\n",
       "          554.,    599.,    888.,    264.,    700.,    756.,    544.,\n",
       "          527.,    375.,    520.,    472.,    632.,    495.,    272.,\n",
       "          614.,    500.,    457.,    467.,    325.,    432.,    510.,\n",
       "          795.,    558.,    575.,    370.,    580.,    392.,    550.,\n",
       "          538.,    240.,    300.,    557.,    583.,    902.,    584.,\n",
       "          271.,    407.,    284.,    337.,    675.,   1800.,    248.,\n",
       "          470.,    441.,    830.,    635.,    460.,    340.,    612.,\n",
       "          336.,    622.,    401.,    415.,    171.,    592.,    624.,\n",
       "          730.,    650.,    465.,    391.,    318.,    616.,    551.,\n",
       "          417.,    412.,    574.,    712.,   2176.,    572.,   1021.,\n",
       "          569.,    710.,    489.,    990.,    308.,    565.,    330.,\n",
       "          473.,    471.,    257.,    428.,    312.,    341.,    585.,\n",
       "          522.,    595.,    567.,    696.,    298.,    444.,    511.,\n",
       "          351.,    403.,    602.,    504.,    694.,    760.,    477.,\n",
       "          589.,    568.,    322.,    482.,    250.,    396.,    606.,\n",
       "          328.,   1028.,    593.,    455.,    406.,    431.,    438.,\n",
       "          556.,    492.,   1000.,    408.,    703.,    547.,    305.,\n",
       "          437.,    528.,    608.,    623.,    414.,    747.,    530.,\n",
       "          418.,    597.,    112.,    780.,    670.,    505.,    913.,\n",
       "          850.,    946.,    307.,    399.,    446.,    796.,     28.,\n",
       "          770.,    485.,    508.,    434.,    354.,     55.,    646.,\n",
       "          531.,    397.,    960.,    270.,    603.,   1100.,    665.,\n",
       "          395.,    666.,    311.,    542.,    476.,    842.,     50.,\n",
       "          372.,    140.,    722.,    216.,    365.,    671.,    885.,\n",
       "          436.,    736.,    443.,    776.,    425.,    778.,   1368.,\n",
       "          362.,    820.,    445.,   1063.,    748.,    468.,    358.,\n",
       "         1145.,    619.,    678.,    430.,    506.,    561.,    726.,\n",
       "          740.,    382.,    494.,    316.,    864.,    545.,    655.,\n",
       "          200.,    463.,    519.,    345.,    836.,    631.,    676.,\n",
       "          416.,    705.,    798.,    478.,    377.,    535.,    532.,\n",
       "          422.,   1250.,    128.,    625.,    369.,   1142.,   1749.,\n",
       "          920.,    288.,    638.,    499.,    509.,    204.,   1056.,\n",
       "          451.,    413.,    526.,    644.,    394.,    801.,    304.,\n",
       "          848.,    742.,    695.,    364.,    389.,    768.,    924.,\n",
       "          880.,     36.,    548.,    359.,    546.,    802.,    484.,\n",
       "          361.,    294.,    275.,    464.,   1050.,    615.,    491.,\n",
       "         1035.,    454.,    738.,    207.,    598.,    524.,    461.,\n",
       "          516.,    699.,    286.,    459.,    466.,    704.,    383.,\n",
       "          402.,    573.,    100.,    378.,    515.,    255.,    317.,\n",
       "          165.,    651.,    501.,    483.,    749.,    427.,    227.,\n",
       "          150.,    252.,    658.,    315.,    419.,    792.,    474.,\n",
       "          297.,    731.,    727.,    716.,    447.,   2576.,    617.,\n",
       "          706.,    824.,    332.,    698.,    386.,    577.,    327.,\n",
       "          426.,    586.,    605.,    387.,    662.,    812.,    226.,\n",
       "          280.,    745.,    707.,    299.,    409.,    453.,    493.,\n",
       "         1076.,    333.,     54.,    566.,    344.,    553.,    912.,\n",
       "          634.,    537.,    893.,    287.,     75.,    388.,    346.,\n",
       "           90.,     93.,    672.,    653.,    601.,    785.,    674.,\n",
       "          714.,    326.,    253.,    230.,    163.,    777.,    290.,\n",
       "          968.,    398.,    876.,    238.,    870.,    353.,    594.,\n",
       "         1150.,    755.,     78.,    228.,    368.,    371.,    718.,\n",
       "          819.,    604.,   1700.,   1500.,    160.,    636.,    356.,\n",
       "          355.,    488.,    439.,    687.,    367.,    582.,    135.,\n",
       "          663.,   1080.,   1004.,    101.,    456.,    657.,    788.,\n",
       "          133.,     19.,    514.,    498.,    487.,   1400.,    559.,\n",
       "          562.,    656.,    673.,    690.,    762.,    534.,    310.,\n",
       "          497.,    543.,    349.,    769.,    639.,    664.,    958.,\n",
       "          816.,     48.,    175.,    237.,    533.,    974.,    411.,\n",
       "          891.,    683.,    936.,    688.,    260.,    502.,    725.,\n",
       "          536.,    521.,    734.,   1040.,    628.,    752.,    338.,\n",
       "          693.,    897.,    393.,    564.,    685.,    828.,    210.,\n",
       "          148.,   1125.,    523.,    192.,    245.,    659.,    295.,\n",
       "          956.,    433.,    884.,    273.,    119.,    481.,    839.,\n",
       "         1625.,    189.,    424.,    374.,    641.,    313.,    319.,\n",
       "          348.,    549.,   1375.,    746.,   1060.,    265.,    234.,\n",
       "           49.,    587.,    321.,    244.,    581.,    154.,    682.,\n",
       "         1300.,    758.,    423.,    196.,    262.,    507.,    779.,\n",
       "          225.,    846.,    741.,    136.,    381.,    951.,    552.,\n",
       "          224.,   1140.,   1148.,    832.,    815.,     31.,    168.,\n",
       "          668.,   1200.,     91.,    259.,    267.,    458.,   1070.,\n",
       "          517.,   1020.,    882.,    860.,   1364.,    539.,   1089.,\n",
       "          791.,   1310.,    347.,    291.,    607.,    909.,    180.,\n",
       "          513.,    807.,    339.,    335.,    314.,    302.,     72.,\n",
       "          366.,    813.,    268.,   1001.,    729.,    765.,    856.,\n",
       "         1131.,    421.,    940.,    790.,    591.,   1007.,    357.,\n",
       "          306.,   1725.,    261.,   2050.,    868.,    201.,   1008.,\n",
       "          652.,    764.,   1379.,    875.,    890.,    804.,   1012.,\n",
       "           20.,    277.,    301.,   1568.,    930.,   1090.,    775.,\n",
       "          254.,    190.,    479.,    811.,    198.,    943.,    155.,\n",
       "          753.,    772.,    733.,    923.,    732.,     96.,    686.,\n",
       "          649.,    966.,     38.,    184.,    784.,    851.,    363.,\n",
       "          751.,    633.,    945.,    596.,    950.,   1225.,    251.,\n",
       "          643.,    209.,    642.,   1024.,    971.,    104.,    667.,\n",
       "          452.,    161.,    669.,   1026.,    129.,    952.,    144.,\n",
       "          654.,    208.,    331.,    942.,   1920.,   1128.,   1058.,\n",
       "          711.,    172.,    862.,    766.,    911.,    621.,    728.,\n",
       "          661.,     40.,    697.,    194.,   1075.,    108.,    961.,\n",
       "          289.,    692.,    837.,    948.,    852.,    825.,    774.,\n",
       "         1440.,     63.,   1170.,    130.,    232.,    218.,    256.,\n",
       "         1036.,   1124.,    571.,   1164.,   1480.,    721.,    783.,\n",
       "         1232.,    759.,   3200.,   1638.,   1152.,    787.,    187.,\n",
       "         1094.,    231.,    906.,    626.,    105.,   1071.,   1220.,\n",
       "          110.,    181.,    292.,    263.,   1153.,    162.,    980.,\n",
       "          838.,    235.,   1190.,   1222.,    932.,    927.,  17410.,\n",
       "          170.,    786.,    896.,   1088.,    611.,    309.,    637.,\n",
       "          205.,    794.,   1116.,     80.,   1109.,     66.,    618.,\n",
       "          283.,    285.,    879.,    814.,    233.,   1120.,   1336.,\n",
       "          797.,    805.,     39.,    185.,   1210.,    247.,    679.,\n",
       "         1550.,     98.,    221.,   1052.,   1750.,     84.,    719.,\n",
       "          681.,   2106.,    243.,    282.,    918.,    177.,    164.,\n",
       "           35.,   3600.,    843.,    334.,    999.,    861.,    883.,\n",
       "          743.,    717.,    343.,   1158.,    120.,    613.,    858.,\n",
       "          724.,   1015.,    689.,   1285.,    855.,    793.,   1716.,\n",
       "         1620.,    817.,     56.,     42.,    379.,    215.,    152.,\n",
       "           24.,   1136.,    142.,    744.,    373.,    219.,   1456.,\n",
       "         1462.,    988.,   1202.,   1584.,   1258.,    981.,    866.,\n",
       "         1350.,   1280.,    931.,   1235.,   1037.,   3315.,   1176.,\n",
       "         1121.,    818.,    925.,    975.,   1065.,   3510.,    609.,\n",
       "         3848.,    296.,   1275.,   1558.,    835.,    877.,   1261.,\n",
       "          647.,    156.,    984.,    969.,    904.,   1239.,   1576.,\n",
       "         1010.,    713.,    831.,    993.,    169.,    907.,    126.,\n",
       "          865.,   1084.,    242.,   4000.,    276.,    178.,    806.,\n",
       "         1230.,    754.,   1069.,     60.,    808.,    125.,   1196.,\n",
       "          138.,    763.,    293.,   1214.,    799.,    857.,    781.,\n",
       "           32.,    773.,   1288.,    910.,    102.,    915.,    998.,\n",
       "          737.,   1240.,    955.,   1282.,     65.,    191.,    908.,\n",
       "          982.,   1067.,    677.,    708.,   1025.,   1016.,    222.,\n",
       "         1537.,   1276.,    970.,    928.,    892.,   1032.,    197.,\n",
       "           30.,   1566.,    821.,   6000.,    176.])"
      ]
     },
     "metadata": {},
     "output_type": "display_data"
    },
    {
     "data": {
      "text/plain": [
       "array([    0,   800,   450,   503,   735,   903,   400,    70,   648,\n",
       "         645,   475,   324,   610,   840,   576,   720,   640,   449,\n",
       "         702,   448,   420,   385,   629,   782,   360,   578,   480,\n",
       "         496,   380,   490,   810,   390,   529,   429,   560,   691,\n",
       "         555,   512,   723,   570,   518,    64,   680,   350,   627,\n",
       "         541,   404,   320,   630,   600,   684,   376,   750,   352,\n",
       "         590,   410,   900,   761,   525,   469,   342,   442,   620,\n",
       "         540,   660,   462,   440,   220,   579,  1064,   588,   563,\n",
       "         384,   739,   486,   435,   405,   554,   599,   888,   264,\n",
       "         700,   756,   544,   527,   375,   520,   472,   632,   495,\n",
       "         272,   614,   500,   457,   467,   325,   432,   510,   795,\n",
       "         558,   575,   370,   580,   392,   550,   538,   240,   300,\n",
       "         557,   583,   902,   584,   271,   407,   284,   337,   675,\n",
       "        1800,   248,   470,   441,   830,   635,   460,   340,   612,\n",
       "         336,   622,   401,   415,   171,   592,   624,   730,   650,\n",
       "         465,   391,   318,   616,   551,   417,   412,   574,   712,\n",
       "        2176,   572,  1021,   569,   710,   489,   990,   308,   565,\n",
       "         330,   473,   471,   257,   428,   312,   341,   585,   522,\n",
       "         595,   567,   696,   298,   444,   511,   351,   403,   602,\n",
       "         504,   694,   760,   477,   589,   568,   322,   482,   250,\n",
       "         396,   606,   328,  1028,   593,   455,   406,   431,   438,\n",
       "         556,   492,  1000,   408,   703,   547,   305,   437,   528,\n",
       "         608,   623,   414,   747,   530,   418,   597,   112,   780,\n",
       "         670,   505,   913,   850,   946,   307,   399,   446,   796,\n",
       "          28,   770,   485,   508,   434,   354,    55,   646,   531,\n",
       "         397,   960,   270,   603,  1100,   665,   395,   666,   311,\n",
       "         542,   476,   842,    50,   372,   140,   722,   216,   365,\n",
       "         671,   885,   436,   736,   443,   776,   425,   778,  1368,\n",
       "         362,   820,   445,  1063,   748,   468,   358,  1145,   619,\n",
       "         678,   430,   506,   561,   726,   740,   382,   494,   316,\n",
       "         864,   545,   655,   200,   463,   519,   345,   836,   631,\n",
       "         676,   416,   705,   798,   478,   377,   535,   532,   422,\n",
       "        1250,   128,   625,   369,  1142,  1749,   920,   288,   638,\n",
       "         499,   509,   204,  1056,   451,   413,   526,   644,   394,\n",
       "         801,   304,   848,   742,   695,   364,   389,   768,   924,\n",
       "         880,    36,   548,   359,   546,   802,   484,   361,   294,\n",
       "         275,   464,  1050,   615,   491,  1035,   454,   738,   207,\n",
       "         598,   524,   461,   516,   699,   286,   459,   466,   704,\n",
       "         383,   402,   573,   100,   378,   515,   255,   317,   165,\n",
       "         651,   501,   483,   749,   427,   227,   150,   252,   658,\n",
       "         315,   419,   792,   474,   297,   731,   727,   716,   447,\n",
       "        2576,   617,   706,   824,   332,   698,   386,   577,   327,\n",
       "         426,   586,   605,   387,   662,   812,   226,   280,   745,\n",
       "         707,   299,   409,   453,   493,  1076,   333,    54,   566,\n",
       "         344,   553,   912,   634,   537,   893,   287,    75,   388,\n",
       "         346,    90,    93,   672,   653,   601,   785,   674,   714,\n",
       "         326,   253,   230,   163,   777,   290,   968,   398,   876,\n",
       "         238,   870,   353,   594,  1150,   755,    78,   228,   368,\n",
       "         371,   718,   819,   604,  1700,  1500,   160,   636,   356,\n",
       "         355,   488,   439,   687,   367,   582,   135,   663,  1080,\n",
       "        1004,   101,   456,   657,   788,   133,    19,   514,   498,\n",
       "         487,  1400,   559,   562,   656,   673,   690,   762,   534,\n",
       "         310,   497,   543,   349,   769,   639,   664,   958,   816,\n",
       "          48,   175,   237,   533,   974,   411,   891,   683,   936,\n",
       "         688,   260,   502,   725,   536,   521,   734,  1040,   628,\n",
       "         752,   338,   693,   897,   393,   564,   685,   828,   210,\n",
       "         148,  1125,   523,   192,   245,   659,   295,   956,   433,\n",
       "         884,   273,   119,   481,   839,  1625,   189,   424,   374,\n",
       "         641,   313,   319,   348,   549,  1375,   746,  1060,   265,\n",
       "         234,    49,   587,   321,   244,   581,   154,   682,  1300,\n",
       "         758,   423,   196,   262,   507,   779,   225,   846,   741,\n",
       "         136,   381,   951,   552,   224,  1140,  1148,   832,   815,\n",
       "          31,   168,   668,  1200,    91,   259,   267,   458,  1070,\n",
       "         517,  1020,   882,   860,  1364,   539,  1089,   791,  1310,\n",
       "         347,   291,   607,   909,   180,   513,   807,   339,   335,\n",
       "         314,   302,    72,   366,   813,   268,  1001,   729,   765,\n",
       "         856,  1131,   421,   940,   790,   591,  1007,   357,   306,\n",
       "        1725,   261,  2050,   868,   201,  1008,   652,   764,  1379,\n",
       "         875,   890,   804,  1012,    20,   277,   301,  1568,   930,\n",
       "        1090,   775,   254,   190,   479,   811,   198,   943,   155,\n",
       "         753,   772,   733,   923,   732,    96,   686,   649,   966,\n",
       "          38,   184,   784,   851,   363,   751,   633,   945,   596,\n",
       "         950,  1225,   251,   643,   209,   642,  1024,   971,   104,\n",
       "         667,   452,   161,   669,  1026,   129,   952,   144,   654,\n",
       "         208,   331,   942,  1920,  1128,  1058,   711,   172,   862,\n",
       "         766,   911,   621,   728,   661,    40,   697,   194,  1075,\n",
       "         108,   961,   289,   692,   837,   948,   852,   825,   774,\n",
       "        1440,    63,  1170,   130,   232,   218,   256,  1036,  1124,\n",
       "         571,  1164,  1480,   721,   783,  1232,   759,  3200,  1638,\n",
       "        1152,   787,   187,  1094,   231,   906,   626,   105,  1071,\n",
       "        1220,   110,   181,   292,   263,  1153,   162,   980,   838,\n",
       "         235,  1190,  1222,   932,   927, 17410,   170,   786,   896,\n",
       "        1088,   611,   309,   637,   205,   794,  1116,    80,  1109,\n",
       "          66,   618,   283,   285,   879,   814,   233,  1120,  1336,\n",
       "         797,   805,    39,   185,  1210,   247,   679,  1550,    98,\n",
       "         221,  1052,  1750,    84,   719,   681,  2106,   243,   282,\n",
       "         918,   177,   164,    35,  3600,   843,   334,   999,   861,\n",
       "         883,   743,   717,   343,  1158,   120,   613,   858,   724,\n",
       "        1015,   689,  1285,   855,   793,  1716,  1620,   817,    56,\n",
       "          42,   379,   215,   152,    24,  1136,   142,   744,   373,\n",
       "         219,  1456,  1462,   988,  1202,  1584,  1258,   981,   866,\n",
       "        1350,  1280,   931,  1235,  1037,  3315,  1176,  1121,   818,\n",
       "         925,   975,  1065,  3510,   609,  3848,   296,  1275,  1558,\n",
       "         835,   877,  1261,   647,   156,   984,   969,   904,  1239,\n",
       "        1576,  1010,   713,   831,   993,   169,   907,   126,   865,\n",
       "        1084,   242,  4000,   276,   178,   806,  1230,   754,  1069,\n",
       "          60,   808,   125,  1196,   138,   763,   293,  1214,   799,\n",
       "         857,   781,    32,   773,  1288,   910,   102,   915,   998,\n",
       "         737,  1240,   955,  1282,    65,   191,   908,   982,  1067,\n",
       "         677,   708,  1025,  1016,   222,  1537,  1276,   970,   928,\n",
       "         892,  1032,   197,    30,  1566,   821,  6000,   176])"
      ]
     },
     "metadata": {},
     "output_type": "display_data"
    }
   ],
   "source": [
    "clean['poolsizesum'] = props['poolsizesum']\n",
    "clean.loc[clean.poolcnt > 0,('poolsizesum')] = clean.loc[clean.poolcnt > 0,('poolsizesum')].fillna(props['poolsizesum'])\n",
    "pad('poolsizesum', 0, 'int64')"
   ]
  },
  {
   "cell_type": "code",
   "execution_count": 153,
   "metadata": {
    "scrolled": true
   },
   "outputs": [
    {
     "data": {
      "text/plain": [
       "'pooltypeid10'"
      ]
     },
     "metadata": {},
     "output_type": "display_data"
    },
    {
     "data": {
      "text/plain": [
       "array([ nan,   1.])"
      ]
     },
     "metadata": {},
     "output_type": "display_data"
    },
    {
     "data": {
      "text/plain": [
       "array([0, 1])"
      ]
     },
     "metadata": {},
     "output_type": "display_data"
    },
    {
     "data": {
      "text/plain": [
       "'pooltypeid2'"
      ]
     },
     "metadata": {},
     "output_type": "display_data"
    },
    {
     "data": {
      "text/plain": [
       "array([ nan,   1.])"
      ]
     },
     "metadata": {},
     "output_type": "display_data"
    },
    {
     "data": {
      "text/plain": [
       "array([0, 1])"
      ]
     },
     "metadata": {},
     "output_type": "display_data"
    },
    {
     "data": {
      "text/plain": [
       "'pooltypeid7'"
      ]
     },
     "metadata": {},
     "output_type": "display_data"
    },
    {
     "data": {
      "text/plain": [
       "array([ nan,   1.])"
      ]
     },
     "metadata": {},
     "output_type": "display_data"
    },
    {
     "data": {
      "text/plain": [
       "array([0, 1])"
      ]
     },
     "metadata": {},
     "output_type": "display_data"
    }
   ],
   "source": [
    "pad('pooltypeid10', 0, 'int64')\n",
    "pad('pooltypeid2', 0, 'int64')\n",
    "pad('pooltypeid7', 0, 'int64')"
   ]
  },
  {
   "cell_type": "code",
   "execution_count": 155,
   "metadata": {
    "scrolled": true
   },
   "outputs": [
    {
     "data": {
      "text/plain": [
       "'regionidcity'"
      ]
     },
     "metadata": {},
     "output_type": "display_data"
    },
    {
     "data": {
      "text/plain": [
       "array([  37688.,   51617.,   12447.,  396054.,   47547.,      nan,\n",
       "         54311.,   40227.,    5534.,   45888.,   33612.,   26964.,\n",
       "         17882.,   25953.,   33837.,   48424.,   45457.,   47019.,\n",
       "         50749.,   30187.,  118994.,   47762.,    6395.,   39076.,\n",
       "         16961.,   10774.,   46298.,   44116.,   27103.,   54722.,\n",
       "         53027.,   33311.,   13716.,   53636.,   14634.,   39306.,\n",
       "         20008.,   51861.,   11626.,   53162.,  113576.,   24384.,\n",
       "         26483.,   12520.,  118217.,   54212.,   45398.,   24174.,\n",
       "         30267.,   21778.,   10723.,  118878.,   22827.,    5465.,\n",
       "         36502.,   45602.,   39308.,   33836.,   24245.,   32923.,\n",
       "         37015.,   24812.,   34780.,   52650.,   46314.,   15554.,\n",
       "         33840.,   47568.,   42967.,   27491.,   16764.,   26531.,\n",
       "         25218.,   32380.,   53571.,   17150.,   13091.,   26965.,\n",
       "         27110.,   34278.,   34543.,   13150.,   40110.,   18098.,\n",
       "         13311.,   51239.,   34037.,   47198.,   25974.,   41673.,\n",
       "         53655.,   42091.,    9840.,   38980.,   10734.,   29189.,\n",
       "         13232.,   16677.,   25621.,   25468.,  116042.,  396550.,\n",
       "         42150.,  118875.,  113412.,   46178.,   55753.,   19177.,\n",
       "         29712.,   10389.,   56780.,    6021.,  272578.,   50677.,\n",
       "         27183.,   54299.,  114834.,   14111.,  396551.,   47695.,\n",
       "         46080.,  396053.,  118914.,  118880.,   32616.,   31134.,\n",
       "         30399.,    4406.,   32753.,   15237.,   12292.,   44833.,\n",
       "         54352.,    3491.,   54053.,   33727.,    6822.,   33312.,\n",
       "        118225.,  114828.,   18874.,  396556.,  118895.,   18875.,\n",
       "        118694.,   14542.,   30908.,   25271.,   10241.,   14906.,\n",
       "         24435.,   34636.,   33252.,   52842.,   13693.,   10608.,\n",
       "         24832.,   40081.,   16389.,    8384.,   38032.,   21412.,\n",
       "         54970.,   40009.,   25458.,   12773.,   37086.,   25459.,\n",
       "         17686.,   17597.,   46098.,   52835.,   21395.,   41484.,\n",
       "         32927.,   10815.,   25535.,   27512.,    6285.,   24797.,\n",
       "         40633.,   48211.,    3980.,   37882.,   47913.,   36078.,   19202.])"
      ]
     },
     "metadata": {},
     "output_type": "display_data"
    },
    {
     "data": {
      "text/plain": [
       "array([  37688.,   51617.,   12447.,  396054.,   47547.,      nan,\n",
       "         54311.,   40227.,    5534.,   45888.,   33612.,   26964.,\n",
       "         17882.,   25953.,   33837.,   48424.,   45457.,   47019.,\n",
       "         50749.,   30187.,  118994.,   47762.,    6395.,   39076.,\n",
       "         16961.,   10774.,   46298.,   44116.,   27103.,   54722.,\n",
       "         53027.,   33311.,   13716.,   53636.,   14634.,   39306.,\n",
       "         20008.,   51861.,   11626.,   53162.,  113576.,   24384.,\n",
       "         26483.,   12520.,  118217.,   54212.,   45398.,   24174.,\n",
       "         30267.,   21778.,   10723.,  118878.,   22827.,    5465.,\n",
       "         36502.,   45602.,   39308.,   33836.,   24245.,   32923.,\n",
       "         37015.,   24812.,   34780.,   52650.,   46314.,   15554.,\n",
       "         33840.,   47568.,   42967.,   27491.,   16764.,   26531.,\n",
       "         25218.,   32380.,   53571.,   17150.,   13091.,   26965.,\n",
       "         27110.,   34278.,   34543.,   13150.,   40110.,   18098.,\n",
       "         13311.,   51239.,   34037.,   47198.,   25974.,   41673.,\n",
       "         53655.,   42091.,    9840.,   38980.,   10734.,   29189.,\n",
       "         13232.,   16677.,   25621.,   25468.,  116042.,  396550.,\n",
       "         42150.,  118875.,  113412.,   46178.,   55753.,   19177.,\n",
       "         29712.,   10389.,   56780.,    6021.,  272578.,   50677.,\n",
       "         27183.,   54299.,  114834.,   14111.,  396551.,   47695.,\n",
       "         46080.,  396053.,  118914.,  118880.,   32616.,   31134.,\n",
       "         30399.,    4406.,   32753.,   15237.,   12292.,   44833.,\n",
       "         54352.,    3491.,   54053.,   33727.,    6822.,   33312.,\n",
       "        118225.,  114828.,   18874.,  396556.,  118895.,   18875.,\n",
       "        118694.,   14542.,   30908.,   25271.,   10241.,   14906.,\n",
       "         24435.,   34636.,   33252.,   52842.,   13693.,   10608.,\n",
       "         24832.,   40081.,   16389.,    8384.,   38032.,   21412.,\n",
       "         54970.,   40009.,   25458.,   12773.,   37086.,   25459.,\n",
       "         17686.,   17597.,   46098.,   52835.,   21395.,   41484.,\n",
       "         32927.,   10815.,   25535.,   27512.,    6285.,   24797.,\n",
       "         40633.,   48211.,    3980.,   37882.,   47913.,   36078.,   19202.])"
      ]
     },
     "metadata": {},
     "output_type": "display_data"
    }
   ],
   "source": [
    "pad('regionidcity')"
   ]
  },
  {
   "cell_type": "code",
   "execution_count": 33,
   "metadata": {},
   "outputs": [
    {
     "data": {
      "text/plain": [
       "'regionidcity'"
      ]
     },
     "metadata": {},
     "output_type": "display_data"
    },
    {
     "data": {
      "text/plain": [
       "array([  37688.,   51617.,   12447.,  396054.,   47547.,   54311.,\n",
       "         40227.,    5534.,   45888.,   33612.,   26964.,   12520.,\n",
       "         17882.,   25953.,   33837.,   48424.,   45457.,   47019.,\n",
       "         50749.,   30187.,  118994.,   47762.,    6395.,   39076.,\n",
       "         16961.,   10774.,   46298.,   44116.,   27103.,   54722.,\n",
       "         53027.,   33311.,   13716.,   53636.,   14634.,   39306.,\n",
       "         20008.,   51861.,   11626.,   53162.,  113576.,   24384.,\n",
       "         26483.,  118217.,   54212.,   45398.,   24174.,   30267.,\n",
       "         21778.,   10723.,  118878.,   22827.,    5465.,   36502.,\n",
       "         45602.,   39308.,   33836.,   24245.,   32923.,   37015.,\n",
       "         24812.,   34780.,   52650.,   46314.,   38032.,   15554.,\n",
       "         33840.,   47568.,   42967.,   27491.,   16764.,   26531.,\n",
       "         25218.,   32380.,   53571.,   17150.,   13091.,   26965.,\n",
       "         27110.,   34278.,   34543.,   13150.,   25468.,   42150.,\n",
       "         40110.,   18098.,   13311.,   51239.,   34037.,   47198.,\n",
       "         25974.,   41673.,   53655.,   42091.,    9840.,   38980.,\n",
       "         10734.,   29189.,   13232.,   16677.,   25621.,  116042.,\n",
       "        396550.,  118875.,  113412.,   46178.,   55753.,   19177.,\n",
       "         29712.,   10389.,   56780.,    6021.,  272578.,   50677.,\n",
       "         27183.,   54299.,  114834.,   14111.,  396551.,   47695.,\n",
       "         46080.,  396053.,  118914.,   32616.,  118880.,   31134.,\n",
       "         30399.,    4406.,   32753.,   15237.,   12292.,   44833.,\n",
       "         54352.,    3491.,   54053.,   33727.,    6822.,   33312.,\n",
       "        118225.,  114828.,   18874.,  396556.,  118895.,   18875.,\n",
       "        118694.,   14542.,   30908.,   25271.,   10241.,   14906.,\n",
       "         24435.,   34636.,   33252.,   52842.,   13693.,   10608.,\n",
       "         24832.,   40081.,   16389.,    8384.,   21412.,   54970.,\n",
       "         40009.,   25458.,   12773.,   37086.,   25459.,   17686.,\n",
       "         17597.,   46098.,   52835.,   21395.,   41484.,   32927.,\n",
       "         10815.,   25535.,   27512.,    6285.,   24797.,   40633.,\n",
       "         48211.,    3980.,   37882.,   47913.,   36078.,   19202.,      nan])"
      ]
     },
     "metadata": {},
     "output_type": "display_data"
    },
    {
     "data": {
      "text/plain": [
       "array([  37688.,   51617.,   12447.,  396054.,   47547.,   54311.,\n",
       "         40227.,    5534.,   45888.,   33612.,   26964.,   12520.,\n",
       "         17882.,   25953.,   33837.,   48424.,   45457.,   47019.,\n",
       "         50749.,   30187.,  118994.,   47762.,    6395.,   39076.,\n",
       "         16961.,   10774.,   46298.,   44116.,   27103.,   54722.,\n",
       "         53027.,   33311.,   13716.,   53636.,   14634.,   39306.,\n",
       "         20008.,   51861.,   11626.,   53162.,  113576.,   24384.,\n",
       "         26483.,  118217.,   54212.,   45398.,   24174.,   30267.,\n",
       "         21778.,   10723.,  118878.,   22827.,    5465.,   36502.,\n",
       "         45602.,   39308.,   33836.,   24245.,   32923.,   37015.,\n",
       "         24812.,   34780.,   52650.,   46314.,   38032.,   15554.,\n",
       "         33840.,   47568.,   42967.,   27491.,   16764.,   26531.,\n",
       "         25218.,   32380.,   53571.,   17150.,   13091.,   26965.,\n",
       "         27110.,   34278.,   34543.,   13150.,   25468.,   42150.,\n",
       "         40110.,   18098.,   13311.,   51239.,   34037.,   47198.,\n",
       "         25974.,   41673.,   53655.,   42091.,    9840.,   38980.,\n",
       "         10734.,   29189.,   13232.,   16677.,   25621.,  116042.,\n",
       "        396550.,  118875.,  113412.,   46178.,   55753.,   19177.,\n",
       "         29712.,   10389.,   56780.,    6021.,  272578.,   50677.,\n",
       "         27183.,   54299.,  114834.,   14111.,  396551.,   47695.,\n",
       "         46080.,  396053.,  118914.,   32616.,  118880.,   31134.,\n",
       "         30399.,    4406.,   32753.,   15237.,   12292.,   44833.,\n",
       "         54352.,    3491.,   54053.,   33727.,    6822.,   33312.,\n",
       "        118225.,  114828.,   18874.,  396556.,  118895.,   18875.,\n",
       "        118694.,   14542.,   30908.,   25271.,   10241.,   14906.,\n",
       "         24435.,   34636.,   33252.,   52842.,   13693.,   10608.,\n",
       "         24832.,   40081.,   16389.,    8384.,   21412.,   54970.,\n",
       "         40009.,   25458.,   12773.,   37086.,   25459.,   17686.,\n",
       "         17597.,   46098.,   52835.,   21395.,   41484.,   32927.,\n",
       "         10815.,   25535.,   27512.,    6285.,   24797.,   40633.,\n",
       "         48211.,    3980.,   37882.,   47913.,   36078.,   19202.,      nan])"
      ]
     },
     "metadata": {},
     "output_type": "display_data"
    },
    {
     "data": {
      "text/plain": [
       "'latitude'"
      ]
     },
     "metadata": {},
     "output_type": "display_data"
    },
    {
     "data": {
      "text/plain": [
       "array([ 34144442.,  34140430.,  33989359., ...,  33525063.,  33634876.,\n",
       "              nan])"
      ]
     },
     "metadata": {},
     "output_type": "display_data"
    },
    {
     "data": {
      "text/plain": [
       "array([ 34144442.,  34140430.,  33989359., ...,  33525063.,  33634876.,\n",
       "              nan])"
      ]
     },
     "metadata": {},
     "output_type": "display_data"
    },
    {
     "data": {
      "text/plain": [
       "'longitude'"
      ]
     },
     "metadata": {},
     "output_type": "display_data"
    },
    {
     "data": {
      "text/plain": [
       "array([ -1.18654084e+08,  -1.18625364e+08,  -1.18394633e+08, ...,\n",
       "        -1.18845451e+08,  -1.17801513e+08,              nan])"
      ]
     },
     "metadata": {},
     "output_type": "display_data"
    },
    {
     "data": {
      "text/plain": [
       "array([ -1.18654084e+08,  -1.18625364e+08,  -1.18394633e+08, ...,\n",
       "        -1.18845451e+08,  -1.17801513e+08,              nan])"
      ]
     },
     "metadata": {},
     "output_type": "display_data"
    },
    {
     "data": {
      "text/html": [
       "<div>\n",
       "<style>\n",
       "    .dataframe thead tr:only-child th {\n",
       "        text-align: right;\n",
       "    }\n",
       "\n",
       "    .dataframe thead th {\n",
       "        text-align: left;\n",
       "    }\n",
       "\n",
       "    .dataframe tbody tr th {\n",
       "        vertical-align: top;\n",
       "    }\n",
       "</style>\n",
       "<table border=\"1\" class=\"dataframe\">\n",
       "  <thead>\n",
       "    <tr style=\"text-align: right;\">\n",
       "      <th></th>\n",
       "      <th>parcelid</th>\n",
       "      <th>airconditioningtypeid</th>\n",
       "      <th>architecturalstyletypeid</th>\n",
       "      <th>basementsqft</th>\n",
       "      <th>bathroomcnt</th>\n",
       "      <th>bedroomcnt</th>\n",
       "      <th>buildingclasstypeid</th>\n",
       "      <th>buildingqualitytypeid</th>\n",
       "      <th>calculatedbathnbr</th>\n",
       "      <th>decktypeid</th>\n",
       "      <th>...</th>\n",
       "      <th>numberofstories</th>\n",
       "      <th>fireplaceflag</th>\n",
       "      <th>structuretaxvaluedollarcnt</th>\n",
       "      <th>taxvaluedollarcnt</th>\n",
       "      <th>assessmentyear</th>\n",
       "      <th>landtaxvaluedollarcnt</th>\n",
       "      <th>taxamount</th>\n",
       "      <th>taxdelinquencyflag</th>\n",
       "      <th>taxdelinquencyyear</th>\n",
       "      <th>censustractandblock</th>\n",
       "    </tr>\n",
       "  </thead>\n",
       "  <tbody>\n",
       "    <tr>\n",
       "      <th>0</th>\n",
       "      <td>10754147</td>\n",
       "      <td>NaN</td>\n",
       "      <td>NaN</td>\n",
       "      <td>NaN</td>\n",
       "      <td>0.0</td>\n",
       "      <td>0.0</td>\n",
       "      <td>NaN</td>\n",
       "      <td>NaN</td>\n",
       "      <td>NaN</td>\n",
       "      <td>NaN</td>\n",
       "      <td>...</td>\n",
       "      <td>NaN</td>\n",
       "      <td>NaN</td>\n",
       "      <td>NaN</td>\n",
       "      <td>9.0</td>\n",
       "      <td>2015.0</td>\n",
       "      <td>9.0</td>\n",
       "      <td>NaN</td>\n",
       "      <td>NaN</td>\n",
       "      <td>NaN</td>\n",
       "      <td>NaN</td>\n",
       "    </tr>\n",
       "    <tr>\n",
       "      <th>1</th>\n",
       "      <td>10759547</td>\n",
       "      <td>NaN</td>\n",
       "      <td>NaN</td>\n",
       "      <td>NaN</td>\n",
       "      <td>0.0</td>\n",
       "      <td>0.0</td>\n",
       "      <td>NaN</td>\n",
       "      <td>NaN</td>\n",
       "      <td>NaN</td>\n",
       "      <td>NaN</td>\n",
       "      <td>...</td>\n",
       "      <td>NaN</td>\n",
       "      <td>NaN</td>\n",
       "      <td>NaN</td>\n",
       "      <td>27516.0</td>\n",
       "      <td>2015.0</td>\n",
       "      <td>27516.0</td>\n",
       "      <td>NaN</td>\n",
       "      <td>NaN</td>\n",
       "      <td>NaN</td>\n",
       "      <td>NaN</td>\n",
       "    </tr>\n",
       "    <tr>\n",
       "      <th>2</th>\n",
       "      <td>10843547</td>\n",
       "      <td>NaN</td>\n",
       "      <td>NaN</td>\n",
       "      <td>NaN</td>\n",
       "      <td>0.0</td>\n",
       "      <td>0.0</td>\n",
       "      <td>NaN</td>\n",
       "      <td>NaN</td>\n",
       "      <td>NaN</td>\n",
       "      <td>NaN</td>\n",
       "      <td>...</td>\n",
       "      <td>NaN</td>\n",
       "      <td>NaN</td>\n",
       "      <td>650756.0</td>\n",
       "      <td>1413387.0</td>\n",
       "      <td>2015.0</td>\n",
       "      <td>762631.0</td>\n",
       "      <td>20800.37</td>\n",
       "      <td>NaN</td>\n",
       "      <td>NaN</td>\n",
       "      <td>NaN</td>\n",
       "    </tr>\n",
       "    <tr>\n",
       "      <th>3</th>\n",
       "      <td>10859147</td>\n",
       "      <td>NaN</td>\n",
       "      <td>NaN</td>\n",
       "      <td>NaN</td>\n",
       "      <td>0.0</td>\n",
       "      <td>0.0</td>\n",
       "      <td>3.0</td>\n",
       "      <td>7.0</td>\n",
       "      <td>NaN</td>\n",
       "      <td>NaN</td>\n",
       "      <td>...</td>\n",
       "      <td>1.0</td>\n",
       "      <td>NaN</td>\n",
       "      <td>571346.0</td>\n",
       "      <td>1156834.0</td>\n",
       "      <td>2015.0</td>\n",
       "      <td>585488.0</td>\n",
       "      <td>14557.57</td>\n",
       "      <td>NaN</td>\n",
       "      <td>NaN</td>\n",
       "      <td>NaN</td>\n",
       "    </tr>\n",
       "    <tr>\n",
       "      <th>4</th>\n",
       "      <td>10879947</td>\n",
       "      <td>NaN</td>\n",
       "      <td>NaN</td>\n",
       "      <td>NaN</td>\n",
       "      <td>0.0</td>\n",
       "      <td>0.0</td>\n",
       "      <td>4.0</td>\n",
       "      <td>NaN</td>\n",
       "      <td>NaN</td>\n",
       "      <td>NaN</td>\n",
       "      <td>...</td>\n",
       "      <td>NaN</td>\n",
       "      <td>NaN</td>\n",
       "      <td>193796.0</td>\n",
       "      <td>433491.0</td>\n",
       "      <td>2015.0</td>\n",
       "      <td>239695.0</td>\n",
       "      <td>5725.17</td>\n",
       "      <td>NaN</td>\n",
       "      <td>NaN</td>\n",
       "      <td>NaN</td>\n",
       "    </tr>\n",
       "    <tr>\n",
       "      <th>5</th>\n",
       "      <td>10898347</td>\n",
       "      <td>NaN</td>\n",
       "      <td>NaN</td>\n",
       "      <td>NaN</td>\n",
       "      <td>0.0</td>\n",
       "      <td>0.0</td>\n",
       "      <td>4.0</td>\n",
       "      <td>7.0</td>\n",
       "      <td>NaN</td>\n",
       "      <td>NaN</td>\n",
       "      <td>...</td>\n",
       "      <td>1.0</td>\n",
       "      <td>NaN</td>\n",
       "      <td>176383.0</td>\n",
       "      <td>283315.0</td>\n",
       "      <td>2015.0</td>\n",
       "      <td>106932.0</td>\n",
       "      <td>3661.28</td>\n",
       "      <td>NaN</td>\n",
       "      <td>NaN</td>\n",
       "      <td>NaN</td>\n",
       "    </tr>\n",
       "    <tr>\n",
       "      <th>6</th>\n",
       "      <td>10933547</td>\n",
       "      <td>NaN</td>\n",
       "      <td>NaN</td>\n",
       "      <td>NaN</td>\n",
       "      <td>0.0</td>\n",
       "      <td>0.0</td>\n",
       "      <td>NaN</td>\n",
       "      <td>NaN</td>\n",
       "      <td>NaN</td>\n",
       "      <td>NaN</td>\n",
       "      <td>...</td>\n",
       "      <td>NaN</td>\n",
       "      <td>NaN</td>\n",
       "      <td>397945.0</td>\n",
       "      <td>554573.0</td>\n",
       "      <td>2015.0</td>\n",
       "      <td>156628.0</td>\n",
       "      <td>6773.34</td>\n",
       "      <td>NaN</td>\n",
       "      <td>NaN</td>\n",
       "      <td>NaN</td>\n",
       "    </tr>\n",
       "    <tr>\n",
       "      <th>7</th>\n",
       "      <td>10940747</td>\n",
       "      <td>NaN</td>\n",
       "      <td>NaN</td>\n",
       "      <td>NaN</td>\n",
       "      <td>0.0</td>\n",
       "      <td>0.0</td>\n",
       "      <td>NaN</td>\n",
       "      <td>NaN</td>\n",
       "      <td>NaN</td>\n",
       "      <td>NaN</td>\n",
       "      <td>...</td>\n",
       "      <td>1.0</td>\n",
       "      <td>NaN</td>\n",
       "      <td>101998.0</td>\n",
       "      <td>688486.0</td>\n",
       "      <td>2015.0</td>\n",
       "      <td>586488.0</td>\n",
       "      <td>7857.84</td>\n",
       "      <td>NaN</td>\n",
       "      <td>NaN</td>\n",
       "      <td>NaN</td>\n",
       "    </tr>\n",
       "    <tr>\n",
       "      <th>8</th>\n",
       "      <td>10954547</td>\n",
       "      <td>NaN</td>\n",
       "      <td>NaN</td>\n",
       "      <td>NaN</td>\n",
       "      <td>0.0</td>\n",
       "      <td>0.0</td>\n",
       "      <td>NaN</td>\n",
       "      <td>NaN</td>\n",
       "      <td>NaN</td>\n",
       "      <td>NaN</td>\n",
       "      <td>...</td>\n",
       "      <td>NaN</td>\n",
       "      <td>NaN</td>\n",
       "      <td>NaN</td>\n",
       "      <td>9.0</td>\n",
       "      <td>2015.0</td>\n",
       "      <td>9.0</td>\n",
       "      <td>NaN</td>\n",
       "      <td>NaN</td>\n",
       "      <td>NaN</td>\n",
       "      <td>NaN</td>\n",
       "    </tr>\n",
       "    <tr>\n",
       "      <th>9</th>\n",
       "      <td>10976347</td>\n",
       "      <td>NaN</td>\n",
       "      <td>NaN</td>\n",
       "      <td>NaN</td>\n",
       "      <td>0.0</td>\n",
       "      <td>0.0</td>\n",
       "      <td>3.0</td>\n",
       "      <td>7.0</td>\n",
       "      <td>NaN</td>\n",
       "      <td>NaN</td>\n",
       "      <td>...</td>\n",
       "      <td>1.0</td>\n",
       "      <td>NaN</td>\n",
       "      <td>218440.0</td>\n",
       "      <td>261201.0</td>\n",
       "      <td>2015.0</td>\n",
       "      <td>42761.0</td>\n",
       "      <td>4054.76</td>\n",
       "      <td>NaN</td>\n",
       "      <td>NaN</td>\n",
       "      <td>NaN</td>\n",
       "    </tr>\n",
       "    <tr>\n",
       "      <th>10</th>\n",
       "      <td>11073947</td>\n",
       "      <td>NaN</td>\n",
       "      <td>NaN</td>\n",
       "      <td>NaN</td>\n",
       "      <td>0.0</td>\n",
       "      <td>0.0</td>\n",
       "      <td>4.0</td>\n",
       "      <td>NaN</td>\n",
       "      <td>NaN</td>\n",
       "      <td>NaN</td>\n",
       "      <td>...</td>\n",
       "      <td>1.0</td>\n",
       "      <td>NaN</td>\n",
       "      <td>245834.0</td>\n",
       "      <td>430208.0</td>\n",
       "      <td>2015.0</td>\n",
       "      <td>184374.0</td>\n",
       "      <td>6014.18</td>\n",
       "      <td>NaN</td>\n",
       "      <td>NaN</td>\n",
       "      <td>NaN</td>\n",
       "    </tr>\n",
       "    <tr>\n",
       "      <th>11</th>\n",
       "      <td>11114347</td>\n",
       "      <td>NaN</td>\n",
       "      <td>NaN</td>\n",
       "      <td>NaN</td>\n",
       "      <td>0.0</td>\n",
       "      <td>0.0</td>\n",
       "      <td>NaN</td>\n",
       "      <td>NaN</td>\n",
       "      <td>NaN</td>\n",
       "      <td>NaN</td>\n",
       "      <td>...</td>\n",
       "      <td>NaN</td>\n",
       "      <td>NaN</td>\n",
       "      <td>NaN</td>\n",
       "      <td>9.0</td>\n",
       "      <td>2015.0</td>\n",
       "      <td>9.0</td>\n",
       "      <td>NaN</td>\n",
       "      <td>NaN</td>\n",
       "      <td>NaN</td>\n",
       "      <td>NaN</td>\n",
       "    </tr>\n",
       "    <tr>\n",
       "      <th>12</th>\n",
       "      <td>11116947</td>\n",
       "      <td>NaN</td>\n",
       "      <td>NaN</td>\n",
       "      <td>NaN</td>\n",
       "      <td>0.0</td>\n",
       "      <td>0.0</td>\n",
       "      <td>NaN</td>\n",
       "      <td>NaN</td>\n",
       "      <td>NaN</td>\n",
       "      <td>NaN</td>\n",
       "      <td>...</td>\n",
       "      <td>NaN</td>\n",
       "      <td>NaN</td>\n",
       "      <td>NaN</td>\n",
       "      <td>171200.0</td>\n",
       "      <td>2015.0</td>\n",
       "      <td>171200.0</td>\n",
       "      <td>4690.68</td>\n",
       "      <td>NaN</td>\n",
       "      <td>NaN</td>\n",
       "      <td>NaN</td>\n",
       "    </tr>\n",
       "    <tr>\n",
       "      <th>13</th>\n",
       "      <td>11142747</td>\n",
       "      <td>NaN</td>\n",
       "      <td>NaN</td>\n",
       "      <td>NaN</td>\n",
       "      <td>0.0</td>\n",
       "      <td>0.0</td>\n",
       "      <td>NaN</td>\n",
       "      <td>NaN</td>\n",
       "      <td>NaN</td>\n",
       "      <td>NaN</td>\n",
       "      <td>...</td>\n",
       "      <td>NaN</td>\n",
       "      <td>NaN</td>\n",
       "      <td>NaN</td>\n",
       "      <td>4265.0</td>\n",
       "      <td>2015.0</td>\n",
       "      <td>4265.0</td>\n",
       "      <td>NaN</td>\n",
       "      <td>NaN</td>\n",
       "      <td>NaN</td>\n",
       "      <td>NaN</td>\n",
       "    </tr>\n",
       "    <tr>\n",
       "      <th>14</th>\n",
       "      <td>11193347</td>\n",
       "      <td>NaN</td>\n",
       "      <td>NaN</td>\n",
       "      <td>NaN</td>\n",
       "      <td>0.0</td>\n",
       "      <td>0.0</td>\n",
       "      <td>NaN</td>\n",
       "      <td>NaN</td>\n",
       "      <td>NaN</td>\n",
       "      <td>NaN</td>\n",
       "      <td>...</td>\n",
       "      <td>NaN</td>\n",
       "      <td>NaN</td>\n",
       "      <td>NaN</td>\n",
       "      <td>10.0</td>\n",
       "      <td>2015.0</td>\n",
       "      <td>10.0</td>\n",
       "      <td>NaN</td>\n",
       "      <td>NaN</td>\n",
       "      <td>NaN</td>\n",
       "      <td>NaN</td>\n",
       "    </tr>\n",
       "    <tr>\n",
       "      <th>15</th>\n",
       "      <td>11215747</td>\n",
       "      <td>NaN</td>\n",
       "      <td>NaN</td>\n",
       "      <td>NaN</td>\n",
       "      <td>0.0</td>\n",
       "      <td>0.0</td>\n",
       "      <td>NaN</td>\n",
       "      <td>NaN</td>\n",
       "      <td>NaN</td>\n",
       "      <td>NaN</td>\n",
       "      <td>...</td>\n",
       "      <td>NaN</td>\n",
       "      <td>NaN</td>\n",
       "      <td>NaN</td>\n",
       "      <td>10.0</td>\n",
       "      <td>2015.0</td>\n",
       "      <td>10.0</td>\n",
       "      <td>NaN</td>\n",
       "      <td>NaN</td>\n",
       "      <td>NaN</td>\n",
       "      <td>NaN</td>\n",
       "    </tr>\n",
       "    <tr>\n",
       "      <th>16</th>\n",
       "      <td>11229347</td>\n",
       "      <td>NaN</td>\n",
       "      <td>NaN</td>\n",
       "      <td>NaN</td>\n",
       "      <td>0.0</td>\n",
       "      <td>0.0</td>\n",
       "      <td>NaN</td>\n",
       "      <td>NaN</td>\n",
       "      <td>NaN</td>\n",
       "      <td>NaN</td>\n",
       "      <td>...</td>\n",
       "      <td>NaN</td>\n",
       "      <td>NaN</td>\n",
       "      <td>NaN</td>\n",
       "      <td>2077.0</td>\n",
       "      <td>2015.0</td>\n",
       "      <td>2077.0</td>\n",
       "      <td>174.21</td>\n",
       "      <td>NaN</td>\n",
       "      <td>NaN</td>\n",
       "      <td>NaN</td>\n",
       "    </tr>\n",
       "    <tr>\n",
       "      <th>17</th>\n",
       "      <td>11287347</td>\n",
       "      <td>NaN</td>\n",
       "      <td>NaN</td>\n",
       "      <td>NaN</td>\n",
       "      <td>0.0</td>\n",
       "      <td>0.0</td>\n",
       "      <td>4.0</td>\n",
       "      <td>7.0</td>\n",
       "      <td>NaN</td>\n",
       "      <td>NaN</td>\n",
       "      <td>...</td>\n",
       "      <td>NaN</td>\n",
       "      <td>NaN</td>\n",
       "      <td>32654.0</td>\n",
       "      <td>62424.0</td>\n",
       "      <td>2015.0</td>\n",
       "      <td>29770.0</td>\n",
       "      <td>2330.24</td>\n",
       "      <td>NaN</td>\n",
       "      <td>NaN</td>\n",
       "      <td>NaN</td>\n",
       "    </tr>\n",
       "    <tr>\n",
       "      <th>18</th>\n",
       "      <td>11288547</td>\n",
       "      <td>NaN</td>\n",
       "      <td>NaN</td>\n",
       "      <td>NaN</td>\n",
       "      <td>0.0</td>\n",
       "      <td>0.0</td>\n",
       "      <td>NaN</td>\n",
       "      <td>7.0</td>\n",
       "      <td>NaN</td>\n",
       "      <td>NaN</td>\n",
       "      <td>...</td>\n",
       "      <td>NaN</td>\n",
       "      <td>NaN</td>\n",
       "      <td>56736.0</td>\n",
       "      <td>102385.0</td>\n",
       "      <td>2015.0</td>\n",
       "      <td>45649.0</td>\n",
       "      <td>4162.56</td>\n",
       "      <td>NaN</td>\n",
       "      <td>NaN</td>\n",
       "      <td>NaN</td>\n",
       "    </tr>\n",
       "    <tr>\n",
       "      <th>19</th>\n",
       "      <td>11324547</td>\n",
       "      <td>1.0</td>\n",
       "      <td>NaN</td>\n",
       "      <td>NaN</td>\n",
       "      <td>2.0</td>\n",
       "      <td>4.0</td>\n",
       "      <td>NaN</td>\n",
       "      <td>4.0</td>\n",
       "      <td>2.0</td>\n",
       "      <td>NaN</td>\n",
       "      <td>...</td>\n",
       "      <td>NaN</td>\n",
       "      <td>NaN</td>\n",
       "      <td>218982.0</td>\n",
       "      <td>291973.0</td>\n",
       "      <td>2015.0</td>\n",
       "      <td>72991.0</td>\n",
       "      <td>6941.39</td>\n",
       "      <td>NaN</td>\n",
       "      <td>NaN</td>\n",
       "      <td>NaN</td>\n",
       "    </tr>\n",
       "    <tr>\n",
       "      <th>20</th>\n",
       "      <td>11391347</td>\n",
       "      <td>NaN</td>\n",
       "      <td>NaN</td>\n",
       "      <td>NaN</td>\n",
       "      <td>0.0</td>\n",
       "      <td>0.0</td>\n",
       "      <td>3.0</td>\n",
       "      <td>7.0</td>\n",
       "      <td>NaN</td>\n",
       "      <td>NaN</td>\n",
       "      <td>...</td>\n",
       "      <td>NaN</td>\n",
       "      <td>NaN</td>\n",
       "      <td>197599.0</td>\n",
       "      <td>503752.0</td>\n",
       "      <td>2015.0</td>\n",
       "      <td>306153.0</td>\n",
       "      <td>6840.34</td>\n",
       "      <td>NaN</td>\n",
       "      <td>NaN</td>\n",
       "      <td>NaN</td>\n",
       "    </tr>\n",
       "    <tr>\n",
       "      <th>21</th>\n",
       "      <td>11395747</td>\n",
       "      <td>NaN</td>\n",
       "      <td>NaN</td>\n",
       "      <td>NaN</td>\n",
       "      <td>0.0</td>\n",
       "      <td>0.0</td>\n",
       "      <td>4.0</td>\n",
       "      <td>7.0</td>\n",
       "      <td>NaN</td>\n",
       "      <td>NaN</td>\n",
       "      <td>...</td>\n",
       "      <td>1.0</td>\n",
       "      <td>NaN</td>\n",
       "      <td>35876.0</td>\n",
       "      <td>49928.0</td>\n",
       "      <td>2015.0</td>\n",
       "      <td>14052.0</td>\n",
       "      <td>1522.08</td>\n",
       "      <td>NaN</td>\n",
       "      <td>NaN</td>\n",
       "      <td>NaN</td>\n",
       "    </tr>\n",
       "    <tr>\n",
       "      <th>22</th>\n",
       "      <td>11404347</td>\n",
       "      <td>NaN</td>\n",
       "      <td>NaN</td>\n",
       "      <td>NaN</td>\n",
       "      <td>0.0</td>\n",
       "      <td>0.0</td>\n",
       "      <td>4.0</td>\n",
       "      <td>7.0</td>\n",
       "      <td>NaN</td>\n",
       "      <td>NaN</td>\n",
       "      <td>...</td>\n",
       "      <td>1.0</td>\n",
       "      <td>NaN</td>\n",
       "      <td>69879.0</td>\n",
       "      <td>231720.0</td>\n",
       "      <td>2015.0</td>\n",
       "      <td>161841.0</td>\n",
       "      <td>3703.54</td>\n",
       "      <td>Y</td>\n",
       "      <td>13.0</td>\n",
       "      <td>NaN</td>\n",
       "    </tr>\n",
       "    <tr>\n",
       "      <th>23</th>\n",
       "      <td>11405747</td>\n",
       "      <td>NaN</td>\n",
       "      <td>NaN</td>\n",
       "      <td>NaN</td>\n",
       "      <td>0.0</td>\n",
       "      <td>0.0</td>\n",
       "      <td>4.0</td>\n",
       "      <td>7.0</td>\n",
       "      <td>NaN</td>\n",
       "      <td>NaN</td>\n",
       "      <td>...</td>\n",
       "      <td>1.0</td>\n",
       "      <td>NaN</td>\n",
       "      <td>41917.0</td>\n",
       "      <td>181667.0</td>\n",
       "      <td>2015.0</td>\n",
       "      <td>139750.0</td>\n",
       "      <td>2992.02</td>\n",
       "      <td>NaN</td>\n",
       "      <td>NaN</td>\n",
       "      <td>NaN</td>\n",
       "    </tr>\n",
       "    <tr>\n",
       "      <th>24</th>\n",
       "      <td>11417147</td>\n",
       "      <td>NaN</td>\n",
       "      <td>NaN</td>\n",
       "      <td>NaN</td>\n",
       "      <td>0.0</td>\n",
       "      <td>0.0</td>\n",
       "      <td>4.0</td>\n",
       "      <td>7.0</td>\n",
       "      <td>NaN</td>\n",
       "      <td>NaN</td>\n",
       "      <td>...</td>\n",
       "      <td>1.0</td>\n",
       "      <td>NaN</td>\n",
       "      <td>44959.0</td>\n",
       "      <td>133717.0</td>\n",
       "      <td>2015.0</td>\n",
       "      <td>88758.0</td>\n",
       "      <td>2797.70</td>\n",
       "      <td>NaN</td>\n",
       "      <td>NaN</td>\n",
       "      <td>NaN</td>\n",
       "    </tr>\n",
       "    <tr>\n",
       "      <th>25</th>\n",
       "      <td>11457547</td>\n",
       "      <td>NaN</td>\n",
       "      <td>NaN</td>\n",
       "      <td>NaN</td>\n",
       "      <td>0.0</td>\n",
       "      <td>0.0</td>\n",
       "      <td>NaN</td>\n",
       "      <td>NaN</td>\n",
       "      <td>NaN</td>\n",
       "      <td>NaN</td>\n",
       "      <td>...</td>\n",
       "      <td>NaN</td>\n",
       "      <td>NaN</td>\n",
       "      <td>NaN</td>\n",
       "      <td>124.0</td>\n",
       "      <td>2015.0</td>\n",
       "      <td>124.0</td>\n",
       "      <td>NaN</td>\n",
       "      <td>NaN</td>\n",
       "      <td>NaN</td>\n",
       "      <td>NaN</td>\n",
       "    </tr>\n",
       "    <tr>\n",
       "      <th>26</th>\n",
       "      <td>11488147</td>\n",
       "      <td>NaN</td>\n",
       "      <td>NaN</td>\n",
       "      <td>NaN</td>\n",
       "      <td>4.0</td>\n",
       "      <td>5.0</td>\n",
       "      <td>NaN</td>\n",
       "      <td>4.0</td>\n",
       "      <td>4.0</td>\n",
       "      <td>NaN</td>\n",
       "      <td>...</td>\n",
       "      <td>NaN</td>\n",
       "      <td>NaN</td>\n",
       "      <td>267623.0</td>\n",
       "      <td>818739.0</td>\n",
       "      <td>2015.0</td>\n",
       "      <td>551116.0</td>\n",
       "      <td>10455.41</td>\n",
       "      <td>NaN</td>\n",
       "      <td>NaN</td>\n",
       "      <td>NaN</td>\n",
       "    </tr>\n",
       "    <tr>\n",
       "      <th>27</th>\n",
       "      <td>11520747</td>\n",
       "      <td>NaN</td>\n",
       "      <td>NaN</td>\n",
       "      <td>NaN</td>\n",
       "      <td>0.0</td>\n",
       "      <td>0.0</td>\n",
       "      <td>4.0</td>\n",
       "      <td>7.0</td>\n",
       "      <td>NaN</td>\n",
       "      <td>NaN</td>\n",
       "      <td>...</td>\n",
       "      <td>1.0</td>\n",
       "      <td>NaN</td>\n",
       "      <td>204800.0</td>\n",
       "      <td>786584.0</td>\n",
       "      <td>2015.0</td>\n",
       "      <td>581784.0</td>\n",
       "      <td>11304.81</td>\n",
       "      <td>NaN</td>\n",
       "      <td>NaN</td>\n",
       "      <td>NaN</td>\n",
       "    </tr>\n",
       "    <tr>\n",
       "      <th>28</th>\n",
       "      <td>11524947</td>\n",
       "      <td>1.0</td>\n",
       "      <td>NaN</td>\n",
       "      <td>NaN</td>\n",
       "      <td>2.0</td>\n",
       "      <td>2.0</td>\n",
       "      <td>NaN</td>\n",
       "      <td>4.0</td>\n",
       "      <td>2.0</td>\n",
       "      <td>NaN</td>\n",
       "      <td>...</td>\n",
       "      <td>NaN</td>\n",
       "      <td>NaN</td>\n",
       "      <td>229399.0</td>\n",
       "      <td>352198.0</td>\n",
       "      <td>2015.0</td>\n",
       "      <td>122799.0</td>\n",
       "      <td>6165.36</td>\n",
       "      <td>NaN</td>\n",
       "      <td>NaN</td>\n",
       "      <td>NaN</td>\n",
       "    </tr>\n",
       "    <tr>\n",
       "      <th>29</th>\n",
       "      <td>11544747</td>\n",
       "      <td>1.0</td>\n",
       "      <td>NaN</td>\n",
       "      <td>NaN</td>\n",
       "      <td>4.0</td>\n",
       "      <td>3.0</td>\n",
       "      <td>NaN</td>\n",
       "      <td>10.0</td>\n",
       "      <td>4.0</td>\n",
       "      <td>NaN</td>\n",
       "      <td>...</td>\n",
       "      <td>NaN</td>\n",
       "      <td>NaN</td>\n",
       "      <td>334432.0</td>\n",
       "      <td>835036.0</td>\n",
       "      <td>2015.0</td>\n",
       "      <td>500604.0</td>\n",
       "      <td>10244.94</td>\n",
       "      <td>NaN</td>\n",
       "      <td>NaN</td>\n",
       "      <td>NaN</td>\n",
       "    </tr>\n",
       "    <tr>\n",
       "      <th>...</th>\n",
       "      <td>...</td>\n",
       "      <td>...</td>\n",
       "      <td>...</td>\n",
       "      <td>...</td>\n",
       "      <td>...</td>\n",
       "      <td>...</td>\n",
       "      <td>...</td>\n",
       "      <td>...</td>\n",
       "      <td>...</td>\n",
       "      <td>...</td>\n",
       "      <td>...</td>\n",
       "      <td>...</td>\n",
       "      <td>...</td>\n",
       "      <td>...</td>\n",
       "      <td>...</td>\n",
       "      <td>...</td>\n",
       "      <td>...</td>\n",
       "      <td>...</td>\n",
       "      <td>...</td>\n",
       "      <td>...</td>\n",
       "      <td>...</td>\n",
       "    </tr>\n",
       "    <tr>\n",
       "      <th>2973750</th>\n",
       "      <td>14635775</td>\n",
       "      <td>NaN</td>\n",
       "      <td>NaN</td>\n",
       "      <td>NaN</td>\n",
       "      <td>3.0</td>\n",
       "      <td>3.0</td>\n",
       "      <td>NaN</td>\n",
       "      <td>NaN</td>\n",
       "      <td>3.0</td>\n",
       "      <td>NaN</td>\n",
       "      <td>...</td>\n",
       "      <td>NaN</td>\n",
       "      <td>NaN</td>\n",
       "      <td>295463.0</td>\n",
       "      <td>833569.0</td>\n",
       "      <td>2015.0</td>\n",
       "      <td>538106.0</td>\n",
       "      <td>12650.44</td>\n",
       "      <td>NaN</td>\n",
       "      <td>NaN</td>\n",
       "      <td>6.059052e+13</td>\n",
       "    </tr>\n",
       "    <tr>\n",
       "      <th>2973751</th>\n",
       "      <td>14459830</td>\n",
       "      <td>NaN</td>\n",
       "      <td>NaN</td>\n",
       "      <td>NaN</td>\n",
       "      <td>0.0</td>\n",
       "      <td>0.0</td>\n",
       "      <td>NaN</td>\n",
       "      <td>NaN</td>\n",
       "      <td>NaN</td>\n",
       "      <td>NaN</td>\n",
       "      <td>...</td>\n",
       "      <td>NaN</td>\n",
       "      <td>NaN</td>\n",
       "      <td>NaN</td>\n",
       "      <td>280547.0</td>\n",
       "      <td>2015.0</td>\n",
       "      <td>280547.0</td>\n",
       "      <td>14013.38</td>\n",
       "      <td>NaN</td>\n",
       "      <td>NaN</td>\n",
       "      <td>6.059032e+13</td>\n",
       "    </tr>\n",
       "    <tr>\n",
       "      <th>2973752</th>\n",
       "      <td>14702270</td>\n",
       "      <td>NaN</td>\n",
       "      <td>NaN</td>\n",
       "      <td>NaN</td>\n",
       "      <td>2.5</td>\n",
       "      <td>3.0</td>\n",
       "      <td>NaN</td>\n",
       "      <td>NaN</td>\n",
       "      <td>2.5</td>\n",
       "      <td>NaN</td>\n",
       "      <td>...</td>\n",
       "      <td>NaN</td>\n",
       "      <td>NaN</td>\n",
       "      <td>233697.0</td>\n",
       "      <td>584605.0</td>\n",
       "      <td>2015.0</td>\n",
       "      <td>350908.0</td>\n",
       "      <td>7018.88</td>\n",
       "      <td>NaN</td>\n",
       "      <td>NaN</td>\n",
       "      <td>6.059022e+13</td>\n",
       "    </tr>\n",
       "    <tr>\n",
       "      <th>2973753</th>\n",
       "      <td>13963342</td>\n",
       "      <td>NaN</td>\n",
       "      <td>NaN</td>\n",
       "      <td>NaN</td>\n",
       "      <td>3.0</td>\n",
       "      <td>4.0</td>\n",
       "      <td>NaN</td>\n",
       "      <td>NaN</td>\n",
       "      <td>3.0</td>\n",
       "      <td>NaN</td>\n",
       "      <td>...</td>\n",
       "      <td>NaN</td>\n",
       "      <td>NaN</td>\n",
       "      <td>437765.0</td>\n",
       "      <td>441342.0</td>\n",
       "      <td>2015.0</td>\n",
       "      <td>3577.0</td>\n",
       "      <td>15568.38</td>\n",
       "      <td>NaN</td>\n",
       "      <td>NaN</td>\n",
       "      <td>6.059032e+13</td>\n",
       "    </tr>\n",
       "    <tr>\n",
       "      <th>2973754</th>\n",
       "      <td>14460005</td>\n",
       "      <td>NaN</td>\n",
       "      <td>NaN</td>\n",
       "      <td>NaN</td>\n",
       "      <td>0.0</td>\n",
       "      <td>0.0</td>\n",
       "      <td>NaN</td>\n",
       "      <td>NaN</td>\n",
       "      <td>NaN</td>\n",
       "      <td>NaN</td>\n",
       "      <td>...</td>\n",
       "      <td>NaN</td>\n",
       "      <td>NaN</td>\n",
       "      <td>NaN</td>\n",
       "      <td>202435.0</td>\n",
       "      <td>2015.0</td>\n",
       "      <td>202435.0</td>\n",
       "      <td>10009.46</td>\n",
       "      <td>NaN</td>\n",
       "      <td>NaN</td>\n",
       "      <td>6.059032e+13</td>\n",
       "    </tr>\n",
       "    <tr>\n",
       "      <th>2973755</th>\n",
       "      <td>14418746</td>\n",
       "      <td>NaN</td>\n",
       "      <td>NaN</td>\n",
       "      <td>NaN</td>\n",
       "      <td>0.0</td>\n",
       "      <td>0.0</td>\n",
       "      <td>NaN</td>\n",
       "      <td>NaN</td>\n",
       "      <td>NaN</td>\n",
       "      <td>NaN</td>\n",
       "      <td>...</td>\n",
       "      <td>NaN</td>\n",
       "      <td>NaN</td>\n",
       "      <td>221678.0</td>\n",
       "      <td>479485.0</td>\n",
       "      <td>2015.0</td>\n",
       "      <td>257807.0</td>\n",
       "      <td>8347.90</td>\n",
       "      <td>NaN</td>\n",
       "      <td>NaN</td>\n",
       "      <td>NaN</td>\n",
       "    </tr>\n",
       "    <tr>\n",
       "      <th>2973756</th>\n",
       "      <td>14608630</td>\n",
       "      <td>NaN</td>\n",
       "      <td>NaN</td>\n",
       "      <td>NaN</td>\n",
       "      <td>2.5</td>\n",
       "      <td>3.0</td>\n",
       "      <td>NaN</td>\n",
       "      <td>NaN</td>\n",
       "      <td>2.5</td>\n",
       "      <td>NaN</td>\n",
       "      <td>...</td>\n",
       "      <td>NaN</td>\n",
       "      <td>NaN</td>\n",
       "      <td>249035.0</td>\n",
       "      <td>547331.0</td>\n",
       "      <td>2015.0</td>\n",
       "      <td>298296.0</td>\n",
       "      <td>9022.84</td>\n",
       "      <td>NaN</td>\n",
       "      <td>NaN</td>\n",
       "      <td>6.059032e+13</td>\n",
       "    </tr>\n",
       "    <tr>\n",
       "      <th>2973757</th>\n",
       "      <td>17275231</td>\n",
       "      <td>NaN</td>\n",
       "      <td>NaN</td>\n",
       "      <td>NaN</td>\n",
       "      <td>2.0</td>\n",
       "      <td>3.0</td>\n",
       "      <td>NaN</td>\n",
       "      <td>NaN</td>\n",
       "      <td>2.0</td>\n",
       "      <td>NaN</td>\n",
       "      <td>...</td>\n",
       "      <td>1.0</td>\n",
       "      <td>NaN</td>\n",
       "      <td>123548.0</td>\n",
       "      <td>402544.0</td>\n",
       "      <td>2015.0</td>\n",
       "      <td>278996.0</td>\n",
       "      <td>4251.00</td>\n",
       "      <td>NaN</td>\n",
       "      <td>NaN</td>\n",
       "      <td>6.111007e+13</td>\n",
       "    </tr>\n",
       "    <tr>\n",
       "      <th>2973758</th>\n",
       "      <td>11025289</td>\n",
       "      <td>NaN</td>\n",
       "      <td>NaN</td>\n",
       "      <td>NaN</td>\n",
       "      <td>0.0</td>\n",
       "      <td>0.0</td>\n",
       "      <td>NaN</td>\n",
       "      <td>NaN</td>\n",
       "      <td>NaN</td>\n",
       "      <td>NaN</td>\n",
       "      <td>...</td>\n",
       "      <td>NaN</td>\n",
       "      <td>NaN</td>\n",
       "      <td>260100.0</td>\n",
       "      <td>433500.0</td>\n",
       "      <td>2015.0</td>\n",
       "      <td>173400.0</td>\n",
       "      <td>5414.45</td>\n",
       "      <td>NaN</td>\n",
       "      <td>NaN</td>\n",
       "      <td>6.037105e+13</td>\n",
       "    </tr>\n",
       "    <tr>\n",
       "      <th>2973759</th>\n",
       "      <td>13026802</td>\n",
       "      <td>1.0</td>\n",
       "      <td>NaN</td>\n",
       "      <td>NaN</td>\n",
       "      <td>3.0</td>\n",
       "      <td>4.0</td>\n",
       "      <td>NaN</td>\n",
       "      <td>4.0</td>\n",
       "      <td>3.0</td>\n",
       "      <td>NaN</td>\n",
       "      <td>...</td>\n",
       "      <td>NaN</td>\n",
       "      <td>NaN</td>\n",
       "      <td>326900.0</td>\n",
       "      <td>556900.0</td>\n",
       "      <td>2015.0</td>\n",
       "      <td>230000.0</td>\n",
       "      <td>10268.91</td>\n",
       "      <td>NaN</td>\n",
       "      <td>NaN</td>\n",
       "      <td>NaN</td>\n",
       "    </tr>\n",
       "    <tr>\n",
       "      <th>2973760</th>\n",
       "      <td>11514105</td>\n",
       "      <td>NaN</td>\n",
       "      <td>NaN</td>\n",
       "      <td>NaN</td>\n",
       "      <td>3.0</td>\n",
       "      <td>3.0</td>\n",
       "      <td>NaN</td>\n",
       "      <td>1.0</td>\n",
       "      <td>3.0</td>\n",
       "      <td>NaN</td>\n",
       "      <td>...</td>\n",
       "      <td>NaN</td>\n",
       "      <td>NaN</td>\n",
       "      <td>600000.0</td>\n",
       "      <td>1695000.0</td>\n",
       "      <td>2015.0</td>\n",
       "      <td>1095000.0</td>\n",
       "      <td>18306.02</td>\n",
       "      <td>NaN</td>\n",
       "      <td>NaN</td>\n",
       "      <td>6.037621e+13</td>\n",
       "    </tr>\n",
       "    <tr>\n",
       "      <th>2973761</th>\n",
       "      <td>11070247</td>\n",
       "      <td>1.0</td>\n",
       "      <td>NaN</td>\n",
       "      <td>NaN</td>\n",
       "      <td>3.0</td>\n",
       "      <td>4.0</td>\n",
       "      <td>NaN</td>\n",
       "      <td>4.0</td>\n",
       "      <td>3.0</td>\n",
       "      <td>NaN</td>\n",
       "      <td>...</td>\n",
       "      <td>NaN</td>\n",
       "      <td>NaN</td>\n",
       "      <td>366000.0</td>\n",
       "      <td>610000.0</td>\n",
       "      <td>2015.0</td>\n",
       "      <td>244000.0</td>\n",
       "      <td>7504.18</td>\n",
       "      <td>NaN</td>\n",
       "      <td>NaN</td>\n",
       "      <td>NaN</td>\n",
       "    </tr>\n",
       "    <tr>\n",
       "      <th>2973762</th>\n",
       "      <td>11606984</td>\n",
       "      <td>NaN</td>\n",
       "      <td>NaN</td>\n",
       "      <td>NaN</td>\n",
       "      <td>0.0</td>\n",
       "      <td>0.0</td>\n",
       "      <td>3.0</td>\n",
       "      <td>4.0</td>\n",
       "      <td>NaN</td>\n",
       "      <td>NaN</td>\n",
       "      <td>...</td>\n",
       "      <td>NaN</td>\n",
       "      <td>NaN</td>\n",
       "      <td>713986.0</td>\n",
       "      <td>2753946.0</td>\n",
       "      <td>2015.0</td>\n",
       "      <td>2039960.0</td>\n",
       "      <td>33604.04</td>\n",
       "      <td>NaN</td>\n",
       "      <td>NaN</td>\n",
       "      <td>6.037270e+13</td>\n",
       "    </tr>\n",
       "    <tr>\n",
       "      <th>2973763</th>\n",
       "      <td>13917885</td>\n",
       "      <td>NaN</td>\n",
       "      <td>NaN</td>\n",
       "      <td>NaN</td>\n",
       "      <td>2.0</td>\n",
       "      <td>4.0</td>\n",
       "      <td>NaN</td>\n",
       "      <td>NaN</td>\n",
       "      <td>2.0</td>\n",
       "      <td>NaN</td>\n",
       "      <td>...</td>\n",
       "      <td>1.0</td>\n",
       "      <td>NaN</td>\n",
       "      <td>89403.0</td>\n",
       "      <td>256009.0</td>\n",
       "      <td>2015.0</td>\n",
       "      <td>166606.0</td>\n",
       "      <td>3175.66</td>\n",
       "      <td>NaN</td>\n",
       "      <td>NaN</td>\n",
       "      <td>6.059087e+13</td>\n",
       "    </tr>\n",
       "    <tr>\n",
       "      <th>2973764</th>\n",
       "      <td>11477607</td>\n",
       "      <td>NaN</td>\n",
       "      <td>NaN</td>\n",
       "      <td>NaN</td>\n",
       "      <td>0.0</td>\n",
       "      <td>0.0</td>\n",
       "      <td>NaN</td>\n",
       "      <td>NaN</td>\n",
       "      <td>NaN</td>\n",
       "      <td>NaN</td>\n",
       "      <td>...</td>\n",
       "      <td>NaN</td>\n",
       "      <td>NaN</td>\n",
       "      <td>NaN</td>\n",
       "      <td>1198476.0</td>\n",
       "      <td>2015.0</td>\n",
       "      <td>1198476.0</td>\n",
       "      <td>NaN</td>\n",
       "      <td>NaN</td>\n",
       "      <td>NaN</td>\n",
       "      <td>6.037620e+13</td>\n",
       "    </tr>\n",
       "    <tr>\n",
       "      <th>2973765</th>\n",
       "      <td>14762130</td>\n",
       "      <td>NaN</td>\n",
       "      <td>NaN</td>\n",
       "      <td>NaN</td>\n",
       "      <td>2.5</td>\n",
       "      <td>3.0</td>\n",
       "      <td>NaN</td>\n",
       "      <td>NaN</td>\n",
       "      <td>2.5</td>\n",
       "      <td>NaN</td>\n",
       "      <td>...</td>\n",
       "      <td>NaN</td>\n",
       "      <td>NaN</td>\n",
       "      <td>372658.0</td>\n",
       "      <td>389386.0</td>\n",
       "      <td>2015.0</td>\n",
       "      <td>16728.0</td>\n",
       "      <td>4181.10</td>\n",
       "      <td>NaN</td>\n",
       "      <td>NaN</td>\n",
       "      <td>6.059063e+13</td>\n",
       "    </tr>\n",
       "    <tr>\n",
       "      <th>2973766</th>\n",
       "      <td>12866002</td>\n",
       "      <td>NaN</td>\n",
       "      <td>NaN</td>\n",
       "      <td>NaN</td>\n",
       "      <td>0.0</td>\n",
       "      <td>0.0</td>\n",
       "      <td>NaN</td>\n",
       "      <td>NaN</td>\n",
       "      <td>NaN</td>\n",
       "      <td>NaN</td>\n",
       "      <td>...</td>\n",
       "      <td>NaN</td>\n",
       "      <td>NaN</td>\n",
       "      <td>NaN</td>\n",
       "      <td>103485.0</td>\n",
       "      <td>2015.0</td>\n",
       "      <td>103485.0</td>\n",
       "      <td>5140.26</td>\n",
       "      <td>NaN</td>\n",
       "      <td>NaN</td>\n",
       "      <td>6.037402e+13</td>\n",
       "    </tr>\n",
       "    <tr>\n",
       "      <th>2973767</th>\n",
       "      <td>14599147</td>\n",
       "      <td>NaN</td>\n",
       "      <td>NaN</td>\n",
       "      <td>NaN</td>\n",
       "      <td>3.0</td>\n",
       "      <td>4.0</td>\n",
       "      <td>NaN</td>\n",
       "      <td>NaN</td>\n",
       "      <td>3.0</td>\n",
       "      <td>NaN</td>\n",
       "      <td>...</td>\n",
       "      <td>NaN</td>\n",
       "      <td>NaN</td>\n",
       "      <td>297454.0</td>\n",
       "      <td>719658.0</td>\n",
       "      <td>2015.0</td>\n",
       "      <td>422204.0</td>\n",
       "      <td>12627.18</td>\n",
       "      <td>NaN</td>\n",
       "      <td>NaN</td>\n",
       "      <td>NaN</td>\n",
       "    </tr>\n",
       "    <tr>\n",
       "      <th>2973768</th>\n",
       "      <td>14157725</td>\n",
       "      <td>NaN</td>\n",
       "      <td>NaN</td>\n",
       "      <td>NaN</td>\n",
       "      <td>0.0</td>\n",
       "      <td>0.0</td>\n",
       "      <td>NaN</td>\n",
       "      <td>NaN</td>\n",
       "      <td>NaN</td>\n",
       "      <td>NaN</td>\n",
       "      <td>...</td>\n",
       "      <td>NaN</td>\n",
       "      <td>NaN</td>\n",
       "      <td>301443.0</td>\n",
       "      <td>446648.0</td>\n",
       "      <td>2015.0</td>\n",
       "      <td>145205.0</td>\n",
       "      <td>6244.16</td>\n",
       "      <td>NaN</td>\n",
       "      <td>NaN</td>\n",
       "      <td>NaN</td>\n",
       "    </tr>\n",
       "    <tr>\n",
       "      <th>2973769</th>\n",
       "      <td>14618736</td>\n",
       "      <td>NaN</td>\n",
       "      <td>NaN</td>\n",
       "      <td>NaN</td>\n",
       "      <td>3.0</td>\n",
       "      <td>3.0</td>\n",
       "      <td>NaN</td>\n",
       "      <td>NaN</td>\n",
       "      <td>3.0</td>\n",
       "      <td>NaN</td>\n",
       "      <td>...</td>\n",
       "      <td>NaN</td>\n",
       "      <td>NaN</td>\n",
       "      <td>235957.0</td>\n",
       "      <td>643498.0</td>\n",
       "      <td>2015.0</td>\n",
       "      <td>407541.0</td>\n",
       "      <td>9700.24</td>\n",
       "      <td>NaN</td>\n",
       "      <td>NaN</td>\n",
       "      <td>NaN</td>\n",
       "    </tr>\n",
       "    <tr>\n",
       "      <th>2973770</th>\n",
       "      <td>14601191</td>\n",
       "      <td>NaN</td>\n",
       "      <td>NaN</td>\n",
       "      <td>NaN</td>\n",
       "      <td>3.5</td>\n",
       "      <td>3.0</td>\n",
       "      <td>NaN</td>\n",
       "      <td>NaN</td>\n",
       "      <td>3.5</td>\n",
       "      <td>NaN</td>\n",
       "      <td>...</td>\n",
       "      <td>NaN</td>\n",
       "      <td>NaN</td>\n",
       "      <td>479061.0</td>\n",
       "      <td>1433635.0</td>\n",
       "      <td>2015.0</td>\n",
       "      <td>954574.0</td>\n",
       "      <td>15546.14</td>\n",
       "      <td>NaN</td>\n",
       "      <td>NaN</td>\n",
       "      <td>NaN</td>\n",
       "    </tr>\n",
       "    <tr>\n",
       "      <th>2973771</th>\n",
       "      <td>14737537</td>\n",
       "      <td>NaN</td>\n",
       "      <td>NaN</td>\n",
       "      <td>NaN</td>\n",
       "      <td>2.0</td>\n",
       "      <td>2.0</td>\n",
       "      <td>NaN</td>\n",
       "      <td>NaN</td>\n",
       "      <td>2.0</td>\n",
       "      <td>NaN</td>\n",
       "      <td>...</td>\n",
       "      <td>NaN</td>\n",
       "      <td>NaN</td>\n",
       "      <td>194481.0</td>\n",
       "      <td>470248.0</td>\n",
       "      <td>2015.0</td>\n",
       "      <td>275767.0</td>\n",
       "      <td>5001.00</td>\n",
       "      <td>NaN</td>\n",
       "      <td>NaN</td>\n",
       "      <td>NaN</td>\n",
       "    </tr>\n",
       "    <tr>\n",
       "      <th>2973772</th>\n",
       "      <td>14675114</td>\n",
       "      <td>NaN</td>\n",
       "      <td>NaN</td>\n",
       "      <td>NaN</td>\n",
       "      <td>3.0</td>\n",
       "      <td>3.0</td>\n",
       "      <td>NaN</td>\n",
       "      <td>NaN</td>\n",
       "      <td>3.0</td>\n",
       "      <td>NaN</td>\n",
       "      <td>...</td>\n",
       "      <td>NaN</td>\n",
       "      <td>NaN</td>\n",
       "      <td>234584.0</td>\n",
       "      <td>643794.0</td>\n",
       "      <td>2015.0</td>\n",
       "      <td>409210.0</td>\n",
       "      <td>10412.02</td>\n",
       "      <td>NaN</td>\n",
       "      <td>NaN</td>\n",
       "      <td>NaN</td>\n",
       "    </tr>\n",
       "    <tr>\n",
       "      <th>2973773</th>\n",
       "      <td>14663639</td>\n",
       "      <td>NaN</td>\n",
       "      <td>NaN</td>\n",
       "      <td>NaN</td>\n",
       "      <td>0.0</td>\n",
       "      <td>0.0</td>\n",
       "      <td>NaN</td>\n",
       "      <td>NaN</td>\n",
       "      <td>NaN</td>\n",
       "      <td>NaN</td>\n",
       "      <td>...</td>\n",
       "      <td>NaN</td>\n",
       "      <td>NaN</td>\n",
       "      <td>232531.0</td>\n",
       "      <td>530550.0</td>\n",
       "      <td>2015.0</td>\n",
       "      <td>298019.0</td>\n",
       "      <td>6370.58</td>\n",
       "      <td>NaN</td>\n",
       "      <td>NaN</td>\n",
       "      <td>NaN</td>\n",
       "    </tr>\n",
       "    <tr>\n",
       "      <th>2973774</th>\n",
       "      <td>12246525</td>\n",
       "      <td>1.0</td>\n",
       "      <td>NaN</td>\n",
       "      <td>NaN</td>\n",
       "      <td>6.0</td>\n",
       "      <td>8.0</td>\n",
       "      <td>NaN</td>\n",
       "      <td>4.0</td>\n",
       "      <td>6.0</td>\n",
       "      <td>NaN</td>\n",
       "      <td>...</td>\n",
       "      <td>NaN</td>\n",
       "      <td>NaN</td>\n",
       "      <td>450000.0</td>\n",
       "      <td>800000.0</td>\n",
       "      <td>2015.0</td>\n",
       "      <td>350000.0</td>\n",
       "      <td>NaN</td>\n",
       "      <td>NaN</td>\n",
       "      <td>NaN</td>\n",
       "      <td>NaN</td>\n",
       "    </tr>\n",
       "    <tr>\n",
       "      <th>2973775</th>\n",
       "      <td>11366340</td>\n",
       "      <td>NaN</td>\n",
       "      <td>NaN</td>\n",
       "      <td>NaN</td>\n",
       "      <td>1.0</td>\n",
       "      <td>2.0</td>\n",
       "      <td>NaN</td>\n",
       "      <td>7.0</td>\n",
       "      <td>1.0</td>\n",
       "      <td>NaN</td>\n",
       "      <td>...</td>\n",
       "      <td>NaN</td>\n",
       "      <td>NaN</td>\n",
       "      <td>49749.0</td>\n",
       "      <td>428749.0</td>\n",
       "      <td>2015.0</td>\n",
       "      <td>379000.0</td>\n",
       "      <td>5764.45</td>\n",
       "      <td>NaN</td>\n",
       "      <td>NaN</td>\n",
       "      <td>NaN</td>\n",
       "    </tr>\n",
       "    <tr>\n",
       "      <th>2973776</th>\n",
       "      <td>13010327</td>\n",
       "      <td>1.0</td>\n",
       "      <td>NaN</td>\n",
       "      <td>NaN</td>\n",
       "      <td>3.0</td>\n",
       "      <td>3.0</td>\n",
       "      <td>NaN</td>\n",
       "      <td>4.0</td>\n",
       "      <td>3.0</td>\n",
       "      <td>NaN</td>\n",
       "      <td>...</td>\n",
       "      <td>NaN</td>\n",
       "      <td>NaN</td>\n",
       "      <td>351100.0</td>\n",
       "      <td>585100.0</td>\n",
       "      <td>2015.0</td>\n",
       "      <td>234000.0</td>\n",
       "      <td>7343.47</td>\n",
       "      <td>NaN</td>\n",
       "      <td>NaN</td>\n",
       "      <td>NaN</td>\n",
       "    </tr>\n",
       "    <tr>\n",
       "      <th>2973777</th>\n",
       "      <td>12385768</td>\n",
       "      <td>1.0</td>\n",
       "      <td>NaN</td>\n",
       "      <td>NaN</td>\n",
       "      <td>4.0</td>\n",
       "      <td>4.0</td>\n",
       "      <td>NaN</td>\n",
       "      <td>4.0</td>\n",
       "      <td>4.0</td>\n",
       "      <td>NaN</td>\n",
       "      <td>...</td>\n",
       "      <td>NaN</td>\n",
       "      <td>NaN</td>\n",
       "      <td>331493.0</td>\n",
       "      <td>545688.0</td>\n",
       "      <td>2015.0</td>\n",
       "      <td>214195.0</td>\n",
       "      <td>6761.20</td>\n",
       "      <td>Y</td>\n",
       "      <td>15.0</td>\n",
       "      <td>NaN</td>\n",
       "    </tr>\n",
       "    <tr>\n",
       "      <th>2973778</th>\n",
       "      <td>11795063</td>\n",
       "      <td>1.0</td>\n",
       "      <td>NaN</td>\n",
       "      <td>NaN</td>\n",
       "      <td>1.0</td>\n",
       "      <td>1.0</td>\n",
       "      <td>NaN</td>\n",
       "      <td>4.0</td>\n",
       "      <td>1.0</td>\n",
       "      <td>NaN</td>\n",
       "      <td>...</td>\n",
       "      <td>NaN</td>\n",
       "      <td>NaN</td>\n",
       "      <td>366172.0</td>\n",
       "      <td>610967.0</td>\n",
       "      <td>2015.0</td>\n",
       "      <td>244795.0</td>\n",
       "      <td>7611.91</td>\n",
       "      <td>NaN</td>\n",
       "      <td>NaN</td>\n",
       "      <td>NaN</td>\n",
       "    </tr>\n",
       "    <tr>\n",
       "      <th>2973779</th>\n",
       "      <td>11818454</td>\n",
       "      <td>NaN</td>\n",
       "      <td>NaN</td>\n",
       "      <td>NaN</td>\n",
       "      <td>0.0</td>\n",
       "      <td>0.0</td>\n",
       "      <td>NaN</td>\n",
       "      <td>NaN</td>\n",
       "      <td>NaN</td>\n",
       "      <td>NaN</td>\n",
       "      <td>...</td>\n",
       "      <td>NaN</td>\n",
       "      <td>NaN</td>\n",
       "      <td>NaN</td>\n",
       "      <td>NaN</td>\n",
       "      <td>2015.0</td>\n",
       "      <td>NaN</td>\n",
       "      <td>NaN</td>\n",
       "      <td>NaN</td>\n",
       "      <td>NaN</td>\n",
       "      <td>NaN</td>\n",
       "    </tr>\n",
       "  </tbody>\n",
       "</table>\n",
       "<p>2973780 rows × 58 columns</p>\n",
       "</div>"
      ],
      "text/plain": [
       "         parcelid  airconditioningtypeid  architecturalstyletypeid  \\\n",
       "0        10754147                    NaN                       NaN   \n",
       "1        10759547                    NaN                       NaN   \n",
       "2        10843547                    NaN                       NaN   \n",
       "3        10859147                    NaN                       NaN   \n",
       "4        10879947                    NaN                       NaN   \n",
       "5        10898347                    NaN                       NaN   \n",
       "6        10933547                    NaN                       NaN   \n",
       "7        10940747                    NaN                       NaN   \n",
       "8        10954547                    NaN                       NaN   \n",
       "9        10976347                    NaN                       NaN   \n",
       "10       11073947                    NaN                       NaN   \n",
       "11       11114347                    NaN                       NaN   \n",
       "12       11116947                    NaN                       NaN   \n",
       "13       11142747                    NaN                       NaN   \n",
       "14       11193347                    NaN                       NaN   \n",
       "15       11215747                    NaN                       NaN   \n",
       "16       11229347                    NaN                       NaN   \n",
       "17       11287347                    NaN                       NaN   \n",
       "18       11288547                    NaN                       NaN   \n",
       "19       11324547                    1.0                       NaN   \n",
       "20       11391347                    NaN                       NaN   \n",
       "21       11395747                    NaN                       NaN   \n",
       "22       11404347                    NaN                       NaN   \n",
       "23       11405747                    NaN                       NaN   \n",
       "24       11417147                    NaN                       NaN   \n",
       "25       11457547                    NaN                       NaN   \n",
       "26       11488147                    NaN                       NaN   \n",
       "27       11520747                    NaN                       NaN   \n",
       "28       11524947                    1.0                       NaN   \n",
       "29       11544747                    1.0                       NaN   \n",
       "...           ...                    ...                       ...   \n",
       "2973750  14635775                    NaN                       NaN   \n",
       "2973751  14459830                    NaN                       NaN   \n",
       "2973752  14702270                    NaN                       NaN   \n",
       "2973753  13963342                    NaN                       NaN   \n",
       "2973754  14460005                    NaN                       NaN   \n",
       "2973755  14418746                    NaN                       NaN   \n",
       "2973756  14608630                    NaN                       NaN   \n",
       "2973757  17275231                    NaN                       NaN   \n",
       "2973758  11025289                    NaN                       NaN   \n",
       "2973759  13026802                    1.0                       NaN   \n",
       "2973760  11514105                    NaN                       NaN   \n",
       "2973761  11070247                    1.0                       NaN   \n",
       "2973762  11606984                    NaN                       NaN   \n",
       "2973763  13917885                    NaN                       NaN   \n",
       "2973764  11477607                    NaN                       NaN   \n",
       "2973765  14762130                    NaN                       NaN   \n",
       "2973766  12866002                    NaN                       NaN   \n",
       "2973767  14599147                    NaN                       NaN   \n",
       "2973768  14157725                    NaN                       NaN   \n",
       "2973769  14618736                    NaN                       NaN   \n",
       "2973770  14601191                    NaN                       NaN   \n",
       "2973771  14737537                    NaN                       NaN   \n",
       "2973772  14675114                    NaN                       NaN   \n",
       "2973773  14663639                    NaN                       NaN   \n",
       "2973774  12246525                    1.0                       NaN   \n",
       "2973775  11366340                    NaN                       NaN   \n",
       "2973776  13010327                    1.0                       NaN   \n",
       "2973777  12385768                    1.0                       NaN   \n",
       "2973778  11795063                    1.0                       NaN   \n",
       "2973779  11818454                    NaN                       NaN   \n",
       "\n",
       "         basementsqft  bathroomcnt  bedroomcnt  buildingclasstypeid  \\\n",
       "0                 NaN          0.0         0.0                  NaN   \n",
       "1                 NaN          0.0         0.0                  NaN   \n",
       "2                 NaN          0.0         0.0                  NaN   \n",
       "3                 NaN          0.0         0.0                  3.0   \n",
       "4                 NaN          0.0         0.0                  4.0   \n",
       "5                 NaN          0.0         0.0                  4.0   \n",
       "6                 NaN          0.0         0.0                  NaN   \n",
       "7                 NaN          0.0         0.0                  NaN   \n",
       "8                 NaN          0.0         0.0                  NaN   \n",
       "9                 NaN          0.0         0.0                  3.0   \n",
       "10                NaN          0.0         0.0                  4.0   \n",
       "11                NaN          0.0         0.0                  NaN   \n",
       "12                NaN          0.0         0.0                  NaN   \n",
       "13                NaN          0.0         0.0                  NaN   \n",
       "14                NaN          0.0         0.0                  NaN   \n",
       "15                NaN          0.0         0.0                  NaN   \n",
       "16                NaN          0.0         0.0                  NaN   \n",
       "17                NaN          0.0         0.0                  4.0   \n",
       "18                NaN          0.0         0.0                  NaN   \n",
       "19                NaN          2.0         4.0                  NaN   \n",
       "20                NaN          0.0         0.0                  3.0   \n",
       "21                NaN          0.0         0.0                  4.0   \n",
       "22                NaN          0.0         0.0                  4.0   \n",
       "23                NaN          0.0         0.0                  4.0   \n",
       "24                NaN          0.0         0.0                  4.0   \n",
       "25                NaN          0.0         0.0                  NaN   \n",
       "26                NaN          4.0         5.0                  NaN   \n",
       "27                NaN          0.0         0.0                  4.0   \n",
       "28                NaN          2.0         2.0                  NaN   \n",
       "29                NaN          4.0         3.0                  NaN   \n",
       "...               ...          ...         ...                  ...   \n",
       "2973750           NaN          3.0         3.0                  NaN   \n",
       "2973751           NaN          0.0         0.0                  NaN   \n",
       "2973752           NaN          2.5         3.0                  NaN   \n",
       "2973753           NaN          3.0         4.0                  NaN   \n",
       "2973754           NaN          0.0         0.0                  NaN   \n",
       "2973755           NaN          0.0         0.0                  NaN   \n",
       "2973756           NaN          2.5         3.0                  NaN   \n",
       "2973757           NaN          2.0         3.0                  NaN   \n",
       "2973758           NaN          0.0         0.0                  NaN   \n",
       "2973759           NaN          3.0         4.0                  NaN   \n",
       "2973760           NaN          3.0         3.0                  NaN   \n",
       "2973761           NaN          3.0         4.0                  NaN   \n",
       "2973762           NaN          0.0         0.0                  3.0   \n",
       "2973763           NaN          2.0         4.0                  NaN   \n",
       "2973764           NaN          0.0         0.0                  NaN   \n",
       "2973765           NaN          2.5         3.0                  NaN   \n",
       "2973766           NaN          0.0         0.0                  NaN   \n",
       "2973767           NaN          3.0         4.0                  NaN   \n",
       "2973768           NaN          0.0         0.0                  NaN   \n",
       "2973769           NaN          3.0         3.0                  NaN   \n",
       "2973770           NaN          3.5         3.0                  NaN   \n",
       "2973771           NaN          2.0         2.0                  NaN   \n",
       "2973772           NaN          3.0         3.0                  NaN   \n",
       "2973773           NaN          0.0         0.0                  NaN   \n",
       "2973774           NaN          6.0         8.0                  NaN   \n",
       "2973775           NaN          1.0         2.0                  NaN   \n",
       "2973776           NaN          3.0         3.0                  NaN   \n",
       "2973777           NaN          4.0         4.0                  NaN   \n",
       "2973778           NaN          1.0         1.0                  NaN   \n",
       "2973779           NaN          0.0         0.0                  NaN   \n",
       "\n",
       "         buildingqualitytypeid  calculatedbathnbr  decktypeid  \\\n",
       "0                          NaN                NaN         NaN   \n",
       "1                          NaN                NaN         NaN   \n",
       "2                          NaN                NaN         NaN   \n",
       "3                          7.0                NaN         NaN   \n",
       "4                          NaN                NaN         NaN   \n",
       "5                          7.0                NaN         NaN   \n",
       "6                          NaN                NaN         NaN   \n",
       "7                          NaN                NaN         NaN   \n",
       "8                          NaN                NaN         NaN   \n",
       "9                          7.0                NaN         NaN   \n",
       "10                         NaN                NaN         NaN   \n",
       "11                         NaN                NaN         NaN   \n",
       "12                         NaN                NaN         NaN   \n",
       "13                         NaN                NaN         NaN   \n",
       "14                         NaN                NaN         NaN   \n",
       "15                         NaN                NaN         NaN   \n",
       "16                         NaN                NaN         NaN   \n",
       "17                         7.0                NaN         NaN   \n",
       "18                         7.0                NaN         NaN   \n",
       "19                         4.0                2.0         NaN   \n",
       "20                         7.0                NaN         NaN   \n",
       "21                         7.0                NaN         NaN   \n",
       "22                         7.0                NaN         NaN   \n",
       "23                         7.0                NaN         NaN   \n",
       "24                         7.0                NaN         NaN   \n",
       "25                         NaN                NaN         NaN   \n",
       "26                         4.0                4.0         NaN   \n",
       "27                         7.0                NaN         NaN   \n",
       "28                         4.0                2.0         NaN   \n",
       "29                        10.0                4.0         NaN   \n",
       "...                        ...                ...         ...   \n",
       "2973750                    NaN                3.0         NaN   \n",
       "2973751                    NaN                NaN         NaN   \n",
       "2973752                    NaN                2.5         NaN   \n",
       "2973753                    NaN                3.0         NaN   \n",
       "2973754                    NaN                NaN         NaN   \n",
       "2973755                    NaN                NaN         NaN   \n",
       "2973756                    NaN                2.5         NaN   \n",
       "2973757                    NaN                2.0         NaN   \n",
       "2973758                    NaN                NaN         NaN   \n",
       "2973759                    4.0                3.0         NaN   \n",
       "2973760                    1.0                3.0         NaN   \n",
       "2973761                    4.0                3.0         NaN   \n",
       "2973762                    4.0                NaN         NaN   \n",
       "2973763                    NaN                2.0         NaN   \n",
       "2973764                    NaN                NaN         NaN   \n",
       "2973765                    NaN                2.5         NaN   \n",
       "2973766                    NaN                NaN         NaN   \n",
       "2973767                    NaN                3.0         NaN   \n",
       "2973768                    NaN                NaN         NaN   \n",
       "2973769                    NaN                3.0         NaN   \n",
       "2973770                    NaN                3.5         NaN   \n",
       "2973771                    NaN                2.0         NaN   \n",
       "2973772                    NaN                3.0         NaN   \n",
       "2973773                    NaN                NaN         NaN   \n",
       "2973774                    4.0                6.0         NaN   \n",
       "2973775                    7.0                1.0         NaN   \n",
       "2973776                    4.0                3.0         NaN   \n",
       "2973777                    4.0                4.0         NaN   \n",
       "2973778                    4.0                1.0         NaN   \n",
       "2973779                    NaN                NaN         NaN   \n",
       "\n",
       "                ...           numberofstories  fireplaceflag  \\\n",
       "0               ...                       NaN            NaN   \n",
       "1               ...                       NaN            NaN   \n",
       "2               ...                       NaN            NaN   \n",
       "3               ...                       1.0            NaN   \n",
       "4               ...                       NaN            NaN   \n",
       "5               ...                       1.0            NaN   \n",
       "6               ...                       NaN            NaN   \n",
       "7               ...                       1.0            NaN   \n",
       "8               ...                       NaN            NaN   \n",
       "9               ...                       1.0            NaN   \n",
       "10              ...                       1.0            NaN   \n",
       "11              ...                       NaN            NaN   \n",
       "12              ...                       NaN            NaN   \n",
       "13              ...                       NaN            NaN   \n",
       "14              ...                       NaN            NaN   \n",
       "15              ...                       NaN            NaN   \n",
       "16              ...                       NaN            NaN   \n",
       "17              ...                       NaN            NaN   \n",
       "18              ...                       NaN            NaN   \n",
       "19              ...                       NaN            NaN   \n",
       "20              ...                       NaN            NaN   \n",
       "21              ...                       1.0            NaN   \n",
       "22              ...                       1.0            NaN   \n",
       "23              ...                       1.0            NaN   \n",
       "24              ...                       1.0            NaN   \n",
       "25              ...                       NaN            NaN   \n",
       "26              ...                       NaN            NaN   \n",
       "27              ...                       1.0            NaN   \n",
       "28              ...                       NaN            NaN   \n",
       "29              ...                       NaN            NaN   \n",
       "...             ...                       ...            ...   \n",
       "2973750         ...                       NaN            NaN   \n",
       "2973751         ...                       NaN            NaN   \n",
       "2973752         ...                       NaN            NaN   \n",
       "2973753         ...                       NaN            NaN   \n",
       "2973754         ...                       NaN            NaN   \n",
       "2973755         ...                       NaN            NaN   \n",
       "2973756         ...                       NaN            NaN   \n",
       "2973757         ...                       1.0            NaN   \n",
       "2973758         ...                       NaN            NaN   \n",
       "2973759         ...                       NaN            NaN   \n",
       "2973760         ...                       NaN            NaN   \n",
       "2973761         ...                       NaN            NaN   \n",
       "2973762         ...                       NaN            NaN   \n",
       "2973763         ...                       1.0            NaN   \n",
       "2973764         ...                       NaN            NaN   \n",
       "2973765         ...                       NaN            NaN   \n",
       "2973766         ...                       NaN            NaN   \n",
       "2973767         ...                       NaN            NaN   \n",
       "2973768         ...                       NaN            NaN   \n",
       "2973769         ...                       NaN            NaN   \n",
       "2973770         ...                       NaN            NaN   \n",
       "2973771         ...                       NaN            NaN   \n",
       "2973772         ...                       NaN            NaN   \n",
       "2973773         ...                       NaN            NaN   \n",
       "2973774         ...                       NaN            NaN   \n",
       "2973775         ...                       NaN            NaN   \n",
       "2973776         ...                       NaN            NaN   \n",
       "2973777         ...                       NaN            NaN   \n",
       "2973778         ...                       NaN            NaN   \n",
       "2973779         ...                       NaN            NaN   \n",
       "\n",
       "         structuretaxvaluedollarcnt  taxvaluedollarcnt  assessmentyear  \\\n",
       "0                               NaN                9.0          2015.0   \n",
       "1                               NaN            27516.0          2015.0   \n",
       "2                          650756.0          1413387.0          2015.0   \n",
       "3                          571346.0          1156834.0          2015.0   \n",
       "4                          193796.0           433491.0          2015.0   \n",
       "5                          176383.0           283315.0          2015.0   \n",
       "6                          397945.0           554573.0          2015.0   \n",
       "7                          101998.0           688486.0          2015.0   \n",
       "8                               NaN                9.0          2015.0   \n",
       "9                          218440.0           261201.0          2015.0   \n",
       "10                         245834.0           430208.0          2015.0   \n",
       "11                              NaN                9.0          2015.0   \n",
       "12                              NaN           171200.0          2015.0   \n",
       "13                              NaN             4265.0          2015.0   \n",
       "14                              NaN               10.0          2015.0   \n",
       "15                              NaN               10.0          2015.0   \n",
       "16                              NaN             2077.0          2015.0   \n",
       "17                          32654.0            62424.0          2015.0   \n",
       "18                          56736.0           102385.0          2015.0   \n",
       "19                         218982.0           291973.0          2015.0   \n",
       "20                         197599.0           503752.0          2015.0   \n",
       "21                          35876.0            49928.0          2015.0   \n",
       "22                          69879.0           231720.0          2015.0   \n",
       "23                          41917.0           181667.0          2015.0   \n",
       "24                          44959.0           133717.0          2015.0   \n",
       "25                              NaN              124.0          2015.0   \n",
       "26                         267623.0           818739.0          2015.0   \n",
       "27                         204800.0           786584.0          2015.0   \n",
       "28                         229399.0           352198.0          2015.0   \n",
       "29                         334432.0           835036.0          2015.0   \n",
       "...                             ...                ...             ...   \n",
       "2973750                    295463.0           833569.0          2015.0   \n",
       "2973751                         NaN           280547.0          2015.0   \n",
       "2973752                    233697.0           584605.0          2015.0   \n",
       "2973753                    437765.0           441342.0          2015.0   \n",
       "2973754                         NaN           202435.0          2015.0   \n",
       "2973755                    221678.0           479485.0          2015.0   \n",
       "2973756                    249035.0           547331.0          2015.0   \n",
       "2973757                    123548.0           402544.0          2015.0   \n",
       "2973758                    260100.0           433500.0          2015.0   \n",
       "2973759                    326900.0           556900.0          2015.0   \n",
       "2973760                    600000.0          1695000.0          2015.0   \n",
       "2973761                    366000.0           610000.0          2015.0   \n",
       "2973762                    713986.0          2753946.0          2015.0   \n",
       "2973763                     89403.0           256009.0          2015.0   \n",
       "2973764                         NaN          1198476.0          2015.0   \n",
       "2973765                    372658.0           389386.0          2015.0   \n",
       "2973766                         NaN           103485.0          2015.0   \n",
       "2973767                    297454.0           719658.0          2015.0   \n",
       "2973768                    301443.0           446648.0          2015.0   \n",
       "2973769                    235957.0           643498.0          2015.0   \n",
       "2973770                    479061.0          1433635.0          2015.0   \n",
       "2973771                    194481.0           470248.0          2015.0   \n",
       "2973772                    234584.0           643794.0          2015.0   \n",
       "2973773                    232531.0           530550.0          2015.0   \n",
       "2973774                    450000.0           800000.0          2015.0   \n",
       "2973775                     49749.0           428749.0          2015.0   \n",
       "2973776                    351100.0           585100.0          2015.0   \n",
       "2973777                    331493.0           545688.0          2015.0   \n",
       "2973778                    366172.0           610967.0          2015.0   \n",
       "2973779                         NaN                NaN          2015.0   \n",
       "\n",
       "         landtaxvaluedollarcnt  taxamount  taxdelinquencyflag  \\\n",
       "0                          9.0        NaN                 NaN   \n",
       "1                      27516.0        NaN                 NaN   \n",
       "2                     762631.0   20800.37                 NaN   \n",
       "3                     585488.0   14557.57                 NaN   \n",
       "4                     239695.0    5725.17                 NaN   \n",
       "5                     106932.0    3661.28                 NaN   \n",
       "6                     156628.0    6773.34                 NaN   \n",
       "7                     586488.0    7857.84                 NaN   \n",
       "8                          9.0        NaN                 NaN   \n",
       "9                      42761.0    4054.76                 NaN   \n",
       "10                    184374.0    6014.18                 NaN   \n",
       "11                         9.0        NaN                 NaN   \n",
       "12                    171200.0    4690.68                 NaN   \n",
       "13                      4265.0        NaN                 NaN   \n",
       "14                        10.0        NaN                 NaN   \n",
       "15                        10.0        NaN                 NaN   \n",
       "16                      2077.0     174.21                 NaN   \n",
       "17                     29770.0    2330.24                 NaN   \n",
       "18                     45649.0    4162.56                 NaN   \n",
       "19                     72991.0    6941.39                 NaN   \n",
       "20                    306153.0    6840.34                 NaN   \n",
       "21                     14052.0    1522.08                 NaN   \n",
       "22                    161841.0    3703.54                   Y   \n",
       "23                    139750.0    2992.02                 NaN   \n",
       "24                     88758.0    2797.70                 NaN   \n",
       "25                       124.0        NaN                 NaN   \n",
       "26                    551116.0   10455.41                 NaN   \n",
       "27                    581784.0   11304.81                 NaN   \n",
       "28                    122799.0    6165.36                 NaN   \n",
       "29                    500604.0   10244.94                 NaN   \n",
       "...                        ...        ...                 ...   \n",
       "2973750               538106.0   12650.44                 NaN   \n",
       "2973751               280547.0   14013.38                 NaN   \n",
       "2973752               350908.0    7018.88                 NaN   \n",
       "2973753                 3577.0   15568.38                 NaN   \n",
       "2973754               202435.0   10009.46                 NaN   \n",
       "2973755               257807.0    8347.90                 NaN   \n",
       "2973756               298296.0    9022.84                 NaN   \n",
       "2973757               278996.0    4251.00                 NaN   \n",
       "2973758               173400.0    5414.45                 NaN   \n",
       "2973759               230000.0   10268.91                 NaN   \n",
       "2973760              1095000.0   18306.02                 NaN   \n",
       "2973761               244000.0    7504.18                 NaN   \n",
       "2973762              2039960.0   33604.04                 NaN   \n",
       "2973763               166606.0    3175.66                 NaN   \n",
       "2973764              1198476.0        NaN                 NaN   \n",
       "2973765                16728.0    4181.10                 NaN   \n",
       "2973766               103485.0    5140.26                 NaN   \n",
       "2973767               422204.0   12627.18                 NaN   \n",
       "2973768               145205.0    6244.16                 NaN   \n",
       "2973769               407541.0    9700.24                 NaN   \n",
       "2973770               954574.0   15546.14                 NaN   \n",
       "2973771               275767.0    5001.00                 NaN   \n",
       "2973772               409210.0   10412.02                 NaN   \n",
       "2973773               298019.0    6370.58                 NaN   \n",
       "2973774               350000.0        NaN                 NaN   \n",
       "2973775               379000.0    5764.45                 NaN   \n",
       "2973776               234000.0    7343.47                 NaN   \n",
       "2973777               214195.0    6761.20                   Y   \n",
       "2973778               244795.0    7611.91                 NaN   \n",
       "2973779                    NaN        NaN                 NaN   \n",
       "\n",
       "         taxdelinquencyyear  censustractandblock  \n",
       "0                       NaN                  NaN  \n",
       "1                       NaN                  NaN  \n",
       "2                       NaN                  NaN  \n",
       "3                       NaN                  NaN  \n",
       "4                       NaN                  NaN  \n",
       "5                       NaN                  NaN  \n",
       "6                       NaN                  NaN  \n",
       "7                       NaN                  NaN  \n",
       "8                       NaN                  NaN  \n",
       "9                       NaN                  NaN  \n",
       "10                      NaN                  NaN  \n",
       "11                      NaN                  NaN  \n",
       "12                      NaN                  NaN  \n",
       "13                      NaN                  NaN  \n",
       "14                      NaN                  NaN  \n",
       "15                      NaN                  NaN  \n",
       "16                      NaN                  NaN  \n",
       "17                      NaN                  NaN  \n",
       "18                      NaN                  NaN  \n",
       "19                      NaN                  NaN  \n",
       "20                      NaN                  NaN  \n",
       "21                      NaN                  NaN  \n",
       "22                     13.0                  NaN  \n",
       "23                      NaN                  NaN  \n",
       "24                      NaN                  NaN  \n",
       "25                      NaN                  NaN  \n",
       "26                      NaN                  NaN  \n",
       "27                      NaN                  NaN  \n",
       "28                      NaN                  NaN  \n",
       "29                      NaN                  NaN  \n",
       "...                     ...                  ...  \n",
       "2973750                 NaN         6.059052e+13  \n",
       "2973751                 NaN         6.059032e+13  \n",
       "2973752                 NaN         6.059022e+13  \n",
       "2973753                 NaN         6.059032e+13  \n",
       "2973754                 NaN         6.059032e+13  \n",
       "2973755                 NaN                  NaN  \n",
       "2973756                 NaN         6.059032e+13  \n",
       "2973757                 NaN         6.111007e+13  \n",
       "2973758                 NaN         6.037105e+13  \n",
       "2973759                 NaN                  NaN  \n",
       "2973760                 NaN         6.037621e+13  \n",
       "2973761                 NaN                  NaN  \n",
       "2973762                 NaN         6.037270e+13  \n",
       "2973763                 NaN         6.059087e+13  \n",
       "2973764                 NaN         6.037620e+13  \n",
       "2973765                 NaN         6.059063e+13  \n",
       "2973766                 NaN         6.037402e+13  \n",
       "2973767                 NaN                  NaN  \n",
       "2973768                 NaN                  NaN  \n",
       "2973769                 NaN                  NaN  \n",
       "2973770                 NaN                  NaN  \n",
       "2973771                 NaN                  NaN  \n",
       "2973772                 NaN                  NaN  \n",
       "2973773                 NaN                  NaN  \n",
       "2973774                 NaN                  NaN  \n",
       "2973775                 NaN                  NaN  \n",
       "2973776                 NaN                  NaN  \n",
       "2973777                15.0                  NaN  \n",
       "2973778                 NaN                  NaN  \n",
       "2973779                 NaN                  NaN  \n",
       "\n",
       "[2973780 rows x 58 columns]"
      ]
     },
     "metadata": {},
     "output_type": "display_data"
    },
    {
     "data": {
      "text/html": [
       "<div>\n",
       "<style>\n",
       "    .dataframe thead tr:only-child th {\n",
       "        text-align: right;\n",
       "    }\n",
       "\n",
       "    .dataframe thead th {\n",
       "        text-align: left;\n",
       "    }\n",
       "\n",
       "    .dataframe tbody tr th {\n",
       "        vertical-align: top;\n",
       "    }\n",
       "</style>\n",
       "<table border=\"1\" class=\"dataframe\">\n",
       "  <thead>\n",
       "    <tr style=\"text-align: right;\">\n",
       "      <th></th>\n",
       "      <th>parcelid</th>\n",
       "      <th>airconditioningtypeid</th>\n",
       "      <th>architecturalstyletypeid</th>\n",
       "      <th>basementsqft</th>\n",
       "      <th>bathroomcnt</th>\n",
       "      <th>bedroomcnt</th>\n",
       "      <th>buildingclasstypeid</th>\n",
       "      <th>buildingqualitytypeid</th>\n",
       "      <th>calculatedbathnbr</th>\n",
       "      <th>decktypeid</th>\n",
       "      <th>...</th>\n",
       "      <th>numberofstories</th>\n",
       "      <th>fireplaceflag</th>\n",
       "      <th>structuretaxvaluedollarcnt</th>\n",
       "      <th>taxvaluedollarcnt</th>\n",
       "      <th>assessmentyear</th>\n",
       "      <th>landtaxvaluedollarcnt</th>\n",
       "      <th>taxamount</th>\n",
       "      <th>taxdelinquencyflag</th>\n",
       "      <th>taxdelinquencyyear</th>\n",
       "      <th>censustractandblock</th>\n",
       "    </tr>\n",
       "  </thead>\n",
       "  <tbody>\n",
       "  </tbody>\n",
       "</table>\n",
       "<p>0 rows × 58 columns</p>\n",
       "</div>"
      ],
      "text/plain": [
       "Empty DataFrame\n",
       "Columns: [parcelid, airconditioningtypeid, architecturalstyletypeid, basementsqft, bathroomcnt, bedroomcnt, buildingclasstypeid, buildingqualitytypeid, calculatedbathnbr, decktypeid, finishedfloor1squarefeet, calculatedfinishedsquarefeet, finishedsquarefeet12, finishedsquarefeet13, finishedsquarefeet15, finishedsquarefeet50, finishedsquarefeet6, fips, fireplacecnt, fullbathcnt, garagecarcnt, garagetotalsqft, hashottuborspa, heatingorsystemtypeid, latitude, longitude, lotsizesquarefeet, poolcnt, poolsizesum, pooltypeid10, pooltypeid2, pooltypeid7, propertycountylandusecode, propertylandusetypeid, propertyzoningdesc, rawcensustractandblock, regionidcity, regionidcounty, regionidneighborhood, regionidzip, roomcnt, storytypeid, threequarterbathnbr, typeconstructiontypeid, unitcnt, yardbuildingsqft17, yardbuildingsqft26, yearbuilt, numberofstories, fireplaceflag, structuretaxvaluedollarcnt, taxvaluedollarcnt, assessmentyear, landtaxvaluedollarcnt, taxamount, taxdelinquencyflag, taxdelinquencyyear, censustractandblock]\n",
       "Index: []\n",
       "\n",
       "[0 rows x 58 columns]"
      ]
     },
     "metadata": {},
     "output_type": "display_data"
    },
    {
     "ename": "ValueError",
     "evalue": "Found array with 0 sample(s) (shape=(0, 2)) while a minimum of 1 is required.",
     "output_type": "error",
     "traceback": [
      "\u001b[0;31m---------------------------------------------------------------------------\u001b[0m",
      "\u001b[0;31mValueError\u001b[0m                                Traceback (most recent call last)",
      "\u001b[0;32m<ipython-input-33-07dd69aa2af9>\u001b[0m in \u001b[0;36m<module>\u001b[0;34m()\u001b[0m\n\u001b[1;32m     16\u001b[0m \u001b[0mpad\u001b[0m\u001b[0;34m(\u001b[0m\u001b[0;34m'latitude'\u001b[0m\u001b[0;34m)\u001b[0m\u001b[0;34m\u001b[0m\u001b[0m\n\u001b[1;32m     17\u001b[0m \u001b[0mpad\u001b[0m\u001b[0;34m(\u001b[0m\u001b[0;34m'longitude'\u001b[0m\u001b[0;34m)\u001b[0m\u001b[0;34m\u001b[0m\u001b[0m\n\u001b[0;32m---> 18\u001b[0;31m \u001b[0mfill_with_NN\u001b[0m\u001b[0;34m(\u001b[0m\u001b[0mclean\u001b[0m\u001b[0;34m,\u001b[0m \u001b[0;34m'regionidcity'\u001b[0m\u001b[0;34m)\u001b[0m\u001b[0;34m\u001b[0m\u001b[0m\n\u001b[0m\u001b[1;32m     19\u001b[0m \u001b[0;34m\u001b[0m\u001b[0m\n\u001b[1;32m     20\u001b[0m \u001b[0mdescribe_values\u001b[0m\u001b[0;34m(\u001b[0m\u001b[0mclean\u001b[0m\u001b[0;34m)\u001b[0m\u001b[0;34m\u001b[0m\u001b[0m\n",
      "\u001b[0;32m<ipython-input-33-07dd69aa2af9>\u001b[0m in \u001b[0;36mfill_with_NN\u001b[0;34m(df, col)\u001b[0m\n\u001b[1;32m     10\u001b[0m     \u001b[0mknn\u001b[0m \u001b[0;34m=\u001b[0m \u001b[0mKNeighborsClassifier\u001b[0m\u001b[0;34m(\u001b[0m\u001b[0mn_neighbors\u001b[0m\u001b[0;34m=\u001b[0m\u001b[0;36m3\u001b[0m\u001b[0;34m)\u001b[0m\u001b[0;34m\u001b[0m\u001b[0m\n\u001b[1;32m     11\u001b[0m     \u001b[0mknn\u001b[0m\u001b[0;34m.\u001b[0m\u001b[0mfit\u001b[0m\u001b[0;34m(\u001b[0m\u001b[0mX\u001b[0m\u001b[0;34m,\u001b[0m \u001b[0my\u001b[0m\u001b[0;34m)\u001b[0m\u001b[0;34m\u001b[0m\u001b[0m\n\u001b[0;32m---> 12\u001b[0;31m     \u001b[0mdf\u001b[0m\u001b[0;34m.\u001b[0m\u001b[0mloc\u001b[0m\u001b[0;34m[\u001b[0m\u001b[0mdf\u001b[0m\u001b[0;34m[\u001b[0m\u001b[0mcol\u001b[0m\u001b[0;34m]\u001b[0m\u001b[0;34m.\u001b[0m\u001b[0misnull\u001b[0m\u001b[0;34m(\u001b[0m\u001b[0;34m)\u001b[0m \u001b[0;34m&\u001b[0m \u001b[0;34m~\u001b[0m\u001b[0mdf\u001b[0m\u001b[0;34m[\u001b[0m\u001b[0;34m'latitude'\u001b[0m\u001b[0;34m]\u001b[0m\u001b[0;34m.\u001b[0m\u001b[0misnull\u001b[0m\u001b[0;34m(\u001b[0m\u001b[0;34m)\u001b[0m \u001b[0;34m&\u001b[0m \u001b[0;34m~\u001b[0m\u001b[0mdf\u001b[0m\u001b[0;34m[\u001b[0m\u001b[0;34m'longitude'\u001b[0m\u001b[0;34m]\u001b[0m\u001b[0;34m.\u001b[0m\u001b[0misnull\u001b[0m\u001b[0;34m(\u001b[0m\u001b[0;34m)\u001b[0m\u001b[0;34m,\u001b[0m \u001b[0;34m(\u001b[0m\u001b[0mcol\u001b[0m\u001b[0;34m)\u001b[0m\u001b[0;34m]\u001b[0m \u001b[0;34m=\u001b[0m \u001b[0mknn\u001b[0m\u001b[0;34m.\u001b[0m\u001b[0mpredict\u001b[0m\u001b[0;34m(\u001b[0m\u001b[0mdf_pred\u001b[0m\u001b[0;34m.\u001b[0m\u001b[0mloc\u001b[0m\u001b[0;34m[\u001b[0m\u001b[0;34m:\u001b[0m\u001b[0;34m,\u001b[0m \u001b[0;34m(\u001b[0m\u001b[0;34m'longitude'\u001b[0m\u001b[0;34m,\u001b[0m \u001b[0;34m'latitude'\u001b[0m\u001b[0;34m)\u001b[0m\u001b[0;34m]\u001b[0m\u001b[0;34m)\u001b[0m\u001b[0;34m\u001b[0m\u001b[0m\n\u001b[0m\u001b[1;32m     13\u001b[0m     \u001b[0mdisplay\u001b[0m\u001b[0;34m(\u001b[0m\u001b[0mpreds\u001b[0m\u001b[0;34m)\u001b[0m\u001b[0;34m\u001b[0m\u001b[0m\n\u001b[1;32m     14\u001b[0m \u001b[0;34m\u001b[0m\u001b[0m\n",
      "\u001b[0;32m~/anaconda2/envs/deeplearn/lib/python3.6/site-packages/sklearn/neighbors/classification.py\u001b[0m in \u001b[0;36mpredict\u001b[0;34m(self, X)\u001b[0m\n\u001b[1;32m    141\u001b[0m             \u001b[0mClass\u001b[0m \u001b[0mlabels\u001b[0m \u001b[0;32mfor\u001b[0m \u001b[0meach\u001b[0m \u001b[0mdata\u001b[0m \u001b[0msample\u001b[0m\u001b[0;34m.\u001b[0m\u001b[0;34m\u001b[0m\u001b[0m\n\u001b[1;32m    142\u001b[0m         \"\"\"\n\u001b[0;32m--> 143\u001b[0;31m         \u001b[0mX\u001b[0m \u001b[0;34m=\u001b[0m \u001b[0mcheck_array\u001b[0m\u001b[0;34m(\u001b[0m\u001b[0mX\u001b[0m\u001b[0;34m,\u001b[0m \u001b[0maccept_sparse\u001b[0m\u001b[0;34m=\u001b[0m\u001b[0;34m'csr'\u001b[0m\u001b[0;34m)\u001b[0m\u001b[0;34m\u001b[0m\u001b[0m\n\u001b[0m\u001b[1;32m    144\u001b[0m \u001b[0;34m\u001b[0m\u001b[0m\n\u001b[1;32m    145\u001b[0m         \u001b[0mneigh_dist\u001b[0m\u001b[0;34m,\u001b[0m \u001b[0mneigh_ind\u001b[0m \u001b[0;34m=\u001b[0m \u001b[0mself\u001b[0m\u001b[0;34m.\u001b[0m\u001b[0mkneighbors\u001b[0m\u001b[0;34m(\u001b[0m\u001b[0mX\u001b[0m\u001b[0;34m)\u001b[0m\u001b[0;34m\u001b[0m\u001b[0m\n",
      "\u001b[0;32m~/anaconda2/envs/deeplearn/lib/python3.6/site-packages/sklearn/utils/validation.py\u001b[0m in \u001b[0;36mcheck_array\u001b[0;34m(array, accept_sparse, dtype, order, copy, force_all_finite, ensure_2d, allow_nd, ensure_min_samples, ensure_min_features, warn_on_dtype, estimator)\u001b[0m\n\u001b[1;32m    429\u001b[0m                              \u001b[0;34m\" minimum of %d is required%s.\"\u001b[0m\u001b[0;34m\u001b[0m\u001b[0m\n\u001b[1;32m    430\u001b[0m                              % (n_samples, shape_repr, ensure_min_samples,\n\u001b[0;32m--> 431\u001b[0;31m                                 context))\n\u001b[0m\u001b[1;32m    432\u001b[0m \u001b[0;34m\u001b[0m\u001b[0m\n\u001b[1;32m    433\u001b[0m     \u001b[0;32mif\u001b[0m \u001b[0mensure_min_features\u001b[0m \u001b[0;34m>\u001b[0m \u001b[0;36m0\u001b[0m \u001b[0;32mand\u001b[0m \u001b[0marray\u001b[0m\u001b[0;34m.\u001b[0m\u001b[0mndim\u001b[0m \u001b[0;34m==\u001b[0m \u001b[0;36m2\u001b[0m\u001b[0;34m:\u001b[0m\u001b[0;34m\u001b[0m\u001b[0m\n",
      "\u001b[0;31mValueError\u001b[0m: Found array with 0 sample(s) (shape=(0, 2)) while a minimum of 1 is required."
     ]
    }
   ],
   "source": [
    "from sklearn.neighbors import KNeighborsClassifier\n",
    "\n",
    "def fill_with_NN(df, col):\n",
    "    df_train = df[~df[col].isnull() & ~df['latitude'].isnull() & ~df['longitude'].isnull()]\n",
    "    df_pred = df[df[col].isnull() & ~df['latitude'].isnull() & ~df['longitude'].isnull()]\n",
    "    display(df_train)\n",
    "    display(df_pred)\n",
    "    X = df_train.loc[:, ('longitude', 'latitude')].astype('float32')\n",
    "    y = df_train[col]\n",
    "    knn = KNeighborsClassifier(n_neighbors=3)\n",
    "    knn.fit(X, y)\n",
    "    df.loc[df[col].isnull() & ~df['latitude'].isnull() & ~df['longitude'].isnull(), (col)] = knn.predict(df_pred.loc[:, ('longitude', 'latitude')])\n",
    "    display(preds)\n",
    "\n",
    "pad('regionidcity')\n",
    "pad('latitude')\n",
    "pad('longitude')\n",
    "fill_with_NN(clean, 'regionidcity')\n",
    "\n",
    "describe_values(clean)\n",
    "# regionidneighborhood"
   ]
  },
  {
   "cell_type": "code",
   "execution_count": 174,
   "metadata": {
    "scrolled": true
   },
   "outputs": [
    {
     "data": {
      "text/plain": [
       "'taxdelinquencyyear'"
      ]
     },
     "metadata": {},
     "output_type": "display_data"
    },
    {
     "data": {
      "text/plain": [
       "array([ nan,  13.,  15.,  11.,  14.,   9.,  10.,   8.,  12.,   7.,   6.,\n",
       "         2.,  92.,   5.,   3.,   4.,  95.,  91.,  93.,  98.,  82.,  79.,\n",
       "        94.,  97.,  90.,  99.,   0.,   1.,  87.,  84.,  86.,  88.,  96.])"
      ]
     },
     "metadata": {},
     "output_type": "display_data"
    },
    {
     "data": {
      "text/plain": [
       "array([ nan,  13.,  15.,  11.,  14.,   9.,  10.,   8.,  12.,   7.,   6.,\n",
       "         2.,  92.,   5.,   3.,   4.,  95.,  91.,  93.,  98.,  82.,  79.,\n",
       "        94.,  97.,  90.,  99.,   0.,   1.,  87.,  84.,  86.,  88.,  96.])"
      ]
     },
     "metadata": {},
     "output_type": "display_data"
    }
   ],
   "source": [
    "pad('taxdelinquencyyear')"
   ]
  },
  {
   "cell_type": "code",
   "execution_count": 261,
   "metadata": {
    "scrolled": false
   },
   "outputs": [
    {
     "data": {
      "text/plain": [
       "{'age',\n",
       " 'basementsqft',\n",
       " 'bathroomcnt',\n",
       " 'bedroomcnt',\n",
       " 'calculatedbathnbr',\n",
       " 'calculatedfinishedsquarefeet',\n",
       " 'finishedfloor1squarefeet',\n",
       " 'finishedsquarefeet12',\n",
       " 'finishedsquarefeet13',\n",
       " 'finishedsquarefeet15',\n",
       " 'finishedsquarefeet50',\n",
       " 'finishedsquarefeet6',\n",
       " 'fireplacecnt',\n",
       " 'fullbathcnt',\n",
       " 'garagecarcnt',\n",
       " 'garagetotalsqft',\n",
       " 'landtaxvaluedollarcnt',\n",
       " 'latitude',\n",
       " 'longitude',\n",
       " 'lotsizesquarefeet',\n",
       " 'numberofstories',\n",
       " 'poolcnt',\n",
       " 'poolsizesum',\n",
       " 'roomcnt',\n",
       " 'structuretaxvaluedollarcnt',\n",
       " 'taxamount',\n",
       " 'taxvaluedollarcnt',\n",
       " 'threequarterbathnbr',\n",
       " 'unitcnt',\n",
       " 'yardbuildingsqft17',\n",
       " 'yardbuildingsqft26'}"
      ]
     },
     "metadata": {},
     "output_type": "display_data"
    }
   ],
   "source": [
    "# categorical columns\n",
    "cat_cols = ['airconditioningtypeid', 'architecturalstyletypeid', 'buildingclasstypeid', 'buildingqualitytypeid',\n",
    "            'decktypeid', 'fips', 'hashottuborspa', 'heatingorsystemtypeid', 'pooltypeid10', \n",
    "            'pooltypeid2', 'pooltypeid7', 'propertycountylandusecode', 'propertylandusetypeid', \n",
    "            'propertyzoningdesc', 'rawcensustractandblock', 'regionidcity', 'regionidcounty', 'regionidneighborhood', \n",
    "            'regionidzip', 'storytypeid', 'typeconstructiontypeid', 'fireplaceflag', 'assessmentyear', \n",
    "            'taxdelinquencyflag', 'taxdelinquencyyear', 'censustractandblock', 'yearbuilt']\n",
    "\n",
    "# stuff splitting the date\n",
    "cat_cols.extend(['transactiondate_day', 'transactiondate_dayofweek', 'transactiondate_month', \n",
    "                 'transactiondate_week', 'transactiondate_year'])\n",
    "\n",
    "# columns we'll drop\n",
    "drop_cols = ['transactiondate', 'parcelid', 'logerror']\n",
    "\n",
    "# continuous columns\n",
    "cont_cols = set(merged.columns) - set(cat_cols) - set(drop_cols)\n",
    "\n",
    "display(cont_cols)"
   ]
  },
  {
   "cell_type": "code",
   "execution_count": 262,
   "metadata": {
    "collapsed": true
   },
   "outputs": [],
   "source": [
    "for c in cat_cols:\n",
    "    merged[c] = merged[c].astype('str')\n",
    "    merged[c].fillna(\"\")\n",
    "    merged[c] = merged[c].astype('category')\n",
    "for c in cont_cols: \n",
    "    merged.loc[merged[c].isnull(), c] = 0\n",
    "    \n",
    "#describe(merged)"
   ]
  },
  {
   "cell_type": "code",
   "execution_count": 263,
   "metadata": {
    "collapsed": true
   },
   "outputs": [],
   "source": [
    "#see if all properties have test data\n",
    "subm = pd.read_csv('zillow/sample_submission.csv')\n",
    "\n",
    "# describe(subm)"
   ]
  },
  {
   "cell_type": "code",
   "execution_count": 264,
   "metadata": {},
   "outputs": [
    {
     "data": {
      "text/plain": [
       "2985217"
      ]
     },
     "metadata": {},
     "output_type": "display_data"
    },
    {
     "data": {
      "text/plain": [
       "0"
      ]
     },
     "metadata": {},
     "output_type": "display_data"
    },
    {
     "data": {
      "text/plain": [
       "2895067"
      ]
     },
     "metadata": {},
     "output_type": "display_data"
    }
   ],
   "source": [
    "# see how much training data we have\n",
    "\n",
    "# total props in submission\n",
    "display(subm['ParcelId'].count())\n",
    "\n",
    "# submission vs property data\n",
    "display(subm[~subm['ParcelId'].isin(props['parcelid'])]['ParcelId'].count())\n",
    "\n",
    "# submission vs training data\n",
    "display(subm[~subm['ParcelId'].isin(train['parcelid'])]['ParcelId'].count())"
   ]
  },
  {
   "cell_type": "code",
   "execution_count": 265,
   "metadata": {
    "collapsed": true
   },
   "outputs": [],
   "source": [
    "X = merged.drop(drop_cols, axis=1)\n",
    "X = merged.drop('logerror', axis=1)\n",
    "y = merged['logerror']"
   ]
  },
  {
   "cell_type": "code",
   "execution_count": 266,
   "metadata": {
    "collapsed": true
   },
   "outputs": [],
   "source": [
    "cat_maps = [(c, LabelEncoder()) for c in cat_cols]\n",
    "cont_maps = [([c], StandardScaler()) for c in cont_cols]"
   ]
  },
  {
   "cell_type": "code",
   "execution_count": 267,
   "metadata": {},
   "outputs": [
    {
     "data": {
      "text/plain": [
       "32"
      ]
     },
     "execution_count": 267,
     "metadata": {},
     "output_type": "execute_result"
    }
   ],
   "source": [
    "cat_mapper = DataFrameMapper(cat_maps)\n",
    "cat_map_fit = cat_mapper.fit(X)\n",
    "len(cat_map_fit.features)"
   ]
  },
  {
   "cell_type": "code",
   "execution_count": 268,
   "metadata": {},
   "outputs": [
    {
     "name": "stderr",
     "output_type": "stream",
     "text": [
      "/home/terence/anaconda2/envs/deeplearn/lib/python3.6/site-packages/sklearn/utils/validation.py:444: DataConversionWarning: Data with input dtype int64 was converted to float64 by StandardScaler.\n",
      "  warnings.warn(msg, DataConversionWarning)\n"
     ]
    },
    {
     "data": {
      "text/plain": [
       "31"
      ]
     },
     "execution_count": 268,
     "metadata": {},
     "output_type": "execute_result"
    }
   ],
   "source": [
    "cont_mapper = DataFrameMapper(cont_maps)\n",
    "cont_map_fit = cont_mapper.fit(X)\n",
    "len(cont_map_fit.features)"
   ]
  },
  {
   "cell_type": "code",
   "execution_count": 269,
   "metadata": {},
   "outputs": [
    {
     "name": "stderr",
     "output_type": "stream",
     "text": [
      "/home/terence/anaconda2/envs/deeplearn/lib/python3.6/site-packages/sklearn/utils/validation.py:444: DataConversionWarning: Data with input dtype int64 was converted to float64 by StandardScaler.\n",
      "  warnings.warn(msg, DataConversionWarning)\n"
     ]
    }
   ],
   "source": [
    "X_cat = cat_mapper.transform(X).astype(np.int64)\n",
    "X_cont = cont_mapper.transform(X).astype(np.float32)"
   ]
  },
  {
   "cell_type": "code",
   "execution_count": 270,
   "metadata": {
    "collapsed": true
   },
   "outputs": [],
   "source": [
    "X_all = np.concatenate([X_cat, X_cont], axis=1)"
   ]
  },
  {
   "cell_type": "code",
   "execution_count": 271,
   "metadata": {
    "collapsed": true
   },
   "outputs": [],
   "source": [
    "X_train, X_test, y_train, y_test = train_test_split(X_all, y, test_size=0.1)"
   ]
  },
  {
   "cell_type": "code",
   "execution_count": 272,
   "metadata": {
    "collapsed": true
   },
   "outputs": [],
   "source": [
    "train = xgboost.DMatrix(X_train, y_train, feature_names=cat_cols + list(cont_cols))\n",
    "test = xgboost.DMatrix(X_test, y_test, feature_names=cat_cols + list(cont_cols))"
   ]
  },
  {
   "cell_type": "code",
   "execution_count": 285,
   "metadata": {
    "collapsed": true
   },
   "outputs": [],
   "source": [
    "xgb_parms = {'eta': 0.01, 'max_depth': 6, 'objective': 'reg:linear', 'eval_metric': 'mae', 'silent': 1}"
   ]
  },
  {
   "cell_type": "code",
   "execution_count": 286,
   "metadata": {},
   "outputs": [
    {
     "name": "stdout",
     "output_type": "stream",
     "text": [
      "[0]\ttrain-mae:0.492253\ttest-mae:0.490514\n",
      "Multiple eval metrics have been passed: 'test-mae' will be used for early stopping.\n",
      "\n",
      "Will train until test-mae hasn't improved in 100 rounds.\n",
      "[50]\ttrain-mae:0.306081\ttest-mae:0.304423\n",
      "[100]\ttrain-mae:0.196957\ttest-mae:0.195456\n",
      "[150]\ttrain-mae:0.134524\ttest-mae:0.133135\n",
      "[200]\ttrain-mae:0.100185\ttest-mae:0.098941\n",
      "[250]\ttrain-mae:0.082543\ttest-mae:0.081343\n",
      "[300]\ttrain-mae:0.074129\ttest-mae:0.073052\n",
      "[350]\ttrain-mae:0.070293\ttest-mae:0.069268\n",
      "[400]\ttrain-mae:0.068527\ttest-mae:0.067582\n",
      "[450]\ttrain-mae:0.067659\ttest-mae:0.066816\n",
      "[500]\ttrain-mae:0.067184\ttest-mae:0.066461\n",
      "[550]\ttrain-mae:0.066905\ttest-mae:0.066294\n",
      "[600]\ttrain-mae:0.06671\ttest-mae:0.066228\n",
      "[650]\ttrain-mae:0.066561\ttest-mae:0.066205\n",
      "[700]\ttrain-mae:0.066428\ttest-mae:0.066199\n",
      "[750]\ttrain-mae:0.066313\ttest-mae:0.066208\n",
      "[800]\ttrain-mae:0.066198\ttest-mae:0.066253\n",
      "Stopping. Best iteration:\n",
      "[732]\ttrain-mae:0.066353\ttest-mae:0.066193\n",
      "\n"
     ]
    }
   ],
   "source": [
    "xgb_parms['seed'] = random.randint(0,1e9)\n",
    "watchlist = [(train, 'train'), (test, 'test')]\n",
    "xgbmodel = xgboost.train(xgb_parms, train, 10000, watchlist, early_stopping_rounds=100, verbose_eval=50)"
   ]
  },
  {
   "cell_type": "code",
   "execution_count": 287,
   "metadata": {},
   "outputs": [
    {
     "data": {
      "text/plain": [
       "b'[0]\\teval-mae:0.066267'"
      ]
     },
     "execution_count": 287,
     "metadata": {},
     "output_type": "execute_result"
    }
   ],
   "source": [
    "xgbmodel.eval(test)"
   ]
  },
  {
   "cell_type": "code",
   "execution_count": null,
   "metadata": {
    "collapsed": true
   },
   "outputs": [],
   "source": []
  }
 ],
 "metadata": {
  "kernelspec": {
   "display_name": "Python 3",
   "language": "python",
   "name": "python3"
  },
  "language_info": {
   "codemirror_mode": {
    "name": "ipython",
    "version": 3
   },
   "file_extension": ".py",
   "mimetype": "text/x-python",
   "name": "python",
   "nbconvert_exporter": "python",
   "pygments_lexer": "ipython3",
   "version": "3.6.2"
  }
 },
 "nbformat": 4,
 "nbformat_minor": 2
}
