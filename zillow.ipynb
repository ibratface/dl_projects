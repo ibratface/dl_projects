{
 "cells": [
  {
   "cell_type": "code",
   "execution_count": 34,
   "metadata": {
    "scrolled": false
   },
   "outputs": [
    {
     "data": {
      "text/plain": [
       "13074"
      ]
     },
     "execution_count": 34,
     "metadata": {},
     "output_type": "execute_result"
    }
   ],
   "source": [
    "%reload_ext autoreload\n",
    "%autoreload 2\n",
    "\n",
    "from IPython.display import HTML\n",
    "\n",
    "import os\n",
    "import itertools\n",
    "import gc\n",
    "import pickle\n",
    "import random\n",
    "\n",
    "import numpy as np\n",
    "import pandas as pd\n",
    "import pandas_summary as pds\n",
    "import seaborn as sns\n",
    "import xgboost as xgb\n",
    "\n",
    "from sklearn_pandas import DataFrameMapper\n",
    "from sklearn.preprocessing import LabelEncoder, Imputer, StandardScaler, Normalizer, MinMaxScaler\n",
    "# from sklearn.model_selection import train_test_split\n",
    "from sklearn.metrics import mean_absolute_error\n",
    "\n",
    "import keras\n",
    "from keras import initializers\n",
    "from keras.layers import Input, Embedding, Dense, Flatten, Dropout\n",
    "from keras.models import Model\n",
    "from keras.layers.merge import concatenate, multiply\n",
    "from keras.layers.advanced_activations import LeakyReLU\n",
    "\n",
    "from zillow import *\n",
    "from utils import *\n",
    "\n",
    "import matplotlib.pyplot as plt\n",
    "%matplotlib inline\n",
    "\n",
    "dl = DataLoader()\n",
    "gc.collect()"
   ]
  },
  {
   "cell_type": "code",
   "execution_count": 38,
   "metadata": {},
   "outputs": [
    {
     "data": {
      "text/plain": [
       "{'airconditioningtypeid',\n",
       " 'architecturalstyletypeid',\n",
       " 'basementsqft',\n",
       " 'buildingclasstypeid',\n",
       " 'buildingqualitytypeid',\n",
       " 'decktypeid',\n",
       " 'finishedfloor1squarefeet',\n",
       " 'finishedsquarefeet13',\n",
       " 'finishedsquarefeet15',\n",
       " 'finishedsquarefeet50',\n",
       " 'finishedsquarefeet6',\n",
       " 'fireplacecnt',\n",
       " 'fireplaceflag',\n",
       " 'garagecarcnt',\n",
       " 'garagetotalsqft',\n",
       " 'hashottuborspa',\n",
       " 'heatingorsystemtypeid',\n",
       " 'numberofstories',\n",
       " 'poolcnt',\n",
       " 'poolsizesum',\n",
       " 'pooltypeid10',\n",
       " 'pooltypeid2',\n",
       " 'pooltypeid7',\n",
       " 'propertyzoningdesc',\n",
       " 'regionidneighborhood',\n",
       " 'storytypeid',\n",
       " 'taxdelinquencyflag',\n",
       " 'taxdelinquencyyear',\n",
       " 'threequarterbathnbr',\n",
       " 'typeconstructiontypeid',\n",
       " 'unitcnt',\n",
       " 'yardbuildingsqft17',\n",
       " 'yardbuildingsqft26'}"
      ]
     },
     "execution_count": 38,
     "metadata": {},
     "output_type": "execute_result"
    }
   ],
   "source": [
    "vals = describe_values(dl.get_properties())\n",
    "cols_high_missing = set(vals.loc[vals['missing %'] > 50]['column'])\n",
    "cols_high_missing"
   ]
  },
  {
   "cell_type": "markdown",
   "metadata": {},
   "source": [
    "# Training & Testing w/ XGBoost"
   ]
  },
  {
   "cell_type": "code",
   "execution_count": 39,
   "metadata": {
    "scrolled": true
   },
   "outputs": [],
   "source": [
    "def remove_outliers(X, y):\n",
    "    f = np.abs(y-y.mean())<=(3*y.std())\n",
    "    return X[f], y[f]\n",
    "\n",
    "def train_test_split(X, y, month=9):\n",
    "    c = X.transaction_month\n",
    "    return X[c < month], X[c == month], X[c > month], y[c < month], y[c == month], y[c > month]\n",
    "\n",
    "\n",
    "def adapt_for_xgb(df):\n",
    "    dropcols = set(['propertyzoningdesc', \n",
    "                'propertycountylandusecode', \n",
    "                'censustractandblock', \n",
    "                'rawcensustractandblock',\n",
    "                'parcelid',\n",
    "               ])\n",
    "    dropcols = dropcols | cols_high_missing\n",
    "\n",
    "    df = df.drop(dropcols, axis=1)\n",
    "    for c in df.columns:\n",
    "        if df[c].dtype.name == 'object':\n",
    "            df[c] = df[c].replace('',0).astype(np.float32)\n",
    "    \n",
    "    return df\n",
    "\n",
    "def xgb_train(params=None):\n",
    "    train = dl.get_training_merged()\n",
    "    train = adapt_for_xgb(train)\n",
    "    \n",
    "    X = train.drop(['logerror', 'logerror_abs'], axis=1)\n",
    "    y = train['logerror']\n",
    "    \n",
    "    del train; gc.collect()\n",
    "    \n",
    "    x_train, x_valid, x_test, y_train, y_valid, y_test = train_test_split(X, y)\n",
    "#     x_train, y_train = remove_outliers(x_train, y_train)\n",
    "\n",
    "    d_train = xgb.DMatrix(x_train, label=y_train)\n",
    "    d_valid = xgb.DMatrix(x_valid, label=y_valid)\n",
    "    d_test = xgb.DMatrix(x_test, label=y_test)\n",
    "    \n",
    "    del x_train, x_valid, x_test; gc.collect()\n",
    "\n",
    "    if not params:\n",
    "        params = {\n",
    "            'eta': 0.02,\n",
    "            'objective': 'reg:linear',\n",
    "            'eval_metric': 'mae',\n",
    "#             'objective': 'binary:logistic',\n",
    "#             'eval_metric': 'logloss',        \n",
    "            'max_depth': 4,\n",
    "            'silent': 1,\n",
    "            'subsample': 0.75,\n",
    "            'colsample_bytree': 0.6,\n",
    "            'min_child_weight': 4,\n",
    "            'lambda': 2,\n",
    "#             'alpha': 1,\n",
    "        }\n",
    "\n",
    "    watchlist = [(d_train, 'train'), (d_valid, 'valid')]\n",
    "    clf = xgb.train(params, d_train, 10000, watchlist, early_stopping_rounds=100, verbose_eval=20)\n",
    "    mae = mean_absolute_error(y_test, clf.predict(d_test))\n",
    "    print (\"Test MAE: \", mae)\n",
    "    \n",
    "    del d_train, d_valid, d_test; gc.collect()\n",
    "    \n",
    "    return clf\n",
    "\n",
    "\n",
    "def xgb_predict(clf):\n",
    "    # build the test set\n",
    "    subm = pd.DataFrame()\n",
    "    subm['ParcelId'] = dl.get_properties_preprocessed()['parcelid']\n",
    "    months = [10, 11, 12, 22, 23, 24]\n",
    "    dates = ['201610', '201611', '201612', '201710', '201711', '201712']\n",
    "#     months = [10]\n",
    "#     dates = ['201610']\n",
    "    for month, date in zip(months, dates):\n",
    "        print('Predicting...', date)\n",
    "\n",
    "        merged = dl.get_prediction(month)\n",
    "        merged = adapt_for_xgb(merged)\n",
    "        gc.collect()\n",
    "        \n",
    "        dm_test = xgb.DMatrix(merged)\n",
    "        del merged; gc.collect()\n",
    "        \n",
    "        subm[date] = clf.predict(dm_test)\n",
    "        del dm_test; gc.collect()\n",
    "    \n",
    "    subm.to_csv('zillow/submission.csv.gz', index=False, float_format='%.4f', compression='gzip')\n",
    "    return subm\n",
    "\n",
    "    \n",
    "def xgb_importance(clf):\n",
    "    importance = clf.get_fscore()\n",
    "    importance = sorted(importance.items(), key=lambda x: x[1])\n",
    "\n",
    "    df = pd.DataFrame(importance, columns=['feature', 'fscore'])\n",
    "    df['fscore'] = df['fscore'] / df['fscore'].sum()\n",
    "\n",
    "    df.plot(kind='barh', x='feature', y='fscore', legend=False, figsize=(6, 10))\n",
    "    plt.title('XGBoost Feature Importance')\n",
    "    plt.xlabel('relative importance');\n",
    "    return df\n",
    "    \n",
    "# train a model\n",
    "def train_predict(params=None, predict=False):\n",
    "    clf = xgb_train(params)\n",
    "    imp = xgb_importance(clf)\n",
    "    subm = None\n",
    "    if predict:\n",
    "        subm = xgb_predict(clf)\n",
    "    return clf, subm, imp"
   ]
  },
  {
   "cell_type": "code",
   "execution_count": 40,
   "metadata": {
    "scrolled": true
   },
   "outputs": [
    {
     "name": "stdout",
     "output_type": "stream",
     "text": [
      "[0]\ttrain-mae:0.495975\tvalid-mae:0.48973\n",
      "Multiple eval metrics have been passed: 'valid-mae' will be used for early stopping.\n",
      "\n",
      "Will train until valid-mae hasn't improved in 100 rounds.\n",
      "[20]\ttrain-mae:0.450406\tvalid-mae:0.444202\n",
      "[40]\ttrain-mae:0.409306\tvalid-mae:0.403075\n",
      "[60]\ttrain-mae:0.372298\tvalid-mae:0.366029\n",
      "[80]\ttrain-mae:0.33896\tvalid-mae:0.332664\n",
      "[100]\ttrain-mae:0.309\tvalid-mae:0.302661\n",
      "[120]\ttrain-mae:0.28206\tvalid-mae:0.275729\n",
      "[140]\ttrain-mae:0.257921\tvalid-mae:0.251572\n",
      "[160]\ttrain-mae:0.236209\tvalid-mae:0.229933\n",
      "[180]\ttrain-mae:0.216745\tvalid-mae:0.21044\n",
      "[200]\ttrain-mae:0.199316\tvalid-mae:0.193062\n",
      "[220]\ttrain-mae:0.18375\tvalid-mae:0.177477\n",
      "[240]\ttrain-mae:0.169837\tvalid-mae:0.163529\n",
      "[260]\ttrain-mae:0.157452\tvalid-mae:0.151132\n",
      "[280]\ttrain-mae:0.146413\tvalid-mae:0.140098\n",
      "[300]\ttrain-mae:0.136584\tvalid-mae:0.130344\n",
      "[320]\ttrain-mae:0.127877\tvalid-mae:0.121706\n",
      "[340]\ttrain-mae:0.12017\tvalid-mae:0.114015\n",
      "[360]\ttrain-mae:0.113339\tvalid-mae:0.107259\n",
      "[380]\ttrain-mae:0.107358\tvalid-mae:0.101357\n",
      "[400]\ttrain-mae:0.10209\tvalid-mae:0.096203\n",
      "[420]\ttrain-mae:0.097471\tvalid-mae:0.091689\n",
      "[440]\ttrain-mae:0.093439\tvalid-mae:0.087789\n",
      "[460]\ttrain-mae:0.089919\tvalid-mae:0.084413\n",
      "[480]\ttrain-mae:0.086882\tvalid-mae:0.081535\n",
      "[500]\ttrain-mae:0.084232\tvalid-mae:0.079028\n",
      "[520]\ttrain-mae:0.081944\tvalid-mae:0.076908\n",
      "[540]\ttrain-mae:0.08\tvalid-mae:0.074987\n",
      "[560]\ttrain-mae:0.078336\tvalid-mae:0.073515\n",
      "[580]\ttrain-mae:0.076904\tvalid-mae:0.072273\n",
      "[600]\ttrain-mae:0.075666\tvalid-mae:0.071195\n",
      "[620]\ttrain-mae:0.074622\tvalid-mae:0.070291\n",
      "[640]\ttrain-mae:0.073738\tvalid-mae:0.069571\n",
      "[660]\ttrain-mae:0.072982\tvalid-mae:0.068956\n",
      "[680]\ttrain-mae:0.072347\tvalid-mae:0.068453\n",
      "[700]\ttrain-mae:0.071803\tvalid-mae:0.068037\n",
      "[720]\ttrain-mae:0.071327\tvalid-mae:0.06768\n",
      "[740]\ttrain-mae:0.070932\tvalid-mae:0.0674\n",
      "[760]\ttrain-mae:0.070581\tvalid-mae:0.067153\n",
      "[780]\ttrain-mae:0.070288\tvalid-mae:0.066962\n",
      "[800]\ttrain-mae:0.070031\tvalid-mae:0.066794\n",
      "[820]\ttrain-mae:0.069813\tvalid-mae:0.066653\n",
      "[840]\ttrain-mae:0.069631\tvalid-mae:0.066546\n",
      "[860]\ttrain-mae:0.069472\tvalid-mae:0.066453\n",
      "[880]\ttrain-mae:0.069331\tvalid-mae:0.06638\n",
      "[900]\ttrain-mae:0.069218\tvalid-mae:0.066325\n",
      "[920]\ttrain-mae:0.069116\tvalid-mae:0.066277\n",
      "[940]\ttrain-mae:0.069022\tvalid-mae:0.066239\n",
      "[960]\ttrain-mae:0.068943\tvalid-mae:0.066206\n",
      "[980]\ttrain-mae:0.068875\tvalid-mae:0.066183\n",
      "[1000]\ttrain-mae:0.068819\tvalid-mae:0.066162\n",
      "[1020]\ttrain-mae:0.06877\tvalid-mae:0.066142\n",
      "[1040]\ttrain-mae:0.068729\tvalid-mae:0.066138\n",
      "[1060]\ttrain-mae:0.068691\tvalid-mae:0.066128\n",
      "[1080]\ttrain-mae:0.068657\tvalid-mae:0.066119\n",
      "[1100]\ttrain-mae:0.068626\tvalid-mae:0.066115\n",
      "[1120]\ttrain-mae:0.068597\tvalid-mae:0.066113\n",
      "[1140]\ttrain-mae:0.068569\tvalid-mae:0.066111\n",
      "[1160]\ttrain-mae:0.068544\tvalid-mae:0.066109\n",
      "[1180]\ttrain-mae:0.068528\tvalid-mae:0.06611\n",
      "[1200]\ttrain-mae:0.068509\tvalid-mae:0.066108\n",
      "[1220]\ttrain-mae:0.068494\tvalid-mae:0.066109\n",
      "[1240]\ttrain-mae:0.068476\tvalid-mae:0.06611\n",
      "[1260]\ttrain-mae:0.068462\tvalid-mae:0.066112\n",
      "[1280]\ttrain-mae:0.068448\tvalid-mae:0.06611\n",
      "Stopping. Best iteration:\n",
      "[1195]\ttrain-mae:0.068514\tvalid-mae:0.066107\n",
      "\n",
      "Test MAE:  0.0653941799067\n"
     ]
    },
    {
     "data": {
      "image/png": "[encoded data removed]",
      "text/plain": [
       "<matplotlib.figure.Figure at 0x7fc8c883de10>"
      ]
     },
     "metadata": {},
     "output_type": "display_data"
    }
   ],
   "source": [
    "params = {\n",
    "    'eta': 0.005,\n",
    "    'objective': 'reg:linear',\n",
    "    'eval_metric': 'mae',\n",
    "    'max_depth': 3,\n",
    "    'silent': 1,\n",
    "    'subsample': 0.3,\n",
    "    'colsample_bytree': 0.1,\n",
    "    'min_child_weight': 4,\n",
    "    'lambda': 2,\n",
    "}\n",
    "\n",
    "clf, subm, imp = train_predict(params=params, predict=False)"
   ]
  },
  {
   "cell_type": "markdown",
   "metadata": {},
   "source": [
    "## Baseline MAE = 0.0653845034136"
   ]
  },
  {
   "cell_type": "code",
   "execution_count": null,
   "metadata": {
    "scrolled": false
   },
   "outputs": [],
   "source": [
    "from zillow import DataLoader\n",
    "\n",
    "dl = DataLoader()\n",
    "mrg = dl.get_training_merged()\n",
    "gc.collect()"
   ]
  },
  {
   "cell_type": "code",
   "execution_count": null,
   "metadata": {
    "collapsed": true
   },
   "outputs": [],
   "source": [
    "cols = [c for c in mrg.columns if c.startswith('logerror')] + ['transaction_month', 'fips', 'parcelid']\n",
    "describe_values(mrg.loc[:, cols])"
   ]
  },
  {
   "cell_type": "code",
   "execution_count": null,
   "metadata": {},
   "outputs": [],
   "source": [
    "dl.logerror_month\n",
    "plt.plot(dl.logerror_month['transaction_month'], dl.logerror_month['logerror_abs_month_ave'])"
   ]
  },
  {
   "cell_type": "code",
   "execution_count": null,
   "metadata": {},
   "outputs": [],
   "source": [
    "dl.logerror_fips_month\n",
    "for f in dl.logerror_fips_month['fips'].unique():\n",
    "    df = dl.logerror_fips_month[dl.logerror_fips_month['fips'] == f]\n",
    "    plt.plot(df['transaction_month'], df['logerror_abs_fips_month_ave'])"
   ]
  },
  {
   "cell_type": "code",
   "execution_count": null,
   "metadata": {},
   "outputs": [],
   "source": [
    "from sklearn import linear_model\n",
    "lm = linear_model.Ridge(alpha=0.5)\n",
    "\n",
    "def forecast(df_train, df_preds, xcol, ycol):\n",
    "    lm.fit(df_train.loc[:, [xcol]], df_train[ycol])\n",
    "    df_preds[ycol] = lm.predict(df_preds.loc[:, [xcol]])\n",
    "    return df_preds\n",
    "\n",
    "df_train = dl.logerror_month.copy()\n",
    "cols = list(df_train.columns)\n",
    "cols.remove('transaction_month')\n",
    "df_preds = pd.DataFrame([ m for m in range(13, 25) ], columns=['transaction_month'])\n",
    "for c in cols:\n",
    "    df_preds = forecast(df_train, df_preds, 'transaction_month', c)\n",
    "display(df_preds)"
   ]
  },
  {
   "cell_type": "code",
   "execution_count": null,
   "metadata": {},
   "outputs": [],
   "source": [
    "df_train = dl.logerror_fips_month.copy()\n",
    "cols = list(df_train.columns)\n",
    "cols.remove('transaction_month')\n",
    "cols.remove('fips')\n",
    "df_preds = pd.DataFrame()\n",
    "for f in dl.logerror_fips_month['fips'].unique():\n",
    "    df_fips = pd.DataFrame([ m for m in range(13, 25) ], columns=['transaction_month'])\n",
    "    df_fips['fips'] = f\n",
    "    for c in cols:\n",
    "        df_fips = forecast(df_train[df_train['fips'] == f], df_fips, 'transaction_month', c)\n",
    "    df_preds = df_preds.append(df_fips)\n",
    "display(df_preds)"
   ]
  },
  {
   "cell_type": "markdown",
   "metadata": {},
   "source": [
    "# Prepare Data Mappers"
   ]
  },
  {
   "cell_type": "code",
   "execution_count": null,
   "metadata": {
    "collapsed": true
   },
   "outputs": [],
   "source": [
    "procd = pd.read_pickle('zillow/preprocessed.pkl')"
   ]
  },
  {
   "cell_type": "code",
   "execution_count": null,
   "metadata": {},
   "outputs": [],
   "source": [
    "# Let's do one more test with xgboost to see if everything is dandy.\n",
    "\n",
    "dropcols = [\n",
    "    'propertycountylandusecode',\n",
    "    'propertyzoningdesc',\n",
    "    'rawcensustractandblock',\n",
    "    'censustractandblock',\n",
    "]\n",
    "\n",
    "df = procd.copy()\n",
    "df.drop(dropcols, axis=1, inplace = True)\n",
    "for c in df.columns:\n",
    "    if df[c].dtype.name == 'object':\n",
    "        df[c] = df[c].replace('',0).astype(np.float32)\n",
    "\n",
    "_, _, imp = train_predict(df)"
   ]
  },
  {
   "cell_type": "code",
   "execution_count": null,
   "metadata": {
    "scrolled": true
   },
   "outputs": [],
   "source": [
    "display(imp)"
   ]
  },
  {
   "cell_type": "code",
   "execution_count": null,
   "metadata": {},
   "outputs": [],
   "source": [
    "dropcols = set(imp.loc[imp.fscore < 0.001, 'feature'])\n",
    "# dropcols.remove('transactiondate_month')\n",
    "# dropcols.remove('age')\n",
    "# dropcols.append('parcelid')\n",
    "\n",
    "dropcols.update([\n",
    "    'parcelid',\n",
    "#     'propertycountylandusecode', \n",
    "    'propertyzoningdesc', \n",
    "    'censustractandblock',\n",
    "    'rawcensustractandblock'])\n",
    "\n",
    "dropcols = list(dropcols)\n",
    "display(dropcols)\n",
    "\n",
    "# dropcols = [\n",
    "#     'parcelid',\n",
    "#     'propertycountylandusecode', \n",
    "#     'propertyzoningdesc', \n",
    "#     'censustractandblock',\n",
    "#     'rawcensustractandblock']\n",
    "\n",
    "# cols = {\n",
    "#     'parcelid',\n",
    "#     'airconditioningtypeid', \n",
    "#     'architecturalstyletypeid', \n",
    "#     'basementsqft', \n",
    "#     'bathroomcnt', \n",
    "#     'bedroomcnt',\n",
    "#     'buildingclasstypeid',\n",
    "#     'buildingqualitytypeid',\n",
    "#     'calculatedbathnbr',\n",
    "#     'decktypeid': { 'fillna': 0, 'dtype': 'category' },\n",
    "#     'finishedfloor1squarefeet': { 'fillna': 0, 'dtype': 'float32' },\n",
    "#     'calculatedfinishedsquarefeet': { 'fillna': 0, 'dtype': 'float32' },\n",
    "#     'finishedsquarefeet12': { 'fillna': 0, 'dtype': 'float32' },\n",
    "#     'finishedsquarefeet13': { 'fillna': 0, 'dtype': 'float32' },\n",
    "#     'finishedsquarefeet15': { 'fillna': 0, 'dtype': 'float32' },\n",
    "#     'finishedsquarefeet50': { 'fillna': 0, 'dtype': 'float32' },\n",
    "#     'finishedsquarefeet6': { 'fillna': 0, 'dtype': 'float32' },\n",
    "#     'fips': { 'fillna': 0, 'dtype': 'category' },\n",
    "#     'fireplacecnt': { 'fillna': 0, 'dtype': 'float32' },\n",
    "#     'fullbathcnt': { 'fillna': 0, 'dtype': 'float32' },\n",
    "#     'garagecarcnt': { 'fillna': 'median', 'dtype': 'float32' }, \n",
    "#     'garagetotalsqft', \n",
    "#     'hashottuborspa',\n",
    "#     'heatingorsystemtypeid', \n",
    "#     'latitude', \n",
    "#     'longitude', \n",
    "#     'lotsizesquarefeet',\n",
    "#     'poolcnt', \n",
    "#     'poolsizesum', \n",
    "#     'pooltypeid10', \n",
    "#     'pooltypeid2', \n",
    "#     'pooltypeid7',\n",
    "#     'propertycountylandusecode', \n",
    "#     'propertylandusetypeid',\n",
    "#     'propertyzoningdesc', \n",
    "#     'rawcensustractandblock', \n",
    "#     'regionidcity',\n",
    "#     'regionidcounty', \n",
    "#     'regionidneighborhood', \n",
    "#     'regionidzip', \n",
    "#     'roomcnt',\n",
    "#     'storytypeid', \n",
    "#     'threequarterbathnbr', \n",
    "#     'typeconstructiontypeid',\n",
    "#     'unitcnt', \n",
    "#     'yardbuildingsqft17', \n",
    "#     'yardbuildingsqft26', \n",
    "#     'yearbuilt',\n",
    "#     'numberofstories', \n",
    "#     'fireplaceflag', \n",
    "#     'structuretaxvaluedollarcnt',\n",
    "#     'taxvaluedollarcnt', \n",
    "#     'assessmentyear', \n",
    "#     'landtaxvaluedollarcnt',\n",
    "#     'taxamount', \n",
    "#     'taxdelinquencyflag', \n",
    "#     'taxdelinquencyyear',\n",
    "#     'censustractandblock',\n",
    "# }"
   ]
  },
  {
   "cell_type": "code",
   "execution_count": null,
   "metadata": {
    "collapsed": true
   },
   "outputs": [],
   "source": [
    "tx = 'transactiondate'\n",
    "\n",
    "train = dl.get_training()\n",
    "train = split_date(train, tx)\n",
    "train = train.merge(procd, how='left', on='parcelid')\n",
    "train = add_age(train)\n",
    "\n",
    "gc.collect()\n",
    "\n",
    "x = train.drop(['logerror', tx] + dropcols, axis=1)\n",
    "# x['parcelid'] = x['parcelid'].astype(CATEGORY_TYPE)\n",
    "# procd['parcelid'] = procd['parcelid'].astype(CATEGORY_TYPE)\n",
    "y = train['logerror']\n",
    "\n",
    "dte_cols = [ tx+'_year', tx+'_month', 'age']\n",
    "cat_cols = [ c for c in x.columns if x[c].dtype.name == 'object' and c not in dte_cols ]\n",
    "con_cols = [ c for c in x.columns if x[c].dtype.name != 'object' and c not in dte_cols ]"
   ]
  },
  {
   "cell_type": "code",
   "execution_count": null,
   "metadata": {},
   "outputs": [],
   "source": [
    "dte_maps = [([c], StandardScaler(with_mean=False)) for c in dte_cols]\n",
    "display(len(dte_maps))\n",
    "cat_maps = [(c, LabelEncoder()) for c in cat_cols]\n",
    "display(len(cat_maps))\n",
    "con_maps = [([c], StandardScaler(with_mean=False)) for c in con_cols]\n",
    "display(len(con_maps))"
   ]
  },
  {
   "cell_type": "code",
   "execution_count": null,
   "metadata": {},
   "outputs": [],
   "source": [
    "dte_mapper = DataFrameMapper(dte_maps)\n",
    "dte_map_fit = dte_mapper.fit(x)"
   ]
  },
  {
   "cell_type": "code",
   "execution_count": null,
   "metadata": {
    "collapsed": true
   },
   "outputs": [],
   "source": [
    "cat_mapper = DataFrameMapper(cat_maps)\n",
    "cat_map_fit = cat_mapper.fit(procd)\n",
    "# display(cat_map_fit.features)"
   ]
  },
  {
   "cell_type": "code",
   "execution_count": null,
   "metadata": {
    "scrolled": true
   },
   "outputs": [],
   "source": [
    "con_mapper = DataFrameMapper(con_maps)\n",
    "con_map_fit = con_mapper.fit(x)\n",
    "# display(con_map_fit.features)"
   ]
  },
  {
   "cell_type": "code",
   "execution_count": null,
   "metadata": {
    "collapsed": true
   },
   "outputs": [],
   "source": [
    "to_pickle(dte_map_fit, 'zillow/dte_maps.pkl')\n",
    "to_pickle(cat_map_fit, 'zillow/cat_maps.pkl')\n",
    "to_pickle(con_map_fit, 'zillow/con_maps.pkl')"
   ]
  },
  {
   "cell_type": "code",
   "execution_count": null,
   "metadata": {
    "collapsed": true
   },
   "outputs": [],
   "source": [
    "dte_map_fit = from_pickle('zillow/dte_maps.pkl')\n",
    "cat_map_fit = from_pickle('zillow/cat_maps.pkl')\n",
    "con_map_fit = from_pickle('zillow/con_maps.pkl')"
   ]
  },
  {
   "cell_type": "markdown",
   "metadata": {},
   "source": [
    "# Build the NN Model"
   ]
  },
  {
   "cell_type": "code",
   "execution_count": null,
   "metadata": {
    "scrolled": true
   },
   "outputs": [],
   "source": [
    "embsz = 16\n",
    "\n",
    "def categorical_input(fname, fclasses):\n",
    "    vocsz = len(fclasses)\n",
    "#     print(vocsz)\n",
    "    inp = Input((1,), dtype='int64', name=fname+'_inp')\n",
    "    out = Embedding(vocsz, embsz, input_length=1, embeddings_initializer='random_uniform')(inp)\n",
    "    out = Flatten(name=fname+'_flt')(out)\n",
    "    if fname == 'parcelid':\n",
    "        out = Dropout(0.9)(out)\n",
    "    out = Dense(1, name=fname+'_den', activation='relu')(out)\n",
    "    return inp, out\n",
    "\n",
    "def continuous_input(fname):\n",
    "    inp = Input((1,), dtype='float32', name=fname+'_inp')\n",
    "    out = Dense(1, name=fname+'_den', activation='relu')(inp)\n",
    "    return inp, out    \n",
    "\n",
    "cat_in = [ categorical_input(f[0], f[1].classes_) for f in cat_map_fit.features ]\n",
    "con_in = [ continuous_input(f[0][0]) for f in con_map_fit.features ] +\\\n",
    "[ continuous_input(f[0][0]) for f in dte_map_fit.features ]\n",
    "\n",
    "den = concatenate([ o for _, o in cat_in ] + [ o for _, o in con_in ])\n",
    "den = Dropout(0.05)(den)\n",
    "den = Dense(256, activation=LeakyReLU(), kernel_initializer='random_uniform')(den)\n",
    "den = Dense(256, activation=LeakyReLU(), kernel_initializer='random_uniform')(den)\n",
    "den = Dense(1, activation='softplus')(den)\n",
    "den = Dense(1, activation='linear')(den)\n",
    "# out = multiply([tanh, relu])\n",
    "\n",
    "model = Model(inputs=[ i for i, _ in cat_in ] + [ i for i, _ in con_in ], outputs=[den])\n",
    "model.compile('adam', 'mean_absolute_error')\n",
    "model.summary()"
   ]
  },
  {
   "cell_type": "code",
   "execution_count": null,
   "metadata": {
    "collapsed": true
   },
   "outputs": [],
   "source": [
    "def transform(df, mappers):\n",
    "    mapped = []\n",
    "    for m, dtype in mappers:\n",
    "        mapped.append(m.transform(df).astype(dtype))\n",
    "    return np.concatenate(mapped, axis=1)\n",
    "\n",
    "def split(df):\n",
    "    return np.split(df, df.shape[1], axis=1)"
   ]
  },
  {
   "cell_type": "code",
   "execution_count": null,
   "metadata": {},
   "outputs": [],
   "source": [
    "mappers = [(cat_map_fit, 'int64'), (con_map_fit, 'float32'), (dte_map_fit, 'float32')]\n",
    "\n",
    "x_train = transform(x, mappers)\n",
    "x_train = split(x_train)\n",
    "\n",
    "y_train = y"
   ]
  },
  {
   "cell_type": "code",
   "execution_count": null,
   "metadata": {},
   "outputs": [],
   "source": [
    "hist = model.fit(x_train, y_train, batch_size=256, epochs=5, verbose=1, validation_split=0.1, shuffle=True)"
   ]
  },
  {
   "cell_type": "markdown",
   "metadata": {},
   "source": [
    "# Use a small sample for testing the NN"
   ]
  },
  {
   "cell_type": "code",
   "execution_count": null,
   "metadata": {
    "collapsed": true
   },
   "outputs": [],
   "source": [
    "# get a sample\n",
    "x_train, x_valid, x_test, y_train, y_valid, y_test = train_test_split(x, y, 2)"
   ]
  },
  {
   "cell_type": "code",
   "execution_count": null,
   "metadata": {
    "scrolled": false
   },
   "outputs": [],
   "source": [
    "mappers = [(cat_map_fit, 'int64'), (con_map_fit, 'float32'), (dte_map_fit, 'float32')]\n",
    "\n",
    "x_train = transform(x_train, mappers)\n",
    "x_valid = transform(x_valid, mappers)\n",
    "x_test = transform(x_test, mappers)\n",
    "\n",
    "x_train = split(x_train)\n",
    "x_valid = split(x_valid)\n",
    "x_test = split(x_test)\n",
    "\n",
    "gc.collect()"
   ]
  },
  {
   "cell_type": "code",
   "execution_count": null,
   "metadata": {
    "collapsed": true
   },
   "outputs": [],
   "source": [
    "to_pickle(x_train, 'zillow/x_train.pkl')\n",
    "to_pickle(x_valid, 'zillow/x_valid.pkl')\n",
    "to_pickle(x_test, 'zillow/x_test.pkl')\n",
    "\n",
    "to_pickle(y_train, 'zillow/y_train.pkl')\n",
    "to_pickle(y_valid, 'zillow/y_valid.pkl')\n",
    "to_pickle(y_test, 'zillow/y_test.pkl')"
   ]
  },
  {
   "cell_type": "code",
   "execution_count": null,
   "metadata": {
    "collapsed": true
   },
   "outputs": [],
   "source": [
    "x_train = from_pickle('zillow/x_train.pkl')\n",
    "x_valid = from_pickle('zillow/x_valid.pkl')\n",
    "x_test = from_pickle('zillow/x_test.pkl')\n",
    "\n",
    "y_train = from_pickle('zillow/y_train.pkl')\n",
    "y_valid = from_pickle('zillow/y_valid.pkl')\n",
    "y_test = from_pickle('zillow/y_test.pkl')"
   ]
  },
  {
   "cell_type": "code",
   "execution_count": null,
   "metadata": {},
   "outputs": [],
   "source": [
    "hist = model.fit(x_train, y_train, batch_size=128, epochs=1,\n",
    "                 verbose=1, validation_data=(x_valid, y_valid))"
   ]
  },
  {
   "cell_type": "code",
   "execution_count": null,
   "metadata": {},
   "outputs": [],
   "source": [
    "mae = mean_absolute_error(y_test, model.predict(x_test))\n",
    "display(mae)"
   ]
  },
  {
   "cell_type": "code",
   "execution_count": null,
   "metadata": {},
   "outputs": [],
   "source": [
    "# build the test set\n",
    "sample = dl.get_submission()\n",
    "\n",
    "subm = pd.DataFrame()\n",
    "subm['ParcelId'] = sample['ParcelId']\n",
    "\n",
    "tx = 'transactiondate'\n",
    "# build a set to do predict on\n",
    "test = pd.DataFrame()\n",
    "test['parcelid'] = sample['ParcelId']\n",
    "test = test.merge(procd, on='parcelid', how='left')\n",
    "test = test.drop(dropcols, axis=1)\n",
    "\n",
    "# we transform all the cols but without the dates\n",
    "mappers = [(cat_map_fit, 'int64'), (con_map_fit, 'float32')]\n",
    "test = transform(test, mappers)"
   ]
  },
  {
   "cell_type": "code",
   "execution_count": null,
   "metadata": {},
   "outputs": [],
   "source": [
    "display(sample.shape)\n",
    "display(test.shape)"
   ]
  },
  {
   "cell_type": "code",
   "execution_count": null,
   "metadata": {
    "scrolled": true
   },
   "outputs": [],
   "source": [
    "# dates = pd.date_range('2016-10-01', '2016-12-31').append(pd.date_range('2017-10-01', '2017-12-31'))\n",
    "dates = pd.to_datetime(['2016-10-01', '2016-11-01', '2016-12-01', '2017-10-01', '2017-11-01', '2017-12-01'])\n",
    "for date in dates:\n",
    "    batch = pd.DataFrame()\n",
    "    batch['parcelid'] = sample['ParcelId']\n",
    "    batch[tx] = date\n",
    "    batch = split_date(batch, tx)\n",
    "    batch = add_age(batch).drop(['parcelid', tx], axis=1)\n",
    "    batch = transform(batch, [(dte_map_fit, 'float32')])\n",
    "    batch = np.concatenate((test, batch), axis=1)\n",
    "    batch = split(batch)\n",
    "    \n",
    "    print('Predicting...', date)\n",
    "    subm['{}{}'.format(date.year, date.month)] = model.predict(batch, verbose=1)\n",
    "    display(subm)\n",
    "    del batch; gc.collect()\n",
    "\n",
    "# subm = subm.groupby(['parcelid', tx+'_year', tx+'_month']).mean()\n",
    "# subm = subm.pivot_table(index='parcelid', columns=['transactiondate_year', 'transactiondate_month'], values='logerror')\n",
    "# cols = [\"{}{}\".format(*c) for c in subm.columns]\n",
    "# subm.reset_index(inplace=True)\n",
    "# subm.columns = ['ParcelId'] + cols\n",
    "display(subm)\n",
    "subm.to_csv('zillow/submission.csv.gz', index=False, float_format='%.4f', compression='gzip')"
   ]
  },
  {
   "cell_type": "markdown",
   "metadata": {},
   "source": [
    "# EDA"
   ]
  },
  {
   "cell_type": "markdown",
   "metadata": {},
   "source": [
    "## Training, Properties and Submission Data"
   ]
  },
  {
   "cell_type": "code",
   "execution_count": null,
   "metadata": {
    "collapsed": true,
    "scrolled": false
   },
   "outputs": [],
   "source": [
    "dv = describe_values(dl.get_properties())"
   ]
  },
  {
   "cell_type": "code",
   "execution_count": null,
   "metadata": {},
   "outputs": [],
   "source": [
    "dv[dv['missing %'] < 50]"
   ]
  },
  {
   "cell_type": "code",
   "execution_count": null,
   "metadata": {},
   "outputs": [],
   "source": [
    "tx = 'transactiondate'\n",
    "train = dl.get_training()\n",
    "train = split_date(train, tx).drop(tx, axis=1)\n",
    "train = train.pivot_table(columns='parcelid', index=['transactiondate_year', 'transactiondate_month'], values='logerror')\n",
    "display(train)"
   ]
  },
  {
   "cell_type": "code",
   "execution_count": null,
   "metadata": {},
   "outputs": [],
   "source": [
    "# how much data is missing?\n",
    "display(train.isnull().sum().sum() / (train.shape[0]*train.shape[1]))"
   ]
  },
  {
   "cell_type": "markdown",
   "metadata": {},
   "source": [
    "Most parcels have only 1 data point. Too much missing data to be useful on a per parcel basis."
   ]
  },
  {
   "cell_type": "code",
   "execution_count": null,
   "metadata": {},
   "outputs": [],
   "source": [
    "prop_parcels = set(dl.get_properties()['parcelid'])\n",
    "subm_parcels = set(dl.get_submission()['ParcelId'])\n",
    "trxn_parcels = set(dl.get_training()['parcelid'])\n",
    "prp = dl.get_properties()\n",
    "nodt_parcels = set(prp.loc[prp.rawcensustractandblock.isnull(), 'parcelid'])\n",
    "\n",
    "# Are all properties required in the submission?\n",
    "display(len(prop_parcels - subm_parcels) == 0)\n",
    "\n",
    "# Do all properties have recorded transactions?\n",
    "display(len(prop_parcels - trxn_parcels) == 0)\n",
    "\n",
    "# How much of the submission is missing?\n",
    "display(len(subm_parcels - trxn_parcels))\n",
    "\n",
    "print(len(nodt_parcels & trxn_parcels), 'parcels have no data but have transactions')"
   ]
  },
  {
   "cell_type": "markdown",
   "metadata": {},
   "source": [
    "Also some parcels have no property data!"
   ]
  },
  {
   "cell_type": "markdown",
   "metadata": {},
   "source": [
    "## Logerror"
   ]
  },
  {
   "cell_type": "code",
   "execution_count": null,
   "metadata": {},
   "outputs": [],
   "source": [
    "# check for outliers\n",
    "pd.DataFrame(dl.get_training()['logerror']).plot.scatter(x='logerror', y='logerror')"
   ]
  },
  {
   "cell_type": "code",
   "execution_count": null,
   "metadata": {
    "scrolled": false
   },
   "outputs": [],
   "source": [
    "summarize(pd.DataFrame(dl.get_training()['logerror']))"
   ]
  },
  {
   "cell_type": "code",
   "execution_count": null,
   "metadata": {
    "collapsed": true,
    "scrolled": true
   },
   "outputs": [],
   "source": [
    "# see if logerror varies per month\n",
    "\n",
    "tx = 'transactiondate'\n",
    "txm = tx+'_month'\n",
    "df = split_date(dl.get_training(), tx).merge(dl.get_properties(), how='left', on='parcelid')\n",
    "df = add_age(df)\n",
    "df = split_census(df)\n",
    "df['abs_logerror'] = df['logerror'].abs()\n",
    "# f, axes = plt.subplots(4, 3, sharey=True, sharex=True, figsize=(20, 20))\n",
    "# for axis, (idx, df) in zip(itertools.chain(*axes), df_train):\n",
    "#     axis.set(yscale=\"log\")\n",
    "#     display(axis)\n",
    "#     display(df_train)\n",
    "#     sns.distplot(df['logerror'], color=\"m\", ax=axis).set_title(idx)"
   ]
  },
  {
   "cell_type": "code",
   "execution_count": null,
   "metadata": {},
   "outputs": [],
   "source": [
    "monthly = df[[txm, 'logerror']].groupby([txm])['logerror'].mean()\n",
    "plt.plot(monthly.index, monthly)"
   ]
  },
  {
   "cell_type": "code",
   "execution_count": null,
   "metadata": {
    "scrolled": true
   },
   "outputs": [],
   "source": [
    "monthly = df[[txm, 'abs_logerror']].groupby([txm])['abs_logerror'].mean()\n",
    "plt.ylim(0.06, 0.08)\n",
    "plt.plot(monthly.index, monthly)"
   ]
  },
  {
   "cell_type": "code",
   "execution_count": null,
   "metadata": {
    "collapsed": true
   },
   "outputs": [],
   "source": [
    "def plot_monthly(df, grp, val):\n",
    "    monthly = df.groupby([grp, txm])[val].mean()\n",
    "    figs = len(monthly.index.levels[0])\n",
    "    f, axes = plt.subplots(figs, 1, figsize=(8, figs*4), sharex=True, sharey=True)\n",
    "    for g, ax in zip(monthly.index.levels[0], axes):\n",
    "        plt.subplot(ax)\n",
    "        plt.plot(monthly[g].index, monthly[g])"
   ]
  },
  {
   "cell_type": "code",
   "execution_count": null,
   "metadata": {},
   "outputs": [],
   "source": [
    "plot_monthly(df, 'fips', 'logerror')"
   ]
  },
  {
   "cell_type": "code",
   "execution_count": null,
   "metadata": {},
   "outputs": [],
   "source": [
    "plot_monthly(df, 'fips', 'abs_logerror')"
   ]
  },
  {
   "cell_type": "code",
   "execution_count": null,
   "metadata": {},
   "outputs": [],
   "source": [
    "plot_monthly(df, 'regionidcounty', 'abs_logerror')"
   ]
  },
  {
   "cell_type": "code",
   "execution_count": null,
   "metadata": {
    "collapsed": true
   },
   "outputs": [],
   "source": [
    "monthly = df[[txm, 'abs_logerror']].groupby([txm])['abs_logerror'].mean()\n",
    "monthly = monthly.reset_index()"
   ]
  },
  {
   "cell_type": "code",
   "execution_count": null,
   "metadata": {
    "collapsed": true
   },
   "outputs": [],
   "source": [
    "from sklearn import linear_model\n",
    "reg = linear_model.Ridge(alpha = .5)\n",
    "reg.fit(monthly.drop('abs_logerror', axis=1), monthly['abs_logerror'])\n",
    "preds = pd.DataFrame([ i for i in range(24)])\n",
    "preds['abs_logerror'] = reg.predict(preds)"
   ]
  },
  {
   "cell_type": "code",
   "execution_count": null,
   "metadata": {},
   "outputs": [],
   "source": [
    "plt.figure(figsize=(12,5))\n",
    "plt.plot(monthly.index, monthly['abs_logerror'])\n",
    "plt.plot(preds.index, preds['abs_logerror'])"
   ]
  },
  {
   "cell_type": "code",
   "execution_count": null,
   "metadata": {},
   "outputs": [],
   "source": [
    "sns.lmplot(x=txm, y=\"abs_logerror\", data=monthly, ci=None, palette=\"muted\")"
   ]
  },
  {
   "cell_type": "code",
   "execution_count": null,
   "metadata": {},
   "outputs": [],
   "source": [
    "from sklearn import linear_model\n",
    "lm = linear_model.Ridge(alpha = .5)\n",
    "\n",
    "def regress(df, val):\n",
    "    monthly = df.groupby(['fips', 'age'])[val].mean()\n",
    "    preds = pd.DataFrame()\n",
    "    for f in monthly.index.levels[0]:\n",
    "        fip = monthly[f].reset_index()\n",
    "        lm.fit(fip.drop(val, axis=1), fip[val])\n",
    "        next_months = pd.DataFrame([ i for i in range(13, 25)], columns=['age'])\n",
    "        next_months[val] = lm.predict(next_months)\n",
    "        next_months['fips'] = f\n",
    "#         display(next_months)\n",
    "        preds = preds.append(next_months)\n",
    "    preds = preds.append(monthly.reset_index())\n",
    "    display(preds)\n",
    "\n",
    "regress(df, 'abs_logerror')"
   ]
  },
  {
   "cell_type": "code",
   "execution_count": null,
   "metadata": {
    "collapsed": true
   },
   "outputs": [],
   "source": []
  }
 ],
 "metadata": {
  "kernelspec": {
   "display_name": "Python 3",
   "language": "python",
   "name": "python3"
  },
  "language_info": {
   "codemirror_mode": {
    "name": "ipython",
    "version": 3
   },
   "file_extension": ".py",
   "mimetype": "text/x-python",
   "name": "python",
   "nbconvert_exporter": "python",
   "pygments_lexer": "ipython3",
   "version": "3.6.2"
  }
 },
 "nbformat": 4,
 "nbformat_minor": 2
}
