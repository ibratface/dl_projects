{
 "cells": [
  {
   "cell_type": "code",
   "execution_count": 1,
   "metadata": {},
   "outputs": [
    {
     "name": "stderr",
     "output_type": "stream",
     "text": [
      "/home/terence/anaconda2/envs/deeplearn/lib/python3.6/site-packages/sklearn/cross_validation.py:41: DeprecationWarning: This module was deprecated in version 0.18 in favor of the model_selection module into which all the refactored classes and functions are moved. Also note that the interface of the new CV iterators are different from that of this module. This module will be removed in 0.20.\n",
      "  \"This module will be removed in 0.20.\", DeprecationWarning)\n"
     ]
    }
   ],
   "source": [
    "import itertools\n",
    "import gc\n",
    "import numpy as np\n",
    "import pandas as pd\n",
    "import pandas_summary as pds\n",
    "import seaborn as sns\n",
    "import xgboost as xgb\n",
    "import random\n",
    "from IPython.display import HTML\n",
    "\n",
    "from sklearn_pandas import DataFrameMapper\n",
    "from sklearn.preprocessing import LabelEncoder, Imputer, StandardScaler, Normalizer\n",
    "from sklearn.model_selection import train_test_split\n",
    "import matplotlib.pyplot as plt\n",
    "\n",
    "%matplotlib inline"
   ]
  },
  {
   "cell_type": "code",
   "execution_count": 2,
   "metadata": {},
   "outputs": [
    {
     "name": "stderr",
     "output_type": "stream",
     "text": [
      "/home/terence/anaconda2/envs/deeplearn/lib/python3.6/site-packages/IPython/core/interactiveshell.py:2698: DtypeWarning: Columns (22,32,34,49,55) have mixed types. Specify dtype option on import or set low_memory=False.\n",
      "  interactivity=interactivity, compiler=compiler, result=result)\n"
     ]
    }
   ],
   "source": [
    "# pull in property data\n",
    "\n",
    "props = pd.read_csv('zillow/properties_2016.csv')\n",
    "train = pd.read_csv('zillow/train_2016_v2.csv')\n",
    "sample = pd.read_csv('zillow/sample_submission.csv')"
   ]
  },
  {
   "cell_type": "code",
   "execution_count": 9,
   "metadata": {
    "scrolled": true
   },
   "outputs": [],
   "source": [
    "def xgb_train(X, y):\n",
    "    x_train, x_valid, y_train, y_valid = train_test_split(X, y, test_size=0.1)\n",
    "\n",
    "    print('Building DMatrix...')\n",
    "\n",
    "    d_train = xgb.DMatrix(x_train, label=y_train)\n",
    "    d_valid = xgb.DMatrix(x_valid, label=y_valid)\n",
    "\n",
    "    #del x_train, x_valid; gc.collect()\n",
    "\n",
    "    print('Training ...')\n",
    "\n",
    "    params = {}\n",
    "    params['eta'] = 0.02\n",
    "    params['objective'] = 'reg:linear'\n",
    "    params['eval_metric'] = 'mae'\n",
    "    params['max_depth'] = 4\n",
    "    params['silent'] = 1\n",
    "\n",
    "    watchlist = [(d_train, 'train'), (d_valid, 'valid')]\n",
    "    clf = xgb.train(params, d_train, 10000, watchlist, early_stopping_rounds=100, verbose_eval=10)\n",
    "    \n",
    "    #del d_train, d_valid; gc_collect()\n",
    "    \n",
    "    return clf\n",
    "\n",
    "def xgb_predict(clf, train_columns):\n",
    "    print('Building test set ...')\n",
    "\n",
    "    sample['parcelid'] = sample['ParcelId']\n",
    "    df_test = sample.merge(props, on='parcelid', how='left')\n",
    "\n",
    "    x_test = df_test[train_columns]\n",
    "    for c in x_test.dtypes[x_test.dtypes == object].index.values:\n",
    "        x_test[c] = (x_test[c] == True)\n",
    "\n",
    "    #del df_test, sample; gc.collect()\n",
    "\n",
    "    d_test = xgb.DMatrix(x_test)\n",
    "\n",
    "    #del x_test; gc.collect()\n",
    "\n",
    "    print('Predicting on test ...')\n",
    "\n",
    "    p_test = clf.predict(d_test)\n",
    "\n",
    "    # del d_test; gc.collect()\n",
    "\n",
    "    sub = pd.read_csv('zillow/sample_submission.csv')\n",
    "    for c in sub.columns[sub.columns != 'ParcelId']:\n",
    "        sub[c] = p_test\n",
    "\n",
    "    print('Writing csv ...')\n",
    "    sub.to_csv('zillow/xgb_starter.csv', index=False, float_format='%.4f') # Thanks to @inversion"
   ]
  },
  {
   "cell_type": "code",
   "execution_count": 10,
   "metadata": {},
   "outputs": [
    {
     "name": "stdout",
     "output_type": "stream",
     "text": [
      "(90275, 55) (90275,)\n",
      "Building DMatrix...\n",
      "Training ...\n",
      "[0]\ttrain-mae:0.486939\tvalid-mae:0.490393\n",
      "Multiple eval metrics have been passed: 'valid-mae' will be used for early stopping.\n",
      "\n",
      "Will train until valid-mae hasn't improved in 100 rounds.\n",
      "[10]\ttrain-mae:0.401204\tvalid-mae:0.404618\n",
      "[20]\ttrain-mae:0.331746\tvalid-mae:0.335205\n",
      "[30]\ttrain-mae:0.275662\tvalid-mae:0.279161\n",
      "[40]\ttrain-mae:0.230542\tvalid-mae:0.233978\n",
      "[50]\ttrain-mae:0.194363\tvalid-mae:0.197653\n",
      "[60]\ttrain-mae:0.165497\tvalid-mae:0.168628\n",
      "[70]\ttrain-mae:0.142557\tvalid-mae:0.145508\n",
      "[80]\ttrain-mae:0.124477\tvalid-mae:0.12725\n",
      "[90]\ttrain-mae:0.110349\tvalid-mae:0.11298\n",
      "[100]\ttrain-mae:0.099421\tvalid-mae:0.101972\n",
      "[110]\ttrain-mae:0.091073\tvalid-mae:0.093566\n",
      "[120]\ttrain-mae:0.084774\tvalid-mae:0.08726\n",
      "[130]\ttrain-mae:0.080087\tvalid-mae:0.082575\n",
      "[140]\ttrain-mae:0.076652\tvalid-mae:0.079184\n",
      "[150]\ttrain-mae:0.074143\tvalid-mae:0.076725\n",
      "[160]\ttrain-mae:0.072323\tvalid-mae:0.074912\n",
      "[170]\ttrain-mae:0.070988\tvalid-mae:0.073593\n",
      "[180]\ttrain-mae:0.07003\tvalid-mae:0.07263\n",
      "[190]\ttrain-mae:0.069327\tvalid-mae:0.071945\n",
      "[200]\ttrain-mae:0.068811\tvalid-mae:0.07145\n",
      "[210]\ttrain-mae:0.068433\tvalid-mae:0.071092\n",
      "[220]\ttrain-mae:0.068146\tvalid-mae:0.070825\n",
      "[230]\ttrain-mae:0.067931\tvalid-mae:0.070632\n",
      "[240]\ttrain-mae:0.067765\tvalid-mae:0.070487\n",
      "[250]\ttrain-mae:0.067634\tvalid-mae:0.070378\n",
      "[260]\ttrain-mae:0.067531\tvalid-mae:0.070294\n",
      "[270]\ttrain-mae:0.067449\tvalid-mae:0.070235\n",
      "[280]\ttrain-mae:0.067382\tvalid-mae:0.070184\n",
      "[290]\ttrain-mae:0.067333\tvalid-mae:0.070152\n",
      "[300]\ttrain-mae:0.067289\tvalid-mae:0.070123\n",
      "[310]\ttrain-mae:0.06725\tvalid-mae:0.070113\n",
      "[320]\ttrain-mae:0.067218\tvalid-mae:0.070098\n",
      "[330]\ttrain-mae:0.067187\tvalid-mae:0.070098\n",
      "[340]\ttrain-mae:0.06716\tvalid-mae:0.070093\n",
      "[350]\ttrain-mae:0.067134\tvalid-mae:0.070099\n",
      "[360]\ttrain-mae:0.067112\tvalid-mae:0.070104\n",
      "[370]\ttrain-mae:0.067094\tvalid-mae:0.07011\n",
      "[380]\ttrain-mae:0.067078\tvalid-mae:0.070117\n",
      "[390]\ttrain-mae:0.067062\tvalid-mae:0.07012\n",
      "[400]\ttrain-mae:0.06705\tvalid-mae:0.070123\n",
      "[410]\ttrain-mae:0.067031\tvalid-mae:0.070131\n",
      "[420]\ttrain-mae:0.06701\tvalid-mae:0.070143\n",
      "[430]\ttrain-mae:0.066999\tvalid-mae:0.070151\n",
      "Stopping. Best iteration:\n",
      "[337]\ttrain-mae:0.067166\tvalid-mae:0.070093\n",
      "\n"
     ]
    }
   ],
   "source": [
    "df_train = train.merge(props, how='left', on='parcelid')\n",
    "\n",
    "X = df_train.drop(['parcelid', 'logerror', 'transactiondate', 'propertyzoningdesc', 'propertycountylandusecode'], axis=1)\n",
    "y = df_train['logerror'].values\n",
    "print(X.shape, y.shape)\n",
    "\n",
    "for c in X.dtypes[X.dtypes == object].index.values:\n",
    "    X[c] = (X[c] == True)\n",
    "\n",
    "clf = xgb_train(X, y)"
   ]
  },
  {
   "cell_type": "code",
   "execution_count": 11,
   "metadata": {},
   "outputs": [
    {
     "name": "stdout",
     "output_type": "stream",
     "text": [
      "Building test set ...\n"
     ]
    },
    {
     "name": "stderr",
     "output_type": "stream",
     "text": [
      "/home/terence/anaconda2/envs/deeplearn/lib/python3.6/site-packages/ipykernel_launcher.py:35: SettingWithCopyWarning: \n",
      "A value is trying to be set on a copy of a slice from a DataFrame.\n",
      "Try using .loc[row_indexer,col_indexer] = value instead\n",
      "\n",
      "See the caveats in the documentation: http://pandas.pydata.org/pandas-docs/stable/indexing.html#indexing-view-versus-copy\n"
     ]
    },
    {
     "name": "stdout",
     "output_type": "stream",
     "text": [
      "Predicting on test ...\n",
      "Writing csv ...\n"
     ]
    }
   ],
   "source": [
    "xgb_predict(clf, X.columns)"
   ]
  },
  {
   "cell_type": "code",
   "execution_count": null,
   "metadata": {
    "collapsed": true
   },
   "outputs": [],
   "source": [
    "train['transactiondate'] = pd.to_datetime(train['transactiondate'])\n",
    "summarize(train)\n",
    "train.head()"
   ]
  },
  {
   "cell_type": "code",
   "execution_count": 3,
   "metadata": {
    "collapsed": true
   },
   "outputs": [],
   "source": [
    "# generator function for pulling out items a number at a time\n",
    "def batch(s, n):\n",
    "    for i in range(0, len(s), n):\n",
    "        yield s[i:min(i+n, len(s))]\n",
    "        \n",
    "# test function\n",
    "# display(props.columns)\n",
    "# [c for c in batch(props.columns, 6)]"
   ]
  },
  {
   "cell_type": "code",
   "execution_count": 4,
   "metadata": {
    "collapsed": true
   },
   "outputs": [],
   "source": [
    "# for describing the data with DataFrameSummary\n",
    "def summarize(df):\n",
    "    for cols in batch(df.columns, 5):\n",
    "        display(pds.DataFrameSummary(df[cols]).summary())\n",
    "        \n",
    "# test function\n",
    "# describe(props)"
   ]
  },
  {
   "cell_type": "code",
   "execution_count": 8,
   "metadata": {},
   "outputs": [
    {
     "data": {
      "text/html": [
       "<div>\n",
       "<style>\n",
       "    .dataframe thead tr:only-child th {\n",
       "        text-align: right;\n",
       "    }\n",
       "\n",
       "    .dataframe thead th {\n",
       "        text-align: left;\n",
       "    }\n",
       "\n",
       "    .dataframe tbody tr th {\n",
       "        vertical-align: top;\n",
       "    }\n",
       "</style>\n",
       "<table border=\"1\" class=\"dataframe\">\n",
       "  <thead>\n",
       "    <tr style=\"text-align: right;\">\n",
       "      <th></th>\n",
       "      <th>dtype</th>\n",
       "      <th>sample</th>\n",
       "      <th>unique len</th>\n",
       "      <th>missing %</th>\n",
       "    </tr>\n",
       "    <tr>\n",
       "      <th>column</th>\n",
       "      <th></th>\n",
       "      <th></th>\n",
       "      <th></th>\n",
       "      <th></th>\n",
       "    </tr>\n",
       "  </thead>\n",
       "  <tbody>\n",
       "    <tr>\n",
       "      <th>parcelid</th>\n",
       "      <td>int64</td>\n",
       "      <td>[10754147, 10759547, 10843547]</td>\n",
       "      <td>2985217</td>\n",
       "      <td>0</td>\n",
       "    </tr>\n",
       "    <tr>\n",
       "      <th>airconditioningtypeid</th>\n",
       "      <td>float64</td>\n",
       "      <td>[nan, 1.0, 13.0]</td>\n",
       "      <td>8</td>\n",
       "      <td>72</td>\n",
       "    </tr>\n",
       "    <tr>\n",
       "      <th>architecturalstyletypeid</th>\n",
       "      <td>float64</td>\n",
       "      <td>[nan, 7.0, 21.0]</td>\n",
       "      <td>9</td>\n",
       "      <td>99</td>\n",
       "    </tr>\n",
       "    <tr>\n",
       "      <th>basementsqft</th>\n",
       "      <td>float64</td>\n",
       "      <td>[nan, 216.0, 555.0]</td>\n",
       "      <td>752</td>\n",
       "      <td>99</td>\n",
       "    </tr>\n",
       "    <tr>\n",
       "      <th>bathroomcnt</th>\n",
       "      <td>float64</td>\n",
       "      <td>[0.0, 2.0, 4.0]</td>\n",
       "      <td>38</td>\n",
       "      <td>0</td>\n",
       "    </tr>\n",
       "    <tr>\n",
       "      <th>bedroomcnt</th>\n",
       "      <td>float64</td>\n",
       "      <td>[0.0, 4.0, 5.0]</td>\n",
       "      <td>22</td>\n",
       "      <td>0</td>\n",
       "    </tr>\n",
       "    <tr>\n",
       "      <th>buildingclasstypeid</th>\n",
       "      <td>float64</td>\n",
       "      <td>[nan, 3.0, 4.0]</td>\n",
       "      <td>6</td>\n",
       "      <td>99</td>\n",
       "    </tr>\n",
       "    <tr>\n",
       "      <th>buildingqualitytypeid</th>\n",
       "      <td>float64</td>\n",
       "      <td>[nan, 7.0, 4.0]</td>\n",
       "      <td>13</td>\n",
       "      <td>35</td>\n",
       "    </tr>\n",
       "    <tr>\n",
       "      <th>calculatedbathnbr</th>\n",
       "      <td>float64</td>\n",
       "      <td>[nan, 2.0, 4.0]</td>\n",
       "      <td>35</td>\n",
       "      <td>4</td>\n",
       "    </tr>\n",
       "    <tr>\n",
       "      <th>decktypeid</th>\n",
       "      <td>float64</td>\n",
       "      <td>[nan, 66.0]</td>\n",
       "      <td>2</td>\n",
       "      <td>99</td>\n",
       "    </tr>\n",
       "    <tr>\n",
       "      <th>finishedfloor1squarefeet</th>\n",
       "      <td>float64</td>\n",
       "      <td>[nan, 4969.0, 1080.0]</td>\n",
       "      <td>4605</td>\n",
       "      <td>93</td>\n",
       "    </tr>\n",
       "    <tr>\n",
       "      <th>calculatedfinishedsquarefeet</th>\n",
       "      <td>float64</td>\n",
       "      <td>[nan, 73026.0, 5068.0]</td>\n",
       "      <td>12588</td>\n",
       "      <td>1</td>\n",
       "    </tr>\n",
       "    <tr>\n",
       "      <th>finishedsquarefeet12</th>\n",
       "      <td>float64</td>\n",
       "      <td>[nan, 4000.0, 3633.0]</td>\n",
       "      <td>10671</td>\n",
       "      <td>9</td>\n",
       "    </tr>\n",
       "    <tr>\n",
       "      <th>finishedsquarefeet13</th>\n",
       "      <td>float64</td>\n",
       "      <td>[nan, 1440.0, 1368.0]</td>\n",
       "      <td>251</td>\n",
       "      <td>99</td>\n",
       "    </tr>\n",
       "    <tr>\n",
       "      <th>finishedsquarefeet15</th>\n",
       "      <td>float64</td>\n",
       "      <td>[nan, 73026.0, 5068.0]</td>\n",
       "      <td>8817</td>\n",
       "      <td>93</td>\n",
       "    </tr>\n",
       "    <tr>\n",
       "      <th>finishedsquarefeet50</th>\n",
       "      <td>float64</td>\n",
       "      <td>[nan, 4969.0, 1080.0]</td>\n",
       "      <td>4803</td>\n",
       "      <td>93</td>\n",
       "    </tr>\n",
       "    <tr>\n",
       "      <th>finishedsquarefeet6</th>\n",
       "      <td>float64</td>\n",
       "      <td>[nan, 15341.0, 1863.0]</td>\n",
       "      <td>4252</td>\n",
       "      <td>99</td>\n",
       "    </tr>\n",
       "    <tr>\n",
       "      <th>fips</th>\n",
       "      <td>float64</td>\n",
       "      <td>[6037.0, 6059.0, 6111.0]</td>\n",
       "      <td>4</td>\n",
       "      <td>0</td>\n",
       "    </tr>\n",
       "    <tr>\n",
       "      <th>fireplacecnt</th>\n",
       "      <td>float64</td>\n",
       "      <td>[nan, 3.0, 1.0]</td>\n",
       "      <td>10</td>\n",
       "      <td>89</td>\n",
       "    </tr>\n",
       "    <tr>\n",
       "      <th>fullbathcnt</th>\n",
       "      <td>float64</td>\n",
       "      <td>[nan, 2.0, 4.0]</td>\n",
       "      <td>21</td>\n",
       "      <td>4</td>\n",
       "    </tr>\n",
       "    <tr>\n",
       "      <th>garagecarcnt</th>\n",
       "      <td>float64</td>\n",
       "      <td>[nan, 2.0, 4.0]</td>\n",
       "      <td>25</td>\n",
       "      <td>70</td>\n",
       "    </tr>\n",
       "    <tr>\n",
       "      <th>garagetotalsqft</th>\n",
       "      <td>float64</td>\n",
       "      <td>[nan, 420.0, 525.0]</td>\n",
       "      <td>2241</td>\n",
       "      <td>70</td>\n",
       "    </tr>\n",
       "    <tr>\n",
       "      <th>hashottuborspa</th>\n",
       "      <td>object</td>\n",
       "      <td>[nan, True]</td>\n",
       "      <td>2</td>\n",
       "      <td>97</td>\n",
       "    </tr>\n",
       "    <tr>\n",
       "      <th>heatingorsystemtypeid</th>\n",
       "      <td>float64</td>\n",
       "      <td>[nan, 2.0, 7.0]</td>\n",
       "      <td>15</td>\n",
       "      <td>39</td>\n",
       "    </tr>\n",
       "    <tr>\n",
       "      <th>latitude</th>\n",
       "      <td>float64</td>\n",
       "      <td>[34144442.0, 34140430.0, 33989359.0]</td>\n",
       "      <td>852326</td>\n",
       "      <td>0</td>\n",
       "    </tr>\n",
       "    <tr>\n",
       "      <th>longitude</th>\n",
       "      <td>float64</td>\n",
       "      <td>[-118654084.0, -118625364.0, -118394633.0]</td>\n",
       "      <td>1042551</td>\n",
       "      <td>0</td>\n",
       "    </tr>\n",
       "    <tr>\n",
       "      <th>lotsizesquarefeet</th>\n",
       "      <td>float64</td>\n",
       "      <td>[85768.0, 4083.0, 63085.0]</td>\n",
       "      <td>69954</td>\n",
       "      <td>9</td>\n",
       "    </tr>\n",
       "    <tr>\n",
       "      <th>poolcnt</th>\n",
       "      <td>float64</td>\n",
       "      <td>[nan, 1.0]</td>\n",
       "      <td>2</td>\n",
       "      <td>82</td>\n",
       "    </tr>\n",
       "    <tr>\n",
       "      <th>poolsizesum</th>\n",
       "      <td>float64</td>\n",
       "      <td>[nan, 800.0, 450.0]</td>\n",
       "      <td>908</td>\n",
       "      <td>99</td>\n",
       "    </tr>\n",
       "    <tr>\n",
       "      <th>pooltypeid10</th>\n",
       "      <td>float64</td>\n",
       "      <td>[nan, 1.0]</td>\n",
       "      <td>2</td>\n",
       "      <td>98</td>\n",
       "    </tr>\n",
       "    <tr>\n",
       "      <th>pooltypeid2</th>\n",
       "      <td>float64</td>\n",
       "      <td>[nan, 1.0]</td>\n",
       "      <td>2</td>\n",
       "      <td>98</td>\n",
       "    </tr>\n",
       "    <tr>\n",
       "      <th>pooltypeid7</th>\n",
       "      <td>float64</td>\n",
       "      <td>[nan, 1.0]</td>\n",
       "      <td>2</td>\n",
       "      <td>83</td>\n",
       "    </tr>\n",
       "    <tr>\n",
       "      <th>propertycountylandusecode</th>\n",
       "      <td>object</td>\n",
       "      <td>[010D, 0109, 1200]</td>\n",
       "      <td>241</td>\n",
       "      <td>0</td>\n",
       "    </tr>\n",
       "    <tr>\n",
       "      <th>propertylandusetypeid</th>\n",
       "      <td>float64</td>\n",
       "      <td>[269.0, 261.0, 47.0]</td>\n",
       "      <td>16</td>\n",
       "      <td>0</td>\n",
       "    </tr>\n",
       "    <tr>\n",
       "      <th>propertyzoningdesc</th>\n",
       "      <td>object</td>\n",
       "      <td>[nan, LCA11*, LAC2]</td>\n",
       "      <td>5639</td>\n",
       "      <td>33</td>\n",
       "    </tr>\n",
       "    <tr>\n",
       "      <th>rawcensustractandblock</th>\n",
       "      <td>float64</td>\n",
       "      <td>[60378002.041, 60378001.011, 60377030.012]</td>\n",
       "      <td>99394</td>\n",
       "      <td>0</td>\n",
       "    </tr>\n",
       "    <tr>\n",
       "      <th>regionidcity</th>\n",
       "      <td>float64</td>\n",
       "      <td>[37688.0, 51617.0, 12447.0]</td>\n",
       "      <td>187</td>\n",
       "      <td>2</td>\n",
       "    </tr>\n",
       "    <tr>\n",
       "      <th>regionidcounty</th>\n",
       "      <td>float64</td>\n",
       "      <td>[3101.0, 1286.0, 2061.0]</td>\n",
       "      <td>4</td>\n",
       "      <td>0</td>\n",
       "    </tr>\n",
       "    <tr>\n",
       "      <th>regionidneighborhood</th>\n",
       "      <td>float64</td>\n",
       "      <td>[nan, 27080.0, 46795.0]</td>\n",
       "      <td>529</td>\n",
       "      <td>61</td>\n",
       "    </tr>\n",
       "    <tr>\n",
       "      <th>regionidzip</th>\n",
       "      <td>float64</td>\n",
       "      <td>[96337.0, 96095.0, 96424.0]</td>\n",
       "      <td>406</td>\n",
       "      <td>0</td>\n",
       "    </tr>\n",
       "    <tr>\n",
       "      <th>roomcnt</th>\n",
       "      <td>float64</td>\n",
       "      <td>[0.0, 8.0, 4.0]</td>\n",
       "      <td>37</td>\n",
       "      <td>0</td>\n",
       "    </tr>\n",
       "    <tr>\n",
       "      <th>storytypeid</th>\n",
       "      <td>float64</td>\n",
       "      <td>[nan, 7.0]</td>\n",
       "      <td>2</td>\n",
       "      <td>99</td>\n",
       "    </tr>\n",
       "    <tr>\n",
       "      <th>threequarterbathnbr</th>\n",
       "      <td>float64</td>\n",
       "      <td>[nan, 1.0, 2.0]</td>\n",
       "      <td>8</td>\n",
       "      <td>89</td>\n",
       "    </tr>\n",
       "    <tr>\n",
       "      <th>typeconstructiontypeid</th>\n",
       "      <td>float64</td>\n",
       "      <td>[nan, 6.0, 4.0]</td>\n",
       "      <td>6</td>\n",
       "      <td>99</td>\n",
       "    </tr>\n",
       "    <tr>\n",
       "      <th>unitcnt</th>\n",
       "      <td>float64</td>\n",
       "      <td>[nan, 2.0, 1.0]</td>\n",
       "      <td>147</td>\n",
       "      <td>33</td>\n",
       "    </tr>\n",
       "    <tr>\n",
       "      <th>yardbuildingsqft17</th>\n",
       "      <td>float64</td>\n",
       "      <td>[nan, 450.0, 94.0]</td>\n",
       "      <td>1637</td>\n",
       "      <td>97</td>\n",
       "    </tr>\n",
       "    <tr>\n",
       "      <th>yardbuildingsqft26</th>\n",
       "      <td>float64</td>\n",
       "      <td>[nan, 1280.0, 140.0]</td>\n",
       "      <td>595</td>\n",
       "      <td>99</td>\n",
       "    </tr>\n",
       "    <tr>\n",
       "      <th>yearbuilt</th>\n",
       "      <td>float64</td>\n",
       "      <td>[nan, 1948.0, 1947.0]</td>\n",
       "      <td>169</td>\n",
       "      <td>2</td>\n",
       "    </tr>\n",
       "    <tr>\n",
       "      <th>numberofstories</th>\n",
       "      <td>float64</td>\n",
       "      <td>[nan, 1.0, 4.0]</td>\n",
       "      <td>13</td>\n",
       "      <td>77</td>\n",
       "    </tr>\n",
       "    <tr>\n",
       "      <th>fireplaceflag</th>\n",
       "      <td>object</td>\n",
       "      <td>[nan, True]</td>\n",
       "      <td>2</td>\n",
       "      <td>99</td>\n",
       "    </tr>\n",
       "    <tr>\n",
       "      <th>structuretaxvaluedollarcnt</th>\n",
       "      <td>float64</td>\n",
       "      <td>[nan, 650756.0, 571346.0]</td>\n",
       "      <td>426151</td>\n",
       "      <td>1</td>\n",
       "    </tr>\n",
       "    <tr>\n",
       "      <th>taxvaluedollarcnt</th>\n",
       "      <td>float64</td>\n",
       "      <td>[9.0, 27516.0, 1413387.0]</td>\n",
       "      <td>638921</td>\n",
       "      <td>1</td>\n",
       "    </tr>\n",
       "    <tr>\n",
       "      <th>assessmentyear</th>\n",
       "      <td>float64</td>\n",
       "      <td>[2015.0, 2014.0, 2003.0]</td>\n",
       "      <td>15</td>\n",
       "      <td>0</td>\n",
       "    </tr>\n",
       "    <tr>\n",
       "      <th>landtaxvaluedollarcnt</th>\n",
       "      <td>float64</td>\n",
       "      <td>[9.0, 27516.0, 762631.0]</td>\n",
       "      <td>531409</td>\n",
       "      <td>2</td>\n",
       "    </tr>\n",
       "    <tr>\n",
       "      <th>taxamount</th>\n",
       "      <td>float64</td>\n",
       "      <td>[nan, 20800.37, 14557.57]</td>\n",
       "      <td>1045758</td>\n",
       "      <td>1</td>\n",
       "    </tr>\n",
       "    <tr>\n",
       "      <th>taxdelinquencyflag</th>\n",
       "      <td>object</td>\n",
       "      <td>[nan, Y]</td>\n",
       "      <td>2</td>\n",
       "      <td>98</td>\n",
       "    </tr>\n",
       "    <tr>\n",
       "      <th>taxdelinquencyyear</th>\n",
       "      <td>float64</td>\n",
       "      <td>[nan, 13.0, 15.0]</td>\n",
       "      <td>33</td>\n",
       "      <td>98</td>\n",
       "    </tr>\n",
       "    <tr>\n",
       "      <th>censustractandblock</th>\n",
       "      <td>float64</td>\n",
       "      <td>[nan, 6.1110010011e+13, 6.1110009032e+13]</td>\n",
       "      <td>96772</td>\n",
       "      <td>2</td>\n",
       "    </tr>\n",
       "  </tbody>\n",
       "</table>\n",
       "</div>"
      ],
      "text/plain": [
       "                                dtype  \\\n",
       "column                                  \n",
       "parcelid                        int64   \n",
       "airconditioningtypeid         float64   \n",
       "architecturalstyletypeid      float64   \n",
       "basementsqft                  float64   \n",
       "bathroomcnt                   float64   \n",
       "bedroomcnt                    float64   \n",
       "buildingclasstypeid           float64   \n",
       "buildingqualitytypeid         float64   \n",
       "calculatedbathnbr             float64   \n",
       "decktypeid                    float64   \n",
       "finishedfloor1squarefeet      float64   \n",
       "calculatedfinishedsquarefeet  float64   \n",
       "finishedsquarefeet12          float64   \n",
       "finishedsquarefeet13          float64   \n",
       "finishedsquarefeet15          float64   \n",
       "finishedsquarefeet50          float64   \n",
       "finishedsquarefeet6           float64   \n",
       "fips                          float64   \n",
       "fireplacecnt                  float64   \n",
       "fullbathcnt                   float64   \n",
       "garagecarcnt                  float64   \n",
       "garagetotalsqft               float64   \n",
       "hashottuborspa                 object   \n",
       "heatingorsystemtypeid         float64   \n",
       "latitude                      float64   \n",
       "longitude                     float64   \n",
       "lotsizesquarefeet             float64   \n",
       "poolcnt                       float64   \n",
       "poolsizesum                   float64   \n",
       "pooltypeid10                  float64   \n",
       "pooltypeid2                   float64   \n",
       "pooltypeid7                   float64   \n",
       "propertycountylandusecode      object   \n",
       "propertylandusetypeid         float64   \n",
       "propertyzoningdesc             object   \n",
       "rawcensustractandblock        float64   \n",
       "regionidcity                  float64   \n",
       "regionidcounty                float64   \n",
       "regionidneighborhood          float64   \n",
       "regionidzip                   float64   \n",
       "roomcnt                       float64   \n",
       "storytypeid                   float64   \n",
       "threequarterbathnbr           float64   \n",
       "typeconstructiontypeid        float64   \n",
       "unitcnt                       float64   \n",
       "yardbuildingsqft17            float64   \n",
       "yardbuildingsqft26            float64   \n",
       "yearbuilt                     float64   \n",
       "numberofstories               float64   \n",
       "fireplaceflag                  object   \n",
       "structuretaxvaluedollarcnt    float64   \n",
       "taxvaluedollarcnt             float64   \n",
       "assessmentyear                float64   \n",
       "landtaxvaluedollarcnt         float64   \n",
       "taxamount                     float64   \n",
       "taxdelinquencyflag             object   \n",
       "taxdelinquencyyear            float64   \n",
       "censustractandblock           float64   \n",
       "\n",
       "                                                                  sample  \\\n",
       "column                                                                     \n",
       "parcelid                                  [10754147, 10759547, 10843547]   \n",
       "airconditioningtypeid                                   [nan, 1.0, 13.0]   \n",
       "architecturalstyletypeid                                [nan, 7.0, 21.0]   \n",
       "basementsqft                                         [nan, 216.0, 555.0]   \n",
       "bathroomcnt                                              [0.0, 2.0, 4.0]   \n",
       "bedroomcnt                                               [0.0, 4.0, 5.0]   \n",
       "buildingclasstypeid                                      [nan, 3.0, 4.0]   \n",
       "buildingqualitytypeid                                    [nan, 7.0, 4.0]   \n",
       "calculatedbathnbr                                        [nan, 2.0, 4.0]   \n",
       "decktypeid                                                   [nan, 66.0]   \n",
       "finishedfloor1squarefeet                           [nan, 4969.0, 1080.0]   \n",
       "calculatedfinishedsquarefeet                      [nan, 73026.0, 5068.0]   \n",
       "finishedsquarefeet12                               [nan, 4000.0, 3633.0]   \n",
       "finishedsquarefeet13                               [nan, 1440.0, 1368.0]   \n",
       "finishedsquarefeet15                              [nan, 73026.0, 5068.0]   \n",
       "finishedsquarefeet50                               [nan, 4969.0, 1080.0]   \n",
       "finishedsquarefeet6                               [nan, 15341.0, 1863.0]   \n",
       "fips                                            [6037.0, 6059.0, 6111.0]   \n",
       "fireplacecnt                                             [nan, 3.0, 1.0]   \n",
       "fullbathcnt                                              [nan, 2.0, 4.0]   \n",
       "garagecarcnt                                             [nan, 2.0, 4.0]   \n",
       "garagetotalsqft                                      [nan, 420.0, 525.0]   \n",
       "hashottuborspa                                               [nan, True]   \n",
       "heatingorsystemtypeid                                    [nan, 2.0, 7.0]   \n",
       "latitude                            [34144442.0, 34140430.0, 33989359.0]   \n",
       "longitude                     [-118654084.0, -118625364.0, -118394633.0]   \n",
       "lotsizesquarefeet                             [85768.0, 4083.0, 63085.0]   \n",
       "poolcnt                                                       [nan, 1.0]   \n",
       "poolsizesum                                          [nan, 800.0, 450.0]   \n",
       "pooltypeid10                                                  [nan, 1.0]   \n",
       "pooltypeid2                                                   [nan, 1.0]   \n",
       "pooltypeid7                                                   [nan, 1.0]   \n",
       "propertycountylandusecode                             [010D, 0109, 1200]   \n",
       "propertylandusetypeid                               [269.0, 261.0, 47.0]   \n",
       "propertyzoningdesc                                   [nan, LCA11*, LAC2]   \n",
       "rawcensustractandblock        [60378002.041, 60378001.011, 60377030.012]   \n",
       "regionidcity                                 [37688.0, 51617.0, 12447.0]   \n",
       "regionidcounty                                  [3101.0, 1286.0, 2061.0]   \n",
       "regionidneighborhood                             [nan, 27080.0, 46795.0]   \n",
       "regionidzip                                  [96337.0, 96095.0, 96424.0]   \n",
       "roomcnt                                                  [0.0, 8.0, 4.0]   \n",
       "storytypeid                                                   [nan, 7.0]   \n",
       "threequarterbathnbr                                      [nan, 1.0, 2.0]   \n",
       "typeconstructiontypeid                                   [nan, 6.0, 4.0]   \n",
       "unitcnt                                                  [nan, 2.0, 1.0]   \n",
       "yardbuildingsqft17                                    [nan, 450.0, 94.0]   \n",
       "yardbuildingsqft26                                  [nan, 1280.0, 140.0]   \n",
       "yearbuilt                                          [nan, 1948.0, 1947.0]   \n",
       "numberofstories                                          [nan, 1.0, 4.0]   \n",
       "fireplaceflag                                                [nan, True]   \n",
       "structuretaxvaluedollarcnt                     [nan, 650756.0, 571346.0]   \n",
       "taxvaluedollarcnt                              [9.0, 27516.0, 1413387.0]   \n",
       "assessmentyear                                  [2015.0, 2014.0, 2003.0]   \n",
       "landtaxvaluedollarcnt                           [9.0, 27516.0, 762631.0]   \n",
       "taxamount                                      [nan, 20800.37, 14557.57]   \n",
       "taxdelinquencyflag                                              [nan, Y]   \n",
       "taxdelinquencyyear                                     [nan, 13.0, 15.0]   \n",
       "censustractandblock            [nan, 6.1110010011e+13, 6.1110009032e+13]   \n",
       "\n",
       "                             unique len missing %  \n",
       "column                                             \n",
       "parcelid                        2985217         0  \n",
       "airconditioningtypeid                 8        72  \n",
       "architecturalstyletypeid              9        99  \n",
       "basementsqft                        752        99  \n",
       "bathroomcnt                          38         0  \n",
       "bedroomcnt                           22         0  \n",
       "buildingclasstypeid                   6        99  \n",
       "buildingqualitytypeid                13        35  \n",
       "calculatedbathnbr                    35         4  \n",
       "decktypeid                            2        99  \n",
       "finishedfloor1squarefeet           4605        93  \n",
       "calculatedfinishedsquarefeet      12588         1  \n",
       "finishedsquarefeet12              10671         9  \n",
       "finishedsquarefeet13                251        99  \n",
       "finishedsquarefeet15               8817        93  \n",
       "finishedsquarefeet50               4803        93  \n",
       "finishedsquarefeet6                4252        99  \n",
       "fips                                  4         0  \n",
       "fireplacecnt                         10        89  \n",
       "fullbathcnt                          21         4  \n",
       "garagecarcnt                         25        70  \n",
       "garagetotalsqft                    2241        70  \n",
       "hashottuborspa                        2        97  \n",
       "heatingorsystemtypeid                15        39  \n",
       "latitude                         852326         0  \n",
       "longitude                       1042551         0  \n",
       "lotsizesquarefeet                 69954         9  \n",
       "poolcnt                               2        82  \n",
       "poolsizesum                         908        99  \n",
       "pooltypeid10                          2        98  \n",
       "pooltypeid2                           2        98  \n",
       "pooltypeid7                           2        83  \n",
       "propertycountylandusecode           241         0  \n",
       "propertylandusetypeid                16         0  \n",
       "propertyzoningdesc                 5639        33  \n",
       "rawcensustractandblock            99394         0  \n",
       "regionidcity                        187         2  \n",
       "regionidcounty                        4         0  \n",
       "regionidneighborhood                529        61  \n",
       "regionidzip                         406         0  \n",
       "roomcnt                              37         0  \n",
       "storytypeid                           2        99  \n",
       "threequarterbathnbr                   8        89  \n",
       "typeconstructiontypeid                6        99  \n",
       "unitcnt                             147        33  \n",
       "yardbuildingsqft17                 1637        97  \n",
       "yardbuildingsqft26                  595        99  \n",
       "yearbuilt                           169         2  \n",
       "numberofstories                      13        77  \n",
       "fireplaceflag                         2        99  \n",
       "structuretaxvaluedollarcnt       426151         1  \n",
       "taxvaluedollarcnt                638921         1  \n",
       "assessmentyear                       15         0  \n",
       "landtaxvaluedollarcnt            531409         2  \n",
       "taxamount                       1045758         1  \n",
       "taxdelinquencyflag                    2        98  \n",
       "taxdelinquencyyear                   33        98  \n",
       "censustractandblock               96772         2  "
      ]
     },
     "metadata": {},
     "output_type": "display_data"
    }
   ],
   "source": [
    "def describe_values(df):\n",
    "    stats = pd.DataFrame(columns=['column', 'dtype', 'sample', 'unique len', 'missing %'])\n",
    "    for c in df.columns:\n",
    "        stats.loc[-1] = [c, df[c].dtype, df[c].unique()[:3], len(df[c].unique()), int(df[c].isnull().sum(axis=0) / df[c].size * 100)]\n",
    "        stats.index += 1\n",
    "    display(stats.set_index('column'))\n",
    "\n",
    "describe_values(props)"
   ]
  },
  {
   "cell_type": "code",
   "execution_count": 28,
   "metadata": {
    "collapsed": true
   },
   "outputs": [],
   "source": [
    "clean = pd.DataFrame()\n",
    "def pad(col, val=None, dtype=None):\n",
    "    display(col)\n",
    "    if col not in clean.columns: \n",
    "        clean[col] = props[col]\n",
    "    display(clean[col].unique())\n",
    "    if val != None:\n",
    "        clean[col] = clean[col].fillna(val)\n",
    "    if dtype != None:\n",
    "        clean[col] = clean[col].astype(dtype)\n",
    "    display(clean[col].unique())"
   ]
  },
  {
   "cell_type": "code",
   "execution_count": 57,
   "metadata": {},
   "outputs": [
    {
     "data": {
      "text/plain": [
       "'airconditioningtypeid'"
      ]
     },
     "metadata": {},
     "output_type": "display_data"
    },
    {
     "data": {
      "text/plain": [
       "array([ nan,   1.,  13.,   5.,  11.,   9.,  12.,   3.])"
      ]
     },
     "metadata": {},
     "output_type": "display_data"
    },
    {
     "data": {
      "text/plain": [
       "array([  0.,   1.,  13.,   5.,  11.,   9.,  12.,   3.])"
      ]
     },
     "metadata": {},
     "output_type": "display_data"
    }
   ],
   "source": [
    "pad('airconditioningtypeid', 0, 'category')"
   ]
  },
  {
   "cell_type": "code",
   "execution_count": 58,
   "metadata": {
    "scrolled": true
   },
   "outputs": [
    {
     "data": {
      "text/plain": [
       "'architecturalstyletypeid'"
      ]
     },
     "metadata": {},
     "output_type": "display_data"
    },
    {
     "data": {
      "text/plain": [
       "array([ nan,   7.,  21.,   8.,   2.,   3.,   5.,  10.,  27.])"
      ]
     },
     "metadata": {},
     "output_type": "display_data"
    },
    {
     "data": {
      "text/plain": [
       "array([  0.,   7.,  21.,   8.,   2.,   3.,   5.,  10.,  27.])"
      ]
     },
     "metadata": {},
     "output_type": "display_data"
    }
   ],
   "source": [
    "pad('architecturalstyletypeid', 0, 'category')"
   ]
  },
  {
   "cell_type": "code",
   "execution_count": 60,
   "metadata": {
    "scrolled": true
   },
   "outputs": [
    {
     "data": {
      "text/plain": [
       "'basementsqft'"
      ]
     },
     "metadata": {},
     "output_type": "display_data"
    },
    {
     "data": {
      "text/plain": [
       "array([   nan,   216.,   555.,   224.,   782.,   651.,   516.,   600.,\n",
       "         732.,  1145.,   220.,   420.,   688.,   144.,   540.,  1312.,\n",
       "         690.,   640.,   550.,    63.,   198.,  1120.,   924.,  1572.,\n",
       "        1035.,   195.,   544.,   498.,   176.,   360.,   154.,   240.,\n",
       "         616.,  1131.,   200.,  1016.,  1089.,  2443.,   276.,   396.,\n",
       "         149.,   168.,   495.,   208.,   560.,   939.,   704.,   460.,\n",
       "        1152.,   462.,  1904.,   888.,   170.,   625.,   450.,    72.,\n",
       "         252.,   637.,    96.,  1172.,  1464.,   787.,   501.,   473.,\n",
       "         318.,   112.,   394.,   985.,   169.,   400.,   826.,   780.,\n",
       "        1350.,   610.,  1528.,   255.,   164.,   315.,   836.,   630.,\n",
       "         160.,  1508.,   775.,   676.,   448.,   756.,   912.,   179.,\n",
       "         700.,   348.,   595.,   231.,   100.,   266.,   620.,   757.,\n",
       "         786.,   872.,   672.,   831.,  1544.,   946.,   180.,   313.,\n",
       "         314.,   440.,   528.,    36.,   320.,   515.,   196.,   119.,\n",
       "        3374.,   606.,   736.,   678.,  1282.,   135.,    64.,   506.,\n",
       "         414.,  1296.,  1197.,  1112.,   814.,   530.,   165.,  1314.,\n",
       "         352.,   282.,   293.,   805.,  2025.,   990.,   173.,   841.,\n",
       "         108.,   140.,   280.,   853.,   751.,   150.,  1226.,    25.,\n",
       "         384.,  1552.,   689.,   656.,   795.,  1560.,   899.,   864.,\n",
       "         234.,  1085.,   821.,  1448.,   980.,   502.,   405.,   438.,\n",
       "         162.,   766.,   459.,   392.,   972.,   107.,  3089.,   120.,\n",
       "        1040.,   456.,  1932.,  1601.,  1377.,   308.,  1483.,  1671.,\n",
       "         749.,    60.,   582.,   861.,   584.,   250.,   357.,  1224.,\n",
       "         142.,  1118.,    90.,   378.,  1369.,  2683.,   480.,   270.,\n",
       "         457.,   702.,   618.,  1515.,   354.,   988.,   644.,  1179.,\n",
       "         788.,   722.,  1488.,   339.,   726.,  1373.,  1391.,   375.,\n",
       "        1680.,  1023.,   900.,   485.,   680.,   576.,    68.,   260.,\n",
       "         364.,  1700.,   551.,   330.,   539.,   598.,   581.,   306.,\n",
       "         848.,   784.,   747.,   577.,   104.,   636.,   769.,   512.,\n",
       "         760.,   272.,  1056.,  1460.,   156.,   256.,   153.,   338.,\n",
       "          81.,   110.,   605.,   369.,  1194.,   432.,  2618.,   146.,\n",
       "         285.,   744.,   909.,   175.,    80.,  1252.,  1026.,   482.,\n",
       "          98.,   505.,  1232.,   765.,   376.,   897.,  1689.,   790.,\n",
       "         574.,   204.,  1060.,   225.,   238.,   699.,   910.,   921.,\n",
       "        1316.,  1852.,   340.,   648.,   572.,  1824.,    50.,   510.,\n",
       "        1088.,  1008.,  1977.,   455.,   385.,  3419.,   982.,   840.,\n",
       "         721.,  1348.,   368.,   767.,   327.,   130.,   559.,   116.,\n",
       "         295.,   474.,   374.,   561.,   334.,   763.,  1380.,  1365.,\n",
       "        1490.,   161.,   720.,   674.,   645.,   183.,  1151.,  1072.,\n",
       "         960.,  1403.,   402.,   819.,   884.,  1844.,   307.,  1818.,\n",
       "         742.,  1910.,   377.,   300.,   192.,  2168.,   406.,   642.,\n",
       "         802.,   458.,  1144.,   304.,   587.,   925.,    84.,  1747.,\n",
       "        1333.,   504.,   632.,   467.,  1157.,   764.,   380.,   835.,\n",
       "          30.,    83.,   324.,   395.,  2048.,   789.,   890.,   615.,\n",
       "          99.,   772.,   126.,   189.,   696.,   490.,   155.,   816.,\n",
       "        1280.,  2514.,   475.,   261.,   178.,   629.,  1213.,   370.,\n",
       "         568.,   575.,   416.,  1142.,   522.,   548.,   753.,  2322.,\n",
       "        1228.,   863.,   570.,    85.,  1063.,   500.,   408.,   538.,\n",
       "        1095.,   182.,  1636.,  1146.,   823.,   294.,   507.,   322.,\n",
       "        1196.,   386.,   800.,   288.,  1012.,   336.,   918.,  1170.,\n",
       "         923.,   801.,   602.,  1559.,   750.,  1030.,   935.,   554.,\n",
       "        2489.,  2485.,  1416.,   268.,   728.,   447.,   218.,   608.,\n",
       "        1117.,   752.,   735.,   624.,   794.,   312.,  1148.,   876.,\n",
       "         325.,  1889.,   494.,   817.,    45.,   316.,   768.,   362.,\n",
       "         671.,   549.,   296.,  1087.,  1551.,  1503.,  2376.,  1358.,\n",
       "         945.,  1230.,   830.,  1240.,  1344.,  1744.,  1180.,   815.,\n",
       "         132.,   929.,   254.,   210.,  1127.,   125.,   738.,   397.,\n",
       "         535.,   166.,   533.,  1007.,   442.,  1536.,   783.,   184.,\n",
       "         328.,  2143.,   373.,   599.,   723.,   564.,   774.,  1309.,\n",
       "        1809.,   579.,   932.,  1104.,   163.,  1122.,   190.,   228.,\n",
       "         436.,   969.,   454.,   585.,    69.,   323.,   203.,  1219.,\n",
       "         493.,   731.,   934.,   659.,  1047.,  1048.,  1272.,  8516.,\n",
       "        1254.,   423.,   133.,   669.,   222.,   211.,  1520.,  1093.,\n",
       "         954.,  1062.,   718.,   666.,  1575.,   621.,   209.,   825.,\n",
       "         866.,   832.,   497.,   365.,  1302.,  1453.,   903.,   437.,\n",
       "         646.,   660.,   273.,    20.,  1198.,   265.,   347.,   822.,\n",
       "          79.,   631.,   942.,   143.,   177.,   471.,   117.,  1244.,\n",
       "         302.,   355.,    48.,  1078.,   798.,   820.,   611.,  1341.,\n",
       "         673.,   727.,   519.,   596.,  1308.,   979.,  1725.,  1322.,\n",
       "        1178.,   880.,   350.,   187.,   343.,   896.,  2029.,  1969.,\n",
       "        1534.,   412.,   483.,   297.,  1080.,   552.,    55.,  3489.,\n",
       "         287.,   847.,   785.,   249.,  2221.,  1854.,    38.,   358.,\n",
       "        1903.,  1092.,   604.,   792.,   145.,   729.,   628.,   258.,\n",
       "         777.,   271.,   778.,  1665.,   212.,   734.,   685.,   128.,\n",
       "        1589.,  2244.,   650.,   952.,   588.,   477.,   956.,   771.,\n",
       "         961.,   264.,   403.,  3105.,  1440.,   427.,   468.,   269.,\n",
       "        1162.,  2004.,   662.,  2611.,  1276.,  1041.,   418.,   874.,\n",
       "         592.,  1321.,   425.,   667.,   486.,   892.,  1812.,   536.,\n",
       "         905.,  1222.,    70.,   520.,   895.,  1352.,   609.,   829.,\n",
       "         869.,  1000.,   465.,  1098.,  1668.,  1013.,   138.,   670.,\n",
       "         992.,   860.,  1386.,   509.,   532.,   993.,  1502.,  1292.,\n",
       "         677.,    88.,   472.,  1134.,   875.,   518.,   351.,  2314.,\n",
       "        1065.,  1106.,  1434.,   597.,    24.,   422.,  1646.,   590.,\n",
       "        1317.,  1303.,  1876.,  1176.,   221.,   658.,  1472.,   527.,\n",
       "         197.,  1420.,   466.,   913.,  1555.,   906.,  3112.,   898.,\n",
       "          42.,  2297.,  1521.,  1014.,  1208.,  1114.,  1288.,  2668.,\n",
       "        2026.,   185.,   470.,  1020.,  1218.,   827.,   740.,   686.,\n",
       "        1766.,  1427.,   361.,  1002.,   569.,   850.,  1491.,   345.,\n",
       "        1994.,   359.,   290.,   567.,  1070.,  1143.,   545.,  1225.,\n",
       "        1274.,   242.,   381.,    86.,   317.,  1204.,  1163.,  1462.,\n",
       "        3560.,  1137.,  2392.,   388.,   994.,   987.,   492.,  4122.,\n",
       "        1443.,   984.,    73.,   243.,   390.,   839.,  1586.,   692.,\n",
       "        1400.,   337.,   524.,  2440.,   441.,  1210.,  1674.,   808.,\n",
       "        1071.,   996.,   557.,   806.,   393.,    77.,   284.,   136.])"
      ]
     },
     "metadata": {},
     "output_type": "display_data"
    },
    {
     "data": {
      "text/plain": [
       "array([   0,  216,  555,  224,  782,  651,  516,  600,  732, 1145,  220,\n",
       "        420,  688,  144,  540, 1312,  690,  640,  550,   63,  198, 1120,\n",
       "        924, 1572, 1035,  195,  544,  498,  176,  360,  154,  240,  616,\n",
       "       1131,  200, 1016, 1089, 2443,  276,  396,  149,  168,  495,  208,\n",
       "        560,  939,  704,  460, 1152,  462, 1904,  888,  170,  625,  450,\n",
       "         72,  252,  637,   96, 1172, 1464,  787,  501,  473,  318,  112,\n",
       "        394,  985,  169,  400,  826,  780, 1350,  610, 1528,  255,  164,\n",
       "        315,  836,  630,  160, 1508,  775,  676,  448,  756,  912,  179,\n",
       "        700,  348,  595,  231,  100,  266,  620,  757,  786,  872,  672,\n",
       "        831, 1544,  946,  180,  313,  314,  440,  528,   36,  320,  515,\n",
       "        196,  119, 3374,  606,  736,  678, 1282,  135,   64,  506,  414,\n",
       "       1296, 1197, 1112,  814,  530,  165, 1314,  352,  282,  293,  805,\n",
       "       2025,  990,  173,  841,  108,  140,  280,  853,  751,  150, 1226,\n",
       "         25,  384, 1552,  689,  656,  795, 1560,  899,  864,  234, 1085,\n",
       "        821, 1448,  980,  502,  405,  438,  162,  766,  459,  392,  972,\n",
       "        107, 3089,  120, 1040,  456, 1932, 1601, 1377,  308, 1483, 1671,\n",
       "        749,   60,  582,  861,  584,  250,  357, 1224,  142, 1118,   90,\n",
       "        378, 1369, 2683,  480,  270,  457,  702,  618, 1515,  354,  988,\n",
       "        644, 1179,  788,  722, 1488,  339,  726, 1373, 1391,  375, 1680,\n",
       "       1023,  900,  485,  680,  576,   68,  260,  364, 1700,  551,  330,\n",
       "        539,  598,  581,  306,  848,  784,  747,  577,  104,  636,  769,\n",
       "        512,  760,  272, 1056, 1460,  156,  256,  153,  338,   81,  110,\n",
       "        605,  369, 1194,  432, 2618,  146,  285,  744,  909,  175,   80,\n",
       "       1252, 1026,  482,   98,  505, 1232,  765,  376,  897, 1689,  790,\n",
       "        574,  204, 1060,  225,  238,  699,  910,  921, 1316, 1852,  340,\n",
       "        648,  572, 1824,   50,  510, 1088, 1008, 1977,  455,  385, 3419,\n",
       "        982,  840,  721, 1348,  368,  767,  327,  130,  559,  116,  295,\n",
       "        474,  374,  561,  334,  763, 1380, 1365, 1490,  161,  720,  674,\n",
       "        645,  183, 1151, 1072,  960, 1403,  402,  819,  884, 1844,  307,\n",
       "       1818,  742, 1910,  377,  300,  192, 2168,  406,  642,  802,  458,\n",
       "       1144,  304,  587,  925,   84, 1747, 1333,  504,  632,  467, 1157,\n",
       "        764,  380,  835,   30,   83,  324,  395, 2048,  789,  890,  615,\n",
       "         99,  772,  126,  189,  696,  490,  155,  816, 1280, 2514,  475,\n",
       "        261,  178,  629, 1213,  370,  568,  575,  416, 1142,  522,  548,\n",
       "        753, 2322, 1228,  863,  570,   85, 1063,  500,  408,  538, 1095,\n",
       "        182, 1636, 1146,  823,  294,  507,  322, 1196,  386,  800,  288,\n",
       "       1012,  336,  918, 1170,  923,  801,  602, 1559,  750, 1030,  935,\n",
       "        554, 2489, 2485, 1416,  268,  728,  447,  218,  608, 1117,  752,\n",
       "        735,  624,  794,  312, 1148,  876,  325, 1889,  494,  817,   45,\n",
       "        316,  768,  362,  671,  549,  296, 1087, 1551, 1503, 2376, 1358,\n",
       "        945, 1230,  830, 1240, 1344, 1744, 1180,  815,  132,  929,  254,\n",
       "        210, 1127,  125,  738,  397,  535,  166,  533, 1007,  442, 1536,\n",
       "        783,  184,  328, 2143,  373,  599,  723,  564,  774, 1309, 1809,\n",
       "        579,  932, 1104,  163, 1122,  190,  228,  436,  969,  454,  585,\n",
       "         69,  323,  203, 1219,  493,  731,  934,  659, 1047, 1048, 1272,\n",
       "       8516, 1254,  423,  133,  669,  222,  211, 1520, 1093,  954, 1062,\n",
       "        718,  666, 1575,  621,  209,  825,  866,  832,  497,  365, 1302,\n",
       "       1453,  903,  437,  646,  660,  273,   20, 1198,  265,  347,  822,\n",
       "         79,  631,  942,  143,  177,  471,  117, 1244,  302,  355,   48,\n",
       "       1078,  798,  820,  611, 1341,  673,  727,  519,  596, 1308,  979,\n",
       "       1725, 1322, 1178,  880,  350,  187,  343,  896, 2029, 1969, 1534,\n",
       "        412,  483,  297, 1080,  552,   55, 3489,  287,  847,  785,  249,\n",
       "       2221, 1854,   38,  358, 1903, 1092,  604,  792,  145,  729,  628,\n",
       "        258,  777,  271,  778, 1665,  212,  734,  685,  128, 1589, 2244,\n",
       "        650,  952,  588,  477,  956,  771,  961,  264,  403, 3105, 1440,\n",
       "        427,  468,  269, 1162, 2004,  662, 2611, 1276, 1041,  418,  874,\n",
       "        592, 1321,  425,  667,  486,  892, 1812,  536,  905, 1222,   70,\n",
       "        520,  895, 1352,  609,  829,  869, 1000,  465, 1098, 1668, 1013,\n",
       "        138,  670,  992,  860, 1386,  509,  532,  993, 1502, 1292,  677,\n",
       "         88,  472, 1134,  875,  518,  351, 2314, 1065, 1106, 1434,  597,\n",
       "         24,  422, 1646,  590, 1317, 1303, 1876, 1176,  221,  658, 1472,\n",
       "        527,  197, 1420,  466,  913, 1555,  906, 3112,  898,   42, 2297,\n",
       "       1521, 1014, 1208, 1114, 1288, 2668, 2026,  185,  470, 1020, 1218,\n",
       "        827,  740,  686, 1766, 1427,  361, 1002,  569,  850, 1491,  345,\n",
       "       1994,  359,  290,  567, 1070, 1143,  545, 1225, 1274,  242,  381,\n",
       "         86,  317, 1204, 1163, 1462, 3560, 1137, 2392,  388,  994,  987,\n",
       "        492, 4122, 1443,  984,   73,  243,  390,  839, 1586,  692, 1400,\n",
       "        337,  524, 2440,  441, 1210, 1674,  808, 1071,  996,  557,  806,\n",
       "        393,   77,  284,  136])"
      ]
     },
     "metadata": {},
     "output_type": "display_data"
    }
   ],
   "source": [
    "pad('basementsqft', 0, 'int64')"
   ]
  },
  {
   "cell_type": "code",
   "execution_count": 96,
   "metadata": {
    "scrolled": true
   },
   "outputs": [
    {
     "data": {
      "text/plain": [
       "2.0"
      ]
     },
     "metadata": {},
     "output_type": "display_data"
    },
    {
     "data": {
      "text/plain": [
       "'bathroomcnt'"
      ]
     },
     "metadata": {},
     "output_type": "display_data"
    },
    {
     "data": {
      "text/plain": [
       "array([  0.  ,   2.  ,   4.  ,   3.  ,   1.  ,   2.5 ,   3.5 ,   5.  ,\n",
       "         1.5 ,   4.5 ,   7.5 ,   5.5 ,   6.  ,   7.  ,  10.  ,   8.  ,\n",
       "         9.  ,  12.  ,  11.  ,   8.5 ,   6.5 ,  13.  ,   9.5 ,  14.  ,\n",
       "        20.  ,  19.5 ,  15.  ,  10.5 ,    nan,  18.  ,  16.  ,   1.75,\n",
       "        17.  ,  19.  ,   0.5 ,  12.5 ,  11.5 ,  14.5 ])"
      ]
     },
     "metadata": {},
     "output_type": "display_data"
    },
    {
     "data": {
      "text/plain": [
       "array([  0.  ,   2.  ,   4.  ,   3.  ,   1.  ,   2.5 ,   3.5 ,   5.  ,\n",
       "         1.5 ,   4.5 ,   7.5 ,   5.5 ,   6.  ,   7.  ,  10.  ,   8.  ,\n",
       "         9.  ,  12.  ,  11.  ,   8.5 ,   6.5 ,  13.  ,   9.5 ,  14.  ,\n",
       "        20.  ,  19.5 ,  15.  ,  10.5 ,  18.  ,  16.  ,   1.75,  17.  ,\n",
       "        19.  ,   0.5 ,  12.5 ,  11.5 ,  14.5 ])"
      ]
     },
     "metadata": {},
     "output_type": "display_data"
    }
   ],
   "source": [
    "display(props['bathroomcnt'].median())\n",
    "pad('bathroomcnt', props['bathroomcnt'].median(), 'float64')"
   ]
  },
  {
   "cell_type": "code",
   "execution_count": 97,
   "metadata": {},
   "outputs": [
    {
     "data": {
      "text/plain": [
       "3.0"
      ]
     },
     "metadata": {},
     "output_type": "display_data"
    },
    {
     "data": {
      "text/plain": [
       "'bedroomcnt'"
      ]
     },
     "metadata": {},
     "output_type": "display_data"
    },
    {
     "data": {
      "text/plain": [
       "array([  0.,   4.,   5.,   2.,   3.,   1.,   6.,   7.,   8.,  12.,  11.,\n",
       "         9.,  10.,  14.,  16.,  13.,  nan,  15.,  17.,  18.,  20.,  19.])"
      ]
     },
     "metadata": {},
     "output_type": "display_data"
    },
    {
     "data": {
      "text/plain": [
       "array([  0.,   4.,   5.,   2.,   3.,   1.,   6.,   7.,   8.,  12.,  11.,\n",
       "         9.,  10.,  14.,  16.,  13.,  15.,  17.,  18.,  20.,  19.])"
      ]
     },
     "metadata": {},
     "output_type": "display_data"
    }
   ],
   "source": [
    "display(props['bedroomcnt'].median())\n",
    "pad('bedroomcnt', props['bedroomcnt'].median(), 'float64')"
   ]
  },
  {
   "cell_type": "code",
   "execution_count": 62,
   "metadata": {
    "scrolled": true
   },
   "outputs": [
    {
     "data": {
      "text/plain": [
       "'buildingclasstypeid'"
      ]
     },
     "metadata": {},
     "output_type": "display_data"
    },
    {
     "data": {
      "text/plain": [
       "array([ nan,   3.,   4.,   5.,   2.,   1.])"
      ]
     },
     "metadata": {},
     "output_type": "display_data"
    },
    {
     "data": {
      "text/plain": [
       "[0.0, 3.0, 4.0, 5.0, 2.0, 1.0]\n",
       "Categories (6, float64): [0.0, 3.0, 4.0, 5.0, 2.0, 1.0]"
      ]
     },
     "metadata": {},
     "output_type": "display_data"
    }
   ],
   "source": [
    "pad('buildingclasstypeid', 0, 'category')"
   ]
  },
  {
   "cell_type": "code",
   "execution_count": 64,
   "metadata": {
    "scrolled": true
   },
   "outputs": [
    {
     "data": {
      "text/plain": [
       "'buildingqualitytypeid'"
      ]
     },
     "metadata": {},
     "output_type": "display_data"
    },
    {
     "data": {
      "text/plain": [
       "array([ nan,   7.,   4.,  10.,   1.,  12.,   8.,   3.,   6.,   9.,   5.,\n",
       "        11.,   2.])"
      ]
     },
     "metadata": {},
     "output_type": "display_data"
    },
    {
     "data": {
      "text/plain": [
       "[0.0, 7.0, 4.0, 10.0, 1.0, ..., 6.0, 9.0, 5.0, 11.0, 2.0]\n",
       "Length: 13\n",
       "Categories (13, float64): [0.0, 7.0, 4.0, 10.0, ..., 9.0, 5.0, 11.0, 2.0]"
      ]
     },
     "metadata": {},
     "output_type": "display_data"
    }
   ],
   "source": [
    "pad('buildingqualitytypeid', 0, 'category')"
   ]
  },
  {
   "cell_type": "code",
   "execution_count": 95,
   "metadata": {
    "scrolled": true
   },
   "outputs": [
    {
     "data": {
      "text/plain": [
       "'calculatedbathnbr'"
      ]
     },
     "metadata": {},
     "output_type": "display_data"
    },
    {
     "data": {
      "text/plain": [
       "array([  nan,   2. ,   4. ,   3. ,   1. ,   2.5,   3.5,   5. ,   1.5,\n",
       "         4.5,   7.5,   5.5,   6. ,   7. ,  10. ,   8. ,   9. ,  12. ,\n",
       "        11. ,   8.5,   6.5,  13. ,   9.5,  14. ,  20. ,  19.5,  15. ,\n",
       "        10.5,  18. ,  16. ,  17. ,  19. ,  12.5,  11.5,  14.5])"
      ]
     },
     "metadata": {},
     "output_type": "display_data"
    },
    {
     "data": {
      "text/plain": [
       "array([  nan,   2. ,   4. ,   3. ,   1. ,   2.5,   3.5,   5. ,   1.5,\n",
       "         4.5,   7.5,   5.5,   6. ,   7. ,  10. ,   8. ,   9. ,  12. ,\n",
       "        11. ,   8.5,   6.5,  13. ,   9.5,  14. ,  20. ,  19.5,  15. ,\n",
       "        10.5,  18. ,  16. ,  17. ,  19. ,  12.5,  11.5,  14.5])"
      ]
     },
     "metadata": {},
     "output_type": "display_data"
    },
    {
     "data": {
      "text/plain": [
       "array([  0.  ,   2.  ,   4.  ,   3.  ,   1.  ,   2.5 ,   3.5 ,   5.  ,\n",
       "         1.5 ,   4.5 ,   7.5 ,   5.5 ,   6.  ,   7.  ,  10.  ,   8.  ,\n",
       "         9.  ,  12.  ,  11.  ,   8.5 ,   6.5 ,  13.  ,   9.5 ,  14.  ,\n",
       "        20.  ,  19.5 ,  15.  ,  10.5 ,  18.  ,  16.  ,   1.75,  17.  ,\n",
       "        19.  ,   0.5 ,  12.5 ,  11.5 ,  14.5 ])"
      ]
     },
     "metadata": {},
     "output_type": "display_data"
    }
   ],
   "source": [
    "pad('calculatedbathnbr', dtype='float64')\n",
    "\n",
    "# if it doesn't have a value, we just get it from bathroomcnt\n",
    "props[['calculatedbathnbr', 'bathroomcnt', 'bedroomcnt']]\n",
    "clean.loc[clean['calculatedbathnbr'].isnull(), ('calculatedbathnbr')] = clean.loc[clean['calculatedbathnbr'].isnull(), ('bathroomcnt')]\n",
    "display(clean['calculatedbathnbr'].unique())"
   ]
  },
  {
   "cell_type": "code",
   "execution_count": 94,
   "metadata": {},
   "outputs": [
    {
     "data": {
      "text/plain": [
       "'decktypeid'"
      ]
     },
     "metadata": {},
     "output_type": "display_data"
    },
    {
     "data": {
      "text/plain": [
       "array([ nan,  66.])"
      ]
     },
     "metadata": {},
     "output_type": "display_data"
    },
    {
     "data": {
      "text/plain": [
       "[0.0, 66.0]\n",
       "Categories (2, float64): [0.0, 66.0]"
      ]
     },
     "metadata": {},
     "output_type": "display_data"
    }
   ],
   "source": [
    "pad('decktypeid', 0, 'category')"
   ]
  },
  {
   "cell_type": "code",
   "execution_count": 29,
   "metadata": {
    "scrolled": false
   },
   "outputs": [
    {
     "data": {
      "text/html": [
       "<div>\n",
       "<style>\n",
       "    .dataframe thead tr:only-child th {\n",
       "        text-align: right;\n",
       "    }\n",
       "\n",
       "    .dataframe thead th {\n",
       "        text-align: left;\n",
       "    }\n",
       "\n",
       "    .dataframe tbody tr th {\n",
       "        vertical-align: top;\n",
       "    }\n",
       "</style>\n",
       "<table border=\"1\" class=\"dataframe\">\n",
       "  <thead>\n",
       "    <tr style=\"text-align: right;\">\n",
       "      <th></th>\n",
       "      <th>dtype</th>\n",
       "      <th>sample</th>\n",
       "      <th>unique len</th>\n",
       "      <th>missing %</th>\n",
       "    </tr>\n",
       "    <tr>\n",
       "      <th>column</th>\n",
       "      <th></th>\n",
       "      <th></th>\n",
       "      <th></th>\n",
       "      <th></th>\n",
       "    </tr>\n",
       "  </thead>\n",
       "  <tbody>\n",
       "    <tr>\n",
       "      <th>finishedsquarefeet50</th>\n",
       "      <td>float64</td>\n",
       "      <td>[nan, 4969.0, 1080.0]</td>\n",
       "      <td>4803</td>\n",
       "      <td>93</td>\n",
       "    </tr>\n",
       "    <tr>\n",
       "      <th>finishedfloor1squarefeet</th>\n",
       "      <td>float64</td>\n",
       "      <td>[nan, 4969.0, 1080.0]</td>\n",
       "      <td>4605</td>\n",
       "      <td>93</td>\n",
       "    </tr>\n",
       "    <tr>\n",
       "      <th>finishedsquarefeet12</th>\n",
       "      <td>float64</td>\n",
       "      <td>[nan, 4000.0, 3633.0]</td>\n",
       "      <td>10671</td>\n",
       "      <td>9</td>\n",
       "    </tr>\n",
       "    <tr>\n",
       "      <th>calculatedfinishedsquarefeet</th>\n",
       "      <td>float64</td>\n",
       "      <td>[nan, 73026.0, 5068.0]</td>\n",
       "      <td>12588</td>\n",
       "      <td>1</td>\n",
       "    </tr>\n",
       "    <tr>\n",
       "      <th>finishedsquarefeet13</th>\n",
       "      <td>float64</td>\n",
       "      <td>[nan, 1440.0, 1368.0]</td>\n",
       "      <td>251</td>\n",
       "      <td>99</td>\n",
       "    </tr>\n",
       "    <tr>\n",
       "      <th>finishedsquarefeet15</th>\n",
       "      <td>float64</td>\n",
       "      <td>[nan, 73026.0, 5068.0]</td>\n",
       "      <td>8817</td>\n",
       "      <td>93</td>\n",
       "    </tr>\n",
       "    <tr>\n",
       "      <th>finishedsquarefeet6</th>\n",
       "      <td>float64</td>\n",
       "      <td>[nan, 15341.0, 1863.0]</td>\n",
       "      <td>4252</td>\n",
       "      <td>99</td>\n",
       "    </tr>\n",
       "    <tr>\n",
       "      <th>lotsizesquarefeet</th>\n",
       "      <td>float64</td>\n",
       "      <td>[85768.0, 4083.0, 63085.0]</td>\n",
       "      <td>69954</td>\n",
       "      <td>9</td>\n",
       "    </tr>\n",
       "  </tbody>\n",
       "</table>\n",
       "</div>"
      ],
      "text/plain": [
       "                                dtype                      sample unique len  \\\n",
       "column                                                                         \n",
       "finishedsquarefeet50          float64       [nan, 4969.0, 1080.0]       4803   \n",
       "finishedfloor1squarefeet      float64       [nan, 4969.0, 1080.0]       4605   \n",
       "finishedsquarefeet12          float64       [nan, 4000.0, 3633.0]      10671   \n",
       "calculatedfinishedsquarefeet  float64      [nan, 73026.0, 5068.0]      12588   \n",
       "finishedsquarefeet13          float64       [nan, 1440.0, 1368.0]        251   \n",
       "finishedsquarefeet15          float64      [nan, 73026.0, 5068.0]       8817   \n",
       "finishedsquarefeet6           float64      [nan, 15341.0, 1863.0]       4252   \n",
       "lotsizesquarefeet             float64  [85768.0, 4083.0, 63085.0]      69954   \n",
       "\n",
       "                             missing %  \n",
       "column                                  \n",
       "finishedsquarefeet50                93  \n",
       "finishedfloor1squarefeet            93  \n",
       "finishedsquarefeet12                 9  \n",
       "calculatedfinishedsquarefeet         1  \n",
       "finishedsquarefeet13                99  \n",
       "finishedsquarefeet15                93  \n",
       "finishedsquarefeet6                 99  \n",
       "lotsizesquarefeet                    9  "
      ]
     },
     "metadata": {},
     "output_type": "display_data"
    },
    {
     "data": {
      "text/html": [
       "<div>\n",
       "<style>\n",
       "    .dataframe thead tr:only-child th {\n",
       "        text-align: right;\n",
       "    }\n",
       "\n",
       "    .dataframe thead th {\n",
       "        text-align: left;\n",
       "    }\n",
       "\n",
       "    .dataframe tbody tr th {\n",
       "        vertical-align: top;\n",
       "    }\n",
       "</style>\n",
       "<table border=\"1\" class=\"dataframe\">\n",
       "  <thead>\n",
       "    <tr style=\"text-align: right;\">\n",
       "      <th></th>\n",
       "      <th>dtype</th>\n",
       "      <th>sample</th>\n",
       "      <th>unique len</th>\n",
       "      <th>missing %</th>\n",
       "    </tr>\n",
       "    <tr>\n",
       "      <th>column</th>\n",
       "      <th></th>\n",
       "      <th></th>\n",
       "      <th></th>\n",
       "      <th></th>\n",
       "    </tr>\n",
       "  </thead>\n",
       "  <tbody>\n",
       "    <tr>\n",
       "      <th>finishedsquarefeet50</th>\n",
       "      <td>float64</td>\n",
       "      <td>[85768.0, 4083.0, 73026.0]</td>\n",
       "      <td>17041</td>\n",
       "      <td>1</td>\n",
       "    </tr>\n",
       "    <tr>\n",
       "      <th>finishedfloor1squarefeet</th>\n",
       "      <td>float64</td>\n",
       "      <td>[85768.0, 4083.0, 73026.0]</td>\n",
       "      <td>17030</td>\n",
       "      <td>1</td>\n",
       "    </tr>\n",
       "    <tr>\n",
       "      <th>finishedsquarefeet12</th>\n",
       "      <td>float64</td>\n",
       "      <td>[85768.0, 4083.0, 73026.0]</td>\n",
       "      <td>17036</td>\n",
       "      <td>1</td>\n",
       "    </tr>\n",
       "    <tr>\n",
       "      <th>calculatedfinishedsquarefeet</th>\n",
       "      <td>float64</td>\n",
       "      <td>[85768.0, 4083.0, 73026.0]</td>\n",
       "      <td>17036</td>\n",
       "      <td>1</td>\n",
       "    </tr>\n",
       "    <tr>\n",
       "      <th>finishedsquarefeet13</th>\n",
       "      <td>float64</td>\n",
       "      <td>[85768.0, 4083.0, 73026.0]</td>\n",
       "      <td>17041</td>\n",
       "      <td>1</td>\n",
       "    </tr>\n",
       "    <tr>\n",
       "      <th>finishedsquarefeet15</th>\n",
       "      <td>float64</td>\n",
       "      <td>[85768.0, 4083.0, 73026.0]</td>\n",
       "      <td>17041</td>\n",
       "      <td>1</td>\n",
       "    </tr>\n",
       "    <tr>\n",
       "      <th>finishedsquarefeet6</th>\n",
       "      <td>float64</td>\n",
       "      <td>[85768.0, 4083.0, 73026.0]</td>\n",
       "      <td>17041</td>\n",
       "      <td>1</td>\n",
       "    </tr>\n",
       "    <tr>\n",
       "      <th>lotsizesquarefeet</th>\n",
       "      <td>float64</td>\n",
       "      <td>[85768.0, 4083.0, 63085.0]</td>\n",
       "      <td>70185</td>\n",
       "      <td>1</td>\n",
       "    </tr>\n",
       "  </tbody>\n",
       "</table>\n",
       "</div>"
      ],
      "text/plain": [
       "                                dtype                      sample unique len  \\\n",
       "column                                                                         \n",
       "finishedsquarefeet50          float64  [85768.0, 4083.0, 73026.0]      17041   \n",
       "finishedfloor1squarefeet      float64  [85768.0, 4083.0, 73026.0]      17030   \n",
       "finishedsquarefeet12          float64  [85768.0, 4083.0, 73026.0]      17036   \n",
       "calculatedfinishedsquarefeet  float64  [85768.0, 4083.0, 73026.0]      17036   \n",
       "finishedsquarefeet13          float64  [85768.0, 4083.0, 73026.0]      17041   \n",
       "finishedsquarefeet15          float64  [85768.0, 4083.0, 73026.0]      17041   \n",
       "finishedsquarefeet6           float64  [85768.0, 4083.0, 73026.0]      17041   \n",
       "lotsizesquarefeet             float64  [85768.0, 4083.0, 63085.0]      70185   \n",
       "\n",
       "                             missing %  \n",
       "column                                  \n",
       "finishedsquarefeet50                 1  \n",
       "finishedfloor1squarefeet             1  \n",
       "finishedsquarefeet12                 1  \n",
       "calculatedfinishedsquarefeet         1  \n",
       "finishedsquarefeet13                 1  \n",
       "finishedsquarefeet15                 1  \n",
       "finishedsquarefeet6                  1  \n",
       "lotsizesquarefeet                    1  "
      ]
     },
     "metadata": {},
     "output_type": "display_data"
    },
    {
     "data": {
      "text/plain": [
       "'finishedsquarefeet50'"
      ]
     },
     "metadata": {},
     "output_type": "display_data"
    },
    {
     "data": {
      "text/plain": [
       "array([ 85768.,   4083.,  73026., ...,  10836.,  41801.,  33803.])"
      ]
     },
     "metadata": {},
     "output_type": "display_data"
    },
    {
     "data": {
      "text/plain": [
       "array([ 85768.,   4083.,  73026., ...,  10836.,  41801.,  33803.])"
      ]
     },
     "metadata": {},
     "output_type": "display_data"
    },
    {
     "data": {
      "text/plain": [
       "'finishedfloor1squarefeet'"
      ]
     },
     "metadata": {},
     "output_type": "display_data"
    },
    {
     "data": {
      "text/plain": [
       "array([ 85768.,   4083.,  73026., ...,  10836.,  41801.,  33803.])"
      ]
     },
     "metadata": {},
     "output_type": "display_data"
    },
    {
     "data": {
      "text/plain": [
       "array([ 85768.,   4083.,  73026., ...,  10836.,  41801.,  33803.])"
      ]
     },
     "metadata": {},
     "output_type": "display_data"
    },
    {
     "data": {
      "text/plain": [
       "'finishedsquarefeet12'"
      ]
     },
     "metadata": {},
     "output_type": "display_data"
    },
    {
     "data": {
      "text/plain": [
       "array([ 85768.,   4083.,  73026., ...,  10836.,  41801.,  33803.])"
      ]
     },
     "metadata": {},
     "output_type": "display_data"
    },
    {
     "data": {
      "text/plain": [
       "array([ 85768.,   4083.,  73026., ...,  10836.,  41801.,  33803.])"
      ]
     },
     "metadata": {},
     "output_type": "display_data"
    },
    {
     "data": {
      "text/plain": [
       "'calculatedfinishedsquarefeet'"
      ]
     },
     "metadata": {},
     "output_type": "display_data"
    },
    {
     "data": {
      "text/plain": [
       "array([ 85768.,   4083.,  73026., ...,  10836.,  41801.,  33803.])"
      ]
     },
     "metadata": {},
     "output_type": "display_data"
    },
    {
     "data": {
      "text/plain": [
       "array([ 85768.,   4083.,  73026., ...,  10836.,  41801.,  33803.])"
      ]
     },
     "metadata": {},
     "output_type": "display_data"
    },
    {
     "data": {
      "text/plain": [
       "'finishedsquarefeet13'"
      ]
     },
     "metadata": {},
     "output_type": "display_data"
    },
    {
     "data": {
      "text/plain": [
       "array([ 85768.,   4083.,  73026., ...,  10836.,  41801.,  33803.])"
      ]
     },
     "metadata": {},
     "output_type": "display_data"
    },
    {
     "data": {
      "text/plain": [
       "array([ 85768.,   4083.,  73026., ...,  10836.,  41801.,  33803.])"
      ]
     },
     "metadata": {},
     "output_type": "display_data"
    },
    {
     "data": {
      "text/plain": [
       "'finishedsquarefeet15'"
      ]
     },
     "metadata": {},
     "output_type": "display_data"
    },
    {
     "data": {
      "text/plain": [
       "array([ 85768.,   4083.,  73026., ...,  10836.,  41801.,  33803.])"
      ]
     },
     "metadata": {},
     "output_type": "display_data"
    },
    {
     "data": {
      "text/plain": [
       "array([ 85768.,   4083.,  73026., ...,  10836.,  41801.,  33803.])"
      ]
     },
     "metadata": {},
     "output_type": "display_data"
    },
    {
     "data": {
      "text/plain": [
       "'finishedsquarefeet6'"
      ]
     },
     "metadata": {},
     "output_type": "display_data"
    },
    {
     "data": {
      "text/plain": [
       "array([ 85768.,   4083.,  73026., ...,  10836.,  41801.,  33803.])"
      ]
     },
     "metadata": {},
     "output_type": "display_data"
    },
    {
     "data": {
      "text/plain": [
       "array([ 85768.,   4083.,  73026., ...,  10836.,  41801.,  33803.])"
      ]
     },
     "metadata": {},
     "output_type": "display_data"
    },
    {
     "data": {
      "text/plain": [
       "'lotsizesquarefeet'"
      ]
     },
     "metadata": {},
     "output_type": "display_data"
    },
    {
     "data": {
      "text/plain": [
       "array([  8.57680000e+04,   4.08300000e+03,   6.30850000e+04, ...,\n",
       "         4.18010000e+04,   6.97900000e+04,   7.03415300e+06])"
      ]
     },
     "metadata": {},
     "output_type": "display_data"
    },
    {
     "data": {
      "text/plain": [
       "array([  8.57680000e+04,   4.08300000e+03,   6.30850000e+04, ...,\n",
       "         4.18010000e+04,   6.97900000e+04,   7.03415300e+06])"
      ]
     },
     "metadata": {},
     "output_type": "display_data"
    },
    {
     "data": {
      "text/html": [
       "<div>\n",
       "<style>\n",
       "    .dataframe thead tr:only-child th {\n",
       "        text-align: right;\n",
       "    }\n",
       "\n",
       "    .dataframe thead th {\n",
       "        text-align: left;\n",
       "    }\n",
       "\n",
       "    .dataframe tbody tr th {\n",
       "        vertical-align: top;\n",
       "    }\n",
       "</style>\n",
       "<table border=\"1\" class=\"dataframe\">\n",
       "  <thead>\n",
       "    <tr style=\"text-align: right;\">\n",
       "      <th></th>\n",
       "      <th>dtype</th>\n",
       "      <th>sample</th>\n",
       "      <th>unique len</th>\n",
       "      <th>missing %</th>\n",
       "    </tr>\n",
       "    <tr>\n",
       "      <th>column</th>\n",
       "      <th></th>\n",
       "      <th></th>\n",
       "      <th></th>\n",
       "      <th></th>\n",
       "    </tr>\n",
       "  </thead>\n",
       "  <tbody>\n",
       "    <tr>\n",
       "      <th>finishedsquarefeet50</th>\n",
       "      <td>float32</td>\n",
       "      <td>[85768.0, 4083.0, 73026.0]</td>\n",
       "      <td>17041</td>\n",
       "      <td>0</td>\n",
       "    </tr>\n",
       "    <tr>\n",
       "      <th>finishedfloor1squarefeet</th>\n",
       "      <td>float32</td>\n",
       "      <td>[85768.0, 4083.0, 73026.0]</td>\n",
       "      <td>17030</td>\n",
       "      <td>0</td>\n",
       "    </tr>\n",
       "    <tr>\n",
       "      <th>finishedsquarefeet12</th>\n",
       "      <td>float32</td>\n",
       "      <td>[85768.0, 4083.0, 73026.0]</td>\n",
       "      <td>17036</td>\n",
       "      <td>0</td>\n",
       "    </tr>\n",
       "    <tr>\n",
       "      <th>calculatedfinishedsquarefeet</th>\n",
       "      <td>float32</td>\n",
       "      <td>[85768.0, 4083.0, 73026.0]</td>\n",
       "      <td>17036</td>\n",
       "      <td>0</td>\n",
       "    </tr>\n",
       "    <tr>\n",
       "      <th>finishedsquarefeet13</th>\n",
       "      <td>float32</td>\n",
       "      <td>[85768.0, 4083.0, 73026.0]</td>\n",
       "      <td>17041</td>\n",
       "      <td>0</td>\n",
       "    </tr>\n",
       "    <tr>\n",
       "      <th>finishedsquarefeet15</th>\n",
       "      <td>float32</td>\n",
       "      <td>[85768.0, 4083.0, 73026.0]</td>\n",
       "      <td>17041</td>\n",
       "      <td>0</td>\n",
       "    </tr>\n",
       "    <tr>\n",
       "      <th>finishedsquarefeet6</th>\n",
       "      <td>float32</td>\n",
       "      <td>[85768.0, 4083.0, 73026.0]</td>\n",
       "      <td>17041</td>\n",
       "      <td>0</td>\n",
       "    </tr>\n",
       "    <tr>\n",
       "      <th>lotsizesquarefeet</th>\n",
       "      <td>float32</td>\n",
       "      <td>[85768.0, 4083.0, 63085.0]</td>\n",
       "      <td>70185</td>\n",
       "      <td>0</td>\n",
       "    </tr>\n",
       "  </tbody>\n",
       "</table>\n",
       "</div>"
      ],
      "text/plain": [
       "                                dtype                      sample unique len  \\\n",
       "column                                                                         \n",
       "finishedsquarefeet50          float32  [85768.0, 4083.0, 73026.0]      17041   \n",
       "finishedfloor1squarefeet      float32  [85768.0, 4083.0, 73026.0]      17030   \n",
       "finishedsquarefeet12          float32  [85768.0, 4083.0, 73026.0]      17036   \n",
       "calculatedfinishedsquarefeet  float32  [85768.0, 4083.0, 73026.0]      17036   \n",
       "finishedsquarefeet13          float32  [85768.0, 4083.0, 73026.0]      17041   \n",
       "finishedsquarefeet15          float32  [85768.0, 4083.0, 73026.0]      17041   \n",
       "finishedsquarefeet6           float32  [85768.0, 4083.0, 73026.0]      17041   \n",
       "lotsizesquarefeet             float32  [85768.0, 4083.0, 63085.0]      70185   \n",
       "\n",
       "                             missing %  \n",
       "column                                  \n",
       "finishedsquarefeet50                 0  \n",
       "finishedfloor1squarefeet             0  \n",
       "finishedsquarefeet12                 0  \n",
       "calculatedfinishedsquarefeet         0  \n",
       "finishedsquarefeet13                 0  \n",
       "finishedsquarefeet15                 0  \n",
       "finishedsquarefeet6                  0  \n",
       "lotsizesquarefeet                    0  "
      ]
     },
     "metadata": {},
     "output_type": "display_data"
    }
   ],
   "source": [
    "area_features = ['lotsizesquarefeet', \n",
    "                 'finishedsquarefeet6', \n",
    "                 'finishedsquarefeet15', \n",
    "                 'finishedsquarefeet13', \n",
    "                 'calculatedfinishedsquarefeet', \n",
    "                 'finishedsquarefeet12', \n",
    "                 'finishedfloor1squarefeet',\n",
    "                 'finishedsquarefeet50',\n",
    "                ]\n",
    "\n",
    "area_features.reverse()\n",
    "\n",
    "def fill_null(col1, col2):\n",
    "#     display(\"{} <== {}\".format(col1, col2))\n",
    "    clean.loc[clean[col1].isnull(), (col1)] = clean.loc[clean[col1].isnull(), (col2)]\n",
    "\n",
    "for col in area_features:\n",
    "    clean[col] = props[col]\n",
    "\n",
    "describe_values(clean.loc[:, area_features])\n",
    "    \n",
    "for col1, col2 in itertools.permutations(area_features, 2):\n",
    "    fill_null(col1, col2)\n",
    "    \n",
    "describe_values(clean.loc[:, area_features])\n",
    "\n",
    "for col in area_features:\n",
    "    pad(col, clean[col].mean(), 'float32')\n",
    "\n",
    "describe_values(clean.loc[:, area_features])"
   ]
  },
  {
   "cell_type": "code",
   "execution_count": 43,
   "metadata": {},
   "outputs": [
    {
     "data": {
      "text/html": [
       "<div>\n",
       "<style>\n",
       "    .dataframe thead tr:only-child th {\n",
       "        text-align: right;\n",
       "    }\n",
       "\n",
       "    .dataframe thead th {\n",
       "        text-align: left;\n",
       "    }\n",
       "\n",
       "    .dataframe tbody tr th {\n",
       "        vertical-align: top;\n",
       "    }\n",
       "</style>\n",
       "<table border=\"1\" class=\"dataframe\">\n",
       "  <thead>\n",
       "    <tr style=\"text-align: right;\">\n",
       "      <th></th>\n",
       "      <th>rawcensustractandblock</th>\n",
       "      <th>censustractandblock</th>\n",
       "      <th>fips</th>\n",
       "    </tr>\n",
       "  </thead>\n",
       "  <tbody>\n",
       "  </tbody>\n",
       "</table>\n",
       "</div>"
      ],
      "text/plain": [
       "Empty DataFrame\n",
       "Columns: [rawcensustractandblock, censustractandblock, fips]\n",
       "Index: []"
      ]
     },
     "execution_count": 43,
     "metadata": {},
     "output_type": "execute_result"
    }
   ],
   "source": [
    "props.loc[props.rawcensustractandblock.isnull() & ~props.censustractandblock.isnull(), ['rawcensustractandblock', 'censustractandblock', 'fips']]"
   ]
  },
  {
   "cell_type": "code",
   "execution_count": 37,
   "metadata": {},
   "outputs": [
    {
     "data": {
      "text/plain": [
       "array([ 1801.,  1805.,  1806.,  1807.,  1808.,  1810.,  1812.,  1815.,\n",
       "        1819.,  1821.,  1823.,  1824.,  1825.,  1827.,  1828.,  1829.,\n",
       "        1831.,  1833.,  1834.,  1840.,  1853.,  1855.,  1859.,  1862.,\n",
       "        1865.,  1870.,  1874.,  1875.,  1876.,  1877.,  1878.,  1879.,\n",
       "        1880.,  1881.,  1882.,  1883.,  1884.,  1885.,  1886.,  1887.,\n",
       "        1888.,  1889.,  1890.,  1891.,  1892.,  1893.,  1894.,  1895.,\n",
       "        1896.,  1897.,  1898.,  1899.,  1900.,  1901.,  1902.,  1903.,\n",
       "        1904.,  1905.,  1906.,  1907.,  1908.,  1909.,  1910.,  1911.,\n",
       "        1912.,  1913.,  1914.,  1915.,  1916.,  1917.,  1918.,  1919.,\n",
       "        1920.,  1921.,  1922.,  1923.,  1924.,  1925.,  1926.,  1927.,\n",
       "        1928.,  1929.,  1930.,  1931.,  1932.,  1933.,  1934.,  1935.,\n",
       "        1936.,  1937.,  1938.,  1939.,  1940.,  1941.,  1942.,  1943.,\n",
       "        1944.,  1945.,  1946.,  1947.,  1948.,  1949.,  1950.,  1951.,\n",
       "        1952.,  1953.,  1954.,  1955.,  1956.,  1957.,  1958.,  1959.,\n",
       "        1960.,  1961.,  1962.,  1963.,  1964.,  1965.,  1966.,  1967.,\n",
       "        1968.,  1969.,  1970.,  1971.,  1972.,  1973.,  1974.,  1975.,\n",
       "        1976.,  1977.,  1978.,  1979.,  1980.,  1981.,  1982.,  1983.,\n",
       "        1984.,  1985.,  1986.,  1987.,  1988.,  1989.,  1990.,  1991.,\n",
       "        1992.,  1993.,  1994.,  1995.,  1996.,  1997.,  1998.,  1999.,\n",
       "        2000.,  2001.,  2002.,  2003.,  2004.,  2005.,  2006.,  2007.,\n",
       "        2008.,  2009.,  2010.,  2011.,  2012.,  2013.,  2014.,  2015.,\n",
       "          nan])"
      ]
     },
     "execution_count": 37,
     "metadata": {},
     "output_type": "execute_result"
    }
   ],
   "source": [
    "col = 'yearbuilt'\n",
    "np.sort(clean[col].unique())"
   ]
  },
  {
   "cell_type": "code",
   "execution_count": 252,
   "metadata": {
    "collapsed": true
   },
   "outputs": [],
   "source": [
    "# investigate yearbuilt\n",
    "\n",
    "#df = props[['structuretaxvaluedollarcnt', 'yearbuilt']].dropna()\n",
    "#df.plot.scatter(x='yearbuilt', y='structuretaxvaluedollarcnt')"
   ]
  },
  {
   "cell_type": "code",
   "execution_count": 254,
   "metadata": {},
   "outputs": [
    {
     "data": {
      "text/html": [
       "<div>\n",
       "<style>\n",
       "    .dataframe thead tr:only-child th {\n",
       "        text-align: right;\n",
       "    }\n",
       "\n",
       "    .dataframe thead th {\n",
       "        text-align: left;\n",
       "    }\n",
       "\n",
       "    .dataframe tbody tr th {\n",
       "        vertical-align: top;\n",
       "    }\n",
       "</style>\n",
       "<table border=\"1\" class=\"dataframe\">\n",
       "  <thead>\n",
       "    <tr style=\"text-align: right;\">\n",
       "      <th></th>\n",
       "      <th>parcelid</th>\n",
       "      <th>logerror</th>\n",
       "      <th>transactiondate</th>\n",
       "      <th>transactiondate_year</th>\n",
       "      <th>transactiondate_month</th>\n",
       "      <th>transactiondate_week</th>\n",
       "      <th>transactiondate_day</th>\n",
       "      <th>transactiondate_dayofweek</th>\n",
       "    </tr>\n",
       "  </thead>\n",
       "  <tbody>\n",
       "    <tr>\n",
       "      <th>0</th>\n",
       "      <td>11016594</td>\n",
       "      <td>0.0276</td>\n",
       "      <td>2016-01-01</td>\n",
       "      <td>2016</td>\n",
       "      <td>1</td>\n",
       "      <td>53</td>\n",
       "      <td>1</td>\n",
       "      <td>4</td>\n",
       "    </tr>\n",
       "    <tr>\n",
       "      <th>1</th>\n",
       "      <td>14366692</td>\n",
       "      <td>-0.1684</td>\n",
       "      <td>2016-01-01</td>\n",
       "      <td>2016</td>\n",
       "      <td>1</td>\n",
       "      <td>53</td>\n",
       "      <td>1</td>\n",
       "      <td>4</td>\n",
       "    </tr>\n",
       "    <tr>\n",
       "      <th>2</th>\n",
       "      <td>12098116</td>\n",
       "      <td>-0.0040</td>\n",
       "      <td>2016-01-01</td>\n",
       "      <td>2016</td>\n",
       "      <td>1</td>\n",
       "      <td>53</td>\n",
       "      <td>1</td>\n",
       "      <td>4</td>\n",
       "    </tr>\n",
       "    <tr>\n",
       "      <th>3</th>\n",
       "      <td>12643413</td>\n",
       "      <td>0.0218</td>\n",
       "      <td>2016-01-02</td>\n",
       "      <td>2016</td>\n",
       "      <td>1</td>\n",
       "      <td>53</td>\n",
       "      <td>2</td>\n",
       "      <td>5</td>\n",
       "    </tr>\n",
       "    <tr>\n",
       "      <th>4</th>\n",
       "      <td>14432541</td>\n",
       "      <td>-0.0050</td>\n",
       "      <td>2016-01-02</td>\n",
       "      <td>2016</td>\n",
       "      <td>1</td>\n",
       "      <td>53</td>\n",
       "      <td>2</td>\n",
       "      <td>5</td>\n",
       "    </tr>\n",
       "  </tbody>\n",
       "</table>\n",
       "</div>"
      ],
      "text/plain": [
       "   parcelid  logerror transactiondate  transactiondate_year  \\\n",
       "0  11016594    0.0276      2016-01-01                  2016   \n",
       "1  14366692   -0.1684      2016-01-01                  2016   \n",
       "2  12098116   -0.0040      2016-01-01                  2016   \n",
       "3  12643413    0.0218      2016-01-02                  2016   \n",
       "4  14432541   -0.0050      2016-01-02                  2016   \n",
       "\n",
       "   transactiondate_month  transactiondate_week  transactiondate_day  \\\n",
       "0                      1                    53                    1   \n",
       "1                      1                    53                    1   \n",
       "2                      1                    53                    1   \n",
       "3                      1                    53                    2   \n",
       "4                      1                    53                    2   \n",
       "\n",
       "   transactiondate_dayofweek  \n",
       "0                          4  \n",
       "1                          4  \n",
       "2                          4  \n",
       "3                          5  \n",
       "4                          5  "
      ]
     },
     "execution_count": 254,
     "metadata": {},
     "output_type": "execute_result"
    }
   ],
   "source": [
    "# utility function for splitting the date into components\n",
    "\n",
    "def split_date(df, datecol):\n",
    "    df[datecol+'_year'] = df[datecol].dt.year\n",
    "    df[datecol+'_month'] = df[datecol].dt.month\n",
    "    df[datecol+'_week'] = df[datecol].dt.week\n",
    "    df[datecol+'_day'] = df[datecol].dt.day\n",
    "    df[datecol+'_dayofweek'] = df[datecol].dt.dayofweek\n",
    "    return df\n",
    "\n",
    "split_date(train, 'transactiondate')\n",
    "train.head()"
   ]
  },
  {
   "cell_type": "code",
   "execution_count": 255,
   "metadata": {
    "collapsed": true
   },
   "outputs": [],
   "source": [
    "# merge the property data into the training data\n",
    "\n",
    "merged = train.merge(props, how='left', on='parcelid', copy=True)\n",
    "# describe(merged)"
   ]
  },
  {
   "cell_type": "code",
   "execution_count": 259,
   "metadata": {},
   "outputs": [
    {
     "data": {
      "text/plain": [
       "False"
      ]
     },
     "execution_count": 259,
     "metadata": {},
     "output_type": "execute_result"
    }
   ],
   "source": [
    "# fill in yearbuilt NaNs with the mean because we're going to do some calculations with it\n",
    "\n",
    "merged['yearbuilt'] = merged['yearbuilt'].astype(np.float32)\n",
    "merged['yearbuilt'] = merged['yearbuilt'].fillna(2016)\n",
    "merged['yearbuilt'] = merged['yearbuilt'].astype(np.int64)\n",
    "merged['yearbuilt'].isnull().values.any()"
   ]
  },
  {
   "cell_type": "code",
   "execution_count": 260,
   "metadata": {},
   "outputs": [
    {
     "data": {
      "text/plain": [
       "count    90275.000000\n",
       "mean       570.685295\n",
       "std        288.703091\n",
       "min          1.000000\n",
       "25%        354.000000\n",
       "50%        556.000000\n",
       "75%        763.000000\n",
       "max       1579.000000\n",
       "Name: age, dtype: float64"
      ]
     },
     "execution_count": 260,
     "metadata": {},
     "output_type": "execute_result"
    }
   ],
   "source": [
    "# calculate the age of the property\n",
    "\n",
    "merged['age'] = (merged['transactiondate_year'] - merged['yearbuilt']) * 12 + merged['transactiondate_month']\n",
    "merged['age'].describe()"
   ]
  },
  {
   "cell_type": "code",
   "execution_count": 261,
   "metadata": {
    "scrolled": true
   },
   "outputs": [
    {
     "data": {
      "text/plain": [
       "{'age',\n",
       " 'basementsqft',\n",
       " 'bathroomcnt',\n",
       " 'bedroomcnt',\n",
       " 'calculatedbathnbr',\n",
       " 'calculatedfinishedsquarefeet',\n",
       " 'finishedfloor1squarefeet',\n",
       " 'finishedsquarefeet12',\n",
       " 'finishedsquarefeet13',\n",
       " 'finishedsquarefeet15',\n",
       " 'finishedsquarefeet50',\n",
       " 'finishedsquarefeet6',\n",
       " 'fireplacecnt',\n",
       " 'fullbathcnt',\n",
       " 'garagecarcnt',\n",
       " 'garagetotalsqft',\n",
       " 'landtaxvaluedollarcnt',\n",
       " 'latitude',\n",
       " 'longitude',\n",
       " 'lotsizesquarefeet',\n",
       " 'numberofstories',\n",
       " 'poolcnt',\n",
       " 'poolsizesum',\n",
       " 'roomcnt',\n",
       " 'structuretaxvaluedollarcnt',\n",
       " 'taxamount',\n",
       " 'taxvaluedollarcnt',\n",
       " 'threequarterbathnbr',\n",
       " 'unitcnt',\n",
       " 'yardbuildingsqft17',\n",
       " 'yardbuildingsqft26'}"
      ]
     },
     "metadata": {},
     "output_type": "display_data"
    }
   ],
   "source": [
    "# categorical columns\n",
    "cat_cols = ['airconditioningtypeid', 'architecturalstyletypeid', 'buildingclasstypeid', 'buildingqualitytypeid',\n",
    "            'decktypeid', 'fips', 'hashottuborspa', 'heatingorsystemtypeid', 'pooltypeid10', \n",
    "            'pooltypeid2', 'pooltypeid7', 'propertycountylandusecode', 'propertylandusetypeid', \n",
    "            'propertyzoningdesc', 'rawcensustractandblock', 'regionidcity', 'regionidcounty', 'regionidneighborhood', \n",
    "            'regionidzip', 'storytypeid', 'typeconstructiontypeid', 'fireplaceflag', 'assessmentyear', \n",
    "            'taxdelinquencyflag', 'taxdelinquencyyear', 'censustractandblock', 'yearbuilt']\n",
    "\n",
    "# stuff splitting the date\n",
    "cat_cols.extend(['transactiondate_day', 'transactiondate_dayofweek', 'transactiondate_month', \n",
    "                 'transactiondate_week', 'transactiondate_year'])\n",
    "\n",
    "# columns we'll drop\n",
    "drop_cols = ['transactiondate', 'parcelid', 'logerror']\n",
    "\n",
    "# continuous columns\n",
    "cont_cols = set(merged.columns) - set(cat_cols) - set(drop_cols)\n",
    "\n",
    "display(cont_cols)"
   ]
  },
  {
   "cell_type": "code",
   "execution_count": 262,
   "metadata": {
    "collapsed": true
   },
   "outputs": [],
   "source": [
    "for c in cat_cols:\n",
    "    merged[c] = merged[c].astype('str')\n",
    "    merged[c].fillna(\"\")\n",
    "    merged[c] = merged[c].astype('category')\n",
    "for c in cont_cols: \n",
    "    merged.loc[merged[c].isnull(), c] = 0\n",
    "    \n",
    "#describe(merged)"
   ]
  },
  {
   "cell_type": "code",
   "execution_count": 263,
   "metadata": {
    "collapsed": true
   },
   "outputs": [],
   "source": [
    "#see if all properties have test data\n",
    "subm = pd.read_csv('zillow/sample_submission.csv')\n",
    "\n",
    "# describe(subm)"
   ]
  },
  {
   "cell_type": "code",
   "execution_count": 264,
   "metadata": {},
   "outputs": [
    {
     "data": {
      "text/plain": [
       "2985217"
      ]
     },
     "metadata": {},
     "output_type": "display_data"
    },
    {
     "data": {
      "text/plain": [
       "0"
      ]
     },
     "metadata": {},
     "output_type": "display_data"
    },
    {
     "data": {
      "text/plain": [
       "2895067"
      ]
     },
     "metadata": {},
     "output_type": "display_data"
    }
   ],
   "source": [
    "# see how much training data we have\n",
    "\n",
    "# total props in submission\n",
    "display(subm['ParcelId'].count())\n",
    "\n",
    "# submission vs property data\n",
    "display(subm[~subm['ParcelId'].isin(props['parcelid'])]['ParcelId'].count())\n",
    "\n",
    "# submission vs training data\n",
    "display(subm[~subm['ParcelId'].isin(train['parcelid'])]['ParcelId'].count())"
   ]
  },
  {
   "cell_type": "code",
   "execution_count": 265,
   "metadata": {
    "collapsed": true
   },
   "outputs": [],
   "source": [
    "X = merged.drop(drop_cols, axis=1)\n",
    "X = merged.drop('logerror', axis=1)\n",
    "y = merged['logerror']"
   ]
  },
  {
   "cell_type": "code",
   "execution_count": 266,
   "metadata": {
    "collapsed": true
   },
   "outputs": [],
   "source": [
    "cat_maps = [(c, LabelEncoder()) for c in cat_cols]\n",
    "cont_maps = [([c], StandardScaler()) for c in cont_cols]"
   ]
  },
  {
   "cell_type": "code",
   "execution_count": 267,
   "metadata": {},
   "outputs": [
    {
     "data": {
      "text/plain": [
       "32"
      ]
     },
     "execution_count": 267,
     "metadata": {},
     "output_type": "execute_result"
    }
   ],
   "source": [
    "cat_mapper = DataFrameMapper(cat_maps)\n",
    "cat_map_fit = cat_mapper.fit(X)\n",
    "len(cat_map_fit.features)"
   ]
  },
  {
   "cell_type": "code",
   "execution_count": 268,
   "metadata": {},
   "outputs": [
    {
     "name": "stderr",
     "output_type": "stream",
     "text": [
      "/home/terence/anaconda2/envs/deeplearn/lib/python3.6/site-packages/sklearn/utils/validation.py:444: DataConversionWarning: Data with input dtype int64 was converted to float64 by StandardScaler.\n",
      "  warnings.warn(msg, DataConversionWarning)\n"
     ]
    },
    {
     "data": {
      "text/plain": [
       "31"
      ]
     },
     "execution_count": 268,
     "metadata": {},
     "output_type": "execute_result"
    }
   ],
   "source": [
    "cont_mapper = DataFrameMapper(cont_maps)\n",
    "cont_map_fit = cont_mapper.fit(X)\n",
    "len(cont_map_fit.features)"
   ]
  },
  {
   "cell_type": "code",
   "execution_count": 269,
   "metadata": {},
   "outputs": [
    {
     "name": "stderr",
     "output_type": "stream",
     "text": [
      "/home/terence/anaconda2/envs/deeplearn/lib/python3.6/site-packages/sklearn/utils/validation.py:444: DataConversionWarning: Data with input dtype int64 was converted to float64 by StandardScaler.\n",
      "  warnings.warn(msg, DataConversionWarning)\n"
     ]
    }
   ],
   "source": [
    "X_cat = cat_mapper.transform(X).astype(np.int64)\n",
    "X_cont = cont_mapper.transform(X).astype(np.float32)"
   ]
  },
  {
   "cell_type": "code",
   "execution_count": 270,
   "metadata": {
    "collapsed": true
   },
   "outputs": [],
   "source": [
    "X_all = np.concatenate([X_cat, X_cont], axis=1)"
   ]
  },
  {
   "cell_type": "code",
   "execution_count": 271,
   "metadata": {
    "collapsed": true
   },
   "outputs": [],
   "source": [
    "X_train, X_test, y_train, y_test = train_test_split(X_all, y, test_size=0.1)"
   ]
  },
  {
   "cell_type": "code",
   "execution_count": 272,
   "metadata": {
    "collapsed": true
   },
   "outputs": [],
   "source": [
    "train = xgboost.DMatrix(X_train, y_train, feature_names=cat_cols + list(cont_cols))\n",
    "test = xgboost.DMatrix(X_test, y_test, feature_names=cat_cols + list(cont_cols))"
   ]
  },
  {
   "cell_type": "code",
   "execution_count": 285,
   "metadata": {
    "collapsed": true
   },
   "outputs": [],
   "source": [
    "xgb_parms = {'eta': 0.01, 'max_depth': 6, 'objective': 'reg:linear', 'eval_metric': 'mae', 'silent': 1}"
   ]
  },
  {
   "cell_type": "code",
   "execution_count": 286,
   "metadata": {},
   "outputs": [
    {
     "name": "stdout",
     "output_type": "stream",
     "text": [
      "[0]\ttrain-mae:0.492253\ttest-mae:0.490514\n",
      "Multiple eval metrics have been passed: 'test-mae' will be used for early stopping.\n",
      "\n",
      "Will train until test-mae hasn't improved in 100 rounds.\n",
      "[50]\ttrain-mae:0.306081\ttest-mae:0.304423\n",
      "[100]\ttrain-mae:0.196957\ttest-mae:0.195456\n",
      "[150]\ttrain-mae:0.134524\ttest-mae:0.133135\n",
      "[200]\ttrain-mae:0.100185\ttest-mae:0.098941\n",
      "[250]\ttrain-mae:0.082543\ttest-mae:0.081343\n",
      "[300]\ttrain-mae:0.074129\ttest-mae:0.073052\n",
      "[350]\ttrain-mae:0.070293\ttest-mae:0.069268\n",
      "[400]\ttrain-mae:0.068527\ttest-mae:0.067582\n",
      "[450]\ttrain-mae:0.067659\ttest-mae:0.066816\n",
      "[500]\ttrain-mae:0.067184\ttest-mae:0.066461\n",
      "[550]\ttrain-mae:0.066905\ttest-mae:0.066294\n",
      "[600]\ttrain-mae:0.06671\ttest-mae:0.066228\n",
      "[650]\ttrain-mae:0.066561\ttest-mae:0.066205\n",
      "[700]\ttrain-mae:0.066428\ttest-mae:0.066199\n",
      "[750]\ttrain-mae:0.066313\ttest-mae:0.066208\n",
      "[800]\ttrain-mae:0.066198\ttest-mae:0.066253\n",
      "Stopping. Best iteration:\n",
      "[732]\ttrain-mae:0.066353\ttest-mae:0.066193\n",
      "\n"
     ]
    }
   ],
   "source": [
    "xgb_parms['seed'] = random.randint(0,1e9)\n",
    "watchlist = [(train, 'train'), (test, 'test')]\n",
    "xgbmodel = xgboost.train(xgb_parms, train, 10000, watchlist, early_stopping_rounds=100, verbose_eval=50)"
   ]
  },
  {
   "cell_type": "code",
   "execution_count": 287,
   "metadata": {},
   "outputs": [
    {
     "data": {
      "text/plain": [
       "b'[0]\\teval-mae:0.066267'"
      ]
     },
     "execution_count": 287,
     "metadata": {},
     "output_type": "execute_result"
    }
   ],
   "source": [
    "xgbmodel.eval(test)"
   ]
  },
  {
   "cell_type": "code",
   "execution_count": 276,
   "metadata": {},
   "outputs": [
    {
     "data": {
      "image/png": "[encoded data removed]",
      "text/plain": [
       "<matplotlib.figure.Figure at 0x7ff01a93d4e0>"
      ]
     },
     "metadata": {},
     "output_type": "display_data"
    }
   ],
   "source": [
    "importance = xgbmodel.get_fscore()\n",
    "importance = sorted(importance.items(), key=lambda x: x[1])\n",
    "\n",
    "df = pd.DataFrame(importance, columns=['feature', 'fscore'])\n",
    "df['fscore'] = df['fscore'] / df['fscore'].sum()\n",
    "\n",
    "df.plot(kind='barh', x='feature', y='fscore', legend=False, figsize=(6, 10))\n",
    "plt.title('XGBoost Feature Importance')\n",
    "plt.xlabel('relative importance');"
   ]
  },
  {
   "cell_type": "code",
   "execution_count": null,
   "metadata": {
    "collapsed": true
   },
   "outputs": [],
   "source": []
  }
 ],
 "metadata": {
  "kernelspec": {
   "display_name": "Python 3",
   "language": "python",
   "name": "python3"
  },
  "language_info": {
   "codemirror_mode": {
    "name": "ipython",
    "version": 3
   },
   "file_extension": ".py",
   "mimetype": "text/x-python",
   "name": "python",
   "nbconvert_exporter": "python",
   "pygments_lexer": "ipython3",
   "version": "3.6.2"
  }
 },
 "nbformat": 4,
 "nbformat_minor": 2
}
