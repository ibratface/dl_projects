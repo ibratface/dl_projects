{
 "cells": [
  {
   "cell_type": "code",
   "execution_count": 1,
   "metadata": {
    "collapsed": false
   },
   "outputs": [
    {
     "name": "stderr",
     "output_type": "stream",
     "text": [
      "Using Theano backend.\n",
      "Using gpu device 0: Tesla K80 (CNMeM is disabled, cuDNN 5103)\n",
      "/home/ubuntu/anaconda2/lib/python2.7/site-packages/theano/sandbox/cuda/__init__.py:600: UserWarning: Your cuDNN version is more recent than the one Theano officially supports. If you see any problems, try updating Theano or downgrading cuDNN to version 5.\n",
      "  warnings.warn(warn)\n"
     ]
    }
   ],
   "source": [
    "from glob import glob\n",
    "from shutil import copyfile\n",
    "import os\n",
    "\n",
    "import numpy as np\n",
    "import pandas as pd\n",
    "\n",
    "from keras.layers.core import Dense, Dropout\n",
    "from keras.preprocessing import image\n",
    "from keras.models import Sequential\n",
    "from keras.layers.core import *\n",
    "\n",
    "from fastai.vgg16bn import Vgg16BN\n",
    "from fastai.utils import *"
   ]
  },
  {
   "cell_type": "markdown",
   "metadata": {},
   "source": [
    "# Setup Files"
   ]
  },
  {
   "cell_type": "code",
   "execution_count": 7,
   "metadata": {
    "collapsed": false
   },
   "outputs": [
    {
     "name": "stdout",
     "output_type": "stream",
     "text": [
      "/home/ubuntu/projects/statefarm\n"
     ]
    }
   ],
   "source": [
    "%cd statefarm\n",
    "# %mkdir valid\n",
    "# %mkdir results\n",
    "# %mkdir -p sample/train\n",
    "# %mkdir -p sample/test\n",
    "# %mkdir -p sample/valid\n",
    "# %mkdir -p sample/results"
   ]
  },
  {
   "cell_type": "code",
   "execution_count": 12,
   "metadata": {
    "collapsed": false
   },
   "outputs": [
    {
     "name": "stdout",
     "output_type": "stream",
     "text": [
      "/home/ubuntu/projects/statefarm/train\n"
     ]
    }
   ],
   "source": [
    "%cd train"
   ]
  },
  {
   "cell_type": "code",
   "execution_count": 13,
   "metadata": {
    "collapsed": false
   },
   "outputs": [
    {
     "name": "stdout",
     "output_type": "stream",
     "text": [
      "\u001b[0m\u001b[01;34mc0\u001b[0m/  \u001b[01;34mc1\u001b[0m/  \u001b[01;34mc2\u001b[0m/  \u001b[01;34mc3\u001b[0m/  \u001b[01;34mc4\u001b[0m/  \u001b[01;34mc5\u001b[0m/  \u001b[01;34mc6\u001b[0m/  \u001b[01;34mc7\u001b[0m/  \u001b[01;34mc8\u001b[0m/  \u001b[01;34mc9\u001b[0m/\r\n"
     ]
    }
   ],
   "source": [
    "g = glob('*')\n",
    "for d in g: \n",
    "#     os.mkdir('../sample/train/'+d)\n",
    "#     os.mkdir('../sample/valid/'+d)\n",
    "    os.mkdir('../valid/'+d)\n",
    "%ls ../sample/train"
   ]
  },
  {
   "cell_type": "code",
   "execution_count": null,
   "metadata": {
    "collapsed": false
   },
   "outputs": [],
   "source": [
    "g = glob('*/*.jpg')\n",
    "sample_size = int(len(g) * .25)\n",
    "shuf = np.random.permutation(g)\n",
    "for i in range(sample_size): copyfile(shuf[i], '../sample/train/' + shuf[i])"
   ]
  },
  {
   "cell_type": "code",
   "execution_count": null,
   "metadata": {
    "collapsed": false
   },
   "outputs": [],
   "source": [
    "g = glob('*/*.jpg')\n",
    "valid_size = int(len(g) * .1)\n",
    "shuf = np.random.permutation(g)\n",
    "for i in range(valid_size): copyfile(shuf[i], '../sample/valid/' + shuf[i])"
   ]
  },
  {
   "cell_type": "code",
   "execution_count": 14,
   "metadata": {
    "collapsed": false
   },
   "outputs": [
    {
     "name": "stdout",
     "output_type": "stream",
     "text": [
      "/home/ubuntu/projects\n"
     ]
    }
   ],
   "source": [
    "%cd ../.."
   ]
  },
  {
   "cell_type": "code",
   "execution_count": 15,
   "metadata": {
    "collapsed": false
   },
   "outputs": [
    {
     "name": "stdout",
     "output_type": "stream",
     "text": [
      "/home/ubuntu/projects/statefarm\n"
     ]
    }
   ],
   "source": [
    "%cd statefarm"
   ]
  },
  {
   "cell_type": "markdown",
   "metadata": {},
   "source": [
    "Select a couple of subjects for validation"
   ]
  },
  {
   "cell_type": "code",
   "execution_count": 16,
   "metadata": {
    "collapsed": false
   },
   "outputs": [
    {
     "name": "stdout",
     "output_type": "stream",
     "text": [
      "  subject classname            img\n",
      "0    p002        c0  img_44733.jpg\n",
      "1    p002        c0  img_72999.jpg\n",
      "2    p002        c0  img_25094.jpg\n",
      "3    p002        c0  img_69092.jpg\n",
      "4    p002        c0  img_92629.jpg\n",
      "(2424, 3)\n"
     ]
    },
    {
     "data": {
      "text/plain": [
       "0       None\n",
       "1       None\n",
       "2       None\n",
       "3       None\n",
       "4       None\n",
       "5       None\n",
       "6       None\n",
       "7       None\n",
       "8       None\n",
       "9       None\n",
       "10      None\n",
       "11      None\n",
       "12      None\n",
       "13      None\n",
       "14      None\n",
       "15      None\n",
       "16      None\n",
       "17      None\n",
       "18      None\n",
       "19      None\n",
       "20      None\n",
       "21      None\n",
       "22      None\n",
       "23      None\n",
       "24      None\n",
       "25      None\n",
       "26      None\n",
       "27      None\n",
       "28      None\n",
       "29      None\n",
       "        ... \n",
       "2394    None\n",
       "2395    None\n",
       "2396    None\n",
       "2397    None\n",
       "2398    None\n",
       "2399    None\n",
       "2400    None\n",
       "2401    None\n",
       "2402    None\n",
       "2403    None\n",
       "2404    None\n",
       "2405    None\n",
       "2406    None\n",
       "2407    None\n",
       "2408    None\n",
       "2409    None\n",
       "2410    None\n",
       "2411    None\n",
       "2412    None\n",
       "2413    None\n",
       "2414    None\n",
       "2415    None\n",
       "2416    None\n",
       "2417    None\n",
       "2418    None\n",
       "2419    None\n",
       "2420    None\n",
       "2421    None\n",
       "2422    None\n",
       "2423    None\n",
       "dtype: object"
      ]
     },
     "execution_count": 16,
     "metadata": {},
     "output_type": "execute_result"
    }
   ],
   "source": [
    "imgs = pd.read_csv('driver_imgs_list.csv')\n",
    "print imgs.head()\n",
    "subjects = imgs['subject'].unique()\n",
    "valid_set = imgs[imgs['subject'].isin(subjects[:3])]\n",
    "print valid_set.shape\n",
    "\n",
    "def copy_img(r):\n",
    "    p = os.path.join(r['classname'], r['img'])\n",
    "    os.rename('train/' + p, 'valid/' + p)\n",
    "\n",
    "valid_set.apply(copy_img, axis=1)"
   ]
  },
  {
   "cell_type": "code",
   "execution_count": 17,
   "metadata": {
    "collapsed": false
   },
   "outputs": [
    {
     "data": {
      "text/plain": [
       "2424"
      ]
     },
     "execution_count": 17,
     "metadata": {},
     "output_type": "execute_result"
    }
   ],
   "source": [
    "g = glob('valid/*/*.jpg')\n",
    "len(g)"
   ]
  },
  {
   "cell_type": "code",
   "execution_count": 18,
   "metadata": {
    "collapsed": false
   },
   "outputs": [
    {
     "name": "stdout",
     "output_type": "stream",
     "text": [
      "/home/ubuntu/projects\n"
     ]
    }
   ],
   "source": [
    "%cd .."
   ]
  },
  {
   "cell_type": "markdown",
   "metadata": {},
   "source": [
    "# Load Images"
   ]
  },
  {
   "cell_type": "code",
   "execution_count": 4,
   "metadata": {
    "collapsed": true
   },
   "outputs": [],
   "source": [
    "sample_path = 'statefarm/sample/'\n",
    "full_path = 'statefarm/'\n",
    "path = full_path"
   ]
  },
  {
   "cell_type": "code",
   "execution_count": 19,
   "metadata": {
    "collapsed": false
   },
   "outputs": [
    {
     "name": "stdout",
     "output_type": "stream",
     "text": [
      "Found 20000 images belonging to 10 classes.\n",
      "Found 2424 images belonging to 10 classes.\n"
     ]
    }
   ],
   "source": [
    "gen = image.ImageDataGenerator(rotation_range=15, height_shift_range=0.05, \n",
    "                shear_range=0.1, channel_shift_range=20, width_shift_range=0.1)\n",
    "\n",
    "train = get_batches(path+'train', gen, shuffle=False)\n",
    "valid = get_batches(path+'valid', shuffle=False)\n",
    "train_labels = onehot(train.classes)\n",
    "valid_labels = onehot(valid.classes)"
   ]
  },
  {
   "cell_type": "markdown",
   "metadata": {},
   "source": [
    "# Precompute Conv Outputs"
   ]
  },
  {
   "cell_type": "code",
   "execution_count": 2,
   "metadata": {
    "collapsed": false
   },
   "outputs": [
    {
     "data": {
      "text/plain": [
       "'1.1.0'"
      ]
     },
     "execution_count": 2,
     "metadata": {},
     "output_type": "execute_result"
    }
   ],
   "source": [
    "vgg_conv = Vgg16BN(include_top=False)\n",
    "keras.__version__"
   ]
  },
  {
   "cell_type": "code",
   "execution_count": 20,
   "metadata": {
    "collapsed": false
   },
   "outputs": [
    {
     "name": "stdout",
     "output_type": "stream",
     "text": [
      ".\n",
      ".\n",
      ".\n",
      ".\n",
      ".\n"
     ]
    }
   ],
   "source": [
    "sets = 5\n",
    "\n",
    "for i in range(sets):\n",
    "    train_conv_feat = vgg_conv.model.predict_generator(train, train.nb_sample)\n",
    "    save_array(full_path + 'train_conv_feat{}.dat'.format(i+1), train_conv_feat)\n",
    "    print('.')"
   ]
  },
  {
   "cell_type": "code",
   "execution_count": 21,
   "metadata": {
    "collapsed": false
   },
   "outputs": [],
   "source": [
    "valid_conv_feat = vgg_conv.model.predict_generator(valid, valid.nb_sample)"
   ]
  },
  {
   "cell_type": "code",
   "execution_count": 22,
   "metadata": {
    "collapsed": true
   },
   "outputs": [],
   "source": [
    "save_array(full_path + 'valid_conv_feat.dat', valid_conv_feat)"
   ]
  },
  {
   "cell_type": "code",
   "execution_count": 4,
   "metadata": {
    "collapsed": true
   },
   "outputs": [],
   "source": [
    "valid_conv_feat = load_array(full_path + 'valid_conv_feat.dat')"
   ]
  },
  {
   "cell_type": "markdown",
   "metadata": {},
   "source": [
    "# Training"
   ]
  },
  {
   "cell_type": "code",
   "execution_count": 9,
   "metadata": {
    "collapsed": false
   },
   "outputs": [
    {
     "name": "stdout",
     "output_type": "stream",
     "text": [
      "____________________________________________________________________________________________________\n",
      "Layer (type)                     Output Shape          Param #     Connected to                     \n",
      "====================================================================================================\n",
      "flatten_1 (Flatten)              (None, 25088)         0           flatten_input_1[0][0]            \n",
      "____________________________________________________________________________________________________\n",
      "dropout_1 (Dropout)              (None, 25088)         0           flatten_1[0][0]                  \n",
      "____________________________________________________________________________________________________\n",
      "dense_1 (Dense)                  (None, 256)           6422784     dropout_1[0][0]                  \n",
      "____________________________________________________________________________________________________\n",
      "batchnormalization_1 (BatchNormal(None, 256)           512         dense_1[0][0]                    \n",
      "____________________________________________________________________________________________________\n",
      "dropout_2 (Dropout)              (None, 256)           0           batchnormalization_1[0][0]       \n",
      "____________________________________________________________________________________________________\n",
      "dense_2 (Dense)                  (None, 256)           65792       dropout_2[0][0]                  \n",
      "____________________________________________________________________________________________________\n",
      "batchnormalization_2 (BatchNormal(None, 256)           512         dense_2[0][0]                    \n",
      "____________________________________________________________________________________________________\n",
      "dropout_3 (Dropout)              (None, 256)           0           batchnormalization_2[0][0]       \n",
      "____________________________________________________________________________________________________\n",
      "dense_3 (Dense)                  (None, 10)            2570        dropout_3[0][0]                  \n",
      "====================================================================================================\n",
      "Total params: 6492170\n",
      "____________________________________________________________________________________________________\n"
     ]
    }
   ],
   "source": [
    "p = 0.8\n",
    "dense_layers = [\n",
    "#         MaxPooling2D(),\n",
    "        Flatten(input_shape=vgg_conv.model.layers[-1].output_shape[1:]),\n",
    "        Dropout(p),\n",
    "        Dense(256, activation='relu'),\n",
    "        BatchNormalization(),\n",
    "        Dropout(p),\n",
    "        Dense(256, activation='relu'),\n",
    "        BatchNormalization(),\n",
    "        Dropout(p),\n",
    "        Dense(10, activation='softmax')\n",
    "        ]\n",
    "vgg_den = Sequential(dense_layers)\n",
    "vgg_den.summary()\n",
    "vgg_den.compile(Adam(lr=0.001), loss='categorical_crossentropy', metrics=['accuracy'])"
   ]
  },
  {
   "cell_type": "code",
   "execution_count": 25,
   "metadata": {
    "collapsed": false
   },
   "outputs": [
    {
     "name": "stdout",
     "output_type": "stream",
     "text": [
      "Train on 20000 samples, validate on 2424 samples\n",
      "Epoch 1/5\n",
      "20000/20000 [==============================] - 5s - loss: 0.4963 - acc: 0.8424 - val_loss: 0.7714 - val_acc: 0.7450\n",
      "Epoch 2/5\n",
      "20000/20000 [==============================] - 5s - loss: 0.4809 - acc: 0.8485 - val_loss: 0.7303 - val_acc: 0.7599\n",
      "Epoch 3/5\n",
      "20000/20000 [==============================] - 5s - loss: 0.4584 - acc: 0.8558 - val_loss: 0.8036 - val_acc: 0.7360\n",
      "Epoch 4/5\n",
      "20000/20000 [==============================] - 4s - loss: 0.4374 - acc: 0.8601 - val_loss: 0.7988 - val_acc: 0.7261\n",
      "Epoch 5/5\n",
      "20000/20000 [==============================] - 4s - loss: 0.4289 - acc: 0.8650 - val_loss: 0.7516 - val_acc: 0.7483\n",
      "Train on 20000 samples, validate on 2424 samples\n",
      "Epoch 1/5\n",
      "20000/20000 [==============================] - 4s - loss: 0.5680 - acc: 0.8363 - val_loss: 0.8201 - val_acc: 0.7079\n",
      "Epoch 2/5\n",
      "20000/20000 [==============================] - 4s - loss: 0.5390 - acc: 0.8442 - val_loss: 0.8196 - val_acc: 0.7285\n",
      "Epoch 3/5\n",
      "20000/20000 [==============================] - 4s - loss: 0.5234 - acc: 0.8489 - val_loss: 0.8241 - val_acc: 0.7211\n",
      "Epoch 4/5\n",
      "20000/20000 [==============================] - 4s - loss: 0.5117 - acc: 0.8506 - val_loss: 0.8357 - val_acc: 0.7112\n",
      "Epoch 5/5\n",
      "20000/20000 [==============================] - 4s - loss: 0.5115 - acc: 0.8509 - val_loss: 0.8321 - val_acc: 0.7030\n",
      "Train on 20000 samples, validate on 2424 samples\n",
      "Epoch 1/5\n",
      "20000/20000 [==============================] - 4s - loss: 0.6032 - acc: 0.8319 - val_loss: 0.8503 - val_acc: 0.7046\n",
      "Epoch 2/5\n",
      "20000/20000 [==============================] - 4s - loss: 0.6016 - acc: 0.8273 - val_loss: 0.8913 - val_acc: 0.6993\n",
      "Epoch 3/5\n",
      "20000/20000 [==============================] - 5s - loss: 0.5772 - acc: 0.8332 - val_loss: 0.8656 - val_acc: 0.7108\n",
      "Epoch 4/5\n",
      "20000/20000 [==============================] - 4s - loss: 0.5626 - acc: 0.8430 - val_loss: 0.8052 - val_acc: 0.7244\n",
      "Epoch 5/5\n",
      "20000/20000 [==============================] - 4s - loss: 0.5634 - acc: 0.8389 - val_loss: 0.9116 - val_acc: 0.6877\n",
      "Train on 20000 samples, validate on 2424 samples\n",
      "Epoch 1/5\n",
      "20000/20000 [==============================] - 4s - loss: 0.6594 - acc: 0.8092 - val_loss: 0.9467 - val_acc: 0.6922\n",
      "Epoch 2/5\n",
      "20000/20000 [==============================] - 4s - loss: 0.6418 - acc: 0.8139 - val_loss: 0.9679 - val_acc: 0.6906\n",
      "Epoch 3/5\n",
      "20000/20000 [==============================] - 4s - loss: 0.6338 - acc: 0.8195 - val_loss: 0.9124 - val_acc: 0.7108\n",
      "Epoch 4/5\n",
      "20000/20000 [==============================] - 4s - loss: 0.6238 - acc: 0.8215 - val_loss: 0.9434 - val_acc: 0.6898\n",
      "Epoch 5/5\n",
      "20000/20000 [==============================] - 4s - loss: 0.6179 - acc: 0.8245 - val_loss: 0.9599 - val_acc: 0.6922\n",
      "Train on 20000 samples, validate on 2424 samples\n",
      "Epoch 1/5\n",
      "20000/20000 [==============================] - 4s - loss: 0.6913 - acc: 0.8021 - val_loss: 0.9498 - val_acc: 0.7034\n",
      "Epoch 2/5\n",
      "20000/20000 [==============================] - 4s - loss: 0.6601 - acc: 0.8052 - val_loss: 0.9558 - val_acc: 0.7026\n",
      "Epoch 3/5\n",
      "20000/20000 [==============================] - 4s - loss: 0.6715 - acc: 0.8044 - val_loss: 0.9217 - val_acc: 0.7046\n",
      "Epoch 4/5\n",
      "20000/20000 [==============================] - 4s - loss: 0.6721 - acc: 0.8041 - val_loss: 0.8534 - val_acc: 0.7351\n",
      "Epoch 5/5\n",
      "20000/20000 [==============================] - 5s - loss: 0.6534 - acc: 0.8095 - val_loss: 0.8251 - val_acc: 0.7376\n"
     ]
    }
   ],
   "source": [
    "sets = 5\n",
    "\n",
    "for i in range(sets):\n",
    "    train_conv_feat = load_array(full_path + 'train_conv_feat{}.dat'.format(i+1))\n",
    "    vgg_den.fit(train_conv_feat, train_labels, batch_size=64, nb_epoch=5, \n",
    "                 validation_data=(valid_conv_feat, valid_labels), verbose=1)"
   ]
  },
  {
   "cell_type": "code",
   "execution_count": 26,
   "metadata": {
    "collapsed": false
   },
   "outputs": [],
   "source": [
    "vgg_den.save_weights(full_path + 'statefarm.dense.1.h5')"
   ]
  },
  {
   "cell_type": "code",
   "execution_count": 10,
   "metadata": {
    "collapsed": true
   },
   "outputs": [],
   "source": [
    "vgg_den.load_weights(full_path + 'statefarm.dense.1.h5')"
   ]
  },
  {
   "cell_type": "markdown",
   "metadata": {},
   "source": [
    "# Predict"
   ]
  },
  {
   "cell_type": "code",
   "execution_count": 5,
   "metadata": {
    "collapsed": false
   },
   "outputs": [
    {
     "name": "stdout",
     "output_type": "stream",
     "text": [
      "Found 79726 images belonging to 1 classes.\n",
      "statefarm/test\n",
      "['cx/img_42265.jpg', 'cx/img_56819.jpg', 'cx/img_44646.jpg', 'cx/img_37236.jpg', 'cx/img_43344.jpg']\n",
      "[[[[   0.        2.1658    0.     ...,    0.        0.        0.    ]\n",
      "   [   0.        0.        0.     ...,    0.        0.        0.    ]\n",
      "   [   0.        0.        0.     ...,    0.        0.        0.    ]\n",
      "   ..., \n",
      "   [   0.        0.        0.     ...,    3.2289   23.9373    0.    ]\n",
      "   [   0.        0.        5.0505 ...,   34.5178   39.806     9.0423]\n",
      "   [   2.1061    0.        0.     ...,    0.        0.       14.2771]]\n",
      "\n",
      "  [[  46.5832   39.3232    0.     ...,    0.        0.        0.    ]\n",
      "   [   0.        0.        0.     ...,   31.3896   27.774     0.    ]\n",
      "   [   6.0242    0.        0.     ...,   88.6597   92.3857    1.9603]\n",
      "   ..., \n",
      "   [  16.1446    0.        0.     ...,    0.        0.        0.    ]\n",
      "   [   0.        0.        0.     ...,    0.        0.        0.    ]\n",
      "   [   0.        0.        0.     ...,    0.        0.        0.    ]]\n",
      "\n",
      "  [[   0.        0.        0.     ...,    0.        0.        0.    ]\n",
      "   [   0.        0.        0.     ...,    0.        0.        0.    ]\n",
      "   [   0.        0.        0.     ...,    0.        0.        0.    ]\n",
      "   ..., \n",
      "   [   8.0252    0.        0.     ...,    0.        0.        0.    ]\n",
      "   [   0.        0.        0.     ...,    0.        3.8492    0.    ]\n",
      "   [   0.        0.        0.     ...,    0.        0.        0.    ]]\n",
      "\n",
      "  ..., \n",
      "  [[   0.        0.        0.     ...,    0.        0.        0.    ]\n",
      "   [   0.        0.        9.5671 ...,    0.        0.        0.    ]\n",
      "   [   0.        0.        0.     ...,    0.        3.5315    0.    ]\n",
      "   ..., \n",
      "   [  11.1523   41.6115    0.     ...,    0.       20.5114   35.8109]\n",
      "   [  27.8865   47.2763    8.7159 ...,   23.7373    0.        0.    ]\n",
      "   [   0.       11.705     0.     ...,    0.8878    0.        0.    ]]\n",
      "\n",
      "  [[   4.025    13.4313   29.2035 ...,    0.        0.        0.    ]\n",
      "   [  10.243     0.        0.     ...,    0.        1.8987    0.    ]\n",
      "   [   3.0551    0.        0.     ...,    0.        0.        3.7089]\n",
      "   ..., \n",
      "   [   0.        0.       19.0649 ...,    0.        0.        0.    ]\n",
      "   [   0.        0.       15.3138 ...,    0.        0.        0.    ]\n",
      "   [  10.918    11.8001   10.2092 ...,    0.        0.        0.    ]]\n",
      "\n",
      "  [[   0.        0.        0.     ...,    0.        0.       24.7644]\n",
      "   [   0.        9.6177   19.6617 ...,   10.9297    0.        4.3125]\n",
      "   [   0.        2.2007    1.7229 ...,   62.7863   63.8122    0.8999]\n",
      "   ..., \n",
      "   [   0.        0.       10.0987 ...,    0.        6.1221   47.4164]\n",
      "   [   0.       10.8998    0.     ...,    0.        0.        0.    ]\n",
      "   [   0.       11.6601    0.     ...,    0.        0.        0.    ]]]\n",
      "\n",
      "\n",
      " [[[   0.        0.       34.6737 ...,    0.        0.        0.    ]\n",
      "   [   0.        0.       35.9207 ...,    0.        0.        0.    ]\n",
      "   [   0.        0.        0.     ...,    0.        0.        0.    ]\n",
      "   ..., \n",
      "   [   0.        0.       12.4163 ...,    0.        0.        0.    ]\n",
      "   [   0.        0.       27.7944 ...,   11.1979    0.        0.    ]\n",
      "   [   3.5123    0.        0.     ...,    0.        0.        0.    ]]\n",
      "\n",
      "  [[  22.1165   28.182     0.     ...,    0.        0.        0.    ]\n",
      "   [   0.        0.        0.     ...,    0.        0.        0.    ]\n",
      "   [  20.0097    0.        0.     ...,    0.       43.5453    0.    ]\n",
      "   ..., \n",
      "   [   0.        0.        0.     ...,    0.        0.        0.    ]\n",
      "   [   0.        0.        0.     ...,    0.        0.        0.    ]\n",
      "   [   0.        0.        0.     ...,    0.       12.0007    0.    ]]\n",
      "\n",
      "  [[   0.        0.        0.     ...,    0.        0.        0.    ]\n",
      "   [   0.        0.        0.     ...,    0.        0.        0.    ]\n",
      "   [   0.        0.        0.     ...,    0.        0.        0.    ]\n",
      "   ..., \n",
      "   [   0.        0.        0.     ...,    9.9802   11.323     0.    ]\n",
      "   [   0.        0.        0.     ...,    0.        0.        0.    ]\n",
      "   [   0.        0.        0.     ...,    0.        0.        0.    ]]\n",
      "\n",
      "  ..., \n",
      "  [[   0.        0.        0.     ...,    0.        0.        0.    ]\n",
      "   [   0.       31.1832   51.5684 ...,    0.        0.        0.6977]\n",
      "   [   0.        3.3393   20.4091 ...,    0.        0.        5.9729]\n",
      "   ..., \n",
      "   [   0.       38.4618    0.     ...,   15.0834    0.        0.    ]\n",
      "   [  17.6891   45.2596   14.4338 ...,   17.4085    0.        0.    ]\n",
      "   [   0.        0.2802    0.     ...,    0.2366    0.        0.    ]]\n",
      "\n",
      "  [[   0.        0.       28.1145 ...,    0.        0.        0.    ]\n",
      "   [  15.2498    0.        0.     ...,    0.        0.        0.    ]\n",
      "   [   0.        0.        0.     ...,    0.        0.        0.    ]\n",
      "   ..., \n",
      "   [   0.        0.        4.0268 ...,    6.0668    0.        0.    ]\n",
      "   [   0.        0.        0.     ...,    0.        0.        0.    ]\n",
      "   [   5.8229    3.9855    3.5318 ...,    0.        0.        0.    ]]\n",
      "\n",
      "  [[   0.        0.        0.     ...,    0.        0.        0.    ]\n",
      "   [   0.        0.        0.     ...,    0.        0.        0.    ]\n",
      "   [  15.9877   11.1885    0.     ...,    0.        5.5108    0.    ]\n",
      "   ..., \n",
      "   [   1.8962    0.        0.     ...,    0.       11.0574    0.    ]\n",
      "   [   0.       11.1785    0.     ...,    0.        0.        0.    ]\n",
      "   [   0.        0.        0.     ...,    0.        0.        0.    ]]]\n",
      "\n",
      "\n",
      " [[[   0.        0.        0.     ...,    0.        0.        0.    ]\n",
      "   [   0.        0.        0.     ...,    0.        0.        0.    ]\n",
      "   [   0.        0.        8.0644 ...,    0.        0.        7.3687]\n",
      "   ..., \n",
      "   [   0.        0.       32.9603 ...,    6.6063    0.       12.8504]\n",
      "   [   0.        0.        6.4427 ...,    2.9224    0.        4.953 ]\n",
      "   [   0.        0.        0.     ...,    0.        0.        0.    ]]\n",
      "\n",
      "  [[  36.9566   50.2821    0.     ...,    0.        0.        0.    ]\n",
      "   [  10.6231   31.6848    4.532  ...,   43.9522  110.7896    0.    ]\n",
      "   [  72.8313   43.3567   14.5272 ...,    5.4974   92.386    19.7453]\n",
      "   ..., \n",
      "   [   0.        0.        0.     ...,    0.        0.        0.    ]\n",
      "   [   0.        0.        0.     ...,    0.        0.        0.    ]\n",
      "   [   0.        0.        0.     ...,    0.        0.        0.    ]]\n",
      "\n",
      "  [[   0.        0.        0.     ...,    0.        0.        0.    ]\n",
      "   [   0.        0.        0.     ...,    0.        0.        0.    ]\n",
      "   [   0.        0.        0.     ...,    0.        0.        0.    ]\n",
      "   ..., \n",
      "   [   0.        0.        0.     ...,    0.        0.        0.    ]\n",
      "   [   0.        0.        0.     ...,    0.        0.        0.    ]\n",
      "   [   0.        0.        0.     ...,    0.        0.        0.    ]]\n",
      "\n",
      "  ..., \n",
      "  [[   0.        0.        0.     ...,    0.        4.6778    0.    ]\n",
      "   [   5.8656   17.3522    0.     ...,    0.        0.        0.    ]\n",
      "   [   0.       31.8176    0.     ...,   49.8821   87.5653    0.    ]\n",
      "   ..., \n",
      "   [   0.        0.        0.     ...,    0.        0.        0.    ]\n",
      "   [   0.       16.6001   38.9961 ...,    2.0832    0.        0.    ]\n",
      "   [   0.        0.        0.     ...,    0.        0.        0.    ]]\n",
      "\n",
      "  [[   0.       24.5905   24.6124 ...,   62.7977   84.2777   90.9787]\n",
      "   [   0.       15.5173   42.6576 ...,    0.       19.6278   81.0187]\n",
      "   [   0.        0.        0.     ...,    0.        0.       39.1231]\n",
      "   ..., \n",
      "   [   0.        0.        0.     ...,    0.        0.        9.1006]\n",
      "   [   0.        0.        0.     ...,   16.3638   14.8477   18.444 ]\n",
      "   [   3.4491    1.0043    0.     ...,    0.        0.        0.5657]]\n",
      "\n",
      "  [[  14.9113    0.        0.     ...,    0.        0.        0.    ]\n",
      "   [  44.2518    0.        0.     ...,    0.        0.        0.    ]\n",
      "   [  12.7086    0.        0.     ...,    0.       43.2556   22.2025]\n",
      "   ..., \n",
      "   [   0.        0.        0.     ...,   32.0845   17.9431    0.    ]\n",
      "   [   6.242     4.2298    0.     ...,    0.        0.        0.    ]\n",
      "   [  14.3287    0.9657    0.     ...,    0.        0.        0.    ]]]\n",
      "\n",
      "\n",
      " [[[   0.        0.        0.     ...,    0.        0.        0.    ]\n",
      "   [   0.        0.        0.     ...,    0.        0.        0.    ]\n",
      "   [   0.        0.        0.     ...,    0.        0.        0.    ]\n",
      "   ..., \n",
      "   [   0.        0.        0.     ...,    0.       46.8312    5.4465]\n",
      "   [   0.        0.        0.8503 ...,    0.        0.        0.    ]\n",
      "   [   0.       30.1607   38.6325 ...,    0.        0.        0.    ]]\n",
      "\n",
      "  [[   0.        0.        0.     ...,    0.        0.        0.    ]\n",
      "   [   0.        0.       40.674  ...,    0.        0.        0.    ]\n",
      "   [   0.        0.       34.3165 ...,    0.326     6.0552    0.    ]\n",
      "   ..., \n",
      "   [   0.        0.        0.     ...,    0.        0.9188   23.7909]\n",
      "   [   0.        0.        0.     ...,    0.        0.        0.    ]\n",
      "   [   0.        0.        0.     ...,    0.        0.        0.    ]]\n",
      "\n",
      "  [[   0.        0.        0.     ...,    0.        0.        0.    ]\n",
      "   [   0.        0.        0.     ...,    0.        0.        0.    ]\n",
      "   [   0.        0.        0.     ...,    0.        0.        0.    ]\n",
      "   ..., \n",
      "   [   0.        0.        0.     ...,    0.        0.        0.    ]\n",
      "   [   0.        0.        0.     ...,    0.        0.        0.    ]\n",
      "   [   0.        0.        0.     ...,    0.        0.        0.    ]]\n",
      "\n",
      "  ..., \n",
      "  [[   0.        0.        0.     ...,    0.        0.        0.    ]\n",
      "   [   0.        0.       34.7793 ...,    0.        0.        0.    ]\n",
      "   [   0.        0.       65.5296 ...,   27.9036   76.0854    0.    ]\n",
      "   ..., \n",
      "   [   0.        0.        0.     ...,    2.9255    0.       29.2538]\n",
      "   [  41.539    26.1323   17.928  ...,    0.        0.       67.9741]\n",
      "   [  13.6876    0.        0.     ...,    0.        0.       62.8608]]\n",
      "\n",
      "  [[  15.7799    0.       76.1415 ...,    0.       35.1136   60.1249]\n",
      "   [   0.        0.       57.6509 ...,    0.        0.        7.5423]\n",
      "   [   0.        0.        0.     ...,    0.        0.        0.    ]\n",
      "   ..., \n",
      "   [   0.9106    0.        0.     ...,    0.        0.        0.    ]\n",
      "   [   0.        4.3003   11.8637 ...,    0.        0.        5.2139]\n",
      "   [   0.        0.        0.     ...,    0.        0.        0.    ]]\n",
      "\n",
      "  [[   0.        0.        0.     ...,    0.        0.        0.    ]\n",
      "   [   0.       27.4758    7.9676 ...,    1.6655    0.        0.    ]\n",
      "   [   0.        7.8819   50.486  ...,    3.5303   14.9       0.    ]\n",
      "   ..., \n",
      "   [   0.        0.       33.8446 ...,   50.1859   44.5473    0.    ]\n",
      "   [   0.       16.0614    0.     ...,    9.155     0.        0.    ]\n",
      "   [   5.0019    8.3136    0.     ...,    2.3841    0.       11.6517]]]\n",
      "\n",
      "\n",
      " [[[   0.        0.        0.     ...,    0.        0.        0.    ]\n",
      "   [   0.        0.        0.     ...,   27.0279    0.        0.    ]\n",
      "   [   0.        0.        0.     ...,    0.        0.        0.    ]\n",
      "   ..., \n",
      "   [   0.        0.        0.     ...,    0.       18.7135   17.5701]\n",
      "   [   0.        0.        0.     ...,    0.        0.        0.    ]\n",
      "   [   0.        0.        0.     ...,    0.        0.        0.    ]]\n",
      "\n",
      "  [[  14.1509    0.        0.     ...,    0.        0.        0.    ]\n",
      "   [   3.0914    0.        0.     ...,    0.        0.        0.    ]\n",
      "   [   0.        0.        0.     ...,    1.0106   43.4114   29.7495]\n",
      "   ..., \n",
      "   [   7.964     0.        0.     ...,   31.1086   16.974    15.9423]\n",
      "   [   0.        0.        0.     ...,    0.        0.        0.    ]\n",
      "   [   0.        0.        0.     ...,    0.        0.        0.    ]]\n",
      "\n",
      "  [[   0.        0.        0.     ...,    0.        0.        7.7522]\n",
      "   [   0.        0.        0.     ...,    0.        0.        0.    ]\n",
      "   [   0.        0.        0.     ...,    0.        0.        0.    ]\n",
      "   ..., \n",
      "   [   0.        0.        0.4552 ...,    0.        0.        0.    ]\n",
      "   [   0.        0.        2.7932 ...,    8.3747    0.        0.    ]\n",
      "   [   0.        0.        0.     ...,    0.        0.        0.    ]]\n",
      "\n",
      "  ..., \n",
      "  [[   0.        0.        0.     ...,    0.        0.        0.    ]\n",
      "   [   0.        0.        0.     ...,   11.8889   14.5933    0.    ]\n",
      "   [   0.        0.        0.     ...,  100.744    60.1731    0.    ]\n",
      "   ..., \n",
      "   [   0.        0.        0.     ...,    0.        0.        0.    ]\n",
      "   [   0.        0.        0.     ...,   29.3568   34.028    15.2307]\n",
      "   [   0.        0.        0.     ...,   10.5876    7.914     0.    ]]\n",
      "\n",
      "  [[   2.265     0.3044    0.     ...,   55.0559  101.183   102.2988]\n",
      "   [   0.        0.        0.     ...,    3.0186   82.9497  155.4213]\n",
      "   [   0.        0.        0.     ...,    0.        0.       64.8543]\n",
      "   ..., \n",
      "   [   0.2694    0.        0.     ...,    0.        0.        0.    ]\n",
      "   [  10.9181   21.3363    2.593  ...,    0.        0.        0.    ]\n",
      "   [   4.9117   21.364    18.853  ...,    0.        0.        0.    ]]\n",
      "\n",
      "  [[   0.        0.        0.     ...,    0.        0.        0.    ]\n",
      "   [   6.4609    8.8878    0.     ...,    0.        0.        0.    ]\n",
      "   [   5.4652   17.311     0.     ...,    0.       15.5373    0.    ]\n",
      "   ..., \n",
      "   [   0.        0.        0.     ...,    6.5815    0.        3.1894]\n",
      "   [   0.        0.        0.     ...,    2.5108    3.0628    0.    ]\n",
      "   [   0.        0.        0.     ...,    0.        5.8558    4.6702]]]]\n"
     ]
    }
   ],
   "source": [
    "batches, preds = vgg_conv.test(path + 'test', batch_size=128)\n",
    "print path + 'test'\n",
    "print batches.filenames[:5]\n",
    "print preds[:5]"
   ]
  },
  {
   "cell_type": "code",
   "execution_count": 7,
   "metadata": {
    "collapsed": false
   },
   "outputs": [],
   "source": [
    "save_array(full_path + 'test_conv_preds.dat', preds)"
   ]
  },
  {
   "cell_type": "code",
   "execution_count": 11,
   "metadata": {
    "collapsed": false
   },
   "outputs": [
    {
     "name": "stdout",
     "output_type": "stream",
     "text": [
      "79712/79726 [============================>.] - ETA: 0s"
     ]
    }
   ],
   "source": [
    "preds = vgg_den.predict(preds, verbose=1)"
   ]
  },
  {
   "cell_type": "code",
   "execution_count": 12,
   "metadata": {
    "collapsed": false
   },
   "outputs": [],
   "source": [
    "save_array(full_path + 'preds.dat', preds)\n",
    "save_array(full_path + 'filenames.dat', batches.filenames)"
   ]
  },
  {
   "cell_type": "code",
   "execution_count": 13,
   "metadata": {
    "collapsed": false
   },
   "outputs": [],
   "source": [
    "import pandas as pd\n",
    "#subm = np.hstack((np.array(batches.filenames), np.array(preds)))\n",
    "filenames = [ os.path.basename(f) for f in batches.filenames ]\n",
    "subm = pd.DataFrame(preds, index=filenames, columns=['c0','c1','c2','c3','c4','c5','c6','c7','c8','c9'])\n",
    "subm.index.name = 'img'\n",
    "subm.to_csv(full_path + 'submission1.csv')"
   ]
  },
  {
   "cell_type": "code",
   "execution_count": 14,
   "metadata": {
    "collapsed": false
   },
   "outputs": [
    {
     "data": {
      "text/html": [
       "<a href='statefarm/submission1.csv' target='_blank'>statefarm/submission1.csv</a><br>"
      ],
      "text/plain": [
       "/home/ubuntu/projects/statefarm/submission1.csv"
      ]
     },
     "execution_count": 14,
     "metadata": {},
     "output_type": "execute_result"
    }
   ],
   "source": [
    "from IPython.display import FileLink\n",
    "FileLink(full_path + 'submission1.csv')"
   ]
  },
  {
   "cell_type": "markdown",
   "metadata": {},
   "source": [
    "**Scores:**\n",
    "2.26947, 2.75651\n",
    "0.61808, 0.67364"
   ]
  }
 ],
 "metadata": {
  "anaconda-cloud": {},
  "kernelspec": {
   "display_name": "Python [conda root]",
   "language": "python",
   "name": "conda-root-py"
  },
  "language_info": {
   "codemirror_mode": {
    "name": "ipython",
    "version": 2
   },
   "file_extension": ".py",
   "mimetype": "text/x-python",
   "name": "python",
   "nbconvert_exporter": "python",
   "pygments_lexer": "ipython2",
   "version": "2.7.12"
  }
 },
 "nbformat": 4,
 "nbformat_minor": 1
}
